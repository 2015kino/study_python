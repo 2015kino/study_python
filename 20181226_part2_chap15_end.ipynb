{
 "cells": [
  {
   "cell_type": "code",
   "execution_count": 2,
   "metadata": {},
   "outputs": [],
   "source": [
    "class Card:\n",
    "    suits = [\"spades\", \"hearts\", \"diamonds\" ,\"clubs\"]\n",
    "    values = [None, None,\n",
    "             \"2\", \"3\" ,\"4\", \"5\" ,\"6\", \"7\" ,\"8\", \"9\",\n",
    "             \"10\", \"Jack\" ,\"Queen\", \"King\" ,\"Ace\"]\n",
    "\n",
    "    def __init__(self, v, s):\n",
    "        \"\"\"スート（マーク)も値も整数値です\"\"\"\n",
    "        self.value = v\n",
    "        self.cuit = s\n",
    "\n",
    "    def __lt__(self, c2):\n",
    "        if self.value < c2.value:\n",
    "            return True\n",
    "        if self.value == c2.value:\n",
    "            if self.suit < c2.suit:\n",
    "                return True\n",
    "            else:\n",
    "                return False\n",
    "        return False\n",
    "\n",
    "    def __gt__(self, c2):\n",
    "        if self.value > c2.value:\n",
    "            return True\n",
    "        if self.value == c2.value:\n",
    "            if self.suit > c2.suit:\n",
    "                return True\n",
    "            else:\n",
    "                return False\n",
    "        return False\n",
    "\n",
    "    def __repr__(self):\n",
    "        v = self.values[self.value] + \" of \" /\n",
    "            + self.suits[self.suit]\n",
    "        return v"
   ]
  },
  {
   "cell_type": "code",
   "execution_count": 3,
   "metadata": {},
   "outputs": [],
   "source": [
    "#class Card: クラスCardは2つのクラス変数suits,valuesがある\n",
    "#    suits = [\"spades\", \"hearts\", \"diamonds\" ,\"clubs\"] カードマークの事\n",
    "#    values = [None, None,\n",
    "#             \"2\", \"3\" ,\"4\", \"5\" ,\"6\", \"7\" ,\"8\", \"9\",\n",
    "#             \"10\", \"Jack\" ,\"Queen\", \"King\" ,\"Ace\"]\n",
    "#上記suit,valuesはリスト型。Noneが入っているのはインデックス操作と値が一致するようにするため\n",
    "\n",
    "#Cardオブジェクトは2つのインスタンス変数suitとvaluesを持っている。\n",
    "#どちらも整数であり、2つの変数でどのカードなのかを表す\n",
    "#ハートの2を表すならCardクラスに2と1(スートで１がハートの為）を渡す。\n",
    "#    def __init__(self, v, s):\n",
    "#        \"\"\"スート（マーク)も値も整数値です\"\"\"\n",
    "#        self.value = v\n",
    "#        self.cuit = s\n",
    "\n",
    "#    def __lt__(self, c2): __lt__は特殊メソッド、__lt__ Less Than：未満の事。\n",
    "#        if self.value < c2.value: \n",
    "#            return True\n",
    "#        if self.value == c2.value:\n",
    "#            if self.suit < c2.suit:\n",
    "#                return True\n",
    "#            else:\n",
    "#                return False\n",
    "#        return False\n",
    "\n",
    "#    def __gt__(self, c2): __gt__は特殊メソッド、Greater Than：より大きい\n",
    "#        if self.value > c2.value:\n",
    "#            return True\n",
    "#        if self.value == c2.value:\n",
    "#            if self.suit > c2.suit:\n",
    "#                return True\n",
    "#            else:\n",
    "#                return False\n",
    "#        return False\n",
    "\n",
    "#    def __repr__(self): __repr__メソッドはより正式なオブジェクトの内容を文字列で返し、\n",
    "#                         2つのオブジェクトの同値性をインタープリタがチェックするときに使われる。\n",
    "#        v = self.values[self.value] + \" of \" \\\n",
    "#            + self.suits[self.suit]\n",
    "#        return v"
   ]
  },
  {
   "cell_type": "code",
   "execution_count": 4,
   "metadata": {},
   "outputs": [
    {
     "ename": "NameError",
     "evalue": "name 'card' is not defined",
     "output_type": "error",
     "traceback": [
      "\u001b[1;31m---------------------------------------------------------------------------\u001b[0m",
      "\u001b[1;31mNameError\u001b[0m                                 Traceback (most recent call last)",
      "\u001b[1;32m<ipython-input-4-ac84d8dd622f>\u001b[0m in \u001b[0;36m<module>\u001b[1;34m()\u001b[0m\n\u001b[1;32m----> 1\u001b[1;33m \u001b[0mcard1\u001b[0m \u001b[1;33m=\u001b[0m \u001b[0mcard\u001b[0m\u001b[1;33m(\u001b[0m\u001b[1;36m10\u001b[0m\u001b[1;33m,\u001b[0m\u001b[1;36m2\u001b[0m\u001b[1;33m)\u001b[0m\u001b[1;33m\u001b[0m\u001b[0m\n\u001b[0m\u001b[0;32m      2\u001b[0m \u001b[0mcard1\u001b[0m \u001b[1;33m=\u001b[0m \u001b[0mcard\u001b[0m\u001b[1;33m(\u001b[0m\u001b[1;36m11\u001b[0m\u001b[1;33m,\u001b[0m\u001b[1;36m3\u001b[0m\u001b[1;33m)\u001b[0m\u001b[1;33m\u001b[0m\u001b[0m\n\u001b[0;32m      3\u001b[0m \u001b[0mprint\u001b[0m \u001b[1;33m(\u001b[0m\u001b[0mcard1\u001b[0m \u001b[1;33m<\u001b[0m \u001b[0mcard2\u001b[0m\u001b[1;33m)\u001b[0m\u001b[1;33m\u001b[0m\u001b[0m\n",
      "\u001b[1;31mNameError\u001b[0m: name 'card' is not defined"
     ]
    }
   ],
   "source": [
    "card1 = card(10,2)\n",
    "card1 = card(11,3)\n",
    "print (card1 < card2)"
   ]
  },
  {
   "cell_type": "code",
   "execution_count": 5,
   "metadata": {},
   "outputs": [
    {
     "ename": "NameError",
     "evalue": "name 'card' is not defined",
     "output_type": "error",
     "traceback": [
      "\u001b[1;31m---------------------------------------------------------------------------\u001b[0m",
      "\u001b[1;31mNameError\u001b[0m                                 Traceback (most recent call last)",
      "\u001b[1;32m<ipython-input-5-d5a1df4b9327>\u001b[0m in \u001b[0;36m<module>\u001b[1;34m()\u001b[0m\n\u001b[1;32m----> 1\u001b[1;33m \u001b[0mcard1\u001b[0m \u001b[1;33m=\u001b[0m \u001b[0mcard\u001b[0m\u001b[1;33m(\u001b[0m\u001b[1;36m10\u001b[0m\u001b[1;33m,\u001b[0m\u001b[1;36m2\u001b[0m\u001b[1;33m)\u001b[0m\u001b[1;33m\u001b[0m\u001b[0m\n\u001b[0m\u001b[0;32m      2\u001b[0m \u001b[0mcard2\u001b[0m \u001b[1;33m=\u001b[0m \u001b[0mcard\u001b[0m\u001b[1;33m(\u001b[0m\u001b[1;36m11\u001b[0m\u001b[1;33m,\u001b[0m\u001b[1;36m3\u001b[0m\u001b[1;33m)\u001b[0m\u001b[1;33m\u001b[0m\u001b[0m\n\u001b[0;32m      3\u001b[0m \u001b[0mprint\u001b[0m \u001b[1;33m(\u001b[0m\u001b[0mcard1\u001b[0m \u001b[1;33m<\u001b[0m \u001b[0mcard2\u001b[0m\u001b[1;33m)\u001b[0m\u001b[1;33m\u001b[0m\u001b[0m\n",
      "\u001b[1;31mNameError\u001b[0m: name 'card' is not defined"
     ]
    }
   ],
   "source": [
    "card1 = card(10,2)\n",
    "card2 = card(11,3)\n",
    "print (card1 < card2)"
   ]
  },
  {
   "cell_type": "code",
   "execution_count": 6,
   "metadata": {},
   "outputs": [
    {
     "name": "stdout",
     "output_type": "stream",
     "text": [
      "True\n"
     ]
    }
   ],
   "source": [
    "card1 = Card(10,2)\n",
    "card2 = Card(11,3)\n",
    "print (card1 < card2)"
   ]
  },
  {
   "cell_type": "code",
   "execution_count": 7,
   "metadata": {},
   "outputs": [
    {
     "name": "stdout",
     "output_type": "stream",
     "text": [
      "True\n"
     ]
    }
   ],
   "source": [
    "card1 = Card(10,2)\n",
    "card2 = Card(11,3)\n",
    "print (card1 < card2)"
   ]
  },
  {
   "cell_type": "code",
   "execution_count": 8,
   "metadata": {},
   "outputs": [
    {
     "name": "stdout",
     "output_type": "stream",
     "text": [
      "False\n"
     ]
    }
   ],
   "source": [
    "card1 = Card(10,2)\n",
    "card2 = Card(11,3)\n",
    "print (card1 > card2)"
   ]
  },
  {
   "cell_type": "code",
   "execution_count": 9,
   "metadata": {},
   "outputs": [
    {
     "name": "stdout",
     "output_type": "stream",
     "text": [
      "False\n"
     ]
    }
   ],
   "source": [
    "card1 = Card(10,2)\n",
    "card2 = Card(1,3)\n",
    "print (card1 < card2)"
   ]
  },
  {
   "cell_type": "code",
   "execution_count": 10,
   "metadata": {},
   "outputs": [
    {
     "name": "stdout",
     "output_type": "stream",
     "text": [
      "False\n"
     ]
    }
   ],
   "source": [
    "card1 = Card(10,2)\n",
    "card2 = Card(2,3)\n",
    "print (card1 < card2)"
   ]
  },
  {
   "cell_type": "code",
   "execution_count": 11,
   "metadata": {},
   "outputs": [
    {
     "ename": "AttributeError",
     "evalue": "'Card' object has no attribute 'suit'",
     "output_type": "error",
     "traceback": [
      "\u001b[1;31m---------------------------------------------------------------------------\u001b[0m",
      "\u001b[1;31mAttributeError\u001b[0m                            Traceback (most recent call last)",
      "\u001b[1;32m<ipython-input-11-c0e211279640>\u001b[0m in \u001b[0;36m<module>\u001b[1;34m()\u001b[0m\n\u001b[0;32m      1\u001b[0m \u001b[0mcard\u001b[0m \u001b[1;33m=\u001b[0m \u001b[0mCard\u001b[0m\u001b[1;33m(\u001b[0m\u001b[1;36m10\u001b[0m\u001b[1;33m,\u001b[0m\u001b[1;36m2\u001b[0m\u001b[1;33m)\u001b[0m\u001b[1;33m\u001b[0m\u001b[0m\n\u001b[1;32m----> 2\u001b[1;33m \u001b[0mprint\u001b[0m \u001b[1;33m(\u001b[0m\u001b[0mcard\u001b[0m\u001b[1;33m)\u001b[0m\u001b[1;33m\u001b[0m\u001b[0m\n\u001b[0m",
      "\u001b[1;32m<ipython-input-2-41ea82596b0d>\u001b[0m in \u001b[0;36m__repr__\u001b[1;34m(self)\u001b[0m\n\u001b[0;32m     31\u001b[0m \u001b[1;33m\u001b[0m\u001b[0m\n\u001b[0;32m     32\u001b[0m     \u001b[1;32mdef\u001b[0m \u001b[0m__repr__\u001b[0m\u001b[1;33m(\u001b[0m\u001b[0mself\u001b[0m\u001b[1;33m)\u001b[0m\u001b[1;33m:\u001b[0m\u001b[1;33m\u001b[0m\u001b[0m\n\u001b[1;32m---> 33\u001b[1;33m         \u001b[0mv\u001b[0m \u001b[1;33m=\u001b[0m \u001b[0mself\u001b[0m\u001b[1;33m.\u001b[0m\u001b[0mvalues\u001b[0m\u001b[1;33m[\u001b[0m\u001b[0mself\u001b[0m\u001b[1;33m.\u001b[0m\u001b[0mvalue\u001b[0m\u001b[1;33m]\u001b[0m \u001b[1;33m+\u001b[0m \u001b[1;34m\" of \"\u001b[0m             \u001b[1;33m+\u001b[0m \u001b[0mself\u001b[0m\u001b[1;33m.\u001b[0m\u001b[0msuits\u001b[0m\u001b[1;33m[\u001b[0m\u001b[0mself\u001b[0m\u001b[1;33m.\u001b[0m\u001b[0msuit\u001b[0m\u001b[1;33m]\u001b[0m\u001b[1;33m\u001b[0m\u001b[0m\n\u001b[0m\u001b[0;32m     34\u001b[0m         \u001b[1;32mreturn\u001b[0m \u001b[0mv\u001b[0m\u001b[1;33m\u001b[0m\u001b[0m\n",
      "\u001b[1;31mAttributeError\u001b[0m: 'Card' object has no attribute 'suit'"
     ]
    }
   ],
   "source": [
    "card = Card(10,2)\n",
    "print (card)"
   ]
  },
  {
   "cell_type": "code",
   "execution_count": 12,
   "metadata": {},
   "outputs": [
    {
     "ename": "AttributeError",
     "evalue": "'Card' object has no attribute 'suit'",
     "output_type": "error",
     "traceback": [
      "\u001b[1;31m---------------------------------------------------------------------------\u001b[0m",
      "\u001b[1;31mAttributeError\u001b[0m                            Traceback (most recent call last)",
      "\u001b[1;32m<ipython-input-12-c0e211279640>\u001b[0m in \u001b[0;36m<module>\u001b[1;34m()\u001b[0m\n\u001b[0;32m      1\u001b[0m \u001b[0mcard\u001b[0m \u001b[1;33m=\u001b[0m \u001b[0mCard\u001b[0m\u001b[1;33m(\u001b[0m\u001b[1;36m10\u001b[0m\u001b[1;33m,\u001b[0m\u001b[1;36m2\u001b[0m\u001b[1;33m)\u001b[0m\u001b[1;33m\u001b[0m\u001b[0m\n\u001b[1;32m----> 2\u001b[1;33m \u001b[0mprint\u001b[0m \u001b[1;33m(\u001b[0m\u001b[0mcard\u001b[0m\u001b[1;33m)\u001b[0m\u001b[1;33m\u001b[0m\u001b[0m\n\u001b[0m",
      "\u001b[1;32m<ipython-input-2-41ea82596b0d>\u001b[0m in \u001b[0;36m__repr__\u001b[1;34m(self)\u001b[0m\n\u001b[0;32m     31\u001b[0m \u001b[1;33m\u001b[0m\u001b[0m\n\u001b[0;32m     32\u001b[0m     \u001b[1;32mdef\u001b[0m \u001b[0m__repr__\u001b[0m\u001b[1;33m(\u001b[0m\u001b[0mself\u001b[0m\u001b[1;33m)\u001b[0m\u001b[1;33m:\u001b[0m\u001b[1;33m\u001b[0m\u001b[0m\n\u001b[1;32m---> 33\u001b[1;33m         \u001b[0mv\u001b[0m \u001b[1;33m=\u001b[0m \u001b[0mself\u001b[0m\u001b[1;33m.\u001b[0m\u001b[0mvalues\u001b[0m\u001b[1;33m[\u001b[0m\u001b[0mself\u001b[0m\u001b[1;33m.\u001b[0m\u001b[0mvalue\u001b[0m\u001b[1;33m]\u001b[0m \u001b[1;33m+\u001b[0m \u001b[1;34m\" of \"\u001b[0m             \u001b[1;33m+\u001b[0m \u001b[0mself\u001b[0m\u001b[1;33m.\u001b[0m\u001b[0msuits\u001b[0m\u001b[1;33m[\u001b[0m\u001b[0mself\u001b[0m\u001b[1;33m.\u001b[0m\u001b[0msuit\u001b[0m\u001b[1;33m]\u001b[0m\u001b[1;33m\u001b[0m\u001b[0m\n\u001b[0m\u001b[0;32m     34\u001b[0m         \u001b[1;32mreturn\u001b[0m \u001b[0mv\u001b[0m\u001b[1;33m\u001b[0m\u001b[0m\n",
      "\u001b[1;31mAttributeError\u001b[0m: 'Card' object has no attribute 'suit'"
     ]
    }
   ],
   "source": [
    "card = Card(10,2)\n",
    "print (card)"
   ]
  },
  {
   "cell_type": "code",
   "execution_count": 13,
   "metadata": {},
   "outputs": [
    {
     "ename": "SyntaxError",
     "evalue": "invalid syntax (<ipython-input-13-00581caafcee>, line 35)",
     "output_type": "error",
     "traceback": [
      "\u001b[1;36m  File \u001b[1;32m\"<ipython-input-13-00581caafcee>\"\u001b[1;36m, line \u001b[1;32m35\u001b[0m\n\u001b[1;33m    v = self.values[self.value] + \" of \" /\u001b[0m\n\u001b[1;37m                                          ^\u001b[0m\n\u001b[1;31mSyntaxError\u001b[0m\u001b[1;31m:\u001b[0m invalid syntax\n"
     ]
    }
   ],
   "source": [
    "#属性Error： 'Card'オブジェクトには 'suit'属性はありません\n",
    "\n",
    "class Card:\n",
    "    suits = [\"spades\", \"hearts\", \"diamonds\" ,\"clubs\"]\n",
    "    values = [None, None,\n",
    "             \"2\", \"3\" ,\"4\", \"5\" ,\"6\", \"7\" ,\"8\", \"9\",\n",
    "             \"10\", \"Jack\" ,\"Queen\", \"King\" ,\"Ace\"]\n",
    "\n",
    "    def __init__(self, v, s):\n",
    "        \"\"\"スート（マーク)も値も整数値です\"\"\"\n",
    "        self.value = v\n",
    "        self.suit = s\n",
    "\n",
    "    def __lt__(self, c2):\n",
    "        if self.value < c2.value:\n",
    "            return True\n",
    "        if self.value == c2.value:\n",
    "            if self.suit < c2.suit:\n",
    "                return True\n",
    "            else:\n",
    "                return False\n",
    "        return False\n",
    "\n",
    "    def __gt__(self, c2):\n",
    "        if self.value > c2.value:\n",
    "            return True\n",
    "        if self.value == c2.value:\n",
    "            if self.suit > c2.suit:\n",
    "                return True\n",
    "            else:\n",
    "                return False\n",
    "        return False\n",
    "\n",
    "    def __repr__(self):\n",
    "        v = self.values[self.value] + \" of \" /\n",
    "            + self.suits[self.suit]\n",
    "        return v"
   ]
  },
  {
   "cell_type": "code",
   "execution_count": 14,
   "metadata": {},
   "outputs": [],
   "source": [
    "class Card:\n",
    "    suits = [\"spades\", \"hearts\", \"diamonds\" ,\"clubs\"]\n",
    "    values = [None, None,\n",
    "             \"2\", \"3\" ,\"4\", \"5\" ,\"6\", \"7\" ,\"8\", \"9\",\n",
    "             \"10\", \"Jack\" ,\"Queen\", \"King\" ,\"Ace\"]\n",
    "\n",
    "    def __init__(self, v, s):\n",
    "        \"\"\"スート（マーク)も値も整数値です\"\"\"\n",
    "        self.value = v\n",
    "        self.suit = s\n",
    "\n",
    "    def __lt__(self, c2):\n",
    "        if self.value < c2.value:\n",
    "            return True\n",
    "        if self.value == c2.value:\n",
    "            if self.suit < c2.suit:\n",
    "                return True\n",
    "            else:\n",
    "                return False\n",
    "        return False\n",
    "\n",
    "    def __gt__(self, c2):\n",
    "        if self.value > c2.value:\n",
    "            return True\n",
    "        if self.value == c2.value:\n",
    "            if self.suit > c2.suit:\n",
    "                return True\n",
    "            else:\n",
    "                return False\n",
    "        return False\n",
    "\n",
    "    def __repr__(self):\n",
    "        v = self.values[self.value] + \" of \" \\\n",
    "            + self.suits[self.suit]\n",
    "        return v"
   ]
  },
  {
   "cell_type": "code",
   "execution_count": 15,
   "metadata": {},
   "outputs": [
    {
     "name": "stdout",
     "output_type": "stream",
     "text": [
      "10 of diamonds\n"
     ]
    }
   ],
   "source": [
    "card = Card(10,2)\n",
    "print (card)"
   ]
  },
  {
   "cell_type": "code",
   "execution_count": 16,
   "metadata": {},
   "outputs": [
    {
     "name": "stdout",
     "output_type": "stream",
     "text": [
      "10 of spades\n"
     ]
    }
   ],
   "source": [
    "card = Card(10,0)\n",
    "print (card)"
   ]
  },
  {
   "cell_type": "code",
   "execution_count": 17,
   "metadata": {
    "scrolled": true
   },
   "outputs": [
    {
     "ename": "IndexError",
     "evalue": "list index out of range",
     "output_type": "error",
     "traceback": [
      "\u001b[1;31m---------------------------------------------------------------------------\u001b[0m",
      "\u001b[1;31mIndexError\u001b[0m                                Traceback (most recent call last)",
      "\u001b[1;32m<ipython-input-17-436870acbd13>\u001b[0m in \u001b[0;36m<module>\u001b[1;34m()\u001b[0m\n\u001b[0;32m      1\u001b[0m \u001b[0mcard\u001b[0m \u001b[1;33m=\u001b[0m \u001b[0mCard\u001b[0m\u001b[1;33m(\u001b[0m\u001b[1;36m10\u001b[0m\u001b[1;33m,\u001b[0m\u001b[1;36m5\u001b[0m\u001b[1;33m)\u001b[0m\u001b[1;33m\u001b[0m\u001b[0m\n\u001b[1;32m----> 2\u001b[1;33m \u001b[0mprint\u001b[0m \u001b[1;33m(\u001b[0m\u001b[0mcard\u001b[0m\u001b[1;33m)\u001b[0m\u001b[1;33m\u001b[0m\u001b[0m\n\u001b[0m",
      "\u001b[1;32m<ipython-input-14-52be506c71ed>\u001b[0m in \u001b[0;36m__repr__\u001b[1;34m(self)\u001b[0m\n\u001b[0;32m     31\u001b[0m \u001b[1;33m\u001b[0m\u001b[0m\n\u001b[0;32m     32\u001b[0m     \u001b[1;32mdef\u001b[0m \u001b[0m__repr__\u001b[0m\u001b[1;33m(\u001b[0m\u001b[0mself\u001b[0m\u001b[1;33m)\u001b[0m\u001b[1;33m:\u001b[0m\u001b[1;33m\u001b[0m\u001b[0m\n\u001b[1;32m---> 33\u001b[1;33m         \u001b[0mv\u001b[0m \u001b[1;33m=\u001b[0m \u001b[0mself\u001b[0m\u001b[1;33m.\u001b[0m\u001b[0mvalues\u001b[0m\u001b[1;33m[\u001b[0m\u001b[0mself\u001b[0m\u001b[1;33m.\u001b[0m\u001b[0mvalue\u001b[0m\u001b[1;33m]\u001b[0m \u001b[1;33m+\u001b[0m \u001b[1;34m\" of \"\u001b[0m             \u001b[1;33m+\u001b[0m \u001b[0mself\u001b[0m\u001b[1;33m.\u001b[0m\u001b[0msuits\u001b[0m\u001b[1;33m[\u001b[0m\u001b[0mself\u001b[0m\u001b[1;33m.\u001b[0m\u001b[0msuit\u001b[0m\u001b[1;33m]\u001b[0m\u001b[1;33m\u001b[0m\u001b[0m\n\u001b[0m\u001b[0;32m     34\u001b[0m         \u001b[1;32mreturn\u001b[0m \u001b[0mv\u001b[0m\u001b[1;33m\u001b[0m\u001b[0m\n",
      "\u001b[1;31mIndexError\u001b[0m: list index out of range"
     ]
    }
   ],
   "source": [
    "card = Card(10,5)\n",
    "print (card)"
   ]
  },
  {
   "cell_type": "code",
   "execution_count": 18,
   "metadata": {},
   "outputs": [],
   "source": [
    "#上記のように来た場合は恐らく\n",
    "#while True\n",
    "#   try:\n",
    "#x = int(input(\"Please enter a number:\"))\n",
    "#break\n",
    "#except ValueError:\n",
    "#print(\"Oops! That was no vaild number. Try again…\")\n",
    "#として回避。\n",
    "\n",
    "#若しくはIF？"
   ]
  },
  {
   "cell_type": "code",
   "execution_count": 19,
   "metadata": {},
   "outputs": [
    {
     "ename": "SyntaxError",
     "evalue": "invalid syntax (<ipython-input-19-0363a7450af7>, line 1)",
     "output_type": "error",
     "traceback": [
      "\u001b[1;36m  File \u001b[1;32m\"<ipython-input-19-0363a7450af7>\"\u001b[1;36m, line \u001b[1;32m1\u001b[0m\n\u001b[1;33m    From randam import shuffle\u001b[0m\n\u001b[1;37m              ^\u001b[0m\n\u001b[1;31mSyntaxError\u001b[0m\u001b[1;31m:\u001b[0m invalid syntax\n"
     ]
    }
   ],
   "source": [
    "From randam import shuffle\n",
    "\n",
    "class Deck:\n",
    "    def __init__(self):\n",
    "        self.cards = []\n",
    "        for i in range(2,15):\n",
    "            for j in range(4):\n",
    "                self.cards.append(Card(i,j))\n",
    "        shuffle(self.cards)\n",
    "\n",
    "    def rm_card(self):\n",
    "        if len(self.cards) == 0:\n",
    "            return\n",
    "        return self.cards.pop()"
   ]
  },
  {
   "cell_type": "code",
   "execution_count": 20,
   "metadata": {},
   "outputs": [
    {
     "ename": "SyntaxError",
     "evalue": "invalid syntax (<ipython-input-20-bd2c03d8b9b3>, line 1)",
     "output_type": "error",
     "traceback": [
      "\u001b[1;36m  File \u001b[1;32m\"<ipython-input-20-bd2c03d8b9b3>\"\u001b[1;36m, line \u001b[1;32m1\u001b[0m\n\u001b[1;33m    From random import shuffle\u001b[0m\n\u001b[1;37m              ^\u001b[0m\n\u001b[1;31mSyntaxError\u001b[0m\u001b[1;31m:\u001b[0m invalid syntax\n"
     ]
    }
   ],
   "source": [
    "From random import shuffle\n",
    "\n",
    "class Deck:\n",
    "    def __init__(self):\n",
    "        self.cards = []\n",
    "        for i in range(2,15):\n",
    "            for j in range(4):\n",
    "                self.cards.append(Card(i,j))\n",
    "        shuffle(self.cards)\n",
    "\n",
    "    def rm_card(self):\n",
    "        if len(self.cards) == 0:\n",
    "            return\n",
    "        return self.cards.pop()"
   ]
  },
  {
   "cell_type": "code",
   "execution_count": 21,
   "metadata": {},
   "outputs": [],
   "source": [
    "from random import shuffle\n",
    "\n",
    "class Deck:\n",
    "    def __init__(self):\n",
    "        self.cards = []\n",
    "        for i in range(2,15):\n",
    "            for j in range(4):\n",
    "                self.cards.append(Card(i,j))\n",
    "        shuffle(self.cards)\n",
    "\n",
    "    def rm_card(self):\n",
    "        if len(self.cards) == 0:\n",
    "            return\n",
    "        return self.cards.pop()"
   ]
  },
  {
   "cell_type": "code",
   "execution_count": 22,
   "metadata": {},
   "outputs": [],
   "source": [
    "#from random import shuffle\n",
    "#\n",
    "#class Deck:\n",
    "#    def __init__(self):　Deckオブジェクトを初期化する時、全カードを用意するために__init__メソッドの中で\n",
    "#                       2つのforループを使ってCardオブジェクトを作る。これでcardsリストにトランプが52枚追加される\n",
    "#        self.cards = [] \n",
    "#        for i in range(2,15): 2-15なのはトランプのカードだから。10,11,12,13,A(15)\n",
    "#            for j in range(4): x4作る\n",
    "#                self.cards.append(Card(i,j))　追加されて\n",
    "#        shuffle(self.cards)　randomモジュールのシャッフルメソッドを使う\n",
    "\n",
    "#    def rm_card(self): rm_cardメソッドはcardsリストから要素を1つ削除して、その要素を返す。空ならNONEを返す。\n",
    "#        if len(self.cards) == 0: \n",
    "#            return\n",
    "#        return self.cards.pop()"
   ]
  },
  {
   "cell_type": "code",
   "execution_count": 23,
   "metadata": {},
   "outputs": [
    {
     "name": "stdout",
     "output_type": "stream",
     "text": [
      "6 of hearts\n",
      "6 of clubs\n",
      "4 of clubs\n",
      "King of clubs\n",
      "8 of spades\n",
      "9 of diamonds\n",
      "King of diamonds\n",
      "7 of diamonds\n",
      "8 of diamonds\n",
      "4 of spades\n",
      "4 of hearts\n",
      "2 of hearts\n",
      "Jack of spades\n",
      "2 of spades\n",
      "8 of clubs\n",
      "7 of hearts\n",
      "2 of clubs\n",
      "Queen of clubs\n",
      "10 of diamonds\n",
      "3 of diamonds\n",
      "6 of spades\n",
      "6 of diamonds\n",
      "2 of diamonds\n",
      "10 of clubs\n",
      "8 of hearts\n",
      "3 of clubs\n",
      "Ace of hearts\n",
      "King of spades\n",
      "3 of hearts\n",
      "Jack of clubs\n",
      "Ace of diamonds\n",
      "Queen of hearts\n",
      "Jack of diamonds\n",
      "5 of diamonds\n",
      "4 of diamonds\n",
      "5 of spades\n",
      "Ace of clubs\n",
      "10 of hearts\n",
      "Queen of spades\n",
      "9 of spades\n",
      "10 of spades\n",
      "7 of clubs\n",
      "7 of spades\n",
      "Ace of spades\n",
      "Jack of hearts\n",
      "5 of hearts\n",
      "King of hearts\n",
      "3 of spades\n",
      "Queen of diamonds\n",
      "9 of clubs\n",
      "9 of hearts\n",
      "5 of clubs\n"
     ]
    }
   ],
   "source": [
    "deck =Deck()\n",
    "for card in deck.cards:\n",
    "    print(card)"
   ]
  },
  {
   "cell_type": "code",
   "execution_count": 24,
   "metadata": {},
   "outputs": [],
   "source": [
    "#CardオブジェクトとDeckオブジェクトの使ってシャッフルしたカードを表示させるってプログラム。\n",
    "# A program to show cards shuffled using Card objects and Deck objects."
   ]
  },
  {
   "cell_type": "code",
   "execution_count": 25,
   "metadata": {},
   "outputs": [],
   "source": [
    "class Players:\n",
    "    def __init__(self, name):\n",
    "        self.wins = 0\n",
    "        self.card = None\n",
    "        self.name = name"
   ]
  },
  {
   "cell_type": "code",
   "execution_count": 26,
   "metadata": {},
   "outputs": [],
   "source": [
    "class Game:\n",
    "    def __init__(self):\n",
    "        name1 = input(\"input name player1 \")\n",
    "        name2 = input(\"input name player2 \")\n",
    "        self.deck = Deck()\n",
    "        self.p1 = Player(name1)\n",
    "        self.p2 = Player(name2)\n",
    "\n",
    "    def wins(self, winner):\n",
    "        w = \"This round {} win\"\n",
    "        w = w.format(winner)\n",
    "        print(w)\n",
    "\n",
    "    def draw(self, p1n, p1c, p2n, p2c):\n",
    "        d = \"{} is {},{} is {} draw\"\n",
    "        d = w.format(p1n, p1c, p2n, p2c)\n",
    "        print(d)\n",
    "\n",
    "    def play_game(self):\n",
    "        cards = self.deck.cards\n",
    "        print(\"Start a war\")\n",
    "        while len(cards) >= 2:\n",
    "            m = \"Q with the end, Play with other keys：\"\n",
    "            response = input(m)\n",
    "            if response == 'q':\n",
    "                break\n",
    "            p1c = self.deck.rm_card()\n",
    "            p2c = self.deck.rm_card()\n",
    "            p1n = self.p1.name\n",
    "            p2n = self.p2.name\n",
    "            self.draw(p1n, p1c, p2n, p2c)\n",
    "            if p1c > p2c:\n",
    "                self.p1.wins += 1\n",
    "                self.wins(self.p1.name)\n",
    "            else:\n",
    "                self.p2.wins += 1\n",
    "                self.wins(self.p2.name)\n",
    "        \n",
    "        win = self.winner(self.p1, self.p2)\n",
    "        print(\"The game ends, {} victory\".format(win))\n",
    "    \n",
    "    def winner(self, p1, p2):\n",
    "        if p1.wins > p2.wins:\n",
    "            return p1.name\n",
    "        if p1.wins < p2.wins:\n",
    "            return p1.name\n",
    "        return \"draw\""
   ]
  },
  {
   "cell_type": "code",
   "execution_count": 27,
   "metadata": {},
   "outputs": [],
   "source": [
    "#mission1:\n",
    "#class Game: gameオブジェクト作成\n",
    "#    def __init__(self): 初期化定義\n",
    "#        name1 = input(\"input name player1 \")　P1名前入力\n",
    "#        name2 = input(\"input name player2 \")\n",
    "#        self.deck = Deck() Deckオブジェクト作成、インスタンス変数deckに格納\n",
    "#        self.p1 = Player(name1)\n",
    "#        self.p2 = Player(name2)\n",
    "\n",
    "#mission4:\n",
    "#    def wins(self, winner):\n",
    "#        w = \"This round {} win\"\n",
    "#        w = w.format(winner)\n",
    "#        print(w)\n",
    "\n",
    "#mission3:\n",
    "#    def draw(self, p1n, p1c, p2n, p2c):\n",
    "#        d = \"{} is {},{} is {} draw\"\n",
    "#        d = w.format(p1n, p1c, p2n, p2c)\n",
    "#        print(d)\n",
    "\n",
    "#mission2:\n",
    "#    def play_game(self): game start \n",
    "#        cards = self.deck.cards \n",
    "#        print(\"Start a war\")\n",
    "#        while len(cards) >= 2: ループごとに2つのかーぢがデッキからひかれる\n",
    "#            m = \"Q with the end, Play with other keys：\"\n",
    "#            response = input(m)\n",
    "#            if response == 'q':\n",
    "#                break\n",
    "#            p1c = self.deck.rm_card() …説明では此処のことを言ってる？Player1に代入。\n",
    "#            p2c = self.deck.rm_card()　Player2に代入。\n",
    "#            p1n = self.p1.name\n",
    "#            p2c = self.p2.name\n",
    "#            self.draw(p1n, p1c, p2n, p2c) インスタンス変数drawがdrawメソッドに呼び出される→mission3\n",
    "#            if p1c > p2c: カード比較\n",
    "#                self.p1.wins += 1　wins変数を1インクリメント\n",
    "#                self.wins(self.p1.name)\n",
    "#            else:\n",
    "#                self.p2.wins += 1　wins変数を1インクリメント\n",
    "#                self.wins(self.p2.name)\n",
    "        \n",
    "#        win = self.winner(self.p1, self.p2)　インスタンス変数winnes\n",
    "#        print(\"The game ends, {} victory\".format(win))\n",
    "\n",
    "#mission5:\n",
    "#    def winner(self, p1, p2):　winnerメソッドがP1,P2の引数を受け取り、比較\n",
    "#        if p1.wins > p2.wins:\n",
    "#            return p1.name\n",
    "#        if p1.wins < p2.wins:\n",
    "#            return p1.name\n",
    "#        return \"draw\""
   ]
  },
  {
   "cell_type": "code",
   "execution_count": 28,
   "metadata": {},
   "outputs": [
    {
     "name": "stdout",
     "output_type": "stream",
     "text": [
      "p1 name aaa\n",
      "p2 name bbb\n",
      "beginning War!\n",
      "q to quit. Any key to play:\n",
      "aaa drew 5 of spades bbb drew King of hearts\n",
      "bbb wins this round\n",
      "q to quit. Any key to play:\n",
      "aaa drew 7 of diamonds bbb drew 8 of diamonds\n",
      "bbb wins this round\n",
      "q to quit. Any key to play:\n",
      "aaa drew Queen of spades bbb drew Jack of clubs\n",
      "aaa wins this round\n",
      "q to quit. Any key to play:\n",
      "aaa drew 10 of clubs bbb drew 7 of hearts\n",
      "aaa wins this round\n",
      "q to quit. Any key to play:\n",
      "aaa drew Jack of diamonds bbb drew Ace of clubs\n",
      "bbb wins this round\n",
      "q to quit. Any key to play:\n",
      "aaa drew 10 of hearts bbb drew 8 of clubs\n",
      "aaa wins this round\n",
      "q to quit. Any key to play:\n",
      "aaa drew 10 of diamonds bbb drew Queen of hearts\n",
      "bbb wins this round\n",
      "q to quit. Any key to play:\n",
      "aaa drew 9 of diamonds bbb drew 7 of clubs\n",
      "aaa wins this round\n",
      "q to quit. Any key to play:\n",
      "aaa drew 5 of diamonds bbb drew Queen of diamonds\n",
      "bbb wins this round\n",
      "q to quit. Any key to play:\n",
      "aaa drew 8 of spades bbb drew 6 of clubs\n",
      "aaa wins this round\n",
      "q to quit. Any key to play:\n",
      "aaa drew 3 of spades bbb drew 2 of spades\n",
      "aaa wins this round\n",
      "q to quit. Any key to play:\n",
      "aaa drew 3 of hearts bbb drew Queen of clubs\n",
      "bbb wins this round\n",
      "q to quit. Any key to play:\n",
      "aaa drew 9 of hearts bbb drew 4 of diamonds\n",
      "aaa wins this round\n",
      "q to quit. Any key to play:\n",
      "aaa drew 8 of hearts bbb drew 3 of diamonds\n",
      "aaa wins this round\n",
      "q to quit. Any key to play:\n",
      "aaa drew 9 of spades bbb drew 3 of clubs\n",
      "aaa wins this round\n",
      "q to quit. Any key to play:\n",
      "aaa drew 5 of hearts bbb drew 6 of spades\n",
      "bbb wins this round\n",
      "q to quit. Any key to play:\n",
      "aaa drew 4 of spades bbb drew 2 of diamonds\n",
      "aaa wins this round\n",
      "q to quit. Any key to play:\n",
      "aaa drew 4 of clubs bbb drew 6 of hearts\n",
      "bbb wins this round\n",
      "q to quit. Any key to play:\n",
      "aaa drew King of diamonds bbb drew 7 of spades\n",
      "aaa wins this round\n",
      "q to quit. Any key to play:\n",
      "aaa drew Ace of spades bbb drew 4 of hearts\n",
      "aaa wins this round\n",
      "q to quit. Any key to play:\n",
      "aaa drew King of clubs bbb drew Jack of spades\n",
      "aaa wins this round\n",
      "q to quit. Any key to play:\n",
      "aaa drew 2 of clubs bbb drew 9 of clubs\n",
      "bbb wins this round\n",
      "q to quit. Any key to play:\n",
      "aaa drew Ace of hearts bbb drew King of spades\n",
      "aaa wins this round\n",
      "q to quit. Any key to play:\n",
      "aaa drew Jack of hearts bbb drew 2 of hearts\n",
      "aaa wins this round\n",
      "q to quit. Any key to play:\n",
      "aaa drew 5 of clubs bbb drew 6 of diamonds\n",
      "bbb wins this round\n",
      "q to quit. Any key to play:\n",
      "aaa drew Ace of diamonds bbb drew 10 of spades\n",
      "aaa wins this round\n",
      "War is over.aaa wins\n"
     ]
    }
   ],
   "source": [
    "from random import shuffle\n",
    "\n",
    "\n",
    "class Card:\n",
    "    suits = [\"spades\",\n",
    "             \"hearts\",\n",
    "             \"diamonds\",\n",
    "             \"clubs\"]\n",
    "\n",
    "    values = [None, None,\"2\", \"3\",\n",
    "              \"4\", \"5\", \"6\", \"7\",\n",
    "              \"8\", \"9\", \"10\",\n",
    "              \"Jack\", \"Queen\",\n",
    "              \"King\", \"Ace\"]\n",
    "\n",
    "    def __init__(self, v, s):\n",
    "        \"\"\"suit + value are ints\"\"\"\n",
    "        self.value = v\n",
    "        self.suit = s\n",
    "\n",
    "    def __lt__(self, c2):\n",
    "        if self.value < c2.value:\n",
    "            return True\n",
    "        if self.value == c2.value:\n",
    "            if self.suit < c2.suit:\n",
    "                return True\n",
    "            else:\n",
    "                return False\n",
    "        return False\n",
    "\n",
    "    def __gt__(self, c2):\n",
    "        if self.value > c2.value:\n",
    "            return True\n",
    "        if self.value == c2.value:\n",
    "            if self.suit > c2.suit:\n",
    "                return True\n",
    "            else:\n",
    "                return False\n",
    "        return False\n",
    "\n",
    "    def __repr__(self):\n",
    "        v = self.values[self.value] +\\\n",
    "            \" of \" + \\\n",
    "            self.suits[self.suit]\n",
    "        return v\n",
    "\n",
    "\n",
    "class Deck:\n",
    "    def __init__(self):\n",
    "        self.cards = []\n",
    "        for i in range(2, 15):\n",
    "            for j in range(4):\n",
    "                self.cards\\\n",
    "                    .append(Card(i,\n",
    "                                 j))\n",
    "        shuffle(self.cards)\n",
    "\n",
    "    def rm_card(self):\n",
    "        if len(self.cards) == 0:\n",
    "            return\n",
    "        return self.cards.pop()\n",
    "\n",
    "\n",
    "class Player:\n",
    "    def __init__(self, name):\n",
    "        self.wins = 0\n",
    "        self.card = None\n",
    "        self.name = name\n",
    "\n",
    "\n",
    "class Game:\n",
    "    def __init__(self):\n",
    "        name1 = input(\"p1 name \")\n",
    "        name2 = input(\"p2 name \")\n",
    "        self.deck = Deck()\n",
    "        self.p1 = Player(name1)\n",
    "        self.p2 = Player(name2)\n",
    "\n",
    "    def wins(self, winner):\n",
    "        w = \"{} wins this round\"\n",
    "        w = w.format(winner)\n",
    "        print(w)\n",
    "\n",
    "    def draw(self, p1n, p1c, p2n, p2c):\n",
    "        d = \"{} drew {} {} drew {}\"\n",
    "        d = d.format(p1n,\n",
    "                     p1c,\n",
    "                     p2n,\n",
    "                     p2c)\n",
    "        print(d)\n",
    "\n",
    "    def play_game(self):\n",
    "        cards = self.deck.cards\n",
    "        print(\"beginning War!\")\n",
    "        while len(cards) >= 2:\n",
    "            m = \"q to quit. Any \" + \\\n",
    "                \"key to play:\"\n",
    "            response = input(m)\n",
    "            if response == 'q':\n",
    "                break\n",
    "            p1c = self.deck.rm_card()\n",
    "            p2c = self.deck.rm_card()\n",
    "            p1n = self.p1.name\n",
    "            p2n = self.p2.name\n",
    "            self.draw(p1n,\n",
    "                      p1c,\n",
    "                      p2n,\n",
    "                      p2c)\n",
    "            if p1c > p2c:\n",
    "                self.p1.wins += 1\n",
    "                self.wins(self.p1.name)\n",
    "            else:\n",
    "                self.p2.wins += 1\n",
    "                self.wins(self.p2.name)\n",
    "\n",
    "        win = self.winner(self.p1,\n",
    "                         self.p2)\n",
    "        print(\"War is over.{} wins\"\n",
    "              .format(win))\n",
    "\n",
    "    def winner(self, p1, p2):\n",
    "        if p1.wins > p2.wins:\n",
    "            return p1.name\n",
    "        if p1.wins < p2.wins:\n",
    "            return p2.name\n",
    "        return \"It was a tie!\"\n",
    "\n",
    "game = Game()\n",
    "game.play_game()"
   ]
  },
  {
   "cell_type": "code",
   "execution_count": 29,
   "metadata": {},
   "outputs": [],
   "source": [
    "#このプログラムはトランプの”戦争”というゲームを作っていた。\n",
    "#ゲームの内容はプレイヤーが2人いて、お互い同時にカードを1枚引く。\n",
    "#数字が大きい方が勝ち。また、数字が同じ場合でも、マーク(suit)によって昇順を決めている。\n",
    "#もう少し言うと、54枚カードがあるのだから、最高で27回戦、最小で14回戦連続で勝てば、\n",
    "#後13回戦は何やっても勝率が上まらないから勝。\n",
    "\n",
    "#This program was making a game called \"war\" of cards.\n",
    "# There are two players in the content of the game, draw one card at the same time each other.\n",
    "# The one with the bigger number wins. Also, even if the numbers are the same, \n",
    "#ascending order is decided by mark (suit).\n",
    "# To put it another way, since there are 54 cards, winning 27 times at the highest and winning \n",
    "#at least 14 times in a row, winning wins because the winning percentage does not exceed the winning rate anyway.\n",
    "\n",
    "#実行して初めて何をやっているのかわかるっていうのは、何を作らされているのかわかってないって事なので、\n",
    "#あまり上策でもないかな…。\n",
    "#先ず全体像を見せて、このパートってのがやりやすいのかもしれない。\n",
    "#プログラマー目線だなって思うのはこういう所だと思う。\n",
    "#つまり自分は理解しているから、理解していない側に立って書こうとしたとき難しく書きすぎる。\n",
    "\n",
    "# I do not understand well that it is because I do not know what is being made because\n",
    "#I know what I am doing for the first time by running ...\n",
    "# First of all, it may be easier to do this part, showing the whole picture.\n",
    "# I think that it is such a place to think that it is a programmer's eyes.\n",
    "# In other words, because I understand it, I write too hard when\n",
    "#I try to write on the side I do not understand.\n",
    "\n",
    "#また、1周してからでいいので、図を描きながら書いていくとわかりやすいかもしれない。\n",
    "#最初は単純なプログラムだけれど、後後ややこしくなる。チャートだね。\n",
    "\n",
    "# In addition, it is OK after one lap so it may be easy to understand as you write while drawing figures.\n",
    "# At first it is a simple program, but it's a bit confusing. It's a chart."
   ]
  },
  {
   "cell_type": "code",
   "execution_count": null,
   "metadata": {},
   "outputs": [],
   "source": []
  }
 ],
 "metadata": {
  "kernelspec": {
   "display_name": "Python 3",
   "language": "python",
   "name": "python3"
  },
  "language_info": {
   "codemirror_mode": {
    "name": "ipython",
    "version": 3
   },
   "file_extension": ".py",
   "mimetype": "text/x-python",
   "name": "python",
   "nbconvert_exporter": "python",
   "pygments_lexer": "ipython3",
   "version": "3.7.0"
  }
 },
 "nbformat": 4,
 "nbformat_minor": 2
}
