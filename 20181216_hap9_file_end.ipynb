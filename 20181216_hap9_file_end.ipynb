{
 "cells": [
  {
   "cell_type": "code",
   "execution_count": 1,
   "metadata": {},
   "outputs": [
    {
     "data": {
      "text/plain": [
       "'users\\\\bob\\\\st.txt'"
      ]
     },
     "execution_count": 1,
     "metadata": {},
     "output_type": "execute_result"
    }
   ],
   "source": [
    "import os\n",
    "os.path.join(\"users\",\"bob\",\"st.txt\")"
   ]
  },
  {
   "cell_type": "code",
   "execution_count": 2,
   "metadata": {},
   "outputs": [
    {
     "ename": "NameError",
     "evalue": "name 'st' is not defined",
     "output_type": "error",
     "traceback": [
      "\u001b[1;31m---------------------------------------------------------------------------\u001b[0m",
      "\u001b[1;31mNameError\u001b[0m                                 Traceback (most recent call last)",
      "\u001b[1;32m<ipython-input-2-27576f6c64e6>\u001b[0m in \u001b[0;36m<module>\u001b[1;34m()\u001b[0m\n\u001b[0;32m      1\u001b[0m \u001b[0mat\u001b[0m \u001b[1;33m=\u001b[0m \u001b[0mopen\u001b[0m\u001b[1;33m(\u001b[0m\u001b[1;34m\"st.txt\"\u001b[0m\u001b[1;33m,\u001b[0m\u001b[1;34m\"w\"\u001b[0m\u001b[1;33m)\u001b[0m\u001b[1;33m\u001b[0m\u001b[0m\n\u001b[1;32m----> 2\u001b[1;33m \u001b[0mst\u001b[0m\u001b[1;33m.\u001b[0m\u001b[0mwrite\u001b[0m\u001b[1;33m(\u001b[0m\u001b[1;34m\"Hi From Python!\"\u001b[0m\u001b[1;33m)\u001b[0m\u001b[1;33m\u001b[0m\u001b[0m\n\u001b[0m\u001b[0;32m      3\u001b[0m \u001b[0mst\u001b[0m\u001b[1;33m.\u001b[0m\u001b[0mclose\u001b[0m\u001b[1;33m(\u001b[0m\u001b[1;33m)\u001b[0m\u001b[1;33m\u001b[0m\u001b[0m\n",
      "\u001b[1;31mNameError\u001b[0m: name 'st' is not defined"
     ]
    }
   ],
   "source": [
    "at = open(\"st.txt\",\"w\")\n",
    "st.write(\"Hi From Python!\")\n",
    "st.close()"
   ]
  },
  {
   "cell_type": "code",
   "execution_count": 3,
   "metadata": {},
   "outputs": [
    {
     "ename": "NameError",
     "evalue": "name 'st' is not defined",
     "output_type": "error",
     "traceback": [
      "\u001b[1;31m---------------------------------------------------------------------------\u001b[0m",
      "\u001b[1;31mNameError\u001b[0m                                 Traceback (most recent call last)",
      "\u001b[1;32m<ipython-input-3-c778587ed2da>\u001b[0m in \u001b[0;36m<module>\u001b[1;34m()\u001b[0m\n\u001b[0;32m      1\u001b[0m \u001b[0mat\u001b[0m \u001b[1;33m=\u001b[0m \u001b[0mopen\u001b[0m\u001b[1;33m(\u001b[0m\u001b[1;34m\"st.txt\"\u001b[0m\u001b[1;33m,\u001b[0m\u001b[1;34m\"w\"\u001b[0m\u001b[1;33m,\u001b[0m\u001b[0mencoding\u001b[0m\u001b[1;33m=\u001b[0m\u001b[1;34m\"utf=8\"\u001b[0m\u001b[1;33m)\u001b[0m\u001b[1;33m\u001b[0m\u001b[0m\n\u001b[1;32m----> 2\u001b[1;33m \u001b[0mst\u001b[0m\u001b[1;33m.\u001b[0m\u001b[0mwrite\u001b[0m\u001b[1;33m(\u001b[0m\u001b[1;34m\"Hi From Python!\"\u001b[0m\u001b[1;33m)\u001b[0m\u001b[1;33m\u001b[0m\u001b[0m\n\u001b[0m\u001b[0;32m      3\u001b[0m \u001b[0mst\u001b[0m\u001b[1;33m.\u001b[0m\u001b[0mclose\u001b[0m\u001b[1;33m(\u001b[0m\u001b[1;33m)\u001b[0m\u001b[1;33m\u001b[0m\u001b[0m\n",
      "\u001b[1;31mNameError\u001b[0m: name 'st' is not defined"
     ]
    }
   ],
   "source": [
    "at = open(\"st.txt\",\"w\",encoding=\"utf=8\")\n",
    "st.write(\"Hi From Python!\")\n",
    "st.close()"
   ]
  },
  {
   "cell_type": "code",
   "execution_count": 4,
   "metadata": {},
   "outputs": [],
   "source": [
    "st = open(\"st.txt\",\"w\")\n",
    "st.write(\"Hi From Python!\")\n",
    "st.close()"
   ]
  },
  {
   "cell_type": "code",
   "execution_count": 5,
   "metadata": {},
   "outputs": [
    {
     "ename": "SyntaxError",
     "evalue": "EOL while scanning string literal (<ipython-input-5-6dd222e8f015>, line 2)",
     "output_type": "error",
     "traceback": [
      "\u001b[1;36m  File \u001b[1;32m\"<ipython-input-5-6dd222e8f015>\"\u001b[1;36m, line \u001b[1;32m2\u001b[0m\n\u001b[1;33m    f.write(\"Hi form Python!\"\")\u001b[0m\n\u001b[1;37m                               ^\u001b[0m\n\u001b[1;31mSyntaxError\u001b[0m\u001b[1;31m:\u001b[0m EOL while scanning string literal\n"
     ]
    }
   ],
   "source": [
    "with open(\"st.txt\",\"w\") as f:\n",
    "         f.write(\"Hi form Python!\"\")"
   ]
  },
  {
   "cell_type": "code",
   "execution_count": 6,
   "metadata": {},
   "outputs": [],
   "source": [
    "with open(\"st.txt\",\"w\") as f:\n",
    "         f.write(\"Hi form Python!\")"
   ]
  },
  {
   "cell_type": "code",
   "execution_count": 7,
   "metadata": {},
   "outputs": [
    {
     "name": "stdout",
     "output_type": "stream",
     "text": [
      "Hi form Python!\n"
     ]
    }
   ],
   "source": [
    "with open(\"st.txt\",\"r\") as f:\n",
    "    print(f.read())"
   ]
  },
  {
   "cell_type": "code",
   "execution_count": 8,
   "metadata": {},
   "outputs": [
    {
     "name": "stdout",
     "output_type": "stream",
     "text": [
      "Hi form Python!\n"
     ]
    }
   ],
   "source": [
    "with open(\"st.txt\",\"r\") as f:\n",
    "    print(f.read())"
   ]
  },
  {
   "cell_type": "code",
   "execution_count": 9,
   "metadata": {},
   "outputs": [
    {
     "name": "stdout",
     "output_type": "stream",
     "text": [
      "['Hi form Python!']\n"
     ]
    }
   ],
   "source": [
    "my_list = []\n",
    "with open(\"st.txt\",\"r\")as f:\n",
    "    my_list.append(f.read())\n",
    "print(my_list)"
   ]
  },
  {
   "cell_type": "code",
   "execution_count": 10,
   "metadata": {},
   "outputs": [
    {
     "ename": "SyntaxError",
     "evalue": "EOL while scanning string literal (<ipython-input-10-c3957def9609>, line 2)",
     "output_type": "error",
     "traceback": [
      "\u001b[1;36m  File \u001b[1;32m\"<ipython-input-10-c3957def9609>\"\u001b[1;36m, line \u001b[1;32m2\u001b[0m\n\u001b[1;33m    with open(\"st.csv\",\"w\",newline=\")as f:\u001b[0m\n\u001b[1;37m                                          ^\u001b[0m\n\u001b[1;31mSyntaxError\u001b[0m\u001b[1;31m:\u001b[0m EOL while scanning string literal\n"
     ]
    }
   ],
   "source": [
    "import csv\n",
    "with open(\"st.csv\",\"w\",newline=\")as f:\n",
    "          w = csv.writer(f,delimiter=\",\")\n",
    "          w.writerow([\"one\",\"two\",\"three\"])\n",
    "          w.writerow([\"four\",\"five\",\"six\"])"
   ]
  },
  {
   "cell_type": "code",
   "execution_count": 11,
   "metadata": {},
   "outputs": [
    {
     "ename": "SyntaxError",
     "evalue": "EOL while scanning string literal (<ipython-input-11-84177e6767bf>, line 2)",
     "output_type": "error",
     "traceback": [
      "\u001b[1;36m  File \u001b[1;32m\"<ipython-input-11-84177e6767bf>\"\u001b[1;36m, line \u001b[1;32m2\u001b[0m\n\u001b[1;33m    with open(\"st.csv\",\"w\",newline=\") as f:\u001b[0m\n\u001b[1;37m                                           ^\u001b[0m\n\u001b[1;31mSyntaxError\u001b[0m\u001b[1;31m:\u001b[0m EOL while scanning string literal\n"
     ]
    }
   ],
   "source": [
    "import csv\n",
    "with open(\"st.csv\",\"w\",newline=\") as f:\n",
    "          w = csv.writer(f,delimiter=\",\")\n",
    "          w.writerow([\"one\",\"two\",\"three\"])\n",
    "          w.writerow([\"four\",\"five\",\"six\"])"
   ]
  },
  {
   "cell_type": "code",
   "execution_count": 12,
   "metadata": {},
   "outputs": [],
   "source": [
    "import csv\n",
    "with open(\"st.csv\",\"w\",newline='') as f:\n",
    "          w = csv.writer(f,delimiter=\",\")\n",
    "          w.writerow([\"one\",\"two\",\"three\"])\n",
    "          w.writerow([\"four\",\"five\",\"six\"])"
   ]
  },
  {
   "cell_type": "code",
   "execution_count": 13,
   "metadata": {},
   "outputs": [
    {
     "ename": "NameError",
     "evalue": "name 'row' is not defined",
     "output_type": "error",
     "traceback": [
      "\u001b[1;31m---------------------------------------------------------------------------\u001b[0m",
      "\u001b[1;31mNameError\u001b[0m                                 Traceback (most recent call last)",
      "\u001b[1;32m<ipython-input-13-8d97198751d0>\u001b[0m in \u001b[0;36m<module>\u001b[1;34m()\u001b[0m\n\u001b[0;32m      5\u001b[0m     \u001b[0mr\u001b[0m \u001b[1;33m=\u001b[0m \u001b[0mcsv\u001b[0m\u001b[1;33m.\u001b[0m\u001b[0mreader\u001b[0m \u001b[1;33m(\u001b[0m\u001b[0mf\u001b[0m\u001b[1;33m,\u001b[0m \u001b[0mdelimiter\u001b[0m\u001b[1;33m=\u001b[0m\u001b[1;34m\",\"\u001b[0m\u001b[1;33m)\u001b[0m\u001b[1;33m\u001b[0m\u001b[0m\n\u001b[0;32m      6\u001b[0m     \u001b[1;32mfor\u001b[0m \u001b[0mwoe\u001b[0m \u001b[1;32min\u001b[0m \u001b[0mr\u001b[0m\u001b[1;33m:\u001b[0m\u001b[1;33m\u001b[0m\u001b[0m\n\u001b[1;32m----> 7\u001b[1;33m         \u001b[0mprint\u001b[0m\u001b[1;33m(\u001b[0m\u001b[1;34m\",\"\u001b[0m\u001b[1;33m.\u001b[0m\u001b[0mjoin\u001b[0m\u001b[1;33m(\u001b[0m\u001b[0mrow\u001b[0m\u001b[1;33m)\u001b[0m\u001b[1;33m)\u001b[0m\u001b[1;33m\u001b[0m\u001b[0m\n\u001b[0m",
      "\u001b[1;31mNameError\u001b[0m: name 'row' is not defined"
     ]
    }
   ],
   "source": [
    "#The file to be opened here is created by executing the previous code example.\n",
    "\n",
    "import csv\n",
    "with open(\"st.csv\",\"r\")as f:\n",
    "    r = csv.reader (f, delimiter=\",\")\n",
    "    for woe in r:\n",
    "        print(\",\".join(row))"
   ]
  },
  {
   "cell_type": "code",
   "execution_count": 14,
   "metadata": {},
   "outputs": [
    {
     "name": "stdout",
     "output_type": "stream",
     "text": [
      "one,two,three\n",
      "four,five,six\n"
     ]
    }
   ],
   "source": [
    "#The file to be opened here is created by executing the previous code example.\n",
    "\n",
    "import csv\n",
    "with open(\"st.csv\",\"r\")as f:\n",
    "    r = csv.reader (f, delimiter=\",\")\n",
    "    for row in r:\n",
    "        print(\",\".join(row))"
   ]
  },
  {
   "cell_type": "code",
   "execution_count": 15,
   "metadata": {},
   "outputs": [
    {
     "ename": "SyntaxError",
     "evalue": "EOL while scanning string literal (<ipython-input-15-2b8d6ba3d1e2>, line 2)",
     "output_type": "error",
     "traceback": [
      "\u001b[1;36m  File \u001b[1;32m\"<ipython-input-15-2b8d6ba3d1e2>\"\u001b[1;36m, line \u001b[1;32m2\u001b[0m\n\u001b[1;33m    with open(\"20181216_chap09_file.csv\",\"w\",newline=\") as f:\u001b[0m\n\u001b[1;37m                                                             ^\u001b[0m\n\u001b[1;31mSyntaxError\u001b[0m\u001b[1;31m:\u001b[0m EOL while scanning string literal\n"
     ]
    }
   ],
   "source": [
    "import csv\n",
    "with open(\"20181216_chap09_file.csv\",\"w\",newline=\") as f:\n",
    "          w = csv.writer(f,delimiter=\",\")\n",
    "          w.writerow([\"read:\",\"Extract contrnts of the file\"])\n",
    "          w.writerow([\"Writing: \",\"Add and change to the contents of the file\"])\n",
    "          w.writerow([\"With statement: \",\"One of compound statements. When the process exits the With block, it automatically executes the specified process\"])\n",
    "          w.writerow([\"File object: \",\"an object for reading and writing files\"])\n",
    "          w.writerow([\"CSV file: \",\"A file with the extension \"\".csv\"\". The content data is separated by commas \"\"CSV stands for Comma Spreated Values, abbreviation of values separated by commas\"\" Programs that handle spreadsheet \"\\'spreadsheet\\'\" such as Excel often use CSV files\"])\n",
    "          w.writerow([\"Delimiter: \",\"Delimiter, Delimiter things. Symbol used to delimit the data of the CSV file.\"])"
   ]
  },
  {
   "cell_type": "code",
   "execution_count": 16,
   "metadata": {},
   "outputs": [
    {
     "ename": "SyntaxError",
     "evalue": "invalid syntax (<ipython-input-16-14b51ba838ba>, line 2)",
     "output_type": "error",
     "traceback": [
      "\u001b[1;36m  File \u001b[1;32m\"<ipython-input-16-14b51ba838ba>\"\u001b[1;36m, line \u001b[1;32m2\u001b[0m\n\u001b[1;33m    with open(\"20181216_chap09_file.csv\",\"w\",newline'') as f:\u001b[0m\n\u001b[1;37m                                                     ^\u001b[0m\n\u001b[1;31mSyntaxError\u001b[0m\u001b[1;31m:\u001b[0m invalid syntax\n"
     ]
    }
   ],
   "source": [
    "import csv\n",
    "with open(\"20181216_chap09_file.csv\",\"w\",newline'') as f:\n",
    "          w = csv.writer(f,delimiter=\",\")\n",
    "          w.writerow([\"read:\",\"Extract contrnts of the file\"])\n",
    "          w.writerow([\"Writing: \",\"Add and change to the contents of the file\"])\n",
    "          w.writerow([\"With statement: \",\"One of compound statements. When the process exits the With block, it automatically executes the specified process\"])\n",
    "          w.writerow([\"File object: \",\"an object for reading and writing files\"])\n",
    "          w.writerow([\"CSV file: \",\"A file with the extension \"\".csv\"\". The content data is separated by commas \"\"CSV stands for Comma Spreated Values, abbreviation of values separated by commas\"\" Programs that handle spreadsheet \"\\'spreadsheet\\'\" such as Excel often use CSV files\"])\n",
    "          w.writerow([\"Delimiter: \",\"Delimiter, Delimiter things. Symbol used to delimit the data of the CSV file.\"])"
   ]
  },
  {
   "cell_type": "code",
   "execution_count": 17,
   "metadata": {},
   "outputs": [
    {
     "ename": "SyntaxError",
     "evalue": "unexpected character after line continuation character (<ipython-input-17-58a6ba700e9c>, line 8)",
     "output_type": "error",
     "traceback": [
      "\u001b[1;36m  File \u001b[1;32m\"<ipython-input-17-58a6ba700e9c>\"\u001b[1;36m, line \u001b[1;32m8\u001b[0m\n\u001b[1;33m    w.writerow([\"CSV file: \",\"A file with the extension \"\".csv\"\". The content data is separated by commas \"\"CSV stands for Comma Spreated Values, abbreviation of values separated by commas\"\" Programs that handle spreadsheet \"\\'spreadsheet\\'\" such as Excel often use CSV files\"])\u001b[0m\n\u001b[1;37m                                                                                                                                                                                                                                                                                      ^\u001b[0m\n\u001b[1;31mSyntaxError\u001b[0m\u001b[1;31m:\u001b[0m unexpected character after line continuation character\n"
     ]
    }
   ],
   "source": [
    "import csv\n",
    "with open(\"20181216_chap09_file.csv\",\"w\",newline='') as f:\n",
    "          w = csv.writer(f,delimiter=\",\")\n",
    "          w.writerow([\"read:\",\"Extract contrnts of the file\"])\n",
    "          w.writerow([\"Writing: \",\"Add and change to the contents of the file\"])\n",
    "          w.writerow([\"With statement: \",\"One of compound statements. When the process exits the With block, it automatically executes the specified process\"])\n",
    "          w.writerow([\"File object: \",\"an object for reading and writing files\"])\n",
    "          w.writerow([\"CSV file: \",\"A file with the extension \"\".csv\"\". The content data is separated by commas \"\"CSV stands for Comma Spreated Values, abbreviation of values separated by commas\"\" Programs that handle spreadsheet \"\\'spreadsheet\\'\" such as Excel often use CSV files\"])\n",
    "          w.writerow([\"Delimiter: \",\"Delimiter, Delimiter things. Symbol used to delimit the data of the CSV file.\"])"
   ]
  },
  {
   "cell_type": "code",
   "execution_count": 19,
   "metadata": {},
   "outputs": [],
   "source": [
    "import csv\n",
    "with open(\"20181216_chap09_file_ques.csv\",\"w\",newline='') as f:\n",
    "          w = csv.writer(f,delimiter=\",\")\n",
    "          w.writerow([\"1:\",\"Open something on your computer in Python and output the content.\"])\n",
    "          w.writerow([\"2: \",\"Let's write a program to ask something. Let's write the input answer to the file.\"])\n",
    "          w.writerow([\"3: \",\"Let's write the elements contained in the list list to CSV.The data is as follows.\"[\"Top Gun\", \"Risky Buginess\", \"Minority Report\"], [\"Titanic\", \"The Revenant\", \"Inspection\"], [\"Training Day\", \"Man of Fire\", \"Flight\"]\"Each element of data will be one line of CSV, so that each element contained in that line is separated by a comma.\"]\")\n",
    "          w.writerow([\"4: \",\"Let's try Challenge 3 in Japanese in the same way. For example Top Gun, like Top Gun, replace it with Japanese and output it to a CSV file.\")"
   ]
  },
  {
   "cell_type": "code",
   "execution_count": 20,
   "metadata": {},
   "outputs": [],
   "source": [
    "import csv\n",
    "with open(\"20181216_chap09_file.csv\",\"w\",newline='') as f:\n",
    "          w = csv.writer(f,delimiter=\",\")\n",
    "          w.writerow([\"read:\",\"Extract contrnts of the file\"])\n",
    "          w.writerow([\"Writing: \",\"Add and change to the contents of the file\"])\n",
    "          w.writerow([\"With statement: \",\"One of compound statements. \\nWhen the process exits the With block, it automatically executes the specified process\"])\n",
    "          w.writerow([\"File object: \",\"an object for reading and writing files\"])\n",
    "          w.writerow([\"CSV file: \",\"A file with the extension \"\".csv\"\". The content data is separated by commas (CSV stands for Comma Spreated Values, abbreviation of values separated by commas) Programs that handle spreadsheet \"\"spreadsheet\"\"such as Excel often use CSV files\"])\n",
    "          w.writerow([\"Delimiter: \",\"Delimiter, Delimiter things. Symbol used to delimit the data of the CSV file.\"])"
   ]
  },
  {
   "cell_type": "code",
   "execution_count": 21,
   "metadata": {},
   "outputs": [
    {
     "ename": "SyntaxError",
     "evalue": "invalid syntax (<ipython-input-21-97f948feaea8>, line 6)",
     "output_type": "error",
     "traceback": [
      "\u001b[1;36m  File \u001b[1;32m\"<ipython-input-21-97f948feaea8>\"\u001b[1;36m, line \u001b[1;32m6\u001b[0m\n\u001b[1;33m    w.writerow([\"3: \",\"Let's write the elements contained in the list list to CSV.The data is as follows.\"[\"Top Gun\", \"Risky Buginess\", \"Minority Report\"], [\"Titanic\", \"The Revenant\", \"Inspection\"], [\"Training Day\", \"Man of Fire\", \"Flight\"]\"Each element of data will be one line of CSV, so that each element contained in that line is separated by a comma.\"]\")\u001b[0m\n\u001b[1;37m                                                                                                                                                                                                                                                                                                                                                                   ^\u001b[0m\n\u001b[1;31mSyntaxError\u001b[0m\u001b[1;31m:\u001b[0m invalid syntax\n"
     ]
    }
   ],
   "source": [
    "import csv\n",
    "with open(\"20181216_chap09_file_ques.csv\",\"w\",newline='') as f:\n",
    "          w = csv.writer(f,delimiter=\",\")\n",
    "          w.writerow([\"1:\",\"Open something on your computer in Python and output the content.\"])\n",
    "          w.writerow([\"2: \",\"Let's write a program to ask something. Let's write the input answer to the file.\"])\n",
    "          w.writerow([\"3: \",\"Let's write the elements contained in the list list to CSV.The data is as follows.\"[\"Top Gun\", \"Risky Buginess\", \"Minority Report\"], [\"Titanic\", \"The Revenant\", \"Inspection\"], [\"Training Day\", \"Man of Fire\", \"Flight\"]\"Each element of data will be one line of CSV, so that each element contained in that line is separated by a comma.\"]\")\n",
    "          w.writerow([\"4: \",\"Let's try Challenge 3 in Japanese in the same way. For example Top Gun, like Top Gun, replace it with Japanese and output it to a CSV file.\")"
   ]
  },
  {
   "cell_type": "code",
   "execution_count": 23,
   "metadata": {},
   "outputs": [
    {
     "ename": "SyntaxError",
     "evalue": "invalid syntax (<ipython-input-23-372e7017dd7c>, line 6)",
     "output_type": "error",
     "traceback": [
      "\u001b[1;36m  File \u001b[1;32m\"<ipython-input-23-372e7017dd7c>\"\u001b[1;36m, line \u001b[1;32m6\u001b[0m\n\u001b[1;33m    w.writerow([\"3: \",\"Let's write the elements contained in the list list to CSV.The data is as follows.\"\"[Top Gun\", \"Risky Buginess\", \"Minority Report]\"\", \"[\"Titanic\", \"The Revenant\", \"Inspection\"]\", \"[\"Training Day\", \"Man of Fire\", \"Flight\"]\"Each element of data will be one line of CSV, so that each element contained in that line is separated by a comma.]\")\u001b[0m\n\u001b[1;37m                                                                                                                                                                                                          ^\u001b[0m\n\u001b[1;31mSyntaxError\u001b[0m\u001b[1;31m:\u001b[0m invalid syntax\n"
     ]
    }
   ],
   "source": [
    "import csv\n",
    "with open(\"20181216_chap09_file_ques.csv\",\"w\",newline='') as f:\n",
    "          w = csv.writer(f,delimiter=\",\")\n",
    "          w.writerow([\"1:\",\"Open something on your computer in Python and output the content.\"])\n",
    "          w.writerow([\"2: \",\"Let's write a program to ask something. Let's write the input answer to the file.\"])\n",
    "          w.writerow([\"3: \",\"Let's write the elements contained in the list list to CSV.The data is as follows.\"\"[Top Gun\", \"Risky Buginess\", \"Minority Report]\"\", \"[\"Titanic\", \"The Revenant\", \"Inspection\"]\", \"[\"Training Day\", \"Man of Fire\", \"Flight\"]\"Each element of data will be one line of CSV, so that each element contained in that line is separated by a comma.]\")\n",
    "          w.writerow([\"4: \",\"Let's try Challenge 3 in Japanese in the same way. For example Top Gun, like Top Gun, replace it with Japanese and output it to a CSV file.\")"
   ]
  },
  {
   "cell_type": "code",
   "execution_count": 24,
   "metadata": {},
   "outputs": [
    {
     "ename": "SyntaxError",
     "evalue": "invalid syntax (<ipython-input-24-bdb66d596592>, line 6)",
     "output_type": "error",
     "traceback": [
      "\u001b[1;36m  File \u001b[1;32m\"<ipython-input-24-bdb66d596592>\"\u001b[1;36m, line \u001b[1;32m6\u001b[0m\n\u001b[1;33m    w.writerow([\"3: \",\"Let's write the elements contained in the list list to CSV.The data is as follows.\")\u001b[0m\n\u001b[1;37m                                                                                                          ^\u001b[0m\n\u001b[1;31mSyntaxError\u001b[0m\u001b[1;31m:\u001b[0m invalid syntax\n"
     ]
    }
   ],
   "source": [
    "import csv\n",
    "with open(\"20181216_chap09_file_ques.csv\",\"w\",newline='') as f:\n",
    "          w = csv.writer(f,delimiter=\",\")\n",
    "          w.writerow([\"1:\",\"Open something on your computer in Python and output the content.\"])\n",
    "          w.writerow([\"2: \",\"Let's write a program to ask something. Let's write the input answer to the file.\"])\n",
    "          w.writerow([\"3: \",\"Let's write the elements contained in the list list to CSV.The data is as follows.\")\n",
    "          w.writerow([\"   \",\"[Top Gun\", \"Risky Buginess\", \"Minority Report]\"\", \"[\"Titanic\", \"The Revenant\", \"Inspection\"]\", \"[\"Training Day\", \"Man of Fire\", \"Flight\"]\")\n",
    "          w.writerow([\"   \",\"Each element of data will be one line of CSV, so that each element contained in that line is separated by a comma.\")\n",
    "          w.writerow([\"4: \",\"Let's try Challenge 3 in Japanese in the same way. For example Top Gun, like Top Gun, replace it with Japanese and output it to a CSV file.\")"
   ]
  },
  {
   "cell_type": "code",
   "execution_count": 25,
   "metadata": {},
   "outputs": [
    {
     "ename": "SyntaxError",
     "evalue": "invalid syntax (<ipython-input-25-b506cbb99755>, line 7)",
     "output_type": "error",
     "traceback": [
      "\u001b[1;36m  File \u001b[1;32m\"<ipython-input-25-b506cbb99755>\"\u001b[1;36m, line \u001b[1;32m7\u001b[0m\n\u001b[1;33m    w.writerow([\"   \",\"[Top Gun\", \"Risky Buginess\", \"Minority Report]\"\", \"[\"Titanic\", \"The Revenant\", \"Inspection\"]\", \"[\"Training Day\", \"Man of Fire\", \"Flight\"])\u001b[0m\n\u001b[1;37m                                                                                                                      ^\u001b[0m\n\u001b[1;31mSyntaxError\u001b[0m\u001b[1;31m:\u001b[0m invalid syntax\n"
     ]
    }
   ],
   "source": [
    "import csv\n",
    "with open(\"20181216_chap09_file_ques.csv\",\"w\",newline='') as f:\n",
    "          w = csv.writer(f,delimiter=\",\")\n",
    "          w.writerow([\"1:\",\"Open something on your computer in Python and output the content.\"])\n",
    "          w.writerow([\"2: \",\"Let's write a program to ask something. Let's write the input answer to the file.\"])\n",
    "          w.writerow([\"3: \",\"Let's write the elements contained in the list list to CSV.The data is as follows.\"])\n",
    "          w.writerow([\"   \",\"[Top Gun\", \"Risky Buginess\", \"Minority Report]\"\", \"[\"Titanic\", \"The Revenant\", \"Inspection\"]\", \"[\"Training Day\", \"Man of Fire\", \"Flight\"])\n",
    "          w.writerow([\"   \",\"Each element of data will be one line of CSV, so that each element contained in that line is separated by a comma.\"])\n",
    "          w.writerow([\"4: \",\"Let's try Challenge 3 in Japanese in the same way. For example Top Gun, like Top Gun, replace it with Japanese and output it to a CSV file.\")"
   ]
  },
  {
   "cell_type": "code",
   "execution_count": 26,
   "metadata": {},
   "outputs": [
    {
     "ename": "SyntaxError",
     "evalue": "unexpected character after line continuation character (<ipython-input-26-e5329c8bacf9>, line 7)",
     "output_type": "error",
     "traceback": [
      "\u001b[1;36m  File \u001b[1;32m\"<ipython-input-26-e5329c8bacf9>\"\u001b[1;36m, line \u001b[1;32m7\u001b[0m\n\u001b[1;33m    w.writerow([\"   \",\"\\[Top Gun\", \"Risky Buginess\", \"Minority Report\\], \"\\[\"Titanic\", \"The Revenant\", \"Inspection\"\\]\", \"\\[\"Training Day\", \"Man of Fire\", \"Flight\"\\]])\u001b[0m\n\u001b[1;37m                                                                                                                                                                      ^\u001b[0m\n\u001b[1;31mSyntaxError\u001b[0m\u001b[1;31m:\u001b[0m unexpected character after line continuation character\n"
     ]
    }
   ],
   "source": [
    "import csv\n",
    "with open(\"20181216_chap09_file_ques.csv\",\"w\",newline='') as f:\n",
    "          w = csv.writer(f,delimiter=\",\")\n",
    "          w.writerow([\"1:\",\"Open something on your computer in Python and output the content.\"])\n",
    "          w.writerow([\"2: \",\"Let's write a program to ask something. Let's write the input answer to the file.\"])\n",
    "          w.writerow([\"3: \",\"Let's write the elements contained in the list list to CSV.The data is as follows.\"])\n",
    "          w.writerow([\"   \",\"\\[Top Gun\", \"Risky Buginess\", \"Minority Report\\], \"\\[\"Titanic\", \"The Revenant\", \"Inspection\"\\]\", \"\\[\"Training Day\", \"Man of Fire\", \"Flight\"\\]])\n",
    "          w.writerow([\"   \",\"Each element of data will be one line of CSV, so that each element contained in that line is separated by a comma.\"])\n",
    "          w.writerow([\"4: \",\"Let's try Challenge 3 in Japanese in the same way. For example Top Gun, like Top Gun, replace it with Japanese and output it to a CSV file.\")"
   ]
  },
  {
   "cell_type": "code",
   "execution_count": 28,
   "metadata": {},
   "outputs": [
    {
     "ename": "SyntaxError",
     "evalue": "invalid syntax (<ipython-input-28-24c3eb38e52f>, line 9)",
     "output_type": "error",
     "traceback": [
      "\u001b[1;36m  File \u001b[1;32m\"<ipython-input-28-24c3eb38e52f>\"\u001b[1;36m, line \u001b[1;32m9\u001b[0m\n\u001b[1;33m    w.writerow([\"4: \",\"Let's try Challenge 3 in Japanese in the same way. For example Top Gun, like Top Gun, replace it with Japanese and output it to a CSV file.\")\u001b[0m\n\u001b[1;37m                                                                                                                                                                   ^\u001b[0m\n\u001b[1;31mSyntaxError\u001b[0m\u001b[1;31m:\u001b[0m invalid syntax\n"
     ]
    }
   ],
   "source": [
    "import csv\n",
    "with open(\"20181216_chap09_file_ques.csv\",\"w\",newline='') as f:\n",
    "          w = csv.writer(f,delimiter=\",\")\n",
    "          w.writerow([\"1:\",\"Open something on your computer in Python and output the content.\"])\n",
    "          w.writerow([\"2: \",\"Let's write a program to ask something. Let's write the input answer to the file.\"])\n",
    "          w.writerow([\"3: \",\"Let's write the elements contained in the list list to CSV.The data is as follows.\"])\n",
    "          w.writerow([\"   \",\"\\[Top Gun\", \"Risky Buginess\", \"Minority Report\\]\"])\n",
    "          w.writerow([\"   \",\"Each element of data will be one line of CSV, so that each element contained in that line is separated by a comma.\"])\n",
    "          w.writerow([\"4: \",\"Let's try Challenge 3 in Japanese in the same way. For example Top Gun, like Top Gun, replace it with Japanese and output it to a CSV file.\")"
   ]
  },
  {
   "cell_type": "code",
   "execution_count": 29,
   "metadata": {},
   "outputs": [
    {
     "ename": "SyntaxError",
     "evalue": "invalid syntax (<ipython-input-29-2bdd43120e63>, line 7)",
     "output_type": "error",
     "traceback": [
      "\u001b[1;36m  File \u001b[1;32m\"<ipython-input-29-2bdd43120e63>\"\u001b[1;36m, line \u001b[1;32m7\u001b[0m\n\u001b[1;33m    w.writerow([\"   \",\"[Top Gun\", \"Risky Buginess\", \"Minority Report]\")\u001b[0m\n\u001b[1;37m                                                                      ^\u001b[0m\n\u001b[1;31mSyntaxError\u001b[0m\u001b[1;31m:\u001b[0m invalid syntax\n"
     ]
    }
   ],
   "source": [
    "import csv\n",
    "with open(\"20181216_chap09_file_ques.csv\",\"w\",newline='') as f:\n",
    "          w = csv.writer(f,delimiter=\",\")\n",
    "          w.writerow([\"1:\",\"Open something on your computer in Python and output the content.\"])\n",
    "          w.writerow([\"2: \",\"Let's write a program to ask something. Let's write the input answer to the file.\"])\n",
    "          w.writerow([\"3: \",\"Let's write the elements contained in the list list to CSV.The data is as follows.\"])\n",
    "          w.writerow([\"   \",\"[Top Gun\", \"Risky Buginess\", \"Minority Report]\")\n",
    "          w.writerow([\"   \",\"Each element of data will be one line of CSV, so that each element contained in that line is separated by a comma.\"])\n",
    "          w.writerow([\"4: \",\"Let's try Challenge 3 in Japanese in the same way. For example Top Gun, like Top Gun, replace it with Japanese and output it to a CSV file.\")"
   ]
  },
  {
   "cell_type": "code",
   "execution_count": 31,
   "metadata": {},
   "outputs": [
    {
     "ename": "SyntaxError",
     "evalue": "invalid syntax (<ipython-input-31-28a8ca4454ed>, line 7)",
     "output_type": "error",
     "traceback": [
      "\u001b[1;36m  File \u001b[1;32m\"<ipython-input-31-28a8ca4454ed>\"\u001b[1;36m, line \u001b[1;32m7\u001b[0m\n\u001b[1;33m    w.writerow([\"   \",\"[[[Top Gun\", \"Risky Buginess\", \"Minority Report]]]\")\u001b[0m\n\u001b[1;37m                                                                          ^\u001b[0m\n\u001b[1;31mSyntaxError\u001b[0m\u001b[1;31m:\u001b[0m invalid syntax\n"
     ]
    }
   ],
   "source": [
    "import csv\n",
    "with open(\"20181216_chap09_file_ques.csv\",\"w\",newline='') as f:\n",
    "          w = csv.writer(f,delimiter=\",\")\n",
    "          w.writerow([\"1:\",\"Open something on your computer in Python and output the content.\"])\n",
    "          w.writerow([\"2: \",\"Let's write a program to ask something. Let's write the input answer to the file.\"])\n",
    "          w.writerow([\"3: \",\"Let's write the elements contained in the list list to CSV.The data is as follows.\"])\n",
    "          w.writerow([\"   \",\"[[[Top Gun\", \"Risky Buginess\", \"Minority Report]]]\")\n",
    "          w.writerow([\"   \",\"Each element of data will be one line of CSV, so that each element contained in that line is separated by a comma.\"])\n",
    "          w.writerow([\"4: \",\"Let's try Challenge 3 in Japanese in the same way. For example Top Gun, like Top Gun, replace it with Japanese and output it to a CSV file.\")"
   ]
  },
  {
   "cell_type": "code",
   "execution_count": 32,
   "metadata": {},
   "outputs": [
    {
     "ename": "SyntaxError",
     "evalue": "invalid syntax (<ipython-input-32-23b8d55f052c>, line 1)",
     "output_type": "error",
     "traceback": [
      "\u001b[1;36m  File \u001b[1;32m\"<ipython-input-32-23b8d55f052c>\"\u001b[1;36m, line \u001b[1;32m1\u001b[0m\n\u001b[1;33m    Jupyter Notebook\u001b[0m\n\u001b[1;37m                   ^\u001b[0m\n\u001b[1;31mSyntaxError\u001b[0m\u001b[1;31m:\u001b[0m invalid syntax\n"
     ]
    }
   ],
   "source": [
    "Jupyter Notebook\n",
    "Untitled11\n",
    "Last Checkpoint: 3時間前\n",
    "(unsaved changes)\n",
    "Current Kernel Logo\n",
    "Python 3 \n",
    "File\n",
    "Edit\n",
    "View\n",
    "Insert\n",
    "Cell\n",
    "Kernel\n",
    "Widgets\n",
    "Help\n",
    "\n",
    "\n",
    "import os\n",
    "os.path.join(\"users\",\"bob\",\"st.txt\")\n",
    "'users\\\\bob\\\\st.txt'\n",
    "\n",
    "at = open(\"st.txt\",\"w\")\n",
    "st.write(\"Hi From Python!\")\n",
    "st.close()\n",
    "---------------------------------------------------------------------------\n",
    "NameError                                 Traceback (most recent call last)\n",
    "<ipython-input-2-27576f6c64e6> in <module>()\n",
    "      1 at = open(\"st.txt\",\"w\")\n",
    "----> 2 st.write(\"Hi From Python!\")\n",
    "      3 st.close()\n",
    "\n",
    "NameError: name 'st' is not defined\n",
    "\n",
    "\n",
    "utf=8\n",
    "at = open(\"st.txt\",\"w\",encoding=\"utf=8\")\n",
    "st.write(\"Hi From Python!\")\n",
    "st.close()\n",
    "---------------------------------------------------------------------------\n",
    "NameError                                 Traceback (most recent call last)\n",
    "<ipython-input-3-c778587ed2da> in <module>()\n",
    "      1 at = open(\"st.txt\",\"w\",encoding=\"utf=8\")\n",
    "----> 2 st.write(\"Hi From Python!\")\n",
    "      3 st.close()\n",
    "\n",
    "NameError: name 'st' is not defined\n",
    "\n",
    "\n",
    "s\n",
    "st = open(\"st.txt\",\"w\")\n",
    "st.write(\"Hi From Python!\")\n",
    "st.close()\n",
    "\n",
    "with open(\"st.txt\",\"w\") as f:\n",
    "         f.write(\"Hi form Python!\"\")\n",
    "  File \"<ipython-input-5-6dd222e8f015>\", line 2\n",
    "    f.write(\"Hi form Python!\"\")\n",
    "                               ^\n",
    "SyntaxError: EOL while scanning string literal\n",
    "\n",
    "\n",
    "\n",
    "with open(\"st.txt\",\"w\") as f:\n",
    "         f.write(\"Hi form Python!\")\n",
    "\n",
    "with open(\"st.txt\",\"r\") as f:\n",
    "    print(f.read())\n",
    "Hi form Python!\n",
    "\n",
    "with open(\"st.txt\",\"r\") as f:\n",
    "    print(f.read())\n",
    "Hi form Python!\n",
    "\n",
    "my_list = []\n",
    "with open(\"st.txt\",\"r\")as f:\n",
    "    my_list.append(f.read())\n",
    "print(my_list)\n",
    "['Hi form Python!']\n",
    "\n",
    "import csv\n",
    "with open(\"st.csv\",\"w\",newline=\")as f:\n",
    "          w = csv.writer(f,delimiter=\",\")\n",
    "          w.writerow([\"one\",\"two\",\"three\"])\n",
    "          w.writerow([\"four\",\"five\",\"six\"])\n",
    "  File \"<ipython-input-10-c3957def9609>\", line 2\n",
    "    with open(\"st.csv\",\"w\",newline=\")as f:\n",
    "                                          ^\n",
    "SyntaxError: EOL while scanning string literal\n",
    "\n",
    "\n",
    "\n",
    "import csv\n",
    "with open(\"st.csv\",\"w\",newline=\") as f:\n",
    "          w = csv.writer(f,delimiter=\",\")\n",
    "          w.writerow([\"one\",\"two\",\"three\"])\n",
    "          w.writerow([\"four\",\"five\",\"six\"])\n",
    "import csv\n",
    "with open(\"st.csv\",\"w\",newline=\") as f:\n",
    "          w = csv.writer(f,delimiter=\",\")\n",
    "          w.writerow([\"one\",\"two\",\"three\"])\n",
    "          w.writerow([\"four\",\"five\",\"six\"])\n",
    "  File \"<ipython-input-11-84177e6767bf>\", line 2\n",
    "    with open(\"st.csv\",\"w\",newline=\") as f:\n",
    "                                           ^\n",
    "SyntaxError: EOL while scanning string literal\n",
    "\n",
    "\n",
    "\n",
    "import csv\n",
    "with open(\"st.csv\",\"w\",newline='') as f:\n",
    "          w = csv.writer(f,delimiter=\",\")\n",
    "          w.writerow([\"one\",\"two\",\"three\"])\n",
    "          w.writerow([\"four\",\"five\",\"six\"])\n",
    "\n",
    "#The file to be opened here is created by executing the previous code example.\n",
    "\n",
    "import csv\n",
    "with open(\"st.csv\",\"r\")as f:\n",
    "    r = csv.reader (f, delimiter=\",\")\n",
    "    for woe in r:\n",
    "        print(\",\".join(row))\n",
    "#The file to be opened here is created by executing the previous code example.\n",
    "​\n",
    "import csv\n",
    "with open(\"st.csv\",\"r\")as f:\n",
    "    r = csv.reader (f, delimiter=\",\")\n",
    "    for woe in r:\n",
    "        print(\",\".join(row))\n",
    "---------------------------------------------------------------------------\n",
    "NameError                                 Traceback (most recent call last)\n",
    "<ipython-input-13-8d97198751d0> in <module>()\n",
    "      5     r = csv.reader (f, delimiter=\",\")\n",
    "      6     for woe in r:\n",
    "----> 7         print(\",\".join(row))\n",
    "\n",
    "NameError: name 'row' is not defined\n",
    "\n",
    "\n",
    "row\n",
    "#The file to be opened here is created by executing the previous code example.\n",
    "​\n",
    "import csv\n",
    "with open(\"st.csv\",\"r\")as f:\n",
    "    r = csv.reader (f, delimiter=\",\")\n",
    "    for row in r:\n",
    "        print(\",\".join(row))\n",
    "one,two,three\n",
    "four,five,six\n",
    "\n",
    "import csv\n",
    "with open(\"20181216_chap09_file.csv\",\"w\",newline=\") as f:\n",
    "          w = csv.writer(f,delimiter=\",\")\n",
    "          w.writerow([\"read:\",\"Extract contrnts of the file\"])\n",
    "          w.writerow([\"Writing: \",\"Add and change to the contents of the file\"])\n",
    "          w.writerow([\"With statement: \",\"One of compound statements. When the process exits the With block, it automatically executes the specified process\"])\n",
    "          w.writerow([\"File object: \",\"an object for reading and writing files\"])\n",
    "          w.writerow([\"CSV file: \",\"A file with the extension \"\".csv\"\". The content data is separated by commas \"\"CSV stands for Comma Spreated Values, abbreviation of values separated by commas\"\" Programs that handle spreadsheet \"\\'spreadsheet\\'\" such as Excel often use CSV files\"])\n",
    "          w.writerow([\"Delimiter: \",\"Delimiter, Delimiter things. Symbol used to delimit the data of the CSV file.\"])\n",
    "import csv\n",
    "with open(\"20181216_chap09_file.csv\",\"w\",newline=\") as f:\n",
    "          w = csv.writer(f,delimiter=\",\")\n",
    "          w.writerow([\"read:\",\"Extract contrnts of the file\"])\n",
    "          w.writerow([\"Writing: \",\"Add and change to the contents of the file\"])\n",
    "          w.writerow([\"With statement: \",\"One of compound statements. When the process exits the With block, it automatically executes the specified process\"])\n",
    "          w.writerow([\"File object: \",\"an object for reading and writing files\"])\n",
    "          w.writerow([\"CSV file: \",\"A file with the extension \"\".csv\"\". The content data is separated by commas \"\"CSV stands for Comma Spreated Values, abbreviation of values separated by commas\"\" Programs that handle spreadsheet \"\\'spreadsheet\\'\" such as Excel often use CSV files\"])\n",
    "          w.writerow([\"Delimiter: \",\"Delimiter, Delimiter things. Symbol used to delimit the data of the CSV file.\"])\n",
    "  File \"<ipython-input-15-2b8d6ba3d1e2>\", line 2\n",
    "    with open(\"20181216_chap09_file.csv\",\"w\",newline=\") as f:\n",
    "                                                             ^\n",
    "SyntaxError: EOL while scanning string literal\n",
    "\n",
    "\n",
    "\n",
    "import csv\n",
    "with open(\"20181216_chap09_file.csv\",\"w\",newline'') as f:\n",
    "          w = csv.writer(f,delimiter=\",\")\n",
    "          w.writerow([\"read:\",\"Extract contrnts of the file\"])\n",
    "          w.writerow([\"Writing: \",\"Add and change to the contents of the file\"])\n",
    "          w.writerow([\"With statement: \",\"One of compound statements. When the process exits the With block, it automatically executes the specified process\"])\n",
    "          w.writerow([\"File object: \",\"an object for reading and writing files\"])\n",
    "          w.writerow([\"CSV file: \",\"A file with the extension \"\".csv\"\". The content data is separated by commas \"\"CSV stands for Comma Spreated Values, abbreviation of values separated by commas\"\" Programs that handle spreadsheet \"\\'spreadsheet\\'\" such as Excel often use CSV files\"])\n",
    "          w.writerow([\"Delimiter: \",\"Delimiter, Delimiter things. Symbol used to delimit the data of the CSV file.\"])\n",
    "import csv\n",
    "with open(\"20181216_chap09_file.csv\",\"w\",newline'') as f:\n",
    "          w = csv.writer(f,delimiter=\",\")\n",
    "          w.writerow([\"read:\",\"Extract contrnts of the file\"])\n",
    "          w.writerow([\"Writing: \",\"Add and change to the contents of the file\"])\n",
    "          w.writerow([\"With statement: \",\"One of compound statements. When the process exits the With block, it automatically executes the specified process\"])\n",
    "          w.writerow([\"File object: \",\"an object for reading and writing files\"])\n",
    "          w.writerow([\"CSV file: \",\"A file with the extension \"\".csv\"\". The content data is separated by commas \"\"CSV stands for Comma Spreated Values, abbreviation of values separated by commas\"\" Programs that handle spreadsheet \"\\'spreadsheet\\'\" such as Excel often use CSV files\"])\n",
    "          w.writerow([\"Delimiter: \",\"Delimiter, Delimiter things. Symbol used to delimit the data of the CSV file.\"])\n",
    "  File \"<ipython-input-16-14b51ba838ba>\", line 2\n",
    "    with open(\"20181216_chap09_file.csv\",\"w\",newline'') as f:\n",
    "                                                     ^\n",
    "SyntaxError: invalid syntax\n",
    "\n",
    "\n",
    "\n",
    "import csv\n",
    "with open(\"20181216_chap09_file.csv\",\"w\",newline='') as f:\n",
    "          w = csv.writer(f,delimiter=\",\")\n",
    "          w.writerow([\"read:\",\"Extract contrnts of the file\"])\n",
    "          w.writerow([\"Writing: \",\"Add and change to the contents of the file\"])\n",
    "          w.writerow([\"With statement: \",\"One of compound statements. When the process exits the With block, it automatically executes the specified process\"])\n",
    "          w.writerow([\"File object: \",\"an object for reading and writing files\"])\n",
    "          w.writerow([\"CSV file: \",\"A file with the extension \"\".csv\"\". The content data is separated by commas \"\"CSV stands for Comma Spreated Values, abbreviation of values separated by commas\"\" Programs that handle spreadsheet \"\\'spreadsheet\\'\" such as Excel often use CSV files\"])\n",
    "          w.writerow([\"Delimiter: \",\"Delimiter, Delimiter things. Symbol used to delimit the data of the CSV file.\"])\n",
    "  File \"<ipython-input-17-58a6ba700e9c>\", line 8\n",
    "    w.writerow([\"CSV file: \",\"A file with the extension \"\".csv\"\". The content data is separated by commas \"\"CSV stands for Comma Spreated Values, abbreviation of values separated by commas\"\" Programs that handle spreadsheet \"\\'spreadsheet\\'\" such as Excel often use CSV files\"])\n",
    "                                                                                                                                                                                                                                                                                      ^\n",
    "SyntaxError: unexpected character after line continuation character\n",
    "\n",
    "\n",
    "\n",
    "import csv\n",
    "with open(\"20181216_chap09_file_ques.csv\",\"w\",newline='') as f:\n",
    "          w = csv.writer(f,delimiter=\",\")\n",
    "          w.writerow([\"1:\",\"Open something on your computer in Python and output the content.\"])\n",
    "          w.writerow([\"2: \",\"Let's write a program to ask something. Let's write the input answer to the file.\"])\n",
    "          w.writerow([\"3: \",\"Let's write the elements contained in the list list to CSV.The data is as follows.\"[\"Top Gun\", \"Risky Buginess\", \"Minority Report\"], [\"Titanic\", \"The Revenant\", \"Inspection\"], [\"Training Day\", \"Man of Fire\", \"Flight\"]\"Each element of data will be one line of CSV, so that each element contained in that line is separated by a comma.\"]\")\n",
    "          w.writerow([\"4: \",\"Let's try Challenge 3 in Japanese in the same way. For example Top Gun, like Top Gun, replace it with Japanese and output it to a CSV file.\")\n",
    "import csv\n",
    "with open(\"20181216_chap09_file_ques.csv\",\"w\",newline='') as f:\n",
    "          w = csv.writer(f,delimiter=\",\")\n",
    "          w.writerow([\"1:\",\"Open something on your computer in Python and output the content.\"])\n",
    "          w.writerow([\"2: \",\"Let's write a program to ask something. Let's write the input answer to the file.\"])\n",
    "          w.writerow([\"3: \",\"Let's write the elements contained in the list list to CSV.The data is as follows.\"[\"Top Gun\", \"Risky Buginess\", \"Minority Report\"], [\"Titanic\", \"The Revenant\", \"Inspection\"], [\"Training Day\", \"Man of Fire\", \"Flight\"]\"Each element of data will be one line of CSV, so that each element contained in that line is separated by a comma.\"]\")\n",
    "          w.writerow([\"4: \",\"Let's try Challenge 3 in Japanese in the same way. For example Top Gun, like Top Gun, replace it with Japanese and output it to a CSV file.\")\n",
    "\n",
    "import csv\n",
    "with open(\"20181216_chap09_file.csv\",\"w\",newline='') as f:\n",
    "          w = csv.writer(f,delimiter=\",\")\n",
    "          w.writerow([\"read:\",\"Extract contrnts of the file\"])\n",
    "          w.writerow([\"Writing: \",\"Add and change to the contents of the file\"])\n",
    "          w.writerow([\"With statement: \",\"One of compound statements. \\nWhen the process exits the With block, it automatically executes the specified process\"])\n",
    "          w.writerow([\"File object: \",\"an object for reading and writing files\"])\n",
    "          w.writerow([\"CSV file: \",\"A file with the extension \"\".csv\"\". The content data is separated by commas (CSV stands for Comma Spreated Values, abbreviation of values separated by commas) Programs that handle spreadsheet \"\"spreadsheet\"\"such as Excel often use CSV files\"])\n",
    "          w.writerow([\"Delimiter: \",\"Delimiter, Delimiter things. Symbol used to delimit the data of the CSV file.\"])\n",
    "\n",
    "import csv\n",
    "with open(\"20181216_chap09_file_ques.csv\",\"w\",newline='') as f:\n",
    "          w = csv.writer(f,delimiter=\",\")\n",
    "          w.writerow([\"1:\",\"Open something on your computer in Python and output the content.\"])\n",
    "          w.writerow([\"2: \",\"Let's write a program to ask something. Let's write the input answer to the file.\"])\n",
    "          w.writerow([\"3: \",\"Let's write the elements contained in the list list to CSV.The data is as follows.\"[\"Top Gun\", \"Risky Buginess\", \"Minority Report\"], [\"Titanic\", \"The Revenant\", \"Inspection\"], [\"Training Day\", \"Man of Fire\", \"Flight\"]\"Each element of data will be one line of CSV, so that each element contained in that line is separated by a comma.\"]\")\n",
    "          w.writerow([\"4: \",\"Let's try Challenge 3 in Japanese in the same way. For example Top Gun, like Top Gun, replace it with Japanese and output it to a CSV file.\")\n",
    "  File \"<ipython-input-21-97f948feaea8>\", line 6\n",
    "    w.writerow([\"3: \",\"Let's write the elements contained in the list list to CSV.The data is as follows.\"[\"Top Gun\", \"Risky Buginess\", \"Minority Report\"], [\"Titanic\", \"The Revenant\", \"Inspection\"], [\"Training Day\", \"Man of Fire\", \"Flight\"]\"Each element of data will be one line of CSV, so that each element contained in that line is separated by a comma.\"]\")\n",
    "                                                                                                                                                                                                                                                                                                                                                                   ^\n",
    "SyntaxError: invalid syntax\n",
    "\n",
    "\n",
    "\n",
    "import csv\n",
    "with open(\"20181216_chap09_file_ques.csv\",\"w\",newline='') as f:\n",
    "          w = csv.writer(f,delimiter=\",\")\n",
    "          w.writerow([\"1:\",\"Open something on your computer in Python and output the content.\"])\n",
    "          w.writerow([\"2: \",\"Let's write a program to ask something. Let's write the input answer to the file.\"])\n",
    "          w.writerow([\"3: \",\"Let's write the elements contained in the list list to CSV.The data is as follows.\"\"[Top Gun\", \"Risky Buginess\", \"Minority Report]\"\", \"[\"Titanic\", \"The Revenant\", \"Inspection\"]\", \"[\"Training Day\", \"Man of Fire\", \"Flight\"]\"Each element of data will be one line of CSV, so that each element contained in that line is separated by a comma.]\")\n",
    "          w.writerow([\"4: \",\"Let's try Challenge 3 in Japanese in the same way. For example Top Gun, like Top Gun, replace it with Japanese and output it to a CSV file.\")\n",
    "import csv\n",
    "with open(\"20181216_chap09_file_ques.csv\",\"w\",newline='') as f:\n",
    "          w = csv.writer(f,delimiter=\",\")\n",
    "          w.writerow([\"1:\",\"Open something on your computer in Python and output the content.\"])\n",
    "          w.writerow([\"2: \",\"Let's write a program to ask something. Let's write the input answer to the file.\"])\n",
    "          w.writerow([\"3: \",\"Let's write the elements contained in the list list to CSV.The data is as follows.\"\"[Top Gun\", \"Risky Buginess\", \"Minority Report]\"\", \"[\"Titanic\", \"The Revenant\", \"Inspection\"]\", \"[\"Training Day\", \"Man of Fire\", \"Flight\"]\"Each element of data will be one line of CSV, so that each element contained in that line is separated by a comma.]\")\n",
    "          w.writerow([\"4: \",\"Let's try Challenge 3 in Japanese in the same way. For example Top Gun, like Top Gun, replace it with Japanese and output it to a CSV file.\")\n",
    "  File \"<ipython-input-23-372e7017dd7c>\", line 6\n",
    "    w.writerow([\"3: \",\"Let's write the elements contained in the list list to CSV.The data is as follows.\"\"[Top Gun\", \"Risky Buginess\", \"Minority Report]\"\", \"[\"Titanic\", \"The Revenant\", \"Inspection\"]\", \"[\"Training Day\", \"Man of Fire\", \"Flight\"]\"Each element of data will be one line of CSV, so that each element contained in that line is separated by a comma.]\")\n",
    "                                                                                                                                                                                                          ^\n",
    "SyntaxError: invalid syntax\n",
    "\n",
    "\n",
    "\n",
    "import csv\n",
    "with open(\"20181216_chap09_file_ques.csv\",\"w\",newline='') as f:\n",
    "          w = csv.writer(f,delimiter=\",\")\n",
    "          w.writerow([\"1:\",\"Open something on your computer in Python and output the content.\"])\n",
    "          w.writerow([\"2: \",\"Let's write a program to ask something. Let's write the input answer to the file.\"])\n",
    "          w.writerow([\"3: \",\"Let's write the elements contained in the list list to CSV.The data is as follows.\")\n",
    "          w.writerow([\"   \",\"[Top Gun\", \"Risky Buginess\", \"Minority Report]\"\", \"[\"Titanic\", \"The Revenant\", \"Inspection\"]\", \"[\"Training Day\", \"Man of Fire\", \"Flight\"]\")\n",
    "          w.writerow([\"   \",\"Each element of data will be one line of CSV, so that each element contained in that line is separated by a comma.\")\n",
    "          w.writerow([\"4: \",\"Let's try Challenge 3 in Japanese in the same way. For example Top Gun, like Top Gun, replace it with Japanese and output it to a CSV file.\")\n",
    "import csv\n",
    "with open(\"20181216_chap09_file_ques.csv\",\"w\",newline='') as f:\n",
    "          w = csv.writer(f,delimiter=\",\")\n",
    "          w.writerow([\"1:\",\"Open something on your computer in Python and output the content.\"])\n",
    "          w.writerow([\"2: \",\"Let's write a program to ask something. Let's write the input answer to the file.\"])\n",
    "          w.writerow([\"3: \",\"Let's write the elements contained in the list list to CSV.The data is as follows.\")\n",
    "          w.writerow([\"   \",\"[Top Gun\", \"Risky Buginess\", \"Minority Report]\"\", \"[\"Titanic\", \"The Revenant\", \"Inspection\"]\", \"[\"Training Day\", \"Man of Fire\", \"Flight\"]\")\n",
    "          w.writerow([\"   \",\"Each element of data will be one line of CSV, so that each element contained in that line is separated by a comma.\")\n",
    "          w.writerow([\"4: \",\"Let's try Challenge 3 in Japanese in the same way. For example Top Gun, like Top Gun, replace it with Japanese and output it to a CSV file.\")\n",
    "  File \"<ipython-input-24-bdb66d596592>\", line 6\n",
    "    w.writerow([\"3: \",\"Let's write the elements contained in the list list to CSV.The data is as follows.\")\n",
    "                                                                                                          ^\n",
    "SyntaxError: invalid syntax\n",
    "\n",
    "\n",
    "\n",
    "import csv\n",
    "with open(\"20181216_chap09_file_ques.csv\",\"w\",newline='') as f:\n",
    "          w = csv.writer(f,delimiter=\",\")\n",
    "          w.writerow([\"1:\",\"Open something on your computer in Python and output the content.\"])\n",
    "          w.writerow([\"2: \",\"Let's write a program to ask something. Let's write the input answer to the file.\"])\n",
    "          w.writerow([\"3: \",\"Let's write the elements contained in the list list to CSV.The data is as follows.\"])\n",
    "          w.writerow([\"   \",\"[Top Gun\", \"Risky Buginess\", \"Minority Report]\"\", \"[\"Titanic\", \"The Revenant\", \"Inspection\"]\", \"[\"Training Day\", \"Man of Fire\", \"Flight\"])\n",
    "          w.writerow([\"   \",\"Each element of data will be one line of CSV, so that each element contained in that line is separated by a comma.\"])\n",
    "          w.writerow([\"4: \",\"Let's try Challenge 3 in Japanese in the same way. For example Top Gun, like Top Gun, replace it with Japanese and output it to a CSV file.\")\n",
    "import csv\n",
    "with open(\"20181216_chap09_file_ques.csv\",\"w\",newline='') as f:\n",
    "          w = csv.writer(f,delimiter=\",\")\n",
    "          w.writerow([\"1:\",\"Open something on your computer in Python and output the content.\"])\n",
    "          w.writerow([\"2: \",\"Let's write a program to ask something. Let's write the input answer to the file.\"])\n",
    "          w.writerow([\"3: \",\"Let's write the elements contained in the list list to CSV.The data is as follows.\"])\n",
    "          w.writerow([\"   \",\"[Top Gun\", \"Risky Buginess\", \"Minority Report]\"\", \"[\"Titanic\", \"The Revenant\", \"Inspection\"]\", \"[\"Training Day\", \"Man of Fire\", \"Flight\"])\n",
    "          w.writerow([\"   \",\"Each element of data will be one line of CSV, so that each element contained in that line is separated by a comma.\"])\n",
    "          w.writerow([\"4: \",\"Let's try Challenge 3 in Japanese in the same way. For example Top Gun, like Top Gun, replace it with Japanese and output it to a CSV file.\")\n",
    "  File \"<ipython-input-25-b506cbb99755>\", line 7\n",
    "    w.writerow([\"   \",\"[Top Gun\", \"Risky Buginess\", \"Minority Report]\"\", \"[\"Titanic\", \"The Revenant\", \"Inspection\"]\", \"[\"Training Day\", \"Man of Fire\", \"Flight\"])\n",
    "                                                                                                                      ^\n",
    "SyntaxError: invalid syntax\n",
    "\n",
    "\n",
    "\n",
    "import csv\n",
    "with open(\"20181216_chap09_file_ques.csv\",\"w\",newline='') as f:\n",
    "          w = csv.writer(f,delimiter=\",\")\n",
    "          w.writerow([\"1:\",\"Open something on your computer in Python and output the content.\"])\n",
    "          w.writerow([\"2: \",\"Let's write a program to ask something. Let's write the input answer to the file.\"])\n",
    "          w.writerow([\"3: \",\"Let's write the elements contained in the list list to CSV.The data is as follows.\"])\n",
    "          w.writerow([\"   \",\"\\[Top Gun\", \"Risky Buginess\", \"Minority Report\\], \"\\[\"Titanic\", \"The Revenant\", \"Inspection\"\\]\", \"\\[\"Training Day\", \"Man of Fire\", \"Flight\"\\]])\n",
    "          w.writerow([\"   \",\"Each element of data will be one line of CSV, so that each element contained in that line is separated by a comma.\"])\n",
    "          w.writerow([\"4: \",\"Let's try Challenge 3 in Japanese in the same way. For example Top Gun, like Top Gun, replace it with Japanese and output it to a CSV file.\")\n",
    "  File \"<ipython-input-26-e5329c8bacf9>\", line 7\n",
    "    w.writerow([\"   \",\"\\[Top Gun\", \"Risky Buginess\", \"Minority Report\\], \"\\[\"Titanic\", \"The Revenant\", \"Inspection\"\\]\", \"\\[\"Training Day\", \"Man of Fire\", \"Flight\"\\]])\n",
    "                                                                                                                                                                      ^\n",
    "SyntaxError: unexpected character after line continuation character\n",
    "\n",
    "\n",
    "\n",
    "import csv\n",
    "with open(\"20181216_chap09_file_ques.csv\",\"w\",newline='') as f:\n",
    "          w = csv.writer(f,delimiter=\",\")\n",
    "          w.writerow([\"1:\",\"Open something on your computer in Python and output the content.\"])\n",
    "          w.writerow([\"2: \",\"Let's write a program to ask something. Let's write the input answer to the file.\"])\n",
    "          w.writerow([\"3: \",\"Let's write the elements contained in the list list to CSV.The data is as follows.\"])\n",
    "          w.writerow([\"   \",\"\\[Top Gun\", \"Risky Buginess\", \"Minority Report\\]\"])\n",
    "          w.writerow([\"   \",\"Each element of data will be one line of CSV, so that each element contained in that line is separated by a comma.\"])\n",
    "          w.writerow([\"4: \",\"Let's try Challenge 3 in Japanese in the same way. For example Top Gun, like Top Gun, replace it with Japanese and output it to a CSV file.\")\n",
    "import csv\n",
    "with open(\"20181216_chap09_file_ques.csv\",\"w\",newline='') as f:\n",
    "          w = csv.writer(f,delimiter=\",\")\n",
    "          w.writerow([\"1:\",\"Open something on your computer in Python and output the content.\"])\n",
    "          w.writerow([\"2: \",\"Let's write a program to ask something. Let's write the input answer to the file.\"])\n",
    "          w.writerow([\"3: \",\"Let's write the elements contained in the list list to CSV.The data is as follows.\"])\n",
    "          w.writerow([\"   \",\"\\[Top Gun\", \"Risky Buginess\", \"Minority Report\\]\"])\n",
    "          w.writerow([\"   \",\"Each element of data will be one line of CSV, so that each element contained in that line is separated by a comma.\"])\n",
    "          w.writerow([\"4: \",\"Let's try Challenge 3 in Japanese in the same way. For example Top Gun, like Top Gun, replace it with Japanese and output it to a CSV file.\")\n",
    "  File \"<ipython-input-28-24c3eb38e52f>\", line 9\n",
    "    w.writerow([\"4: \",\"Let's try Challenge 3 in Japanese in the same way. For example Top Gun, like Top Gun, replace it with Japanese and output it to a CSV file.\")\n",
    "                                                                                                                                                                   ^\n",
    "SyntaxError: invalid syntax\n",
    "\n",
    "\n",
    "\n",
    "import csv\n",
    "with open(\"20181216_chap09_file_ques.csv\",\"w\",newline='') as f:\n",
    "          w = csv.writer(f,delimiter=\",\")\n",
    "          w.writerow([\"1:\",\"Open something on your computer in Python and output the content.\"])\n",
    "          w.writerow([\"2: \",\"Let's write a program to ask something. Let's write the input answer to the file.\"])\n",
    "          w.writerow([\"3: \",\"Let's write the elements contained in the list list to CSV.The data is as follows.\"])\n",
    "          w.writerow([\"   \",\"[Top Gun\", \"Risky Buginess\", \"Minority Report]\")\n",
    "          w.writerow([\"   \",\"Each element of data will be one line of CSV, so that each element contained in that line is separated by a comma.\"])\n",
    "          w.writerow([\"4: \",\"Let's try Challenge 3 in Japanese in the same way. For example Top Gun, like Top Gun, replace it with Japanese and output it to a CSV file.\")\n",
    "import csv\n",
    "with open(\"20181216_chap09_file_ques.csv\",\"w\",newline='') as f:\n",
    "          w = csv.writer(f,delimiter=\",\")\n",
    "          w.writerow([\"1:\",\"Open something on your computer in Python and output the content.\"])\n",
    "          w.writerow([\"2: \",\"Let's write a program to ask something. Let's write the input answer to the file.\"])\n",
    "          w.writerow([\"3: \",\"Let's write the elements contained in the list list to CSV.The data is as follows.\"])\n",
    "          w.writerow([\"   \",\"[Top Gun\", \"Risky Buginess\", \"Minority Report]\")\n",
    "          w.writerow([\"   \",\"Each element of data will be one line of CSV, so that each element contained in that line is separated by a comma.\"])\n",
    "          w.writerow([\"4: \",\"Let's try Challenge 3 in Japanese in the same way. For example Top Gun, like Top Gun, replace it with Japanese and output it to a CSV file.\")\n",
    "  File \"<ipython-input-29-2bdd43120e63>\", line 7\n",
    "    w.writerow([\"   \",\"[Top Gun\", \"Risky Buginess\", \"Minority Report]\")\n",
    "                                                                      ^\n",
    "SyntaxError: invalid syntax\n",
    "\n",
    "\n",
    "\n",
    "]\n"
   ]
  },
  {
   "cell_type": "code",
   "execution_count": 33,
   "metadata": {},
   "outputs": [
    {
     "ename": "SyntaxError",
     "evalue": "invalid syntax (<ipython-input-33-2e82fade22ad>, line 7)",
     "output_type": "error",
     "traceback": [
      "\u001b[1;36m  File \u001b[1;32m\"<ipython-input-33-2e82fade22ad>\"\u001b[1;36m, line \u001b[1;32m7\u001b[0m\n\u001b[1;33m    w.writerow([\"   \",\"\\[Top Gun\", \"Risky Buginess\", \"Minority Report\\]\")\u001b[0m\n\u001b[1;37m                                                                        ^\u001b[0m\n\u001b[1;31mSyntaxError\u001b[0m\u001b[1;31m:\u001b[0m invalid syntax\n"
     ]
    }
   ],
   "source": [
    "import csv\n",
    "with open(\"20181216_chap09_file_ques.csv\",\"w\",newline='') as f:\n",
    "          w = csv.writer(f,delimiter=\",\")\n",
    "          w.writerow([\"1:\",\"Open something on your computer in Python and output the content.\"])\n",
    "          w.writerow([\"2: \",\"Let's write a program to ask something. Let's write the input answer to the file.\"])\n",
    "          w.writerow([\"3: \",\"Let's write the elements contained in the list list to CSV.The data is as follows.\"])\n",
    "          w.writerow([\"   \",\"\\[Top Gun\", \"Risky Buginess\", \"Minority Report\\]\")\n",
    "          w.writerow([\"   \",\"Each element of data will be one line of CSV, so that each element contained in that line is separated by a comma.\"])\n",
    "          w.writerow([\"4: \",\"Let's try Challenge 3 in Japanese in the same way. For example Top Gun, like Top Gun, replace it with Japanese and output it to a CSV file.\")"
   ]
  },
  {
   "cell_type": "code",
   "execution_count": 35,
   "metadata": {},
   "outputs": [
    {
     "ename": "SyntaxError",
     "evalue": "EOF while scanning triple-quoted string literal (<ipython-input-35-e5292cb89a8a>, line 9)",
     "output_type": "error",
     "traceback": [
      "\u001b[1;36m  File \u001b[1;32m\"<ipython-input-35-e5292cb89a8a>\"\u001b[1;36m, line \u001b[1;32m9\u001b[0m\n\u001b[1;33m    w.writerow([\"4: \",\"Let's try Challenge 3 in Japanese in the same way. For example Top Gun, like Top Gun, replace it with Japanese and output it to a CSV file.\"])\u001b[0m\n\u001b[1;37m                                                                                                                                                                     \n^\u001b[0m\n\u001b[1;31mSyntaxError\u001b[0m\u001b[1;31m:\u001b[0m EOF while scanning triple-quoted string literal\n"
     ]
    }
   ],
   "source": [
    "import csv\n",
    "with open(\"20181216_chap09_file_ques.csv\",\"w\",newline='') as f:\n",
    "          w = csv.writer(f,delimiter=\",\")\n",
    "          w.writerow([\"1:\",\"Open something on your computer in Python and output the content.\"])\n",
    "          w.writerow([\"2: \",\"Let's write a program to ask something. Let's write the input answer to the file.\"])\n",
    "          w.writerow([\"3: \",\"Let's write the elements contained in the list list to CSV.The data is as follows.\"])\n",
    "          w.writerow([\"   \",\"\"\"\"Top Gun\", \"Risky Buginess\", \"Minority Report\"\")\n",
    "          w.writerow([\"   \",\"Each element of data will be one line of CSV, so that each element contained in that line is separated by a comma.\"])\n",
    "          w.writerow([\"4: \",\"Let's try Challenge 3 in Japanese in the same way. For example Top Gun, like Top Gun, replace it with Japanese and output it to a CSV file.\"])"
   ]
  },
  {
   "cell_type": "code",
   "execution_count": 36,
   "metadata": {},
   "outputs": [
    {
     "ename": "SyntaxError",
     "evalue": "EOF while scanning triple-quoted string literal (<ipython-input-36-e5292cb89a8a>, line 9)",
     "output_type": "error",
     "traceback": [
      "\u001b[1;36m  File \u001b[1;32m\"<ipython-input-36-e5292cb89a8a>\"\u001b[1;36m, line \u001b[1;32m9\u001b[0m\n\u001b[1;33m    w.writerow([\"4: \",\"Let's try Challenge 3 in Japanese in the same way. For example Top Gun, like Top Gun, replace it with Japanese and output it to a CSV file.\"])\u001b[0m\n\u001b[1;37m                                                                                                                                                                     \n^\u001b[0m\n\u001b[1;31mSyntaxError\u001b[0m\u001b[1;31m:\u001b[0m EOF while scanning triple-quoted string literal\n"
     ]
    }
   ],
   "source": [
    "import csv\n",
    "with open(\"20181216_chap09_file_ques.csv\",\"w\",newline='') as f:\n",
    "          w = csv.writer(f,delimiter=\",\")\n",
    "          w.writerow([\"1:\",\"Open something on your computer in Python and output the content.\"])\n",
    "          w.writerow([\"2: \",\"Let's write a program to ask something. Let's write the input answer to the file.\"])\n",
    "          w.writerow([\"3: \",\"Let's write the elements contained in the list list to CSV.The data is as follows.\"])\n",
    "          w.writerow([\"   \",\"Top Gun\", \"Risky Buginess\", \"Minority Report\"\")\n",
    "          w.writerow([\"   \",\"Each element of data will be one line of CSV, so that each element contained in that line is separated by a comma.\"])\n",
    "          w.writerow([\"4: \",\"Let's try Challenge 3 in Japanese in the same way. For example Top Gun, like Top Gun, replace it with Japanese and output it to a CSV file.\"])"
   ]
  },
  {
   "cell_type": "code",
   "execution_count": 37,
   "metadata": {},
   "outputs": [
    {
     "ename": "SyntaxError",
     "evalue": "EOL while scanning string literal (<ipython-input-37-ddbaa9816ecf>, line 7)",
     "output_type": "error",
     "traceback": [
      "\u001b[1;36m  File \u001b[1;32m\"<ipython-input-37-ddbaa9816ecf>\"\u001b[1;36m, line \u001b[1;32m7\u001b[0m\n\u001b[1;33m    w.writerow([\"   \",\"Top Gun\", \"Risky Buginess\", \"Minority Report\"\")\u001b[0m\n\u001b[1;37m                                                                      ^\u001b[0m\n\u001b[1;31mSyntaxError\u001b[0m\u001b[1;31m:\u001b[0m EOL while scanning string literal\n"
     ]
    }
   ],
   "source": [
    "import csv\n",
    "with open(\"20181216_chap09_file_ques.csv\",\"w\",newline='') as f:\n",
    "          w = csv.writer(f,delimiter=\",\")\n",
    "          w.writerow([\"1:\",\"Open something on your computer in Python and output the content.\"])\n",
    "          w.writerow([\"2: \",\"Let's write a program to ask something. Let's write the input answer to the file.\"])\n",
    "          w.writerow([\"3: \",\"Let's write the elements contained in the list list to CSV.The data is as follows.\"])\n",
    "          w.writerow([\"   \",\"Top Gun\", \"Risky Buginess\", \"Minority Report\"\")\n",
    "          w.writerow([\"   \",\"Each element of data will be one line of CSV, so that each element contained in that line is separated by a comma.\"])\n",
    "          w.writerow([\"4: \",\"Let's try Challenge 3 in Japanese in the same way. For example Top Gun, like Top Gun, replace it with Japanese and output it to a CSV file.\"])"
   ]
  },
  {
   "cell_type": "code",
   "execution_count": 38,
   "metadata": {},
   "outputs": [
    {
     "ename": "SyntaxError",
     "evalue": "invalid syntax (<ipython-input-38-df3cdfd7e715>, line 7)",
     "output_type": "error",
     "traceback": [
      "\u001b[1;36m  File \u001b[1;32m\"<ipython-input-38-df3cdfd7e715>\"\u001b[1;36m, line \u001b[1;32m7\u001b[0m\n\u001b[1;33m    w.writerow([\"   \",\"\"Top Gun\", \"Risky Buginess\", \"Minority Report\"])\u001b[0m\n\u001b[1;37m                          ^\u001b[0m\n\u001b[1;31mSyntaxError\u001b[0m\u001b[1;31m:\u001b[0m invalid syntax\n"
     ]
    }
   ],
   "source": [
    "import csv\n",
    "with open(\"20181216_chap09_file_ques.csv\",\"w\",newline='') as f:\n",
    "          w = csv.writer(f,delimiter=\",\")\n",
    "          w.writerow([\"1:\",\"Open something on your computer in Python and output the content.\"])\n",
    "          w.writerow([\"2: \",\"Let's write a program to ask something. Let's write the input answer to the file.\"])\n",
    "          w.writerow([\"3: \",\"Let's write the elements contained in the list list to CSV.The data is as follows.\"])\n",
    "          w.writerow([\"   \",\"\"Top Gun\", \"Risky Buginess\", \"Minority Report\"])\n",
    "          w.writerow([\"   \",\"Each element of data will be one line of CSV, so that each element contained in that line is separated by a comma.\"])\n",
    "          w.writerow([\"4: \",\"Let's try Challenge 3 in Japanese in the same way. For example Top Gun, like Top Gun, replace it with Japanese and output it to a CSV file.\"])"
   ]
  },
  {
   "cell_type": "code",
   "execution_count": 39,
   "metadata": {},
   "outputs": [
    {
     "ename": "SyntaxError",
     "evalue": "EOF while scanning triple-quoted string literal (<ipython-input-39-f30b741adc1c>, line 9)",
     "output_type": "error",
     "traceback": [
      "\u001b[1;36m  File \u001b[1;32m\"<ipython-input-39-f30b741adc1c>\"\u001b[1;36m, line \u001b[1;32m9\u001b[0m\n\u001b[1;33m    w.writerow([\"4: \",\"Let's try Challenge 3 in Japanese in the same way. For example Top Gun, like Top Gun, replace it with Japanese and output it to a CSV file.\"])\u001b[0m\n\u001b[1;37m                                                                                                                                                                     \n^\u001b[0m\n\u001b[1;31mSyntaxError\u001b[0m\u001b[1;31m:\u001b[0m EOF while scanning triple-quoted string literal\n"
     ]
    }
   ],
   "source": [
    "import csv\n",
    "with open(\"20181216_chap09_file_ques.csv\",\"w\",newline='') as f:\n",
    "          w = csv.writer(f,delimiter=\",\")\n",
    "          w.writerow([\"1:\",\"Open something on your computer in Python and output the content.\"])\n",
    "          w.writerow([\"2: \",\"Let's write a program to ask something. Let's write the input answer to the file.\"])\n",
    "          w.writerow([\"3: \",\"Let's write the elements contained in the list list to CSV.The data is as follows.\"])\n",
    "          w.writerow([\"   \",\"\"\"Top Gun\", \"Risky Buginess\", \"Minority Report\"])\n",
    "          w.writerow([\"   \",\"Each element of data will be one line of CSV, so that each element contained in that line is separated by a comma.\"])\n",
    "          w.writerow([\"4: \",\"Let's try Challenge 3 in Japanese in the same way. For example Top Gun, like Top Gun, replace it with Japanese and output it to a CSV file.\"])"
   ]
  },
  {
   "cell_type": "code",
   "execution_count": 40,
   "metadata": {},
   "outputs": [
    {
     "ename": "SyntaxError",
     "evalue": "unexpected character after line continuation character (<ipython-input-40-e0720aa58b24>, line 7)",
     "output_type": "error",
     "traceback": [
      "\u001b[1;36m  File \u001b[1;32m\"<ipython-input-40-e0720aa58b24>\"\u001b[1;36m, line \u001b[1;32m7\u001b[0m\n\u001b[1;33m    w.writerow([\"   \",\\\"Top Gun\", \"Risky Buginess\", \"Minority Report\\\"])\u001b[0m\n\u001b[1;37m                                                                        ^\u001b[0m\n\u001b[1;31mSyntaxError\u001b[0m\u001b[1;31m:\u001b[0m unexpected character after line continuation character\n"
     ]
    }
   ],
   "source": [
    "import csv\n",
    "with open(\"20181216_chap09_file_ques.csv\",\"w\",newline='') as f:\n",
    "          w = csv.writer(f,delimiter=\",\")\n",
    "          w.writerow([\"1:\",\"Open something on your computer in Python and output the content.\"])\n",
    "          w.writerow([\"2: \",\"Let's write a program to ask something. Let's write the input answer to the file.\"])\n",
    "          w.writerow([\"3: \",\"Let's write the elements contained in the list list to CSV.The data is as follows.\"])\n",
    "          w.writerow([\"   \",\\\"Top Gun\", \"Risky Buginess\", \"Minority Report\\\"])\n",
    "          w.writerow([\"   \",\"Each element of data will be one line of CSV, so that each element contained in that line is separated by a comma.\"])\n",
    "          w.writerow([\"4: \",\"Let's try Challenge 3 in Japanese in the same way. For example Top Gun, like Top Gun, replace it with Japanese and output it to a CSV file.\"])"
   ]
  },
  {
   "cell_type": "code",
   "execution_count": 41,
   "metadata": {},
   "outputs": [
    {
     "ename": "SyntaxError",
     "evalue": "EOL while scanning string literal (<ipython-input-41-ae3859e8dce0>, line 7)",
     "output_type": "error",
     "traceback": [
      "\u001b[1;36m  File \u001b[1;32m\"<ipython-input-41-ae3859e8dce0>\"\u001b[1;36m, line \u001b[1;32m7\u001b[0m\n\u001b[1;33m    w.writerow([\"   \",\"\\Top Gun\", \"Risky Buginess\", \"Minority Report\\\"])\u001b[0m\n\u001b[1;37m                                                                        ^\u001b[0m\n\u001b[1;31mSyntaxError\u001b[0m\u001b[1;31m:\u001b[0m EOL while scanning string literal\n"
     ]
    }
   ],
   "source": [
    "import csv\n",
    "with open(\"20181216_chap09_file_ques.csv\",\"w\",newline='') as f:\n",
    "          w = csv.writer(f,delimiter=\",\")\n",
    "          w.writerow([\"1:\",\"Open something on your computer in Python and output the content.\"])\n",
    "          w.writerow([\"2: \",\"Let's write a program to ask something. Let's write the input answer to the file.\"])\n",
    "          w.writerow([\"3: \",\"Let's write the elements contained in the list list to CSV.The data is as follows.\"])\n",
    "          w.writerow([\"   \",\"\\Top Gun\", \"Risky Buginess\", \"Minority Report\\\"])\n",
    "          w.writerow([\"   \",\"Each element of data will be one line of CSV, so that each element contained in that line is separated by a comma.\"])\n",
    "          w.writerow([\"4: \",\"Let's try Challenge 3 in Japanese in the same way. For example Top Gun, like Top Gun, replace it with Japanese and output it to a CSV file.\"])"
   ]
  },
  {
   "cell_type": "code",
   "execution_count": 43,
   "metadata": {},
   "outputs": [],
   "source": [
    "import csv\n",
    "with open(\"20181216_chap09_file_ques.csv\",\"w\",newline='') as f:\n",
    "          w = csv.writer(f,delimiter=\",\")\n",
    "          w.writerow([\"1:\",\"Open something on your computer in Python and output the content.\"])\n",
    "          w.writerow([\"2: \",\"Let's write a program to ask something. Let's write the input answer to the file.\"])\n",
    "          w.writerow([\"3: \",\"Let's write the elements contained in the list list to CSV.The data is as follows.\"])\n",
    "          w.writerow([\"   \",\"\\\"Top Gun, Risky Buginess, Minority Report\"])\n",
    "          w.writerow([\"   \",\"Each element of data will be one line of CSV, so that each element contained in that line is separated by a comma.\"])\n",
    "          w.writerow([\"4: \",\"Let's try Challenge 3 in Japanese in the same way. For example Top Gun, like Top Gun, replace it with Japanese and output it to a CSV file.\"])"
   ]
  },
  {
   "cell_type": "code",
   "execution_count": 44,
   "metadata": {},
   "outputs": [],
   "source": [
    "import csv\n",
    "with open(\"20181216_chap09_file_ques.csv\",\"w\",newline='') as f:\n",
    "          w = csv.writer(f,delimiter=\",\")\n",
    "          w.writerow([\"1:\",\"Open something on your computer in Python and output the content.\"])\n",
    "          w.writerow([\"2: \",\"Let's write a program to ask something. Let's write the input answer to the file.\"])\n",
    "          w.writerow([\"3: \",\"Let's write the elements contained in the list list to CSV.The data is as follows.\"])\n",
    "          w.writerow([\"   \",\"\\\"Top Gun\\\",\\\" Risky Buginess\\\",\\\"Minority Report\\\"\"])\n",
    "          w.writerow([\"   \",\"Each element of data will be one line of CSV, so that each element contained in that line is separated by a comma.\"])\n",
    "          w.writerow([\"4: \",\"Let's try Challenge 3 in Japanese in the same way. For example Top Gun, like Top Gun, replace it with Japanese and output it to a CSV file.\"])"
   ]
  },
  {
   "cell_type": "code",
   "execution_count": 45,
   "metadata": {},
   "outputs": [
    {
     "data": {
      "text/plain": [
       "'##'"
      ]
     },
     "execution_count": 45,
     "metadata": {},
     "output_type": "execute_result"
    }
   ],
   "source": [
    "\"#\" * 2"
   ]
  },
  {
   "cell_type": "code",
   "execution_count": 46,
   "metadata": {},
   "outputs": [
    {
     "data": {
      "text/plain": [
       "'#\\n#\\n'"
      ]
     },
     "execution_count": 46,
     "metadata": {},
     "output_type": "execute_result"
    }
   ],
   "source": [
    "\"#\\n\" *2"
   ]
  },
  {
   "cell_type": "code",
   "execution_count": 47,
   "metadata": {},
   "outputs": [
    {
     "ename": "SyntaxError",
     "evalue": "unexpected character after line continuation character (<ipython-input-47-7d3baf91c7e2>, line 1)",
     "output_type": "error",
     "traceback": [
      "\u001b[1;36m  File \u001b[1;32m\"<ipython-input-47-7d3baf91c7e2>\"\u001b[1;36m, line \u001b[1;32m1\u001b[0m\n\u001b[1;33m    \"#\"\\n *2\u001b[0m\n\u001b[1;37m            ^\u001b[0m\n\u001b[1;31mSyntaxError\u001b[0m\u001b[1;31m:\u001b[0m unexpected character after line continuation character\n"
     ]
    }
   ],
   "source": [
    "\"#\"\\n *2"
   ]
  },
  {
   "cell_type": "code",
   "execution_count": 48,
   "metadata": {},
   "outputs": [
    {
     "name": "stdout",
     "output_type": "stream",
     "text": [
      "#\n",
      "#\n",
      "#\n",
      "#\n",
      "\n"
     ]
    }
   ],
   "source": [
    "name = \"#\\n\" * 4\n",
    "print(name)"
   ]
  },
  {
   "cell_type": "code",
   "execution_count": 49,
   "metadata": {},
   "outputs": [],
   "source": [
    "#\"1:\",\"Open something on your computer in Python and output the content.\"\n",
    "with open(\"st.txt\",\"w\") as f:\n",
    "    f.write(\"Hi from Python\")"
   ]
  },
  {
   "cell_type": "code",
   "execution_count": 50,
   "metadata": {},
   "outputs": [
    {
     "name": "stdout",
     "output_type": "stream",
     "text": [
      "What is your favorite color?red\n"
     ]
    }
   ],
   "source": [
    "answer = input(\"What is your favorite color?\")\n",
    "with open(\"fav_color.txt\", \"w\") as f:\n",
    "    f.write(answer)"
   ]
  },
  {
   "cell_type": "code",
   "execution_count": 51,
   "metadata": {},
   "outputs": [
    {
     "name": "stdout",
     "output_type": "stream",
     "text": [
      "What is your favorite color?red\n"
     ]
    }
   ],
   "source": [
    "#\"2: \",\"Let's write a program to ask something. Let's write the input answer to the file.\"\n",
    "answer = input(\"What is your favorite color?\")\n",
    "with open(\"fav_color.txt\", \"w\") as f:\n",
    "    f.write(answer)"
   ]
  },
  {
   "cell_type": "code",
   "execution_count": 52,
   "metadata": {},
   "outputs": [],
   "source": [
    "import csv\n",
    "\n",
    "movies = [[\"Top Gun\", \"Risky Business\", \"Minority Report\"], [\"Titanic\", \"The Revenant\", \"Inception\"], [\"Training Day\", \"Man on Fire\", \"Flight\"]]\n",
    "with open(\"movies.csv\", \"w\") as csvfile:\n",
    "    spamwriter = csv.writer(csvfile, delimiter=\",\")\n",
    "    for movie_list in movies:\n",
    "        spamwriter.writerow(movie_list)"
   ]
  },
  {
   "cell_type": "code",
   "execution_count": 53,
   "metadata": {},
   "outputs": [],
   "source": [
    "#revelant=啓示\n",
    "import csv\n",
    "\n",
    "movies = [[\"トップガン\", \"リスキーゲーム\", \"マイノリティレポート\"], [\"タイタニック\", \"リベラント\", \"インセプション\"], [\"トレーニングデイ\", \"マンオブファイヤー\", \"フライトゲーム\"]]\n",
    "with open(\"japan_movies.csv\", \"w\") as csvfile:\n",
    "    spamwriter = csv.writer(csvfile, delimiter=\",\")\n",
    "    for movie_list in movies:\n",
    "        spamwriter.writerow(movie_list)"
   ]
  },
  {
   "cell_type": "code",
   "execution_count": null,
   "metadata": {},
   "outputs": [],
   "source": []
  }
 ],
 "metadata": {
  "kernelspec": {
   "display_name": "Python 3",
   "language": "python",
   "name": "python3"
  },
  "language_info": {
   "codemirror_mode": {
    "name": "ipython",
    "version": 3
   },
   "file_extension": ".py",
   "mimetype": "text/x-python",
   "name": "python",
   "nbconvert_exporter": "python",
   "pygments_lexer": "ipython3",
   "version": "3.7.0"
  }
 },
 "nbformat": 4,
 "nbformat_minor": 2
}
