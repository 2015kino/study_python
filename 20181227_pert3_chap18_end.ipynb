{
 "cells": [
  {
   "cell_type": "code",
   "execution_count": 1,
   "metadata": {},
   "outputs": [
    {
     "name": "stdout",
     "output_type": "stream",
     "text": [
      "\n",
      "The following command must be run outside of the IPython shell:\n",
      "\n",
      "    $ pip \n",
      "\n",
      "The Python package manager (pip) can only be used from outside of IPython.\n",
      "Please reissue the `pip` command in a separate terminal or command prompt.\n",
      "\n",
      "See the Python documentation for more information on how to install packages:\n",
      "\n",
      "    https://docs.python.org/3/installing/\n"
     ]
    }
   ],
   "source": [
    "pip"
   ]
  },
  {
   "cell_type": "code",
   "execution_count": 2,
   "metadata": {},
   "outputs": [
    {
     "ename": "SyntaxError",
     "evalue": "invalid syntax (<ipython-input-2-fddfd3a5201c>, line 1)",
     "output_type": "error",
     "traceback": [
      "\u001b[1;36m  File \u001b[1;32m\"<ipython-input-2-fddfd3a5201c>\"\u001b[1;36m, line \u001b[1;32m1\u001b[0m\n\u001b[1;33m    $ pip\u001b[0m\n\u001b[1;37m    ^\u001b[0m\n\u001b[1;31mSyntaxError\u001b[0m\u001b[1;31m:\u001b[0m invalid syntax\n"
     ]
    }
   ],
   "source": [
    "$ pip"
   ]
  },
  {
   "cell_type": "code",
   "execution_count": 3,
   "metadata": {},
   "outputs": [],
   "source": [
    "#次のコマンドはIPythonシェルの外で実行する必要があります。\n",
    "\n",
    "#     $ pip\n",
    "\n",
    "#Pythonパッケージマネージャ（pip）はIPythonの外部からしか使えません。\n",
    "#別の端末またはコマンドプロンプトで `pip`コマンドを再発行してください。\n",
    "\n",
    "#パッケージのインストール方法についての詳細はPythonのドキュメントを参照してください。\n",
    "\n",
    "\n",
    "#d:\\>pip -V\n",
    "#pip 18.1 from d:\\anaconda\\lib\\site-packages\\pip (python 3.7)"
   ]
  },
  {
   "cell_type": "code",
   "execution_count": 4,
   "metadata": {},
   "outputs": [],
   "source": [
    "#d:\\>pip -V\n",
    "#pip 18.1 from d:\\anaconda\\lib\\site-packages\\pip (python 3.7)\n",
    "#\n",
    "#d:\\>flask -V\n",
    "#Error: no such option: -V\n",
    "#\n",
    "#d:\\>pip install flask\n",
    "#Requirement already satisfied: flask in d:\\anaconda\\lib\\site-packages (1.0.2)\n",
    "#Requirement already satisfied: itsdangerous>=0.24 in d:\\anaconda\\lib\\site-packag\n",
    "#es (from flask) (0.24)\n",
    "#Requirement already satisfied: Werkzeug>=0.14 in d:\\anaconda\\lib\\site-packages (\n",
    "#from flask) (0.14.1)\n",
    "#Requirement already satisfied: Jinja2>=2.10 in d:\\anaconda\\lib\\site-packages (fr\n",
    "#om flask) (2.10)\n",
    "#Requirement already satisfied: click>=5.1 in d:\\anaconda\\lib\\site-packages (from\n",
    "# flask) (6.7)\n",
    "#Requirement already satisfied: MarkupSafe>=0.23 in d:\\anaconda\\lib\\site-packages\n",
    "# (from Jinja2>=2.10->flask) (1.0)\n",
    "\n",
    "from flask import Flask\n",
    "app = Flask(__name__)"
   ]
  },
  {
   "cell_type": "code",
   "execution_count": 5,
   "metadata": {},
   "outputs": [
    {
     "ename": "SyntaxError",
     "evalue": "invalid syntax (<ipython-input-5-6e06871e7fd8>, line 3)",
     "output_type": "error",
     "traceback": [
      "\u001b[1;36m  File \u001b[1;32m\"<ipython-input-5-6e06871e7fd8>\"\u001b[1;36m, line \u001b[1;32m3\u001b[0m\n\u001b[1;33m    $app.route('/')\u001b[0m\n\u001b[1;37m    ^\u001b[0m\n\u001b[1;31mSyntaxError\u001b[0m\u001b[1;31m:\u001b[0m invalid syntax\n"
     ]
    }
   ],
   "source": [
    "from flask import Flask\n",
    "app = Flask(__name__)\n",
    "$app.route('/')\n",
    "def index():\n",
    "    return \"Hello,world\"\n",
    "app.run(port=8000)"
   ]
  },
  {
   "cell_type": "code",
   "execution_count": null,
   "metadata": {},
   "outputs": [
    {
     "name": "stdout",
     "output_type": "stream",
     "text": [
      " * Serving Flask app \"__main__\" (lazy loading)\n",
      " * Environment: production\n",
      "   WARNING: Do not use the development server in a production environment.\n",
      "   Use a production WSGI server instead.\n",
      " * Debug mode: off\n"
     ]
    },
    {
     "name": "stderr",
     "output_type": "stream",
     "text": [
      " * Running on http://127.0.0.1:8000/ (Press CTRL+C to quit)\n",
      "127.0.0.1 - - [27/Dec/2018 19:41:53] \"GET / HTTP/1.1\" 200 -\n",
      "127.0.0.1 - - [27/Dec/2018 19:41:53] \"GET /favicon.ico HTTP/1.1\" 404 -\n",
      "127.0.0.1 - - [27/Dec/2018 19:53:07] \"GET / HTTP/1.1\" 200 -\n",
      "127.0.0.1 - - [27/Dec/2018 19:53:43] \"GET / HTTP/1.1\" 200 -\n"
     ]
    }
   ],
   "source": [
    "#SyntaxError：無効な構文\n",
    "#FlaskはWeb flameworkの一つ。\n",
    "\n",
    "from flask import Flask\n",
    "app = Flask(__name__)\n",
    "@app.route('/')\n",
    "def index():\n",
    "    return \"Hello,world\"\n",
    "app.run(port=8000)"
   ]
  },
  {
   "cell_type": "code",
   "execution_count": null,
   "metadata": {},
   "outputs": [],
   "source": [
    "#* Flaskアプリ「__main__」の配信（遅延ロード）\n",
    "#  *環境：プロダクション\n",
    "#    警告：開発サーバーを運用環境で使用しないでください。\n",
    "#    代わりに本番用のWSGIサーバーを使用してください。\n",
    "#  *デバッグモード：オフ\n",
    "#  * http://127.0.0.1:8000/で実行しています（終了するにはCTRL + Cを押してください）\n",
    "\n",
    "#サーバーサイド（英語版）\n",
    "#プロトコル\tHTTP CGI FCGI SCGI（英語版） AJP（英語版） WebSocket\n",
    "#APIs\tC NSAPI（英語版） C ASAPI C ISAPI Java Servlet CIL System.Web.IHttpHandler（英語版） Python WSGI Ruby Rack（英語版） JavaScript JSGI（英語版） Perl PSGI Lua WSAPI（英語版）\n",
    "#トピックス\tWebサービス アプリケーションサーバ リソース (WWW) Open API サーバーサイド・スクリプト Webhook\n",
    "\n",
    "#WSGI対応サーバ\n",
    "#WSGIサーバ（WSGIアプリケーションコンテナ）は、WSGIアプリケーションを常駐させ、\n",
    "#HTTPクライアントからリクエストを受け取るごとに、WSGIアプリケーションのcallableオブジェクトを呼び出す。\n",
    "#これによって、クライアントからのリクエストがアプリケーションに転送される。\n",
    "\n",
    "#WSGIアプリケーションコンテナの例としては、uWSGI, Gunicorn, Apacheモジュール (mod_wsgi, mod_pythonなど),\n",
    "#Microsoft IIS（isapi-wsgi, PyISAPIe, ASPゲートウェイを使用）などがある。\n",
    "\n",
    "#WSGIとPython 3\n",
    "#Python 3において文字列とバイト列が分離されたことはWSGIにとって問題となった。\n",
    "#HTTPヘッダのデータはテキストとして扱われたりバイナリとして扱われたりするが、\n",
    "#WSGIはヘッダデータを文字列として扱っている。\n",
    "#Python 2ではテキストもバイナリも「文字列」として扱っていたためこれで問題がなかったが、\n",
    "#Python 3ではバイナリはbytes型で扱うことになり、「文字列」とはUnicode文字列のことを表すようになった。\n",
    "#この問題に対処した更新版のWSGI仕様は、PEP 3333として公開されている。\n",
    "\n",
    "#再考されたWSGI仕様として Web3 というものも提案されており、こちらはPEP 444 として公開されている。\n",
    "#Web3は、互換性のないWSGIの派生であり、Python 2.6以降および3.1以降で動作するように設計されている。"
   ]
  },
  {
   "cell_type": "code",
   "execution_count": null,
   "metadata": {},
   "outputs": [],
   "source": [
    "#FlaskがWebサーバーを立てて、URLを入力したことでインデックスメソッド構文に渡され、Helloworldが戻される。\n",
    "#* Running on http://127.0.0.1:8000/ (Press CTRL+C to quit)\n",
    "#127.0.0.1 - - [27/Dec/2018 19:41:53] \"GET / HTTP/1.1\" 200 \n",
    "#- HTTP 200 OK はリクエストが成功した場合に返すレスポンスコード。\n",
    "#127.0.0.1 - - [27/Dec/2018 19:41:53] \"GET /favicon.ico HTTP/1.1\" 404 \n",
    "#-HTTP 404 Not Found は、サーバーがリクエストされたリソースを見つけることができない時の\n",
    "#クライアントエラーのレスポンスコードです。"
   ]
  },
  {
   "cell_type": "code",
   "execution_count": null,
   "metadata": {},
   "outputs": [],
   "source": [
    "#d:\\>pip freeze\n",
    "#alabaster==0.7.11\n",
    "#anaconda-client==1.7.2\n",
    "#anaconda-navigator==1.9.6\n",
    "#…\n",
    "#XlsxWriter==1.1.0\n",
    "#xlwings==0.11.8\n",
    "#xlwt==1.3.0\n",
    "#zict==0.1.3\n",
    "#zope.interface==4.5.0\n",
    "\n",
    "#install一覧\n",
    "\n",
    "#d:\\>pip uninstall flask\n",
    "#Uninstalling Flask-1.0.2:\n",
    "#  Would remove:\n",
    "#    d:\\anaconda\\lib\\site-packages\\flask-1.0.2.dist-info\\*\n",
    "#    d:\\anaconda\\lib\\site-packages\\flask\\*\n",
    "##    d:\\anaconda\\scripts\\flask-script.py\n",
    "#   d:\\anaconda\\scripts\\flask.exe\n",
    "#Proceed (y/n)? y\n",
    "#  Successfully uninstalled Flask-1.0.2\n",
    "\n",
    "#flaskアンインストールしましたｔって感じ。"
   ]
  },
  {
   "cell_type": "code",
   "execution_count": null,
   "metadata": {},
   "outputs": [],
   "source": [
    "from flask import Flask\n",
    "app = Flask(__name__)\n",
    "@app.route('/')\n",
    "def index():\n",
    "    return \"Hello,world\"\n",
    "app.run(port=8000)"
   ]
  },
  {
   "cell_type": "code",
   "execution_count": null,
   "metadata": {},
   "outputs": [],
   "source": [
    "#プロジェクト分離\n",
    "#こんな風にしてパッケージをどんどん追加するのもいいけれど結局容量があるので、\n",
    "#仮想環境を構築してプロジェクトごとに仮想環境構築を行っていくのが望ましい。\n",
    "#日本のサイトだとどうしてか起承転結型の書き方をする人がいない所が問題だね。\n",
    "\n",
    "# Project separation\n",
    "# It is good to add more packages like this, but after all it has capacity,\n",
    "#so it is desirable to construct a virtual environment and construct a virtual environment for each project.\n",
    "# If it is a Japanese site it is a problem that there is not anyone who does not write how to enter and leave it."
   ]
  },
  {
   "cell_type": "code",
   "execution_count": null,
   "metadata": {},
   "outputs": [],
   "source": [
    "#パッケージ管理ツール：プログラムインストール、管理を行うプログラム\n",
    "#ウェブフレームワーク：ウェブサイト開発を支援するプログラム\n",
    "#パッケージ：配布用に「梱包された」ソフトウェア\n",
    "#メタデータ：当該データに関する情報\n",
    "#依存情報：当該プログラムが動作するのに必要なその他プログラムの情報\n",
    "#pip：Pythonのパッケージ管理ツール\n",
    "#site-package：pipでパッケージがインストールされるフォルダ\n",
    "#PyPI：Pythonのパッケージを配布しているウェブサイト\n",
    "#仮想環境：仮想環境ごとに別々のPythonパッケージをインストール出来るので、複数のプロジェクトを分離できる。\n",
    "\n",
    "# Package management tool: Program for installing and managing programs\n",
    "# Web framework: a program to support website development\n",
    "# Package: \"packaged\" software for distribution\n",
    "# Metadata: Information on the data concerned\n",
    "# Dependent information: information on other programs necessary for the program to operate\n",
    "#pip: Python's package management tool\n",
    "# site-package: The folder where the package is installed with pip\n",
    "#PyPI: Website distributing Python package\n",
    "# Virtual environment: Separate Python package for each virtual environment"
   ]
  },
  {
   "cell_type": "code",
   "execution_count": null,
   "metadata": {},
   "outputs": [],
   "source": []
  }
 ],
 "metadata": {
  "kernelspec": {
   "display_name": "Python 3",
   "language": "python",
   "name": "python3"
  },
  "language_info": {
   "codemirror_mode": {
    "name": "ipython",
    "version": 3
   },
   "file_extension": ".py",
   "mimetype": "text/x-python",
   "name": "python",
   "nbconvert_exporter": "python",
   "pygments_lexer": "ipython3",
   "version": "3.7.0"
  }
 },
 "nbformat": 4,
 "nbformat_minor": 2
}
