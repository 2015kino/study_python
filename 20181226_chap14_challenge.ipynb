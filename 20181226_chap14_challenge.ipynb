{
 "cells": [
  {
   "cell_type": "code",
   "execution_count": 1,
   "metadata": {},
   "outputs": [],
   "source": [
    "#1:Squareクラスにsquare_listクラス変数を追加しよう。\n",
    "#そして、新しくSquareクラスのオブジェクト作られるたびに、そのオブジェクトをこのリストに追加しよう。\n",
    "#1:Let's add the square_list class variable to the Square class.\n",
    "#And whenever a new Square class object is created, let's add that object to this list."
   ]
  },
  {
   "cell_type": "code",
   "execution_count": 2,
   "metadata": {},
   "outputs": [],
   "source": [
    "#2:Squareクラスのオブジェクトをprint関数に渡したら、4辺それぞれの長さを出力しよう。\n",
    "#例えば、Square(29)のようにオブジェクトを作ったら、print関数では29by29by29by29と出力しよう。\n",
    "#2:If you pass the object of Square class to the print function,\n",
    "#let's output the length of each of the four sides. For example, if you create an object like Square (29),\n",
    "#let's print it in 29 by 29 by 29 by 29 in the print function."
   ]
  },
  {
   "cell_type": "code",
   "execution_count": 3,
   "metadata": {},
   "outputs": [],
   "source": [
    "#3:2つのパラメータを受け取る関数を書こう。\n",
    "#この関数は同じオブジェクトを渡されたらTrueを返し、そうじゃなかったらFalseを返そう。\n",
    "#3:Let's write a function that accepts two parameters.\n",
    "#This function returns True if passed the same object, False otherwise."
   ]
  },
  {
   "cell_type": "code",
   "execution_count": 4,
   "metadata": {},
   "outputs": [
    {
     "name": "stdout",
     "output_type": "stream",
     "text": [
      "[<__main__.Square object at 0x0000000005360588>]\n",
      "[<__main__.Square object at 0x0000000005360588>, <__main__.Square object at 0x0000000005360470>]\n"
     ]
    }
   ],
   "source": [
    "class Shape():\n",
    "    def what_am_i(self):\n",
    "        print(\"I am a shape.\")\n",
    "\n",
    "\n",
    "class Square(Shape):\n",
    "    square_list = []\n",
    "\n",
    "    def __init__(self, s1):\n",
    "        self.s1 = s1\n",
    "        self.square_list.append(self)\n",
    "\n",
    "    def calculate_perimeter(self):\n",
    "        return self.s1 * 4\n",
    "\n",
    "    def what_am_i(self):\n",
    "        super().what_am_i()\n",
    "        print(\"I am a Square.\")\n",
    "\n",
    "\n",
    "a_square = Square(29)\n",
    "print(Square.square_list)\n",
    "another_square = Square(93)\n",
    "print(Square.square_list)"
   ]
  },
  {
   "cell_type": "code",
   "execution_count": 5,
   "metadata": {},
   "outputs": [
    {
     "name": "stdout",
     "output_type": "stream",
     "text": [
      "29 by 29 by 29 by 29\n"
     ]
    }
   ],
   "source": [
    "class Shape():\n",
    "    def what_am_i(self):\n",
    "        print(\"I am a shape.\")\n",
    "\n",
    "\n",
    "class Square(Shape):\n",
    "    square_list = []\n",
    "\n",
    "    def __init__(self, s1):\n",
    "        self.s1 = s1\n",
    "        self.square_list.append(self)\n",
    "\n",
    "    def calculate_perimeter(self):\n",
    "        return self.s1 * 4\n",
    "\n",
    "    def what_am_i(self):\n",
    "        super().what_am_i()\n",
    "        print(\"I am a Square.\")\n",
    "\n",
    "    def __repr__(self):\n",
    "        return \"{} by {} by {} by {}\".format(self.s1, self.s1, self.s1, self.s1)\n",
    "\n",
    "a_square = Square(29)\n",
    "print(a_square)"
   ]
  },
  {
   "cell_type": "code",
   "execution_count": 6,
   "metadata": {},
   "outputs": [
    {
     "name": "stdout",
     "output_type": "stream",
     "text": [
      "False\n"
     ]
    }
   ],
   "source": [
    "def compare(obj1, obj2):\n",
    "    return obj1 is obj2\n",
    "\n",
    "print(compare(\"a\", \"b\"))"
   ]
  },
  {
   "cell_type": "code",
   "execution_count": null,
   "metadata": {},
   "outputs": [],
   "source": []
  }
 ],
 "metadata": {
  "kernelspec": {
   "display_name": "Python 3",
   "language": "python",
   "name": "python3"
  },
  "language_info": {
   "codemirror_mode": {
    "name": "ipython",
    "version": 3
   },
   "file_extension": ".py",
   "mimetype": "text/x-python",
   "name": "python",
   "nbconvert_exporter": "python",
   "pygments_lexer": "ipython3",
   "version": "3.7.0"
  }
 },
 "nbformat": 4,
 "nbformat_minor": 2
}
