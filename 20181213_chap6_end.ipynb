{
 "cells": [
  {
   "cell_type": "code",
   "execution_count": 1,
   "metadata": {},
   "outputs": [
    {
     "data": {
      "text/plain": [
       "' line one\\n    line two\\n    line three\\n'"
      ]
     },
     "execution_count": 1,
     "metadata": {},
     "output_type": "execute_result"
    }
   ],
   "source": [
    "\"\"\" line one\n",
    "    line two\n",
    "    line three\n",
    "\"\"\""
   ]
  },
  {
   "cell_type": "code",
   "execution_count": 2,
   "metadata": {},
   "outputs": [
    {
     "data": {
      "text/plain": [
       "'a'"
      ]
     },
     "execution_count": 2,
     "metadata": {},
     "output_type": "execute_result"
    }
   ],
   "source": [
    "auther = \"kafka\"\n",
    "auther[0]\n",
    "auther[1]\n",
    "auther[2]\n",
    "auther[3]\n",
    "auther[4]"
   ]
  },
  {
   "cell_type": "code",
   "execution_count": 3,
   "metadata": {},
   "outputs": [
    {
     "data": {
      "text/plain": [
       "'k'"
      ]
     },
     "execution_count": 3,
     "metadata": {},
     "output_type": "execute_result"
    }
   ],
   "source": [
    "#著者=author\n",
    "author = \"kafka\"\n",
    "author[0]"
   ]
  },
  {
   "cell_type": "code",
   "execution_count": 4,
   "metadata": {},
   "outputs": [
    {
     "data": {
      "text/plain": [
       "'a'"
      ]
     },
     "execution_count": 4,
     "metadata": {},
     "output_type": "execute_result"
    }
   ],
   "source": [
    "#著者=author\n",
    "author = \"kafka\"\n",
    "author[-1]"
   ]
  },
  {
   "cell_type": "code",
   "execution_count": 5,
   "metadata": {},
   "outputs": [
    {
     "data": {
      "text/plain": [
       "'k'"
      ]
     },
     "execution_count": 5,
     "metadata": {},
     "output_type": "execute_result"
    }
   ],
   "source": [
    "author = \"kafka\"\n",
    "author[-2]"
   ]
  },
  {
   "cell_type": "code",
   "execution_count": 6,
   "metadata": {},
   "outputs": [
    {
     "data": {
      "text/plain": [
       "'F.Scott Fitzgerald'"
      ]
     },
     "execution_count": 6,
     "metadata": {},
     "output_type": "execute_result"
    }
   ],
   "source": [
    "#ミュータブルとは「変更可能な」という意味で、反対にイミュータブルとは「変更できない」という意味になります。\n",
    "#mutable=可変\n",
    "#immutable=不変、意味不明とかで覚えると出てくる？\n",
    "\n",
    "ff=\"F.Fitzgelald\"\n",
    "ff=\"F.Scott Fitzgerald\"\n",
    "ff"
   ]
  },
  {
   "cell_type": "code",
   "execution_count": 9,
   "metadata": {},
   "outputs": [
    {
     "data": {
      "text/plain": [
       "'catinhat'"
      ]
     },
     "execution_count": 9,
     "metadata": {},
     "output_type": "execute_result"
    }
   ],
   "source": [
    "\"cat\"+\"in\"+\"hat\""
   ]
  },
  {
   "cell_type": "code",
   "execution_count": 10,
   "metadata": {},
   "outputs": [
    {
     "data": {
      "text/plain": [
       "'catinhatthe'"
      ]
     },
     "execution_count": 10,
     "metadata": {},
     "output_type": "execute_result"
    }
   ],
   "source": [
    "\"cat\"+\"in\"+\"hat\"+\"the\""
   ]
  },
  {
   "cell_type": "code",
   "execution_count": 11,
   "metadata": {},
   "outputs": [
    {
     "data": {
      "text/plain": [
       "'cat in hat the'"
      ]
     },
     "execution_count": 11,
     "metadata": {},
     "output_type": "execute_result"
    }
   ],
   "source": [
    "\"cat\"+\" in\"+\" hat\"+\" the\""
   ]
  },
  {
   "cell_type": "code",
   "execution_count": 12,
   "metadata": {},
   "outputs": [
    {
     "data": {
      "text/plain": [
       "'SayyerSayyerSayyer'"
      ]
     },
     "execution_count": 12,
     "metadata": {},
     "output_type": "execute_result"
    }
   ],
   "source": [
    "\"Sayyer\" * 3"
   ]
  },
  {
   "cell_type": "code",
   "execution_count": 13,
   "metadata": {},
   "outputs": [
    {
     "data": {
      "text/plain": [
       "'cat in hat THE'"
      ]
     },
     "execution_count": 13,
     "metadata": {},
     "output_type": "execute_result"
    }
   ],
   "source": [
    "\"cat\"+\" in\"+\" hat\"+\" the\".upper()"
   ]
  },
  {
   "cell_type": "code",
   "execution_count": 14,
   "metadata": {},
   "outputs": [
    {
     "ename": "AttributeError",
     "evalue": "'str' object has no attribute 'lawer'",
     "output_type": "error",
     "traceback": [
      "\u001b[1;31m---------------------------------------------------------------------------\u001b[0m",
      "\u001b[1;31mAttributeError\u001b[0m                            Traceback (most recent call last)",
      "\u001b[1;32m<ipython-input-14-9ab2c8f58358>\u001b[0m in \u001b[0;36m<module>\u001b[1;34m\u001b[0m\n\u001b[1;32m----> 1\u001b[1;33m \u001b[1;34m\"cat\"\u001b[0m\u001b[1;33m+\u001b[0m\u001b[1;34m\" in\"\u001b[0m\u001b[1;33m+\u001b[0m\u001b[1;34m\" HAT\"\u001b[0m\u001b[1;33m+\u001b[0m\u001b[1;34m\" THE\"\u001b[0m\u001b[1;33m.\u001b[0m\u001b[0mlawer\u001b[0m\u001b[1;33m(\u001b[0m\u001b[1;33m)\u001b[0m\u001b[1;33m\u001b[0m\u001b[1;33m\u001b[0m\u001b[0m\n\u001b[0m",
      "\u001b[1;31mAttributeError\u001b[0m: 'str' object has no attribute 'lawer'"
     ]
    }
   ],
   "source": [
    "\"cat\"+\" in\"+\" HAT\"+\" THE\".lawer()"
   ]
  },
  {
   "cell_type": "code",
   "execution_count": 15,
   "metadata": {},
   "outputs": [
    {
     "data": {
      "text/plain": [
       "'cat in HAT the'"
      ]
     },
     "execution_count": 15,
     "metadata": {},
     "output_type": "execute_result"
    }
   ],
   "source": [
    "\"cat\"+\" in\"+\" HAT\"+\" THE\".lower()"
   ]
  },
  {
   "cell_type": "code",
   "execution_count": 16,
   "metadata": {},
   "outputs": [
    {
     "data": {
      "text/plain": [
       "'cat in HAT the'"
      ]
     },
     "execution_count": 16,
     "metadata": {},
     "output_type": "execute_result"
    }
   ],
   "source": [
    "\"cat\"+\" in\"+\" HAT\"+\" THE\".capitalize()"
   ]
  },
  {
   "cell_type": "code",
   "execution_count": 17,
   "metadata": {},
   "outputs": [
    {
     "data": {
      "text/plain": [
       "'cat in HAT the'"
      ]
     },
     "execution_count": 17,
     "metadata": {},
     "output_type": "execute_result"
    }
   ],
   "source": [
    "\"cat\"+\" in\"+\" HAT\"+\" the\".capitalize()"
   ]
  },
  {
   "cell_type": "code",
   "execution_count": 18,
   "metadata": {},
   "outputs": [
    {
     "data": {
      "text/plain": [
       "'cat in HATThe'"
      ]
     },
     "execution_count": 18,
     "metadata": {},
     "output_type": "execute_result"
    }
   ],
   "source": [
    "\"cat\"+\" in\"+\" HAT\"+\"the\".capitalize()"
   ]
  },
  {
   "cell_type": "code",
   "execution_count": 19,
   "metadata": {},
   "outputs": [
    {
     "data": {
      "text/plain": [
       "'Hello,()'"
      ]
     },
     "execution_count": 19,
     "metadata": {},
     "output_type": "execute_result"
    }
   ],
   "source": [
    "\"Hello,()\".format(\"William Fokner\")"
   ]
  },
  {
   "cell_type": "code",
   "execution_count": 20,
   "metadata": {},
   "outputs": [
    {
     "data": {
      "text/plain": [
       "'Hello,William Fokner'"
      ]
     },
     "execution_count": 20,
     "metadata": {},
     "output_type": "execute_result"
    }
   ],
   "source": [
    "\"Hello,{}\".format(\"William Fokner\")"
   ]
  },
  {
   "cell_type": "code",
   "execution_count": 21,
   "metadata": {},
   "outputs": [
    {
     "data": {
      "text/plain": [
       "'Hello,William Fokner'"
      ]
     },
     "execution_count": 21,
     "metadata": {},
     "output_type": "execute_result"
    }
   ],
   "source": [
    "name = \"William Fokner\"\n",
    "\"Hello,{}\".format(name)"
   ]
  },
  {
   "cell_type": "code",
   "execution_count": 22,
   "metadata": {},
   "outputs": [
    {
     "data": {
      "text/plain": [
       "'William Fokner was born in 1897'"
      ]
     },
     "execution_count": 22,
     "metadata": {},
     "output_type": "execute_result"
    }
   ],
   "source": [
    "author = \"William Fokner\"\n",
    "year_born = \"1897\"\n",
    "\"{} was born in {}\".format(author,year_born)"
   ]
  },
  {
   "cell_type": "code",
   "execution_count": 23,
   "metadata": {},
   "outputs": [
    {
     "name": "stdout",
     "output_type": "stream",
     "text": [
      "what:dog\n",
      "when:1999\n",
      "where:japan\n",
      "do:walking\n"
     ]
    },
    {
     "data": {
      "text/plain": [
       "'dog and 1999 did  japan and walking'"
      ]
     },
     "execution_count": 23,
     "metadata": {},
     "output_type": "execute_result"
    }
   ],
   "source": [
    "what = input(\"what:\")\n",
    "when = input(\"when:\")\n",
    "where = input(\"where:\")\n",
    "do = input(\"do:\")\n",
    "\n",
    "\"{} and {} did  {} and {}\".format(what,when,where,do)"
   ]
  },
  {
   "cell_type": "code",
   "execution_count": 24,
   "metadata": {},
   "outputs": [
    {
     "data": {
      "text/plain": [
       "['I', 'exceeded', 'the', 'water', 'limit,', 'it', 'was', '3', 'meters!']"
      ]
     },
     "execution_count": 24,
     "metadata": {},
     "output_type": "execute_result"
    }
   ],
   "source": [
    "\"I exceeded the water limit, it was 3 meters!\".split()"
   ]
  },
  {
   "cell_type": "code",
   "execution_count": 25,
   "metadata": {},
   "outputs": [
    {
     "data": {
      "text/plain": [
       "'a+b+c'"
      ]
     },
     "execution_count": 25,
     "metadata": {},
     "output_type": "execute_result"
    }
   ],
   "source": [
    "first_three = \"abc\"\n",
    "result = \"+\".join(first_three)\n",
    "result"
   ]
  },
  {
   "cell_type": "code",
   "execution_count": 26,
   "metadata": {},
   "outputs": [
    {
     "data": {
      "text/plain": [
       "'overfencejumpedThe.foxthe'"
      ]
     },
     "execution_count": 26,
     "metadata": {},
     "output_type": "execute_result"
    }
   ],
   "source": [
    "words = {\"The\",\"fox\",\"jumped\",\"over\",\"the\",\"fence\",\".\"}\n",
    "one = \"\".join(words)\n",
    "one"
   ]
  },
  {
   "cell_type": "code",
   "execution_count": 27,
   "metadata": {},
   "outputs": [
    {
     "data": {
      "text/plain": [
       "'Thefoxjumpedoverthefence.'"
      ]
     },
     "execution_count": 27,
     "metadata": {},
     "output_type": "execute_result"
    }
   ],
   "source": [
    "words = [\"The\",\"fox\",\"jumped\",\"over\",\"the\",\"fence\",\".\"]\n",
    "one = \"\".join(words)\n",
    "one"
   ]
  },
  {
   "cell_type": "code",
   "execution_count": 28,
   "metadata": {},
   "outputs": [
    {
     "data": {
      "text/plain": [
       "'The fox jumped over the fence .'"
      ]
     },
     "execution_count": 28,
     "metadata": {},
     "output_type": "execute_result"
    }
   ],
   "source": [
    "words = [\"The\",\"fox\",\"jumped\",\"over\",\"the\",\"fence\",\".\"]\n",
    "one = \" \".join(words)\n",
    "one"
   ]
  },
  {
   "cell_type": "code",
   "execution_count": 29,
   "metadata": {},
   "outputs": [
    {
     "data": {
      "text/plain": [
       "['The']"
      ]
     },
     "execution_count": 29,
     "metadata": {},
     "output_type": "execute_result"
    }
   ],
   "source": [
    "s = \" The    \"\n",
    "s = s.split()\n",
    "s"
   ]
  },
  {
   "cell_type": "code",
   "execution_count": 30,
   "metadata": {},
   "outputs": [
    {
     "name": "stdout",
     "output_type": "stream",
     "text": [
      "All @nim@ls @re equ@l.\n"
     ]
    }
   ],
   "source": [
    "equ = \"All animals are equal.\"\n",
    "equ = equ.replace(\"a\",\"@\")\n",
    "print(equ)"
   ]
  },
  {
   "cell_type": "code",
   "execution_count": 31,
   "metadata": {},
   "outputs": [
    {
     "data": {
      "text/plain": [
       "3"
      ]
     },
     "execution_count": 31,
     "metadata": {},
     "output_type": "execute_result"
    }
   ],
   "source": [
    "\"animals\".index(\"m\")"
   ]
  },
  {
   "cell_type": "code",
   "execution_count": 32,
   "metadata": {},
   "outputs": [
    {
     "ename": "ValueError",
     "evalue": "substring not found",
     "output_type": "error",
     "traceback": [
      "\u001b[1;31m---------------------------------------------------------------------------\u001b[0m",
      "\u001b[1;31mValueError\u001b[0m                                Traceback (most recent call last)",
      "\u001b[1;32m<ipython-input-32-53cae626efb9>\u001b[0m in \u001b[0;36m<module>\u001b[1;34m\u001b[0m\n\u001b[1;32m----> 1\u001b[1;33m \u001b[1;34m\"animals\"\u001b[0m\u001b[1;33m.\u001b[0m\u001b[0mindex\u001b[0m\u001b[1;33m(\u001b[0m\u001b[1;34m\"z\"\u001b[0m\u001b[1;33m)\u001b[0m\u001b[1;33m\u001b[0m\u001b[1;33m\u001b[0m\u001b[0m\n\u001b[0m",
      "\u001b[1;31mValueError\u001b[0m: substring not found"
     ]
    }
   ],
   "source": [
    "\"animals\".index(\"z\")"
   ]
  },
  {
   "cell_type": "code",
   "execution_count": 33,
   "metadata": {},
   "outputs": [
    {
     "name": "stdout",
     "output_type": "stream",
     "text": [
      "Not Found\n"
     ]
    }
   ],
   "source": [
    "try:\n",
    "    \"animals\".index(\"z\")\n",
    "except:\n",
    "    print(\"Not Found\")"
   ]
  },
  {
   "cell_type": "code",
   "execution_count": 34,
   "metadata": {},
   "outputs": [
    {
     "data": {
      "text/plain": [
       "True"
      ]
     },
     "execution_count": 34,
     "metadata": {},
     "output_type": "execute_result"
    }
   ],
   "source": [
    "\"Cat\" in  \"Cat in the hat.\""
   ]
  },
  {
   "cell_type": "code",
   "execution_count": 35,
   "metadata": {},
   "outputs": [
    {
     "data": {
      "text/plain": [
       "False"
      ]
     },
     "execution_count": 35,
     "metadata": {},
     "output_type": "execute_result"
    }
   ],
   "source": [
    "\"Gat\" in  \"Cat in the hat.\""
   ]
  },
  {
   "cell_type": "code",
   "execution_count": 36,
   "metadata": {},
   "outputs": [
    {
     "ename": "SyntaxError",
     "evalue": "invalid syntax (<ipython-input-36-c559e59c785b>, line 1)",
     "output_type": "error",
     "traceback": [
      "\u001b[1;36m  File \u001b[1;32m\"<ipython-input-36-c559e59c785b>\"\u001b[1;36m, line \u001b[1;32m1\u001b[0m\n\u001b[1;33m    \"Potter\" not is \"Harry\"\u001b[0m\n\u001b[1;37m                  ^\u001b[0m\n\u001b[1;31mSyntaxError\u001b[0m\u001b[1;31m:\u001b[0m invalid syntax\n"
     ]
    }
   ],
   "source": [
    "\"Potter\" not is \"Harry\""
   ]
  },
  {
   "cell_type": "code",
   "execution_count": 37,
   "metadata": {},
   "outputs": [
    {
     "data": {
      "text/plain": [
       "True"
      ]
     },
     "execution_count": 37,
     "metadata": {},
     "output_type": "execute_result"
    }
   ],
   "source": [
    "\"Potter\" not in \"Harry\""
   ]
  },
  {
   "cell_type": "code",
   "execution_count": 38,
   "metadata": {},
   "outputs": [
    {
     "ename": "SyntaxError",
     "evalue": "invalid syntax (<ipython-input-38-4a068dd4c1d8>, line 1)",
     "output_type": "error",
     "traceback": [
      "\u001b[1;36m  File \u001b[1;32m\"<ipython-input-38-4a068dd4c1d8>\"\u001b[1;36m, line \u001b[1;32m1\u001b[0m\n\u001b[1;33m    She said \"That's right.\"\u001b[0m\n\u001b[1;37m           ^\u001b[0m\n\u001b[1;31mSyntaxError\u001b[0m\u001b[1;31m:\u001b[0m invalid syntax\n"
     ]
    }
   ],
   "source": [
    "She said \"That's right.\""
   ]
  },
  {
   "cell_type": "code",
   "execution_count": 39,
   "metadata": {},
   "outputs": [
    {
     "ename": "SyntaxError",
     "evalue": "invalid syntax (<ipython-input-39-dbf72dbc663b>, line 1)",
     "output_type": "error",
     "traceback": [
      "\u001b[1;36m  File \u001b[1;32m\"<ipython-input-39-dbf72dbc663b>\"\u001b[1;36m, line \u001b[1;32m1\u001b[0m\n\u001b[1;33m    \"She said \"That's right.\"\u001b[0m\n\u001b[1;37m                  ^\u001b[0m\n\u001b[1;31mSyntaxError\u001b[0m\u001b[1;31m:\u001b[0m invalid syntax\n"
     ]
    }
   ],
   "source": [
    "\"She said \"That's right.\""
   ]
  },
  {
   "cell_type": "code",
   "execution_count": 40,
   "metadata": {},
   "outputs": [
    {
     "ename": "SyntaxError",
     "evalue": "EOL while scanning string literal (<ipython-input-40-677e3ab5526b>, line 1)",
     "output_type": "error",
     "traceback": [
      "\u001b[1;36m  File \u001b[1;32m\"<ipython-input-40-677e3ab5526b>\"\u001b[1;36m, line \u001b[1;32m1\u001b[0m\n\u001b[1;33m    \"She said \\\"That's right.\\\"\u001b[0m\n\u001b[1;37m                               ^\u001b[0m\n\u001b[1;31mSyntaxError\u001b[0m\u001b[1;31m:\u001b[0m EOL while scanning string literal\n"
     ]
    }
   ],
   "source": [
    "\"She said \\\"That's right.\\\""
   ]
  },
  {
   "cell_type": "code",
   "execution_count": 41,
   "metadata": {},
   "outputs": [
    {
     "ename": "SyntaxError",
     "evalue": "EOL while scanning string literal (<ipython-input-41-bf49e8ab7dd1>, line 1)",
     "output_type": "error",
     "traceback": [
      "\u001b[1;36m  File \u001b[1;32m\"<ipython-input-41-bf49e8ab7dd1>\"\u001b[1;36m, line \u001b[1;32m1\u001b[0m\n\u001b[1;33m    \"She said \\'That's right.\\'\u001b[0m\n\u001b[1;37m                               ^\u001b[0m\n\u001b[1;31mSyntaxError\u001b[0m\u001b[1;31m:\u001b[0m EOL while scanning string literal\n"
     ]
    }
   ],
   "source": [
    "\"She said \\'That's right.\\'"
   ]
  },
  {
   "cell_type": "code",
   "execution_count": 42,
   "metadata": {},
   "outputs": [
    {
     "ename": "SyntaxError",
     "evalue": "EOL while scanning string literal (<ipython-input-42-5726911f617c>, line 1)",
     "output_type": "error",
     "traceback": [
      "\u001b[1;36m  File \u001b[1;32m\"<ipython-input-42-5726911f617c>\"\u001b[1;36m, line \u001b[1;32m1\u001b[0m\n\u001b[1;33m    \"She said \\\"That is right.\\\"\u001b[0m\n\u001b[1;37m                                ^\u001b[0m\n\u001b[1;31mSyntaxError\u001b[0m\u001b[1;31m:\u001b[0m EOL while scanning string literal\n"
     ]
    }
   ],
   "source": [
    "\"She said \\\"That is right.\\\""
   ]
  },
  {
   "cell_type": "code",
   "execution_count": 43,
   "metadata": {},
   "outputs": [
    {
     "data": {
      "text/plain": [
       "'She said \"Surely.\"'"
      ]
     },
     "execution_count": 43,
     "metadata": {},
     "output_type": "execute_result"
    }
   ],
   "source": [
    "'She said \\\"Surely.\\\"'"
   ]
  },
  {
   "cell_type": "code",
   "execution_count": 44,
   "metadata": {},
   "outputs": [
    {
     "ename": "SyntaxError",
     "evalue": "EOL while scanning string literal (<ipython-input-44-e83e258fc312>, line 7)",
     "output_type": "error",
     "traceback": [
      "\u001b[1;36m  File \u001b[1;32m\"<ipython-input-44-e83e258fc312>\"\u001b[1;36m, line \u001b[1;32m7\u001b[0m\n\u001b[1;33m    '\"She said \\\"That is right.\\'\u001b[0m\n\u001b[1;37m                                 ^\u001b[0m\n\u001b[1;31mSyntaxError\u001b[0m\u001b[1;31m:\u001b[0m EOL while scanning string literal\n"
     ]
    }
   ],
   "source": [
    "#SyntaxError: EOL while scanning string literal\n",
    "#「EOL(End of line)：最終行」がきてしまった．「string literal：文字列リテラル」の終わりの引用符\n",
    "#「”」を見つける前に． のような感じであろうか． \n",
    "#つまりprintの命令では印字する内容を引用符「”」で挟んであるはずなのに，\n",
    "#終わりを示す「”」が見つからないということである．\n",
    "\n",
    "'\"She said \\\"That is right.\\'"
   ]
  },
  {
   "cell_type": "code",
   "execution_count": 45,
   "metadata": {},
   "outputs": [
    {
     "data": {
      "text/plain": [
       "'She said \"That is right.\"'"
      ]
     },
     "execution_count": 45,
     "metadata": {},
     "output_type": "execute_result"
    }
   ],
   "source": [
    "'She said \\\"That is right.\\\"'"
   ]
  },
  {
   "cell_type": "code",
   "execution_count": 46,
   "metadata": {},
   "outputs": [
    {
     "name": "stdout",
     "output_type": "stream",
     "text": [
      "line1\\line2\\line3\n"
     ]
    }
   ],
   "source": [
    "print(\"line1\\line2\\line3\")"
   ]
  },
  {
   "cell_type": "code",
   "execution_count": 47,
   "metadata": {},
   "outputs": [
    {
     "name": "stdout",
     "output_type": "stream",
     "text": [
      "line1\n",
      "line2\n",
      "line3\n"
     ]
    }
   ],
   "source": [
    "print(\"line1\\nline2\\nline3\")"
   ]
  },
  {
   "cell_type": "code",
   "execution_count": 48,
   "metadata": {},
   "outputs": [
    {
     "ename": "TypeError",
     "evalue": "'set' object is not subscriptable",
     "output_type": "error",
     "traceback": [
      "\u001b[1;31m---------------------------------------------------------------------------\u001b[0m",
      "\u001b[1;31mTypeError\u001b[0m                                 Traceback (most recent call last)",
      "\u001b[1;32m<ipython-input-48-b35c91f4db01>\u001b[0m in \u001b[0;36m<module>\u001b[1;34m\u001b[0m\n\u001b[0;32m      1\u001b[0m \u001b[0mfict\u001b[0m \u001b[1;33m=\u001b[0m \u001b[1;33m{\u001b[0m\u001b[1;34m\"torsty\"\u001b[0m\u001b[1;33m,\u001b[0m\u001b[1;34m\"Camyu\"\u001b[0m\u001b[1;33m,\u001b[0m\u001b[1;34m\"Ohwell\"\u001b[0m\u001b[1;33m,\u001b[0m\u001b[1;34m\"Hacstory\"\u001b[0m\u001b[1;33m,\u001b[0m\u001b[1;34m\"ostin\"\u001b[0m\u001b[1;33m}\u001b[0m\u001b[1;33m\u001b[0m\u001b[1;33m\u001b[0m\u001b[0m\n\u001b[1;32m----> 2\u001b[1;33m \u001b[0mfict\u001b[0m\u001b[1;33m[\u001b[0m\u001b[1;36m0\u001b[0m\u001b[1;33m:\u001b[0m\u001b[1;36m3\u001b[0m\u001b[1;33m]\u001b[0m\u001b[1;33m\u001b[0m\u001b[1;33m\u001b[0m\u001b[0m\n\u001b[0m",
      "\u001b[1;31mTypeError\u001b[0m: 'set' object is not subscriptable"
     ]
    }
   ],
   "source": [
    "fict = {\"torsty\",\"Camyu\",\"Ohwell\",\"Hacstory\",\"ostin\"}\n",
    "fict[0:3]"
   ]
  },
  {
   "cell_type": "code",
   "execution_count": 49,
   "metadata": {},
   "outputs": [
    {
     "ename": "SyntaxError",
     "evalue": "invalid syntax (<ipython-input-49-70c4bc74d640>, line 1)",
     "output_type": "error",
     "traceback": [
      "\u001b[1;36m  File \u001b[1;32m\"<ipython-input-49-70c4bc74d640>\"\u001b[1;36m, line \u001b[1;32m1\u001b[0m\n\u001b[1;33m    fict = []\"torsty\",\"Camyu\",\"Ohwell\",\"Hacstory\",\"ostin\"]\u001b[0m\n\u001b[1;37m                    ^\u001b[0m\n\u001b[1;31mSyntaxError\u001b[0m\u001b[1;31m:\u001b[0m invalid syntax\n"
     ]
    }
   ],
   "source": [
    "fict = []\"torsty\",\"Camyu\",\"Ohwell\",\"Hacstory\",\"ostin\"]\n",
    "fict[0:3]"
   ]
  },
  {
   "cell_type": "code",
   "execution_count": 50,
   "metadata": {},
   "outputs": [
    {
     "data": {
      "text/plain": [
       "['torsty', 'Camyu', 'Ohwell']"
      ]
     },
     "execution_count": 50,
     "metadata": {},
     "output_type": "execute_result"
    }
   ],
   "source": [
    "fict = [\"torsty\",\"Camyu\",\"Ohwell\",\"Hacstory\",\"ostin\"]\n",
    "fict[0:3]"
   ]
  },
  {
   "cell_type": "code",
   "execution_count": 51,
   "metadata": {},
   "outputs": [
    {
     "data": {
      "text/plain": [
       "'There was one light instead of death.'"
      ]
     },
     "execution_count": 51,
     "metadata": {},
     "output_type": "execute_result"
    }
   ],
   "source": [
    "ivan = \"There was one light instead of death.\"\n",
    "ivan[:]"
   ]
  },
  {
   "cell_type": "code",
   "execution_count": 52,
   "metadata": {},
   "outputs": [],
   "source": [
    "#イテラブルなオブジェクトは要素を１回に１つずつ返す機能をもったオブジェクトで、以下が該当します。\n",
    "#iterable\n"
   ]
  },
  {
   "cell_type": "code",
   "execution_count": 53,
   "metadata": {},
   "outputs": [
    {
     "data": {
      "text/plain": [
       "'C'"
      ]
     },
     "execution_count": 53,
     "metadata": {},
     "output_type": "execute_result"
    }
   ],
   "source": [
    "#Let's output the character string, all the characters contained in \"Camus\" one character at a time!\n",
    "#文字列、「カミュ」に含まれている全文字を1文字ずつ出力しよう！\n",
    "author = \"Cammyu\"\n",
    "author[0]"
   ]
  },
  {
   "cell_type": "code",
   "execution_count": 54,
   "metadata": {},
   "outputs": [
    {
     "data": {
      "text/plain": [
       "'a'"
      ]
     },
     "execution_count": 54,
     "metadata": {},
     "output_type": "execute_result"
    }
   ],
   "source": [
    "author = \"Cammyu\"\n",
    "author[1]"
   ]
  },
  {
   "cell_type": "code",
   "execution_count": 55,
   "metadata": {},
   "outputs": [
    {
     "data": {
      "text/plain": [
       "'m'"
      ]
     },
     "execution_count": 55,
     "metadata": {},
     "output_type": "execute_result"
    }
   ],
   "source": [
    "author = \"Cammyu\"\n",
    "author[2]"
   ]
  },
  {
   "cell_type": "code",
   "execution_count": 56,
   "metadata": {},
   "outputs": [
    {
     "data": {
      "text/plain": [
       "'m'"
      ]
     },
     "execution_count": 56,
     "metadata": {},
     "output_type": "execute_result"
    }
   ],
   "source": [
    "author = \"Cammyu\"\n",
    "author[3]"
   ]
  },
  {
   "cell_type": "code",
   "execution_count": 57,
   "metadata": {},
   "outputs": [
    {
     "data": {
      "text/plain": [
       "'y'"
      ]
     },
     "execution_count": 57,
     "metadata": {},
     "output_type": "execute_result"
    }
   ],
   "source": [
    "author = \"Cammyu\"\n",
    "author[4]"
   ]
  },
  {
   "cell_type": "code",
   "execution_count": 58,
   "metadata": {},
   "outputs": [
    {
     "data": {
      "text/plain": [
       "'u'"
      ]
     },
     "execution_count": 58,
     "metadata": {},
     "output_type": "execute_result"
    }
   ],
   "source": [
    "author = \"Cammyu\"\n",
    "author[5]"
   ]
  },
  {
   "cell_type": "code",
   "execution_count": 59,
   "metadata": {},
   "outputs": [
    {
     "name": "stdout",
     "output_type": "stream",
     "text": [
      "what:he\n",
      "do:enjoy\n"
     ]
    }
   ],
   "source": [
    "#Let's write a program that allows you to enter two strings!\n",
    "#2つの文字列を入力させるプログラムを書こう！\n",
    "\n",
    "what = input(\"what:\")\n",
    "do = input(\"do:\")\n",
    "\n",
    "r=\"() is ()\".format(what,do)"
   ]
  },
  {
   "cell_type": "code",
   "execution_count": 60,
   "metadata": {},
   "outputs": [
    {
     "name": "stdout",
     "output_type": "stream",
     "text": [
      "what:He\n",
      "do:enjoy\n",
      "() is ()\n"
     ]
    }
   ],
   "source": [
    "what = input(\"what:\")\n",
    "do = input(\"do:\")\n",
    "\n",
    "r=\"() is ()\".format(what,do)\n",
    "print(r)"
   ]
  },
  {
   "cell_type": "code",
   "execution_count": 61,
   "metadata": {},
   "outputs": [
    {
     "name": "stdout",
     "output_type": "stream",
     "text": [
      "what:He\n",
      "do:enjoy\n"
     ]
    }
   ],
   "source": [
    "what = input(\"what:\")\n",
    "do = input(\"do:\")\n",
    "\n",
    "r=\"{} is {}\".format(what,do)"
   ]
  },
  {
   "cell_type": "code",
   "execution_count": 62,
   "metadata": {},
   "outputs": [
    {
     "name": "stdout",
     "output_type": "stream",
     "text": [
      "what:He\n",
      "do:enjoy\n",
      "He is enjoy\n"
     ]
    }
   ],
   "source": [
    "what = input(\"what:\")\n",
    "do = input(\"do:\")\n",
    "\n",
    "r=\"{} is {}\".format(what,do)\n",
    "print(r)"
   ]
  },
  {
   "cell_type": "code",
   "execution_count": 63,
   "metadata": {},
   "outputs": [
    {
     "data": {
      "text/plain": [
       "'Aldous huxley was born in 1894.'"
      ]
     },
     "execution_count": 63,
     "metadata": {},
     "output_type": "execute_result"
    }
   ],
   "source": [
    "#一番厄介なのはカッコだね。中カッコなのか、小かっこなのか。\n",
    "#いい覚え方あったらいいのになぁ…\n",
    "\n",
    "#Let's capitalize the beginning of the character string \"aldous Huxley was born in 1894.\" \n",
    "#grammatically written with correct sentences using the method!\n",
    "#文法的には正しい文章を書いた文字列\"aldous Huxley was born in 1894.\"の先頭をメソッドを使って大文字にしよう！\n",
    "\n",
    "#capitalize=大文字にする\n",
    "\n",
    "\"aldous Huxley was born in 1894.\" .capitalize()\n"
   ]
  },
  {
   "cell_type": "code",
   "execution_count": 64,
   "metadata": {},
   "outputs": [
    {
     "data": {
      "text/plain": [
       "['what', 'who', 'when']"
      ]
     },
     "execution_count": 64,
     "metadata": {},
     "output_type": "execute_result"
    }
   ],
   "source": [
    "#Split the string \"Where, who, when?\" With the method and let 's make it a list like \"where\", \"who\", \"when\".\n",
    "#文字列”どこで、誰が、いつ？”をメソッドで分割して、「\"どこで\"、\"誰が”、”いつ”」のようなリストにしよう。\n",
    "\n",
    "\"what who when\".split()"
   ]
  },
  {
   "cell_type": "code",
   "execution_count": 65,
   "metadata": {},
   "outputs": [
    {
     "data": {
      "text/plain": [
       "'Thefoxjumpedoverfence.'"
      ]
     },
     "execution_count": 65,
     "metadata": {},
     "output_type": "execute_result"
    }
   ],
   "source": [
    "#Concatenate strings of the list [\"The\", \"fox\", \"jumped\", \"over\", \"fence\", \".\"]\n",
    "#So that they become correct English sentences. Whitespace is required between words,\n",
    "# but no space is required before the last period. Do not forget that\n",
    "#there is a method to concatenate the list with strings as elements!\n",
    "\n",
    "#リスト[\"The\",\"fox\",\"jumped\",\"over\",\"fence\",\".\"]の、文字列を正しい英文になるように連結使用。\n",
    "#単語間には空白が必要ですが、最後のピリオドの前には空白は要らない。\n",
    "#文字列を要素に持つリストを1つに連結するメソッドがある事を忘れずに！\n",
    "\n",
    "#join=接合する。\n",
    "#joinという動詞、「参加する」という意味がすぐに頭に浮かびますが、\n",
    "#「接合する」という意味もあります。\n",
    "#Join the two pieces of wood with strong glue. 強力な接着剤で接合する\n",
    "#joinという語根には、「つなぐ」「交」というような意味があります。\n",
    "#「つなぐ」の意味から「参加する」の意味は容易に連想できます。\n",
    "#日本語にもなっているジョイント（joint）は、もともとはjoinの過去分詞形でした。\n",
    "#それが「継ぎ目」の意味で名詞化しています。\n",
    "\n",
    "words = [\"The\", \"fox\", \"jumped\", \"over\", \"fence\", \".\"]\n",
    "one = \"\".join(words)\n",
    "one\n",
    "\n"
   ]
  },
  {
   "cell_type": "code",
   "execution_count": 66,
   "metadata": {},
   "outputs": [
    {
     "data": {
      "text/plain": [
       "'The fox jumped over fence.'"
      ]
     },
     "execution_count": 66,
     "metadata": {},
     "output_type": "execute_result"
    }
   ],
   "source": [
    "words = [\"The\", \" fox\", \" jumped\", \" over\", \" fence\", \".\"]\n",
    "one = \"\".join(words)\n",
    "one"
   ]
  },
  {
   "cell_type": "code",
   "execution_count": 67,
   "metadata": {},
   "outputs": [
    {
     "ename": "SyntaxError",
     "evalue": "invalid character in identifier (<ipython-input-67-7d855dbffd1a>, line 8)",
     "output_type": "error",
     "traceback": [
      "\u001b[1;36m  File \u001b[1;32m\"<ipython-input-67-7d855dbffd1a>\"\u001b[1;36m, line \u001b[1;32m8\u001b[0m\n\u001b[1;33m    equ = ”A screaming comes across the sky.\"\u001b[0m\n\u001b[1;37m           ^\u001b[0m\n\u001b[1;31mSyntaxError\u001b[0m\u001b[1;31m:\u001b[0m invalid character in identifier\n"
     ]
    }
   ],
   "source": [
    "#Let's create a character string that replaces all \"s\" contained in\n",
    "#the character string \"A screaming comes across the sky.\" With a dollar sign.\n",
    "#文字列”A screaming comes across the sky.\"\n",
    "#に含まれる全\"s\"をドル記号に置き換えた文字列を作ろう。\n",
    "#空へ向かって叫ぼう？　×\n",
    "#across が抜けている。　絶叫が空中を横切る。が正解。\n",
    "\n",
    "equ = ”A screaming comes across the sky.\"\n",
    "equ = equ.replace(\"s\",\"$\")\n",
    "print(equ)\n"
   ]
  },
  {
   "cell_type": "code",
   "execution_count": 68,
   "metadata": {},
   "outputs": [
    {
     "name": "stdout",
     "output_type": "stream",
     "text": [
      "A $creaming come$ acro$$ the $ky.\n"
     ]
    }
   ],
   "source": [
    "equ = \"A screaming comes across the sky.\"\n",
    "equ = equ.replace(\"s\",\"$\")\n",
    "print(equ)"
   ]
  },
  {
   "cell_type": "code",
   "execution_count": 69,
   "metadata": {},
   "outputs": [],
   "source": [
    "#invalid character in identifier\n",
    "#全角アンダースコアやその他、半角英数字と紛らわしい文字が混入しているんだと思います。\n",
    "#一度エディタで該当のコードをASCIIで保存し直すと紛らわしい文字は消えるなり\n",
    "#クエスチョンマークに置換されるなりで問題箇所が明らかになると思います。"
   ]
  },
  {
   "cell_type": "code",
   "execution_count": 70,
   "metadata": {},
   "outputs": [
    {
     "ename": "NameError",
     "evalue": "name 'm' is not defined",
     "output_type": "error",
     "traceback": [
      "\u001b[1;31m---------------------------------------------------------------------------\u001b[0m",
      "\u001b[1;31mNameError\u001b[0m                                 Traceback (most recent call last)",
      "\u001b[1;32m<ipython-input-70-c16484b08036>\u001b[0m in \u001b[0;36m<module>\u001b[1;34m\u001b[0m\n\u001b[0;32m      2\u001b[0m \u001b[1;31m#メソッドを使って、\"Hemingway\"の中で最初に\"m\"が出現するインデックスを調べよう！\u001b[0m\u001b[1;33m\u001b[0m\u001b[1;33m\u001b[0m\u001b[1;33m\u001b[0m\u001b[0m\n\u001b[0;32m      3\u001b[0m \u001b[1;33m\u001b[0m\u001b[0m\n\u001b[1;32m----> 4\u001b[1;33m \u001b[1;34m\"Hemingway\"\u001b[0m\u001b[1;33m.\u001b[0m\u001b[0mindex\u001b[0m\u001b[1;33m(\u001b[0m\u001b[0mm\u001b[0m\u001b[1;33m)\u001b[0m\u001b[1;33m\u001b[0m\u001b[1;33m\u001b[0m\u001b[0m\n\u001b[0m",
      "\u001b[1;31mNameError\u001b[0m: name 'm' is not defined"
     ]
    }
   ],
   "source": [
    "#Using the method, let's investigate the index where \"m\" first appears in \"Hemingway\"!\n",
    "#メソッドを使って、\"Hemingway\"の中で最初に\"m\"が出現するインデックスを調べよう！\n",
    "\n",
    "\"Hemingway\".index(m)\n"
   ]
  },
  {
   "cell_type": "code",
   "execution_count": 71,
   "metadata": {},
   "outputs": [
    {
     "data": {
      "text/plain": [
       "2"
      ]
     },
     "execution_count": 71,
     "metadata": {},
     "output_type": "execute_result"
    }
   ],
   "source": [
    "\"Hemingway\".index(\"m\")"
   ]
  },
  {
   "cell_type": "code",
   "execution_count": 72,
   "metadata": {},
   "outputs": [
    {
     "data": {
      "text/plain": [
       "'This string is \"very\" normal.'"
      ]
     },
     "execution_count": 72,
     "metadata": {},
     "output_type": "execute_result"
    }
   ],
   "source": [
    "#name 'm' is not defined\n",
    "#名前 'm'は定義されていません\n",
    "#index=索引をつける\n",
    "\n",
    "#Let's look for the lines of your favorite book and make it a Python string.\n",
    "#However, selecting lines that contain quoted characters.\n",
    "#好きな本のセリフを探して、Pythonの文字列にしよう。\n",
    "#但し、クォート文字が含まれている台詞を選ぶこと。\n",
    "\n",
    "#クオート文字列、つまり一般的にこういうやつ\"This string is \\\"very\\\" normal.\"。\n",
    "#つまり台詞の中に台詞が入るようなやつをそういうのだろうな。\n",
    "\n",
    "\"This string is \\\"very\\\" normal.\"\n",
    "\n",
    "\n"
   ]
  },
  {
   "cell_type": "code",
   "execution_count": 73,
   "metadata": {},
   "outputs": [
    {
     "data": {
      "text/plain": [
       "'ThreeThreeThree'"
      ]
     },
     "execution_count": 73,
     "metadata": {},
     "output_type": "execute_result"
    }
   ],
   "source": [
    "#Let's combine the strings with \"+\" to make the string \"three three three\".\n",
    "#Let's also make a string using \"*\"!\n",
    "\n",
    "#文字列を”+”で結合して”three three three\"という文字列を作ろう。\n",
    "#又、”*”を使って文字列を作ってみよう！\n",
    "\n",
    "\"Three\" + \"Three\" + \"Three\""
   ]
  },
  {
   "cell_type": "code",
   "execution_count": 74,
   "metadata": {},
   "outputs": [
    {
     "data": {
      "text/plain": [
       "'ThreeThreeThree'"
      ]
     },
     "execution_count": 74,
     "metadata": {},
     "output_type": "execute_result"
    }
   ],
   "source": [
    "\"Three\" * 3"
   ]
  },
  {
   "cell_type": "code",
   "execution_count": 75,
   "metadata": {},
   "outputs": [
    {
     "ename": "SyntaxError",
     "evalue": "invalid syntax (<ipython-input-75-37745056bc71>, line 9)",
     "output_type": "error",
     "traceback": [
      "\u001b[1;36m  File \u001b[1;32m\"<ipython-input-75-37745056bc71>\"\u001b[1;36m, line \u001b[1;32m9\u001b[0m\n\u001b[1;33m    fict = [0:7]\u001b[0m\n\u001b[1;37m             ^\u001b[0m\n\u001b[1;31mSyntaxError\u001b[0m\u001b[1;31m:\u001b[0m invalid syntax\n"
     ]
    }
   ],
   "source": [
    "#Let's slice the character string \"On the sunny and cold day of April,\n",
    "#all the clocks were striking the 13 o'clock\" and prepare a partial\n",
    "#character string before \",\"!\n",
    "\n",
    "#文字列”四月の晴れた寒い日で、時計がどれも十三時を打っていた。\n",
    "#”をスライスして、「、」の前までの部分文字列を作ろう！\n",
    "\n",
    "fict = \"On the sunny and cold day of April,#all the clocks were striking the 13 o'clock\" \n",
    "fict = [0:7]"
   ]
  },
  {
   "cell_type": "code",
   "execution_count": 76,
   "metadata": {},
   "outputs": [
    {
     "ename": "SyntaxError",
     "evalue": "invalid syntax (<ipython-input-76-a9be93a6e638>, line 2)",
     "output_type": "error",
     "traceback": [
      "\u001b[1;36m  File \u001b[1;32m\"<ipython-input-76-a9be93a6e638>\"\u001b[1;36m, line \u001b[1;32m2\u001b[0m\n\u001b[1;33m    fict = [0:7]\u001b[0m\n\u001b[1;37m             ^\u001b[0m\n\u001b[1;31mSyntaxError\u001b[0m\u001b[1;31m:\u001b[0m invalid syntax\n"
     ]
    }
   ],
   "source": [
    "fict = [\"On the sunny and cold day of April,#all the clocks were striking the 13 o'clock\" ]\n",
    "fict = [0:7]"
   ]
  },
  {
   "cell_type": "code",
   "execution_count": 77,
   "metadata": {},
   "outputs": [
    {
     "data": {
      "text/plain": [
       "[\"On the sunny and cold day of April,#all the clocks were striking the 13 o'clock\"]"
      ]
     },
     "execution_count": 77,
     "metadata": {},
     "output_type": "execute_result"
    }
   ],
   "source": [
    "fict = [\"On the sunny and cold day of April,#all the clocks were striking the 13 o'clock\" ]\n",
    "fict [0:7]"
   ]
  },
  {
   "cell_type": "code",
   "execution_count": 78,
   "metadata": {},
   "outputs": [
    {
     "ename": "SyntaxError",
     "evalue": "invalid syntax (<ipython-input-78-c5ac0ecd4513>, line 2)",
     "output_type": "error",
     "traceback": [
      "\u001b[1;36m  File \u001b[1;32m\"<ipython-input-78-c5ac0ecd4513>\"\u001b[1;36m, line \u001b[1;32m2\u001b[0m\n\u001b[1;33m    fict = [0:1]\u001b[0m\n\u001b[1;37m             ^\u001b[0m\n\u001b[1;31mSyntaxError\u001b[0m\u001b[1;31m:\u001b[0m invalid syntax\n"
     ]
    }
   ],
   "source": [
    "fict = [\"On the sunny and cold day of April,#all the clocks were striking the 13 o'clock\" ]\n",
    "fict = [0:1]"
   ]
  },
  {
   "cell_type": "code",
   "execution_count": 79,
   "metadata": {},
   "outputs": [
    {
     "data": {
      "text/plain": [
       "[\"On the sunny and cold day of April,#all the clocks were striking the 13 o'clock\"]"
      ]
     },
     "execution_count": 79,
     "metadata": {},
     "output_type": "execute_result"
    }
   ],
   "source": [
    "fict = [\"On the sunny and cold day of April,#all the clocks were striking the 13 o'clock\" ]\n",
    "fict [0:1]"
   ]
  },
  {
   "cell_type": "code",
   "execution_count": 80,
   "metadata": {},
   "outputs": [
    {
     "data": {
      "text/plain": [
       "[\"On the sunny and cold day of April, all the clocks were striking the 13 o'clock\"]"
      ]
     },
     "execution_count": 80,
     "metadata": {},
     "output_type": "execute_result"
    }
   ],
   "source": [
    "fict = [\"On the sunny and cold day of April, all the clocks were striking the 13 o'clock\" ]\n",
    "fict [0:1]"
   ]
  },
  {
   "cell_type": "code",
   "execution_count": 81,
   "metadata": {},
   "outputs": [
    {
     "data": {
      "text/plain": [
       "['On the sunny and cold day of April']"
      ]
     },
     "execution_count": 81,
     "metadata": {},
     "output_type": "execute_result"
    }
   ],
   "source": [
    "fict = [\"On the sunny and cold day of April\", \"all the clocks were striking the 13 o'clock\" ]\n",
    "fict [0:1]"
   ]
  },
  {
   "cell_type": "code",
   "execution_count": 82,
   "metadata": {},
   "outputs": [
    {
     "data": {
      "text/plain": [
       "'On the sunny and cold day of April'"
      ]
     },
     "execution_count": 82,
     "metadata": {},
     "output_type": "execute_result"
    }
   ],
   "source": [
    "fict = \"On the sunny and cold day of April, all the clocks were striking the 13 o'clock\" \n",
    "fict [:34]"
   ]
  },
  {
   "cell_type": "code",
   "execution_count": 83,
   "metadata": {},
   "outputs": [
    {
     "name": "stdout",
     "output_type": "stream",
     "text": [
      "C\n",
      "a\n",
      "m\n",
      "u\n",
      "s\n"
     ]
    }
   ],
   "source": [
    "for let in \"Camus\":\n",
    "\tprint(let)"
   ]
  },
  {
   "cell_type": "code",
   "execution_count": 84,
   "metadata": {},
   "outputs": [
    {
     "name": "stdout",
     "output_type": "stream",
     "text": [
      "Yesterday I wrote a [response_one]. I sent it to [response_two]!\n",
      "What would you like to replace [response_one] with? 1\n",
      "What would you like to replace [response_two] with? 2\n",
      "Yesterday I worte 1. I sent it to 2!\n"
     ]
    }
   ],
   "source": [
    "orig = \"Yesterday I wrote a [response_one]. I sent it to [response_two]!\"\n",
    "print(orig)\n",
    "first = input(\"What would you like to replace [response_one] with? \")\n",
    "second = input(\"What would you like to replace [response_two] with? \")\n",
    "orig = \"Yesterday I worte {}. I sent it to {}!\".format(first, second)\n",
    "print(orig)"
   ]
  },
  {
   "cell_type": "code",
   "execution_count": 85,
   "metadata": {},
   "outputs": [
    {
     "name": "stdout",
     "output_type": "stream",
     "text": [
      "Aldous huxley was born in 1894.\n"
     ]
    }
   ],
   "source": [
    "thre = \"aldous Huxley was born in 1894.\"\n",
    "print(thre.capitalize())"
   ]
  },
  {
   "cell_type": "code",
   "execution_count": 86,
   "metadata": {},
   "outputs": [
    {
     "name": "stdout",
     "output_type": "stream",
     "text": [
      "['Where now', ' Who now', ' When now', '']\n"
     ]
    }
   ],
   "source": [
    "lst = \"Where now? Who now? When now?\".split(\"?\")\n",
    "print(lst)"
   ]
  },
  {
   "cell_type": "code",
   "execution_count": 87,
   "metadata": {},
   "outputs": [
    {
     "name": "stdout",
     "output_type": "stream",
     "text": [
      "['Where now?', 'Who now?', 'When now?']\n"
     ]
    }
   ],
   "source": [
    "senten = \"Where now? Who now? When now?\"\n",
    "stringer = \"\"\n",
    "result = []\n",
    "for let in senten:\n",
    "\tstringer = stringer + let\n",
    "\tif let == \"?\":\n",
    "\t\tif stringer[0] == \" \":\n",
    "\t\t\tresult.append(stringer[1:])\n",
    "\t\telse:\n",
    "\t\t\tresult.append(stringer)\n",
    "\t\tstringer = \"\"\n",
    "print(result)"
   ]
  },
  {
   "cell_type": "code",
   "execution_count": 88,
   "metadata": {},
   "outputs": [
    {
     "name": "stdout",
     "output_type": "stream",
     "text": [
      "The fox jumped over the fence.\n"
     ]
    }
   ],
   "source": [
    "fiv = [\"The\", \"fox\", \"jumped\", \"over\", \"the\", \"fence\", \".\"]\n",
    "fiv = \" \".join(fiv[:6]) + fiv[6]\n",
    "print(fiv)"
   ]
  },
  {
   "cell_type": "code",
   "execution_count": 89,
   "metadata": {},
   "outputs": [
    {
     "name": "stdout",
     "output_type": "stream",
     "text": [
      "A $creaming come$ acro$$ the $ky.\n"
     ]
    }
   ],
   "source": [
    "chal6 = \"A screaming comes across the sky.\"\n",
    "chal6 = chal6.replace(\"s\", \"$\")\n",
    "print(chal6)"
   ]
  },
  {
   "cell_type": "code",
   "execution_count": 90,
   "metadata": {},
   "outputs": [
    {
     "name": "stdout",
     "output_type": "stream",
     "text": [
      "2\n"
     ]
    }
   ],
   "source": [
    "chal7 = \"Hemingway\"\n",
    "print(chal7.index(\"m\"))"
   ]
  },
  {
   "cell_type": "code",
   "execution_count": 91,
   "metadata": {},
   "outputs": [
    {
     "name": "stdout",
     "output_type": "stream",
     "text": [
      "\"Wow!\" she said. \"This is a stupid challenge\" Kurt interrupted.\n"
     ]
    }
   ],
   "source": [
    "chal8 = \"\\\"Wow!\\\" she said. \\\"This is a stupid challenge\\\" Kurt interrupted.\"\n",
    "print(chal8)"
   ]
  },
  {
   "cell_type": "code",
   "execution_count": 92,
   "metadata": {},
   "outputs": [
    {
     "name": "stdout",
     "output_type": "stream",
     "text": [
      "three three three\n",
      "three three three\n"
     ]
    }
   ],
   "source": [
    "chal9a = \"three \" + \"three \" + \"three\"\n",
    "print(chal9a)\n",
    "chal9b = \"three \" * 3\n",
    "print(chal9b[:-1])"
   ]
  },
  {
   "cell_type": "code",
   "execution_count": 93,
   "metadata": {},
   "outputs": [
    {
     "name": "stdout",
     "output_type": "stream",
     "text": [
      "It was a bright cold day in April\n"
     ]
    }
   ],
   "source": [
    "chal10 = \"It was a bright cold day in April, and the cocks were striking thirteen.\"\n",
    "comma = chal10.index(\",\")\n",
    "chal10 = chal10[:comma]\n",
    "print(chal10)"
   ]
  },
  {
   "cell_type": "code",
   "execution_count": null,
   "metadata": {},
   "outputs": [],
   "source": []
  }
 ],
 "metadata": {
  "kernelspec": {
   "display_name": "Python 3",
   "language": "python",
   "name": "python3"
  },
  "language_info": {
   "codemirror_mode": {
    "name": "ipython",
    "version": 3
   },
   "file_extension": ".py",
   "mimetype": "text/x-python",
   "name": "python",
   "nbconvert_exporter": "python",
   "pygments_lexer": "ipython3",
   "version": "3.7.1"
  }
 },
 "nbformat": 4,
 "nbformat_minor": 2
}
