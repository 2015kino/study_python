{
 "cells": [
  {
   "cell_type": "code",
   "execution_count": 1,
   "metadata": {},
   "outputs": [],
   "source": [
    "#challenge:\n",
    "#1: Let's write a function that accepts numbers as input values and returns a squared number.\n",
    "#1:数字を入力値として受け取り、その数字を2乗した戻り値を返す関数を書いてみよう。\n",
    "\n",
    "def f(x):\n",
    "    x * 2\n",
    "f(2)"
   ]
  },
  {
   "cell_type": "code",
   "execution_count": 2,
   "metadata": {},
   "outputs": [
    {
     "data": {
      "text/plain": [
       "4"
      ]
     },
     "execution_count": 2,
     "metadata": {},
     "output_type": "execute_result"
    }
   ],
   "source": [
    "def f(x):\n",
    "    return x * 2\n",
    "f(2)"
   ]
  },
  {
   "cell_type": "code",
   "execution_count": 3,
   "metadata": {},
   "outputs": [
    {
     "name": "stdout",
     "output_type": "stream",
     "text": [
      "test\n"
     ]
    }
   ],
   "source": [
    "#2: Let's write a function that takes a character string as an argument and outputs the character string.\n",
    "#2:文字列を引数とし、その文字列を出力する関数を書いてみよう。\n",
    "#string=文字列\n",
    "#result(結果)\n",
    "\n",
    "#def f(x,y,z)\n",
    "#文字列って言ったらstring\n",
    "\n",
    "def st1(string):\n",
    "    print(string)\n",
    "\n",
    "st1(\"test\")"
   ]
  },
  {
   "cell_type": "code",
   "execution_count": 4,
   "metadata": {},
   "outputs": [],
   "source": [
    "#物事は難しく考えなくていい\n",
    "#st1という名前を作ってその中に（ｘ）という代入子を作りました。今回はstring。\n",
    "#それを文字列をプリントしましょうと定義します。\n",
    "#最後に定義したst1という定義した文章を呼び出して、文字列を入れるとその定義したプログラムが反映されるので、\n",
    "#string(文字列)、つまり文字列を読んでくれる定義文になります。\n",
    "\n"
   ]
  },
  {
   "cell_type": "code",
   "execution_count": 5,
   "metadata": {},
   "outputs": [
    {
     "name": "stdout",
     "output_type": "stream",
     "text": [
      "2.0\n"
     ]
    }
   ],
   "source": [
    "#4:2つの関数からなるプログラムを書いてみよう。\n",
    "#1つ目の関数は整数を引数として受け取り、その整数を２で割って求められる整数を出力として返そう。\n",
    "#2つ目の関数は整数を引数として受け取り、４で掛けた整数を返そう。プログラム内で、\n",
    "#１つ目の関数と呼び、戻り値を変数として保存し、２つ目の関数の引数として渡そう。\n",
    "\n",
    "#4: Let's write a program consisting of two functions.\n",
    "\n",
    "#The first function takes an integer as an argument and returns an integer obtained\n",
    "#by dividing the integer by 2 as an output.\n",
    "#The second function accepts an integer as an argument and returns an integer multiplied by 4.\n",
    "#In the program, call it the first function, save the return value as a variable\n",
    "#and pass it as the argument of the second function.\n",
    "\n",
    "def f(x):\n",
    "    return x / 2\n",
    "z = f(4)\n",
    "\n",
    "print(z)\n"
   ]
  },
  {
   "cell_type": "code",
   "execution_count": 6,
   "metadata": {},
   "outputs": [
    {
     "ename": "NameError",
     "evalue": "name 'y' is not defined",
     "output_type": "error",
     "traceback": [
      "\u001b[1;31m---------------------------------------------------------------------------\u001b[0m",
      "\u001b[1;31mNameError\u001b[0m                                 Traceback (most recent call last)",
      "\u001b[1;32m<ipython-input-6-1205370de741>\u001b[0m in \u001b[0;36m<module>\u001b[1;34m()\u001b[0m\n\u001b[0;32m      6\u001b[0m     \u001b[1;32mreturn\u001b[0m \u001b[0my\u001b[0m \u001b[1;33m*\u001b[0m \u001b[1;36m4\u001b[0m\u001b[1;33m\u001b[0m\u001b[0m\n\u001b[0;32m      7\u001b[0m \u001b[1;33m\u001b[0m\u001b[0m\n\u001b[1;32m----> 8\u001b[1;33m \u001b[0my\u001b[0m \u001b[1;33m=\u001b[0m \u001b[0mz\u001b[0m\u001b[1;33m(\u001b[0m\u001b[0my\u001b[0m\u001b[1;33m)\u001b[0m\u001b[1;33m\u001b[0m\u001b[0m\n\u001b[0m\u001b[0;32m      9\u001b[0m \u001b[0mprint\u001b[0m\u001b[1;33m(\u001b[0m\u001b[0my\u001b[0m\u001b[1;33m)\u001b[0m\u001b[1;33m\u001b[0m\u001b[0m\n",
      "\u001b[1;31mNameError\u001b[0m: name 'y' is not defined"
     ]
    }
   ],
   "source": [
    "def f(x):\n",
    "    return x / 2\n",
    "z = f(4)\n",
    "\n",
    "def z(y):\n",
    "    return y * 4\n",
    "\n",
    "y = z(y)\n",
    "print(y)"
   ]
  },
  {
   "cell_type": "code",
   "execution_count": 7,
   "metadata": {},
   "outputs": [
    {
     "name": "stdout",
     "output_type": "stream",
     "text": [
      "8.0\n"
     ]
    }
   ],
   "source": [
    "def divide(x):\n",
    "    return x / 2\n",
    "\n",
    "\n",
    "def multiply(x):\n",
    "    return x * 4\n",
    "\n",
    "y = divide(4)\n",
    "z = multiply(y)\n",
    "\n",
    "print(z)"
   ]
  },
  {
   "cell_type": "code",
   "execution_count": 8,
   "metadata": {},
   "outputs": [
    {
     "name": "stdout",
     "output_type": "stream",
     "text": [
      "1.0\n"
     ]
    }
   ],
   "source": [
    "def f(x):\n",
    "    return x / 2\n",
    "\n",
    "def z(x):\n",
    "    return x * 4\n",
    "\n",
    "y = f(4)\n",
    "z = f(y)\n",
    "print(z)"
   ]
  },
  {
   "cell_type": "code",
   "execution_count": 9,
   "metadata": {},
   "outputs": [
    {
     "name": "stdout",
     "output_type": "stream",
     "text": [
      "1.0\n"
     ]
    }
   ],
   "source": [
    "def f(x):\n",
    "    return x / 2\n",
    "\n",
    "def z(x):\n",
    "    return x * 4\n",
    "\n",
    "y = f(4)\n",
    "z = f(y)\n",
    "print(z)"
   ]
  },
  {
   "cell_type": "code",
   "execution_count": 10,
   "metadata": {},
   "outputs": [
    {
     "ename": "NameError",
     "evalue": "name 'x' is not defined",
     "output_type": "error",
     "traceback": [
      "\u001b[1;31m---------------------------------------------------------------------------\u001b[0m",
      "\u001b[1;31mNameError\u001b[0m                                 Traceback (most recent call last)",
      "\u001b[1;32m<ipython-input-10-f4894d06513c>\u001b[0m in \u001b[0;36m<module>\u001b[1;34m()\u001b[0m\n\u001b[1;32m----> 1\u001b[1;33m \u001b[1;32mdel\u001b[0m \u001b[0mx\u001b[0m\u001b[1;33m,\u001b[0m\u001b[0my\u001b[0m\u001b[1;33m,\u001b[0m\u001b[0mz\u001b[0m\u001b[1;33m\u001b[0m\u001b[0m\n\u001b[0m",
      "\u001b[1;31mNameError\u001b[0m: name 'x' is not defined"
     ]
    }
   ],
   "source": [
    "del x,y,z"
   ]
  },
  {
   "cell_type": "code",
   "execution_count": 11,
   "metadata": {},
   "outputs": [
    {
     "name": "stdout",
     "output_type": "stream",
     "text": [
      "1.0\n"
     ]
    }
   ],
   "source": [
    "def f(x):\n",
    "    return x / 2\n",
    "\n",
    "def z(x):\n",
    "    return x * 4\n",
    "\n",
    "y = f(4)\n",
    "z = f(y)\n",
    "print(z)"
   ]
  },
  {
   "cell_type": "code",
   "execution_count": 12,
   "metadata": {},
   "outputs": [
    {
     "name": "stdout",
     "output_type": "stream",
     "text": [
      "8.0\n"
     ]
    }
   ],
   "source": [
    "def divide(x):\n",
    "    return x / 2\n",
    "\n",
    "\n",
    "def multiply(x):\n",
    "    return x * 4\n",
    "\n",
    "y = divide(4)\n",
    "z = multiply(y)\n",
    "\n",
    "print(z)"
   ]
  },
  {
   "cell_type": "code",
   "execution_count": 13,
   "metadata": {},
   "outputs": [
    {
     "ename": "NameError",
     "evalue": "name 'g' is not defined",
     "output_type": "error",
     "traceback": [
      "\u001b[1;31m---------------------------------------------------------------------------\u001b[0m",
      "\u001b[1;31mNameError\u001b[0m                                 Traceback (most recent call last)",
      "\u001b[1;32m<ipython-input-13-61eb6b25654b>\u001b[0m in \u001b[0;36m<module>\u001b[1;34m()\u001b[0m\n\u001b[0;32m      6\u001b[0m \u001b[1;33m\u001b[0m\u001b[0m\n\u001b[0;32m      7\u001b[0m \u001b[0my\u001b[0m \u001b[1;33m=\u001b[0m \u001b[0mf\u001b[0m\u001b[1;33m(\u001b[0m\u001b[1;36m4\u001b[0m\u001b[1;33m)\u001b[0m\u001b[1;33m\u001b[0m\u001b[0m\n\u001b[1;32m----> 8\u001b[1;33m \u001b[0mz\u001b[0m \u001b[1;33m=\u001b[0m \u001b[0mg\u001b[0m\u001b[1;33m(\u001b[0m\u001b[0my\u001b[0m\u001b[1;33m)\u001b[0m\u001b[1;33m\u001b[0m\u001b[0m\n\u001b[0m\u001b[0;32m      9\u001b[0m \u001b[0mprint\u001b[0m\u001b[1;33m(\u001b[0m\u001b[0mz\u001b[0m\u001b[1;33m)\u001b[0m\u001b[1;33m\u001b[0m\u001b[0m\n",
      "\u001b[1;31mNameError\u001b[0m: name 'g' is not defined"
     ]
    }
   ],
   "source": [
    "def f(x):\n",
    "    return x / 2\n",
    "\n",
    "def z(x):\n",
    "    return x * 4\n",
    "\n",
    "y = f(4)\n",
    "z = g(y)\n",
    "print(z)"
   ]
  },
  {
   "cell_type": "code",
   "execution_count": 14,
   "metadata": {},
   "outputs": [
    {
     "name": "stdout",
     "output_type": "stream",
     "text": [
      "1.0\n"
     ]
    }
   ],
   "source": [
    "def f(x):\n",
    "    return x / 2\n",
    "\n",
    "def g(x):\n",
    "    return x * 4\n",
    "\n",
    "y = f(4)\n",
    "z = f(y)\n",
    "print(z)"
   ]
  },
  {
   "cell_type": "code",
   "execution_count": 15,
   "metadata": {},
   "outputs": [
    {
     "name": "stdout",
     "output_type": "stream",
     "text": [
      "8.0\n"
     ]
    }
   ],
   "source": [
    "def one(x):\n",
    "    return x / 2\n",
    "\n",
    "def two(x):\n",
    "    return x * 4\n",
    "\n",
    "y = one(4)\n",
    "z = two(y)\n",
    "print(z)"
   ]
  },
  {
   "cell_type": "code",
   "execution_count": 16,
   "metadata": {},
   "outputs": [
    {
     "name": "stdout",
     "output_type": "stream",
     "text": [
      "type a number:11\n",
      "type b number:hund\n",
      "Invlid input.\n"
     ]
    }
   ],
   "source": [
    "#幾ら短文だからといって名称を短くするのはやめるように。\n",
    "\n",
    "#5:文字列をfloat型に変換して戻り値とする関数を書いてみよう。起こり得る例外をキャッチする例外処理を書こう。\n",
    "#5: Let's write a function that converts character string to float type and returns it.\n",
    "#Let's write an exception handling catching possible exceptions.\n",
    "try:\n",
    "    a=input(\"type a number:\")\n",
    "    b=input(\"type b number:\")\n",
    "    a=int(a)\n",
    "    b=int(b)\n",
    "    print(a/b)\n",
    "except (ZeroDivisionError,ValueError):\n",
    "    print(\"Invlid input.\")\n",
    "    \n"
   ]
  },
  {
   "cell_type": "code",
   "execution_count": 17,
   "metadata": {},
   "outputs": [
    {
     "name": "stdout",
     "output_type": "stream",
     "text": [
      "Testing: 1, 2, 3.\n"
     ]
    }
   ],
   "source": [
    "#6:上の１から５で書いた関数すべてにdocstringを追加しよう。\n",
    "#6: Let's add docstring to all the functions written in 1 to 5 above.\n",
    "\n",
    "def squared(x):\n",
    "    \"\"\" Takes an int and returns it multiplied by 2.\n",
    "    squared=2乗\n",
    "    :param x: int.\n",
    "    :return: x multiplied by 2.\n",
    "    \"\"\"\n",
    "    return x ** 2\n",
    "\n",
    "\n",
    "def print_string(string):\n",
    "    \"\"\" Prints the string passed in.\n",
    "    :param string: str.\n",
    "    \"\"\"\n",
    "    print(string)\n",
    "\n",
    "print_string(\"Testing: 1, 2, 3.\")\n",
    "\n",
    "\n",
    "def add_mult(a,b,c,x=100,z=1000):\n",
    "    \"\"\" Returns the result of two optional params\n",
    "    multiplied by the addition of 3 required params.\n",
    "    :param a: int.\n",
    "    :param b: int.\n",
    "    :param c: int.\n",
    "    :param x: int.\n",
    "    :param z: int.\n",
    "    :return: int.\n",
    "    \"\"\"\n",
    "    return a + b + c * x * z\n",
    "\n",
    "\n",
    "def convert(string):\n",
    "    \"\"\" Converts passed in str to int.\n",
    "    :param string: str.\n",
    "    :return: string converted to int.\n",
    "    \"\"\"\n",
    "    try:\n",
    "        return float(string)\n",
    "    except ValueError:\n",
    "        print(\"Could not convert the string to a float.\")"
   ]
  },
  {
   "cell_type": "code",
   "execution_count": 18,
   "metadata": {},
   "outputs": [],
   "source": [
    "#6:上の１から５で書いた関数すべてにdocstringを追加しよう。\n",
    "#6: Let's add docstring to all the functions written in 1 to 5 above.\n",
    "\n",
    "def squared(x):\n",
    "    \"\"\" Takes an int and returns it multiplied by 2.\n",
    "    squared=2乗\n",
    "    :param x: int.\n",
    "    :return: x multiplied by 2.\n",
    "    \"\"\"\n",
    "    return x ** 2\n",
    "\n",
    "def squared(x):\n",
    "    \"\"\"\"2乗計算を行ってくれる関数\n",
    "    return x ** 2\n",
    "    :param x: int.\n",
    "    :return: ** 2 によって乗算をsquaredに返す。\n",
    "    \"\"\"\n",
    "    return x ** 2\n",
    "\n",
    "#2: Let's write a function that takes a character string as an argument and outputs the character string.\n",
    "#2:文字列を引数とし、その文字列を出力する関数を書いてみよう。\n",
    "#string=文字列\n",
    "#result(結果)\n",
    "\n",
    "#def f(x,y,z)\n",
    "#文字列って言ったらstring\n",
    "\n",
    "def st1(string):\n",
    "    \"\"\"文字列を入力し出力\n",
    "    print(string)\n",
    "    :param string: string.\n",
    "    \"\"\"\n",
    "st1(\"test\")\n",
    "\n",
    "def add_mult(a,b,c,x=100,z=1000):\n",
    "    \"\"\" Returns the result of two optional params\n",
    "    multiplied by the addition of 3 required params.\n",
    "    :param a: int.\n",
    "    :param b: int.\n",
    "    :param c: int.\n",
    "    :param x: int.\n",
    "    :param z: int.\n",
    "    :return: int.\n",
    "    \"\"\"\n",
    "    return a + b + c * x * z\n",
    "\n",
    "#4:2つの関数からなるプログラムを書いてみよう。\n",
    "#1つ目の関数は整数を引数として受け取り、その整数を２で割って求められる整数を出力として返そう。\n",
    "#2つ目の関数は整数を引数として受け取り、４で掛けた整数を返そう。プログラム内で、\n",
    "#１つ目の関数と呼び、戻り値を変数として保存し、２つ目の関数の引数として渡そう。\n",
    "\n",
    "#4: Let's write a program consisting of two functions.\n",
    "\n",
    "#The first function takes an integer as an argument and returns an integer obtained\n",
    "#by dividing the integer by 2 as an output.\n",
    "#The second function accepts an integer as an argument and returns an integer multiplied by 4.\n",
    "#In the program, call it the first function, save the return value as a variable\n",
    "#and pass it as the argument of the second function.\n",
    "\n",
    "def function(x):\n",
    "    \"\"\"1つ目の関数計算。2で乗算。\n",
    "    return x / 2\n",
    "z = f(4)\n",
    "    \"\"\"\n",
    "print(z)\n",
    "\n",
    "#2nd function\n",
    "    \"\"\"簡易的にするために1つ目のfunctionを1.2つ目のfunctionを2としている。\n",
    "def one(x):\n",
    "    return x / 2\n",
    "\n",
    "def two(x):\n",
    "    return x * 4\n",
    "    \"\"\"\n",
    "y = one(4)\n",
    "z = two(y)\n",
    "print(z)\n",
    "\n",
    "#5:文字列をfloat型に変換して戻り値とする関数を書いてみよう。起こり得る例外をキャッチする例外処理を書こう。\n",
    "#5: Let's write a function that converts character string to float type and returns it.\n",
    "#Let's write an exception handling catching possible exceptions.\n",
    "def convert(string):\n",
    "    \"\"\"tryで括った引数等を組み込み関数（print）に渡して、例外をexceptで設定。その数値等によって表示が違う。\n",
    "   \"\"\"\n",
    "try:\n",
    "    return float(string)\n",
    "except ValueError:\n",
    "    print(\"Could not convert the string to a float.\")\n"
   ]
  },
  {
   "cell_type": "code",
   "execution_count": 19,
   "metadata": {},
   "outputs": [
    {
     "data": {
      "text/plain": [
       "'HELLOO'"
      ]
     },
     "execution_count": 19,
     "metadata": {},
     "output_type": "execute_result"
    }
   ],
   "source": [
    "\"Helloo\".upper()"
   ]
  },
  {
   "cell_type": "code",
   "execution_count": 20,
   "metadata": {},
   "outputs": [
    {
     "data": {
      "text/plain": [
       "'Hell@'"
      ]
     },
     "execution_count": 20,
     "metadata": {},
     "output_type": "execute_result"
    }
   ],
   "source": [
    "\"Hello\".replace(\"o\",\"@\")"
   ]
  },
  {
   "cell_type": "code",
   "execution_count": 21,
   "metadata": {},
   "outputs": [
    {
     "data": {
      "text/plain": [
       "[]"
      ]
     },
     "execution_count": 21,
     "metadata": {},
     "output_type": "execute_result"
    }
   ],
   "source": [
    "fruit = list()\n",
    "fruit"
   ]
  },
  {
   "cell_type": "code",
   "execution_count": 22,
   "metadata": {},
   "outputs": [
    {
     "ename": "SyntaxError",
     "evalue": "invalid syntax (<ipython-input-22-f30ec010fa9f>, line 1)",
     "output_type": "error",
     "traceback": [
      "\u001b[1;36m  File \u001b[1;32m\"<ipython-input-22-f30ec010fa9f>\"\u001b[1;36m, line \u001b[1;32m1\u001b[0m\n\u001b[1;33m    fruit = list[]\u001b[0m\n\u001b[1;37m                 ^\u001b[0m\n\u001b[1;31mSyntaxError\u001b[0m\u001b[1;31m:\u001b[0m invalid syntax\n"
     ]
    }
   ],
   "source": [
    "fruit = list[]\n",
    "fruit"
   ]
  },
  {
   "cell_type": "code",
   "execution_count": 23,
   "metadata": {},
   "outputs": [
    {
     "data": {
      "text/plain": [
       "[]"
      ]
     },
     "execution_count": 23,
     "metadata": {},
     "output_type": "execute_result"
    }
   ],
   "source": [
    "fruit = []\n",
    "fruit"
   ]
  },
  {
   "cell_type": "code",
   "execution_count": 24,
   "metadata": {},
   "outputs": [
    {
     "ename": "NameError",
     "evalue": "name 'c' is not defined",
     "output_type": "error",
     "traceback": [
      "\u001b[1;31m---------------------------------------------------------------------------\u001b[0m",
      "\u001b[1;31mNameError\u001b[0m                                 Traceback (most recent call last)",
      "\u001b[1;32m<ipython-input-24-e6592e9c9e35>\u001b[0m in \u001b[0;36m<module>\u001b[1;34m()\u001b[0m\n\u001b[1;32m----> 1\u001b[1;33m \u001b[0mfruit\u001b[0m \u001b[1;33m=\u001b[0m \u001b[1;33m[\u001b[0m\u001b[0ma\u001b[0m\u001b[1;33m,\u001b[0m\u001b[0mb\u001b[0m\u001b[1;33m,\u001b[0m\u001b[0mc\u001b[0m\u001b[1;33m]\u001b[0m\u001b[1;33m\u001b[0m\u001b[0m\n\u001b[0m\u001b[0;32m      2\u001b[0m \u001b[0mfruit\u001b[0m\u001b[1;33m\u001b[0m\u001b[0m\n",
      "\u001b[1;31mNameError\u001b[0m: name 'c' is not defined"
     ]
    }
   ],
   "source": [
    "fruit = [a,b,c]\n",
    "fruit"
   ]
  },
  {
   "cell_type": "code",
   "execution_count": 25,
   "metadata": {},
   "outputs": [
    {
     "data": {
      "text/plain": [
       "['a', 'b', 'c']"
      ]
     },
     "execution_count": 25,
     "metadata": {},
     "output_type": "execute_result"
    }
   ],
   "source": [
    "fruit = [\"a\",\"b\",\"c\"]\n",
    "fruit"
   ]
  },
  {
   "cell_type": "code",
   "execution_count": 26,
   "metadata": {},
   "outputs": [],
   "source": [
    "fruit = [\"a\",\"b\",\"c\"]\n",
    "fruit.append(\"d\")\n",
    "fruit.append(\"e\")"
   ]
  },
  {
   "cell_type": "code",
   "execution_count": 27,
   "metadata": {},
   "outputs": [
    {
     "data": {
      "text/plain": [
       "['a', 'b', 'c', 'd', 'e']"
      ]
     },
     "execution_count": 27,
     "metadata": {},
     "output_type": "execute_result"
    }
   ],
   "source": [
    "fruit = [\"a\",\"b\",\"c\"]\n",
    "fruit.append(\"d\")\n",
    "fruit.append(\"e\")\n",
    "fruit"
   ]
  },
  {
   "cell_type": "code",
   "execution_count": 28,
   "metadata": {},
   "outputs": [
    {
     "data": {
      "text/plain": [
       "[True, 100, 1.1, 'Hello']"
      ]
     },
     "execution_count": 28,
     "metadata": {},
     "output_type": "execute_result"
    }
   ],
   "source": [
    "#append(追加する)\n",
    "\n",
    "random = []\n",
    "random.append(True)\n",
    "random.append(100)\n",
    "random.append(1.1)\n",
    "random.append(\"Hello\")\n",
    "random"
   ]
  },
  {
   "cell_type": "code",
   "execution_count": 29,
   "metadata": {},
   "outputs": [
    {
     "data": {
      "text/plain": [
       "'c'"
      ]
     },
     "execution_count": 29,
     "metadata": {},
     "output_type": "execute_result"
    }
   ],
   "source": [
    "fruit = [\"a\",\"b\",\"c\"]\n",
    "fruit[0]\n",
    "fruit[1]\n",
    "fruit[2]"
   ]
  },
  {
   "cell_type": "code",
   "execution_count": 30,
   "metadata": {},
   "outputs": [
    {
     "data": {
      "text/plain": [
       "'b'"
      ]
     },
     "execution_count": 30,
     "metadata": {},
     "output_type": "execute_result"
    }
   ],
   "source": [
    "fruit = [\"a\",\"b\",\"c\"]\n",
    "fruit[0]\n",
    "fruit[1]\n"
   ]
  },
  {
   "cell_type": "code",
   "execution_count": 31,
   "metadata": {},
   "outputs": [
    {
     "data": {
      "text/plain": [
       "'a'"
      ]
     },
     "execution_count": 31,
     "metadata": {},
     "output_type": "execute_result"
    }
   ],
   "source": [
    "fruit = [\"a\",\"b\",\"c\"]\n",
    "fruit[0]"
   ]
  },
  {
   "cell_type": "code",
   "execution_count": 32,
   "metadata": {},
   "outputs": [
    {
     "ename": "IndexError",
     "evalue": "list index out of range",
     "output_type": "error",
     "traceback": [
      "\u001b[1;31m---------------------------------------------------------------------------\u001b[0m",
      "\u001b[1;31mIndexError\u001b[0m                                Traceback (most recent call last)",
      "\u001b[1;32m<ipython-input-32-db2215853bea>\u001b[0m in \u001b[0;36m<module>\u001b[1;34m()\u001b[0m\n\u001b[0;32m      1\u001b[0m \u001b[0mfruit\u001b[0m \u001b[1;33m=\u001b[0m \u001b[1;33m[\u001b[0m\u001b[1;34m\"a\"\u001b[0m\u001b[1;33m,\u001b[0m\u001b[1;34m\"b\"\u001b[0m\u001b[1;33m,\u001b[0m\u001b[1;34m\"c\"\u001b[0m\u001b[1;33m]\u001b[0m\u001b[1;33m\u001b[0m\u001b[0m\n\u001b[1;32m----> 2\u001b[1;33m \u001b[0mfruit\u001b[0m\u001b[1;33m[\u001b[0m\u001b[1;36m4\u001b[0m\u001b[1;33m]\u001b[0m\u001b[1;33m\u001b[0m\u001b[0m\n\u001b[0m",
      "\u001b[1;31mIndexError\u001b[0m: list index out of range"
     ]
    }
   ],
   "source": [
    "fruit = [\"a\",\"b\",\"c\"]\n",
    "fruit[4]"
   ]
  },
  {
   "cell_type": "code",
   "execution_count": 33,
   "metadata": {},
   "outputs": [
    {
     "data": {
      "text/plain": [
       "['a', 'd', 'c']"
      ]
     },
     "execution_count": 33,
     "metadata": {},
     "output_type": "execute_result"
    }
   ],
   "source": [
    "fruit = [\"a\",\"b\",\"c\"]\n",
    "fruit\n",
    "fruit[1] = \"d\"\n",
    "fruit\n"
   ]
  },
  {
   "cell_type": "code",
   "execution_count": 34,
   "metadata": {},
   "outputs": [
    {
     "data": {
      "text/plain": [
       "['a', 'b', 'c', 'd', 'e', 'f']"
      ]
     },
     "execution_count": 34,
     "metadata": {},
     "output_type": "execute_result"
    }
   ],
   "source": [
    "fruit1 = [\"a\",\"b\",\"c\"]\n",
    "fruit2 = [\"d\",\"e\",\"f\"]\n",
    "fruit1+fruit2\n"
   ]
  },
  {
   "cell_type": "code",
   "execution_count": 35,
   "metadata": {},
   "outputs": [
    {
     "data": {
      "text/plain": [
       "['a', 'b']"
      ]
     },
     "execution_count": 35,
     "metadata": {},
     "output_type": "execute_result"
    }
   ],
   "source": [
    "fruit = [\"a\",\"b\",\"c\"]\n",
    "fruit\n",
    "item = fruit.pop()\n",
    "item\n",
    "fruit"
   ]
  },
  {
   "cell_type": "code",
   "execution_count": 36,
   "metadata": {},
   "outputs": [
    {
     "data": {
      "text/plain": [
       "True"
      ]
     },
     "execution_count": 36,
     "metadata": {},
     "output_type": "execute_result"
    }
   ],
   "source": [
    "#pop.音を立てるとか、栓が飛び出るとかそういう意味からの？\n",
    "fruit = [\"a\",\"b\",\"c\"]\n",
    "\"a\" in fruit"
   ]
  },
  {
   "cell_type": "code",
   "execution_count": 37,
   "metadata": {},
   "outputs": [
    {
     "data": {
      "text/plain": [
       "False"
      ]
     },
     "execution_count": 37,
     "metadata": {},
     "output_type": "execute_result"
    }
   ],
   "source": [
    "fruit = [\"a\",\"b\",\"c\"]\n",
    "\"d\" in fruit"
   ]
  },
  {
   "cell_type": "code",
   "execution_count": 38,
   "metadata": {},
   "outputs": [
    {
     "data": {
      "text/plain": [
       "True"
      ]
     },
     "execution_count": 38,
     "metadata": {},
     "output_type": "execute_result"
    }
   ],
   "source": [
    "fruit = [\"a\",\"b\",\"c\"]\n",
    "\"d\" not in fruit"
   ]
  },
  {
   "cell_type": "code",
   "execution_count": 39,
   "metadata": {},
   "outputs": [
    {
     "data": {
      "text/plain": [
       "False"
      ]
     },
     "execution_count": 39,
     "metadata": {},
     "output_type": "execute_result"
    }
   ],
   "source": [
    "fruit = [\"a\",\"b\",\"c\"]\n",
    "\"a\" not in fruit"
   ]
  },
  {
   "cell_type": "code",
   "execution_count": 40,
   "metadata": {},
   "outputs": [
    {
     "data": {
      "text/plain": [
       "3"
      ]
     },
     "execution_count": 40,
     "metadata": {},
     "output_type": "execute_result"
    }
   ],
   "source": [
    "len(fruit)"
   ]
  },
  {
   "cell_type": "code",
   "execution_count": 41,
   "metadata": {},
   "outputs": [
    {
     "name": "stdout",
     "output_type": "stream",
     "text": [
      "What color?(Please input):a\n",
      "Because it is character\n"
     ]
    }
   ],
   "source": [
    "#guess=推測\n",
    "fruit = [\"a\",\"b\",\"c\"]\n",
    "guess = input(\"What color?(Please input):\")\n",
    "if guess is fruit:\n",
    "    print(\"it is character\")\n",
    "else:\n",
    "    print(\"Because it is character\")"
   ]
  },
  {
   "cell_type": "code",
   "execution_count": 42,
   "metadata": {},
   "outputs": [
    {
     "name": "stdout",
     "output_type": "stream",
     "text": [
      "What color?(Please input):b\n",
      "Because it is character\n"
     ]
    }
   ],
   "source": [
    "#guess=推測\n",
    "fruit = [\"a\",\"b\",\"c\"]\n",
    "guess = input(\"What color?(Please input):\")\n",
    "if guess is fruit:\n",
    "    print(\"it is character\")\n",
    "else:\n",
    "    print(\"Because it is character\")"
   ]
  },
  {
   "cell_type": "code",
   "execution_count": 43,
   "metadata": {},
   "outputs": [
    {
     "name": "stdout",
     "output_type": "stream",
     "text": [
      "What color?(Please input):d\n",
      "Because it is character\n"
     ]
    }
   ],
   "source": [
    "#guess=推測\n",
    "fruit = [\"a\",\"b\",\"c\"]\n",
    "guess = input(\"What color?(Please input):\")\n",
    "if guess is fruit:\n",
    "    print(\"it is character\")\n",
    "else:\n",
    "    print(\"Because it is character\")"
   ]
  },
  {
   "cell_type": "code",
   "execution_count": 44,
   "metadata": {},
   "outputs": [
    {
     "name": "stdout",
     "output_type": "stream",
     "text": [
      "What color?(Please input):a\n",
      "Because it is character\n"
     ]
    }
   ],
   "source": [
    "#guess=推測\n",
    "fruit = {\"a\",\"b\",\"c\"}\n",
    "guess = input(\"What color?(Please input):\")\n",
    "if guess is fruit:\n",
    "    print(\"it is character\")\n",
    "else:\n",
    "    print(\"Because it is character\")"
   ]
  },
  {
   "cell_type": "code",
   "execution_count": 45,
   "metadata": {},
   "outputs": [
    {
     "name": "stdout",
     "output_type": "stream",
     "text": [
      "Guess a color:purple\n",
      "You guessed correctly!\n"
     ]
    }
   ],
   "source": [
    "colors = [\"purple\", \"orange\", \"green\"]\n",
    "\n",
    "\n",
    "guess = input(\"Guess a color:\")\n",
    "\n",
    "\n",
    "if guess in colors:\n",
    "    print(\"You guessed correctly!\")\n",
    "else:\n",
    "    print(\"Wrong! Try again.\")"
   ]
  },
  {
   "cell_type": "code",
   "execution_count": 46,
   "metadata": {},
   "outputs": [
    {
     "name": "stdout",
     "output_type": "stream",
     "text": [
      "Guess a color:a\n",
      "You guessed correctly!\n"
     ]
    }
   ],
   "source": [
    "colors = [\"a\", \"b\", \"c\"]\n",
    "\n",
    "\n",
    "guess = input(\"Guess a color:\")\n",
    "\n",
    "\n",
    "if guess in colors:\n",
    "    print(\"You guessed correctly!\")\n",
    "else:\n",
    "    print(\"Wrong! Try again.\")"
   ]
  },
  {
   "cell_type": "code",
   "execution_count": 47,
   "metadata": {},
   "outputs": [
    {
     "name": "stdout",
     "output_type": "stream",
     "text": [
      "What color?(Please input):a\n",
      "it's character\n"
     ]
    }
   ],
   "source": [
    "#guess=推測\n",
    "fruit = {\"a\",\"b\",\"c\"}\n",
    "\n",
    "guess = input(\"What color?(Please input):\")\n",
    "\n",
    "if guess in fruit:\n",
    "    print(\"it's character\")\n",
    "else:\n",
    "    print(\"Because it is character\")"
   ]
  },
  {
   "cell_type": "code",
   "execution_count": 48,
   "metadata": {},
   "outputs": [
    {
     "data": {
      "text/plain": [
       "()"
      ]
     },
     "execution_count": 48,
     "metadata": {},
     "output_type": "execute_result"
    }
   ],
   "source": [
    "#if guess in fruit:のisとinの間違い。\n",
    "#翻訳するとフルーツの中に入っているものを推測して。\n",
    "#if guess in fruitだとfruitsを推測してになる。\n",
    "\n",
    "#タプルまたはチュープル（英: tuple）とは、複数の構成要素からなる組を総称する一般概念。\n",
    "my_tuple = tuple()\n",
    "my_tuple"
   ]
  },
  {
   "cell_type": "code",
   "execution_count": 49,
   "metadata": {},
   "outputs": [
    {
     "data": {
      "text/plain": [
       "()"
      ]
     },
     "execution_count": 49,
     "metadata": {},
     "output_type": "execute_result"
    }
   ],
   "source": [
    "my_tuple = tuple()\n",
    "my_tuple"
   ]
  },
  {
   "cell_type": "code",
   "execution_count": 50,
   "metadata": {},
   "outputs": [
    {
     "ename": "NameError",
     "evalue": "name 'c' is not defined",
     "output_type": "error",
     "traceback": [
      "\u001b[1;31m---------------------------------------------------------------------------\u001b[0m",
      "\u001b[1;31mNameError\u001b[0m                                 Traceback (most recent call last)",
      "\u001b[1;32m<ipython-input-50-a41c869d472c>\u001b[0m in \u001b[0;36m<module>\u001b[1;34m()\u001b[0m\n\u001b[1;32m----> 1\u001b[1;33m \u001b[0mrndm\u001b[0m\u001b[1;33m=\u001b[0m\u001b[1;33m(\u001b[0m\u001b[1;34m\"A\"\u001b[0m\u001b[1;33m,\u001b[0m\u001b[0mb\u001b[0m\u001b[1;33m,\u001b[0m\u001b[0mc\u001b[0m\u001b[1;33m)\u001b[0m\u001b[1;33m\u001b[0m\u001b[0m\n\u001b[0m\u001b[0;32m      2\u001b[0m \u001b[0mrndm\u001b[0m\u001b[1;33m\u001b[0m\u001b[0m\n",
      "\u001b[1;31mNameError\u001b[0m: name 'c' is not defined"
     ]
    }
   ],
   "source": [
    "rndm=(\"A\",b,c)\n",
    "rndm"
   ]
  },
  {
   "cell_type": "code",
   "execution_count": 51,
   "metadata": {},
   "outputs": [
    {
     "ename": "NameError",
     "evalue": "name 'true' is not defined",
     "output_type": "error",
     "traceback": [
      "\u001b[1;31m---------------------------------------------------------------------------\u001b[0m",
      "\u001b[1;31mNameError\u001b[0m                                 Traceback (most recent call last)",
      "\u001b[1;32m<ipython-input-51-6594946035a1>\u001b[0m in \u001b[0;36m<module>\u001b[1;34m()\u001b[0m\n\u001b[1;32m----> 1\u001b[1;33m \u001b[0mrndm\u001b[0m\u001b[1;33m=\u001b[0m\u001b[1;33m(\u001b[0m\u001b[1;34m\"A\"\u001b[0m\u001b[1;33m,\u001b[0m\u001b[1;36m1990\u001b[0m\u001b[1;33m,\u001b[0m\u001b[0mtrue\u001b[0m\u001b[1;33m)\u001b[0m\u001b[1;33m\u001b[0m\u001b[0m\n\u001b[0m\u001b[0;32m      2\u001b[0m \u001b[0mrndm\u001b[0m\u001b[1;33m\u001b[0m\u001b[0m\n",
      "\u001b[1;31mNameError\u001b[0m: name 'true' is not defined"
     ]
    }
   ],
   "source": [
    "rndm=(\"A\",1990,true)\n",
    "rndm"
   ]
  },
  {
   "cell_type": "code",
   "execution_count": 52,
   "metadata": {},
   "outputs": [
    {
     "data": {
      "text/plain": [
       "('A', 1990, True)"
      ]
     },
     "execution_count": 52,
     "metadata": {},
     "output_type": "execute_result"
    }
   ],
   "source": [
    "rndm=(\"A\",1990,True)\n",
    "rndm"
   ]
  },
  {
   "cell_type": "code",
   "execution_count": 53,
   "metadata": {},
   "outputs": [
    {
     "data": {
      "text/plain": [
       "10"
      ]
     },
     "execution_count": 53,
     "metadata": {},
     "output_type": "execute_result"
    }
   ],
   "source": [
    "#this is tuples\n",
    "(\"self_tahught\")\n",
    "\n",
    "#This is not a tuple, it is a parenthesis used for numerical operations.\n",
    "(9)+1"
   ]
  },
  {
   "cell_type": "code",
   "execution_count": 54,
   "metadata": {},
   "outputs": [
    {
     "data": {
      "text/plain": [
       "'self_tahught'"
      ]
     },
     "execution_count": 54,
     "metadata": {},
     "output_type": "execute_result"
    }
   ],
   "source": [
    "#this is tuples\n",
    "(\"self_tahught\")"
   ]
  },
  {
   "cell_type": "code",
   "execution_count": 55,
   "metadata": {},
   "outputs": [
    {
     "ename": "TypeError",
     "evalue": "'tuple' object does not support item assignment",
     "output_type": "error",
     "traceback": [
      "\u001b[1;31m---------------------------------------------------------------------------\u001b[0m",
      "\u001b[1;31mTypeError\u001b[0m                                 Traceback (most recent call last)",
      "\u001b[1;32m<ipython-input-55-3b3bf7bca668>\u001b[0m in \u001b[0;36m<module>\u001b[1;34m()\u001b[0m\n\u001b[0;32m      1\u001b[0m \u001b[0mdys\u001b[0m \u001b[1;33m=\u001b[0m \u001b[1;33m(\u001b[0m\u001b[1;34m\"1984\"\u001b[0m\u001b[1;33m,\u001b[0m\u001b[1;34m\"BNW\"\u001b[0m\u001b[1;33m,\u001b[0m\u001b[1;34m\"451\"\u001b[0m\u001b[1;33m)\u001b[0m\u001b[1;33m\u001b[0m\u001b[0m\n\u001b[1;32m----> 2\u001b[1;33m \u001b[0mdys\u001b[0m\u001b[1;33m[\u001b[0m\u001b[1;36m1\u001b[0m\u001b[1;33m]\u001b[0m \u001b[1;33m=\u001b[0m \u001b[1;34m\"1920\"\u001b[0m\u001b[1;33m\u001b[0m\u001b[0m\n\u001b[0m",
      "\u001b[1;31mTypeError\u001b[0m: 'tuple' object does not support item assignment"
     ]
    }
   ],
   "source": [
    "dys = (\"1984\",\"BNW\",\"451\")\n",
    "dys[1] = \"1920\""
   ]
  },
  {
   "cell_type": "code",
   "execution_count": 56,
   "metadata": {},
   "outputs": [
    {
     "data": {
      "text/plain": [
       "'BNW'"
      ]
     },
     "execution_count": 56,
     "metadata": {},
     "output_type": "execute_result"
    }
   ],
   "source": [
    "dys = (\"1984\",\"BNW\",\"451\")\n",
    "dys[1]"
   ]
  },
  {
   "cell_type": "code",
   "execution_count": 57,
   "metadata": {},
   "outputs": [
    {
     "data": {
      "text/plain": [
       "True"
      ]
     },
     "execution_count": 57,
     "metadata": {},
     "output_type": "execute_result"
    }
   ],
   "source": [
    "dys = (\"1984\",\"BNW\",\"451\")\n",
    "\"1984\" in dys"
   ]
  },
  {
   "cell_type": "code",
   "execution_count": 58,
   "metadata": {},
   "outputs": [
    {
     "data": {
      "text/plain": [
       "False"
      ]
     },
     "execution_count": 58,
     "metadata": {},
     "output_type": "execute_result"
    }
   ],
   "source": [
    "dys = (\"1984\",\"BNW\",\"451\")\n",
    "\"1900\" in dys"
   ]
  },
  {
   "cell_type": "code",
   "execution_count": 59,
   "metadata": {},
   "outputs": [
    {
     "ename": "SyntaxError",
     "evalue": "invalid syntax (<ipython-input-59-14792b48ce7a>, line 11)",
     "output_type": "error",
     "traceback": [
      "\u001b[1;36m  File \u001b[1;32m\"<ipython-input-59-14792b48ce7a>\"\u001b[1;36m, line \u001b[1;32m11\u001b[0m\n\u001b[1;33m    my_dict = dict{}\u001b[0m\n\u001b[1;37m                  ^\u001b[0m\n\u001b[1;31mSyntaxError\u001b[0m\u001b[1;31m:\u001b[0m invalid syntax\n"
     ]
    }
   ],
   "source": [
    "#Tuple structure can not be changed.\n",
    "#For example, a list structure that handles invariant objects such as maps.\n",
    "#The list can be changed structure.\n",
    "#Even dictionaries are changed according to the formation of the times, so they can be changed.\n",
    "\n",
    "#タプルは変更できない構造。\n",
    "#例えば、地図等不変なものに対して扱うリスト構造。\n",
    "#リストは変更できる構造。\n",
    "#辞書とかでも時代の編成によっては変更される場合もあるので変更できるようにされている。\n",
    "\n",
    "my_dict = dict{}\n",
    "my_dict"
   ]
  },
  {
   "cell_type": "code",
   "execution_count": 60,
   "metadata": {},
   "outputs": [
    {
     "data": {
      "text/plain": [
       "{}"
      ]
     },
     "execution_count": 60,
     "metadata": {},
     "output_type": "execute_result"
    }
   ],
   "source": [
    "my_dict = dict()\n",
    "my_dict"
   ]
  },
  {
   "cell_type": "code",
   "execution_count": 61,
   "metadata": {},
   "outputs": [
    {
     "data": {
      "text/plain": [
       "{}"
      ]
     },
     "execution_count": 61,
     "metadata": {},
     "output_type": "execute_result"
    }
   ],
   "source": [
    "my_dict = {}\n",
    "my_dict"
   ]
  },
  {
   "cell_type": "code",
   "execution_count": 62,
   "metadata": {},
   "outputs": [
    {
     "data": {
      "text/plain": [
       "{'apple': 'red', 'Banana': 'yellow'}"
      ]
     },
     "execution_count": 62,
     "metadata": {},
     "output_type": "execute_result"
    }
   ],
   "source": [
    "fruits ={\"apple\":\"red\",\n",
    "        \"Banana\":\"yellow\"}\n",
    "fruits"
   ]
  },
  {
   "cell_type": "code",
   "execution_count": 63,
   "metadata": {},
   "outputs": [
    {
     "ename": "SyntaxError",
     "evalue": "invalid syntax (<ipython-input-63-df2b940cb784>, line 4)",
     "output_type": "error",
     "traceback": [
      "\u001b[1;36m  File \u001b[1;32m\"<ipython-input-63-df2b940cb784>\"\u001b[1;36m, line \u001b[1;32m4\u001b[0m\n\u001b[1;33m    facts{\"code\"} = \"fun\"\u001b[0m\n\u001b[1;37m         ^\u001b[0m\n\u001b[1;31mSyntaxError\u001b[0m\u001b[1;31m:\u001b[0m invalid syntax\n"
     ]
    }
   ],
   "source": [
    "facts = dict()\n",
    "\n",
    "#add value\n",
    "facts{\"code\"} = \"fun\"\n",
    "#Reference by key\n",
    "facts{\"founded\"}\n"
   ]
  },
  {
   "cell_type": "code",
   "execution_count": 64,
   "metadata": {},
   "outputs": [
    {
     "ename": "SyntaxError",
     "evalue": "invalid syntax (<ipython-input-64-a74653fd91df>, line 6)",
     "output_type": "error",
     "traceback": [
      "\u001b[1;36m  File \u001b[1;32m\"<ipython-input-64-a74653fd91df>\"\u001b[1;36m, line \u001b[1;32m6\u001b[0m\n\u001b[1;33m    facts{\"code\"}\u001b[0m\n\u001b[1;37m         ^\u001b[0m\n\u001b[1;31mSyntaxError\u001b[0m\u001b[1;31m:\u001b[0m invalid syntax\n"
     ]
    }
   ],
   "source": [
    "facts = dict()\n",
    "\n",
    "#add value\n",
    "facts[\"code\"] = \"fun\"\n",
    "#Reference by key\n",
    "facts{\"code\"}"
   ]
  },
  {
   "cell_type": "code",
   "execution_count": 66,
   "metadata": {},
   "outputs": [
    {
     "ename": "KeyError",
     "evalue": "'bill'",
     "output_type": "error",
     "traceback": [
      "\u001b[1;31m---------------------------------------------------------------------------\u001b[0m",
      "\u001b[1;31mKeyError\u001b[0m                                  Traceback (most recent call last)",
      "\u001b[1;32m<ipython-input-66-da9c26b0b98d>\u001b[0m in \u001b[0;36m<module>\u001b[1;34m()\u001b[0m\n\u001b[0;32m      9\u001b[0m \u001b[0mfacts\u001b[0m\u001b[1;33m[\u001b[0m\u001b[1;34m\"code\"\u001b[0m\u001b[1;33m]\u001b[0m \u001b[1;33m=\u001b[0m \u001b[1;34m\"gates\"\u001b[0m\u001b[1;33m\u001b[0m\u001b[0m\n\u001b[0;32m     10\u001b[0m \u001b[1;31m#Reference by key\u001b[0m\u001b[1;33m\u001b[0m\u001b[1;33m\u001b[0m\u001b[0m\n\u001b[1;32m---> 11\u001b[1;33m \u001b[0mfacts\u001b[0m\u001b[1;33m[\u001b[0m\u001b[1;34m\"bill\"\u001b[0m\u001b[1;33m]\u001b[0m\u001b[1;33m\u001b[0m\u001b[0m\n\u001b[0m\u001b[0;32m     12\u001b[0m \u001b[1;33m\u001b[0m\u001b[0m\n\u001b[0;32m     13\u001b[0m \u001b[1;31m#add value\u001b[0m\u001b[1;33m\u001b[0m\u001b[1;33m\u001b[0m\u001b[0m\n",
      "\u001b[1;31mKeyError\u001b[0m: 'bill'"
     ]
    }
   ],
   "source": [
    "facts = dict()\n",
    "\n",
    "#add value\n",
    "facts[\"code\"] = \"fun\"\n",
    "#Reference by key\n",
    "facts[\"code\"]\n",
    "\n",
    "#add value\n",
    "facts[\"code\"] = \"gates\"\n",
    "#Reference by key\n",
    "facts[\"bill\"]\n",
    "\n",
    "#add value\n",
    "facts[\"code\"] = 1776\n",
    "#Reference by key\n",
    "facts[\"founded\"]"
   ]
  },
  {
   "cell_type": "code",
   "execution_count": 68,
   "metadata": {},
   "outputs": [
    {
     "data": {
      "text/plain": [
       "1776"
      ]
     },
     "execution_count": 68,
     "metadata": {},
     "output_type": "execute_result"
    }
   ],
   "source": [
    "facts = dict()\n",
    "\n",
    "#add value\n",
    "facts[\"code\"] = \"fun\"\n",
    "#Reference by key\n",
    "facts[\"code\"]\n",
    "\n",
    "#add value\n",
    "facts[\"bill\"] = \"gates\"\n",
    "#Reference by key\n",
    "facts[\"bill\"]\n",
    "\n",
    "#add value\n",
    "facts[\"founded\"] = 1776\n",
    "#Reference by key\n",
    "facts[\"founded\"]"
   ]
  },
  {
   "cell_type": "code",
   "execution_count": 69,
   "metadata": {},
   "outputs": [
    {
     "data": {
      "text/plain": [
       "'fun'"
      ]
     },
     "execution_count": 69,
     "metadata": {},
     "output_type": "execute_result"
    }
   ],
   "source": [
    "#add value\n",
    "facts[\"code\"] = \"fun\"\n",
    "#Reference by key\n",
    "facts[\"code\"]"
   ]
  },
  {
   "cell_type": "code",
   "execution_count": 70,
   "metadata": {},
   "outputs": [
    {
     "data": {
      "text/plain": [
       "'gates'"
      ]
     },
     "execution_count": 70,
     "metadata": {},
     "output_type": "execute_result"
    }
   ],
   "source": [
    "#add value\n",
    "facts[\"bill\"] = \"gates\"\n",
    "#Reference by key\n",
    "facts[\"bill\"]"
   ]
  },
  {
   "cell_type": "code",
   "execution_count": 71,
   "metadata": {},
   "outputs": [
    {
     "data": {
      "text/plain": [
       "1776"
      ]
     },
     "execution_count": 71,
     "metadata": {},
     "output_type": "execute_result"
    }
   ],
   "source": [
    "#add value\n",
    "facts[\"founded\"] = 1776\n",
    "#Reference by key\n",
    "facts[\"founded\"]"
   ]
  },
  {
   "cell_type": "code",
   "execution_count": 72,
   "metadata": {},
   "outputs": [
    {
     "data": {
      "text/plain": [
       "True"
      ]
     },
     "execution_count": 72,
     "metadata": {},
     "output_type": "execute_result"
    }
   ],
   "source": [
    "bill={\"bill gates\":\"charitable\"}\n",
    "\"bill gates\" in bill"
   ]
  },
  {
   "cell_type": "code",
   "execution_count": 73,
   "metadata": {},
   "outputs": [
    {
     "data": {
      "text/plain": [
       "False"
      ]
     },
     "execution_count": 73,
     "metadata": {},
     "output_type": "execute_result"
    }
   ],
   "source": [
    "bill={\"bill gates\":\"charitable\"}\n",
    "\"bill door\" in bill"
   ]
  },
  {
   "cell_type": "code",
   "execution_count": 74,
   "metadata": {},
   "outputs": [
    {
     "data": {
      "text/plain": [
       "True"
      ]
     },
     "execution_count": 74,
     "metadata": {},
     "output_type": "execute_result"
    }
   ],
   "source": [
    "bill={\"bill gates\":\"charitable\"}\n",
    "\"bill door\" not in bill"
   ]
  },
  {
   "cell_type": "code",
   "execution_count": 75,
   "metadata": {},
   "outputs": [
    {
     "ename": "SyntaxError",
     "evalue": "invalid syntax (<ipython-input-75-de7cce1983a1>, line 6)",
     "output_type": "error",
     "traceback": [
      "\u001b[1;36m  File \u001b[1;32m\"<ipython-input-75-de7cce1983a1>\"\u001b[1;36m, line \u001b[1;32m6\u001b[0m\n\u001b[1;33m    del books{\"The Trial\"}\u001b[0m\n\u001b[1;37m             ^\u001b[0m\n\u001b[1;31mSyntaxError\u001b[0m\u001b[1;31m:\u001b[0m invalid syntax\n"
     ]
    }
   ],
   "source": [
    "facts = dict()\n",
    "\n",
    "books = {\"dracula\":\"stoker\",\n",
    "        \"1984\":\"Crwell\",\n",
    "        \"The Trial\":\"kafka\"}\n",
    "del books{\"The Trial\"}\n",
    "\n",
    "books"
   ]
  },
  {
   "cell_type": "code",
   "execution_count": 76,
   "metadata": {},
   "outputs": [
    {
     "data": {
      "text/plain": [
       "{'dracula': 'stoker', '1984': 'Crwell'}"
      ]
     },
     "execution_count": 76,
     "metadata": {},
     "output_type": "execute_result"
    }
   ],
   "source": [
    "facts = dict()\n",
    "\n",
    "books = {\"dracula\":\"stoker\",\n",
    "        \"1984\":\"Crwell\",\n",
    "        \"The Trial\":\"kafka\"}\n",
    "\n",
    "del books[\"The Trial\"]\n",
    "\n",
    "books"
   ]
  },
  {
   "cell_type": "code",
   "execution_count": 77,
   "metadata": {},
   "outputs": [
    {
     "ename": "SyntaxError",
     "evalue": "invalid syntax (<ipython-input-77-de2ad2da00ab>, line 1)",
     "output_type": "error",
     "traceback": [
      "\u001b[1;36m  File \u001b[1;32m\"<ipython-input-77-de2ad2da00ab>\"\u001b[1;36m, line \u001b[1;32m1\u001b[0m\n\u001b[1;33m    songs{\"1\":\"1\",\u001b[0m\n\u001b[1;37m         ^\u001b[0m\n\u001b[1;31mSyntaxError\u001b[0m\u001b[1;31m:\u001b[0m invalid syntax\n"
     ]
    }
   ],
   "source": [
    "songs{\"1\":\"1\",\n",
    "     \"2\":\"2\",\n",
    "     \"3\":\"3\",\n",
    "     \"4\":\"4\",\n",
    "     \"5\":\"5\",\n",
    "     \"6\":\"6\"\n",
    "     }\n",
    "\n",
    "n=input(\"Please input value:\")\n",
    "if n in songs:\n",
    "    song=song[n]\n",
    "    print(song)\n",
    "else:\n",
    "    print(\"Not found\")"
   ]
  },
  {
   "cell_type": "code",
   "execution_count": 78,
   "metadata": {},
   "outputs": [
    {
     "name": "stdout",
     "output_type": "stream",
     "text": [
      "Please input value:2\n"
     ]
    },
    {
     "ename": "NameError",
     "evalue": "name 'song' is not defined",
     "output_type": "error",
     "traceback": [
      "\u001b[1;31m---------------------------------------------------------------------------\u001b[0m",
      "\u001b[1;31mNameError\u001b[0m                                 Traceback (most recent call last)",
      "\u001b[1;32m<ipython-input-78-8bc15956dc23>\u001b[0m in \u001b[0;36m<module>\u001b[1;34m()\u001b[0m\n\u001b[0;32m      9\u001b[0m \u001b[0mn\u001b[0m\u001b[1;33m=\u001b[0m\u001b[0minput\u001b[0m\u001b[1;33m(\u001b[0m\u001b[1;34m\"Please input value:\"\u001b[0m\u001b[1;33m)\u001b[0m\u001b[1;33m\u001b[0m\u001b[0m\n\u001b[0;32m     10\u001b[0m \u001b[1;32mif\u001b[0m \u001b[0mn\u001b[0m \u001b[1;32min\u001b[0m \u001b[0msongs\u001b[0m\u001b[1;33m:\u001b[0m\u001b[1;33m\u001b[0m\u001b[0m\n\u001b[1;32m---> 11\u001b[1;33m     \u001b[0msong\u001b[0m\u001b[1;33m=\u001b[0m\u001b[0msong\u001b[0m\u001b[1;33m[\u001b[0m\u001b[0mn\u001b[0m\u001b[1;33m]\u001b[0m\u001b[1;33m\u001b[0m\u001b[0m\n\u001b[0m\u001b[0;32m     12\u001b[0m     \u001b[0mprint\u001b[0m\u001b[1;33m(\u001b[0m\u001b[0msong\u001b[0m\u001b[1;33m)\u001b[0m\u001b[1;33m\u001b[0m\u001b[0m\n\u001b[0;32m     13\u001b[0m \u001b[1;32melse\u001b[0m\u001b[1;33m:\u001b[0m\u001b[1;33m\u001b[0m\u001b[0m\n",
      "\u001b[1;31mNameError\u001b[0m: name 'song' is not defined"
     ]
    }
   ],
   "source": [
    "songs = {\"1\":\"1\",\n",
    "     \"2\":\"2\",\n",
    "     \"3\":\"3\",\n",
    "     \"4\":\"4\",\n",
    "     \"5\":\"5\",\n",
    "     \"6\":\"6\"\n",
    "     }\n",
    "\n",
    "n=input(\"Please input value:\")\n",
    "if n in songs:\n",
    "    song=song[n]\n",
    "    print(song)\n",
    "else:\n",
    "    print(\"Not found\")"
   ]
  },
  {
   "cell_type": "code",
   "execution_count": 79,
   "metadata": {},
   "outputs": [
    {
     "ename": "SyntaxError",
     "evalue": "invalid syntax (<ipython-input-79-0a576467a65c>, line 1)",
     "output_type": "error",
     "traceback": [
      "\u001b[1;36m  File \u001b[1;32m\"<ipython-input-79-0a576467a65c>\"\u001b[1;36m, line \u001b[1;32m1\u001b[0m\n\u001b[1;33m    songs{\"1\":\"1\",\u001b[0m\n\u001b[1;37m         ^\u001b[0m\n\u001b[1;31mSyntaxError\u001b[0m\u001b[1;31m:\u001b[0m invalid syntax\n"
     ]
    }
   ],
   "source": [
    "songs{\"1\":\"1\",\n",
    "     \"2\":\"2\",\n",
    "     \"3\":\"3\",\n",
    "     \"4\":\"4\",\n",
    "     \"5\":\"5\",\n",
    "     \"6\":\"6\"\n",
    "     }\n",
    "\n",
    "n=input(\"Please input value:\")\n",
    "if n in songs:\n",
    "    songs=songs[n]\n",
    "    print(songs)\n",
    "else:\n",
    "    print(\"Not found\")"
   ]
  },
  {
   "cell_type": "code",
   "execution_count": 80,
   "metadata": {},
   "outputs": [
    {
     "name": "stdout",
     "output_type": "stream",
     "text": [
      "Please input value:1\n",
      "1\n"
     ]
    }
   ],
   "source": [
    "songs = {\"1\":\"1\",\n",
    "     \"2\":\"2\",\n",
    "     \"3\":\"3\",\n",
    "     \"4\":\"4\",\n",
    "     \"5\":\"5\",\n",
    "     \"6\":\"6\"\n",
    "     }\n",
    "\n",
    "n=input(\"Please input value:\")\n",
    "if n in songs:\n",
    "    songs=songs[n]\n",
    "    print(songs)\n",
    "else:\n",
    "    print(\"Not found\")"
   ]
  },
  {
   "cell_type": "code",
   "execution_count": 81,
   "metadata": {},
   "outputs": [
    {
     "ename": "SyntaxError",
     "evalue": "invalid syntax (<ipython-input-81-0a576467a65c>, line 1)",
     "output_type": "error",
     "traceback": [
      "\u001b[1;36m  File \u001b[1;32m\"<ipython-input-81-0a576467a65c>\"\u001b[1;36m, line \u001b[1;32m1\u001b[0m\n\u001b[1;33m    songs{\"1\":\"1\",\u001b[0m\n\u001b[1;37m         ^\u001b[0m\n\u001b[1;31mSyntaxError\u001b[0m\u001b[1;31m:\u001b[0m invalid syntax\n"
     ]
    }
   ],
   "source": [
    "songs{\"1\":\"1\",\n",
    "     \"2\":\"2\",\n",
    "     \"3\":\"3\",\n",
    "     \"4\":\"4\",\n",
    "     \"5\":\"5\",\n",
    "     \"6\":\"6\"\n",
    "     }\n",
    "\n",
    "n=input(\"Please input value:\")\n",
    "if n in songs:\n",
    "    songs=songs[n]\n",
    "    print(songs)\n",
    "else:\n",
    "    print(\"Not found\")"
   ]
  },
  {
   "cell_type": "code",
   "execution_count": 82,
   "metadata": {},
   "outputs": [
    {
     "name": "stdout",
     "output_type": "stream",
     "text": [
      "Please input value:7\n",
      "Not found\n"
     ]
    }
   ],
   "source": [
    "songs = {\"1\":\"1\",\n",
    "     \"2\":\"2\",\n",
    "     \"3\":\"3\",\n",
    "     \"4\":\"4\",\n",
    "     \"5\":\"5\",\n",
    "     \"6\":\"6\"\n",
    "     }\n",
    "\n",
    "n=input(\"Please input value:\")\n",
    "if n in songs:\n",
    "    songs=songs[n]\n",
    "    print(songs)\n",
    "else:\n",
    "    print(\"Not found\")"
   ]
  },
  {
   "cell_type": "code",
   "execution_count": 83,
   "metadata": {},
   "outputs": [
    {
     "name": "stdout",
     "output_type": "stream",
     "text": [
      "[['a', 'b', 'c'], ['d', 'e', 'f'], ['g', 'h', 'i']]\n"
     ]
    }
   ],
   "source": [
    "lists = []\n",
    "rap = [\"a\",\"b\",\"c\"]\n",
    "rock = [\"d\",\"e\",\"f\"]\n",
    "djs = [\"g\",\"h\",\"i\"]\n",
    "\n",
    "lists.append(rap)\n",
    "lists.append(rock)\n",
    "lists.append(djs)\n",
    "\n",
    "print(lists)"
   ]
  },
  {
   "cell_type": "code",
   "execution_count": 84,
   "metadata": {},
   "outputs": [
    {
     "name": "stdout",
     "output_type": "stream",
     "text": [
      "['a', 'b', 'c']\n"
     ]
    }
   ],
   "source": [
    "rap=lists[0]\n",
    "print(rap)"
   ]
  },
  {
   "cell_type": "code",
   "execution_count": 85,
   "metadata": {},
   "outputs": [
    {
     "name": "stdout",
     "output_type": "stream",
     "text": [
      "['a', 'b', 'c', 'j']\n",
      "[['a', 'b', 'c', 'j'], ['d', 'e', 'f'], ['g', 'h', 'i']]\n"
     ]
    }
   ],
   "source": [
    "rap=lists[0]\n",
    "rap.append(\"j\")\n",
    "print(rap)\n",
    "print(lists)"
   ]
  },
  {
   "cell_type": "code",
   "execution_count": 86,
   "metadata": {},
   "outputs": [
    {
     "ename": "SyntaxError",
     "evalue": "invalid syntax (<ipython-input-86-ce00711f355b>, line 1)",
     "output_type": "error",
     "traceback": [
      "\u001b[1;36m  File \u001b[1;32m\"<ipython-input-86-ce00711f355b>\"\u001b[1;36m, line \u001b[1;32m1\u001b[0m\n\u001b[1;33m    locations = []:\u001b[0m\n\u001b[1;37m                  ^\u001b[0m\n\u001b[1;31mSyntaxError\u001b[0m\u001b[1;31m:\u001b[0m invalid syntax\n"
     ]
    }
   ],
   "source": [
    "locations = []:\n",
    "la = (34.0522,188.2437)\n",
    "chicago = (41.8781,87.6298)\n",
    "locations.append(la)\n",
    "locations.append(chicago)\n",
    "\n",
    "print(locations)"
   ]
  },
  {
   "cell_type": "code",
   "execution_count": 87,
   "metadata": {},
   "outputs": [
    {
     "name": "stdout",
     "output_type": "stream",
     "text": [
      "[(34.0522, 188.2437), (41.8781, 87.6298)]\n"
     ]
    }
   ],
   "source": [
    "locations = []\n",
    "la = (34.0522,188.2437)\n",
    "chicago = (41.8781,87.6298)\n",
    "locations.append(la)\n",
    "locations.append(chicago)\n",
    "\n",
    "print(locations)"
   ]
  },
  {
   "cell_type": "code",
   "execution_count": 88,
   "metadata": {},
   "outputs": [
    {
     "name": "stdout",
     "output_type": "stream",
     "text": [
      "(['a', 'b'], ['c', 'd', 'e'])\n"
     ]
    }
   ],
   "source": [
    "#authors=著書\n",
    "eights = [\"a\",\"b\"]\n",
    "nines = [\"c\",\"d\",\"e\"]\n",
    "\n",
    "authors = (eights,nines)\n",
    "print(authors)"
   ]
  },
  {
   "cell_type": "code",
   "execution_count": 89,
   "metadata": {},
   "outputs": [
    {
     "name": "stdout",
     "output_type": "stream",
     "text": [
      "[{'hemingway': '7.21.1899', 'fitzgerald': '9.24.1896'}]\n",
      "()\n"
     ]
    }
   ],
   "source": [
    "baby = {\"hemingway\":\"7.21.1899\",\n",
    "       \"fitzgerald\":\"9.24.1896\"}\n",
    "\n",
    "my_list = [baby]\n",
    "print(my_list)\n",
    "my_tuple_=(baby,)\n",
    "print(my_tuple)"
   ]
  },
  {
   "cell_type": "code",
   "execution_count": 90,
   "metadata": {},
   "outputs": [
    {
     "name": "stdout",
     "output_type": "stream",
     "text": [
      "[{'Hemingway': '7.21.1899', 'Fitzgerald': '9.24.1896'}]\n",
      "({'Hemingway': '7.21.1899', 'Fitzgerald': '9.24.1896'},)\n"
     ]
    }
   ],
   "source": [
    "bday = {\"Hemingway\":\n",
    "        \"7.21.1899\",\n",
    "        \"Fitzgerald\":\n",
    "        \"9.24.1896\"}\n",
    "\n",
    "\n",
    "my_list = [bday]\n",
    "print(my_list)\n",
    "my_tuple = (bday,)\n",
    "print(my_tuple)"
   ]
  },
  {
   "cell_type": "code",
   "execution_count": 91,
   "metadata": {},
   "outputs": [],
   "source": [
    "#my_list = [baby]\n",
    "#print(my_list)\n",
    "#my_tuple_=(baby,)←アンダーバーが余計。\n",
    "#print(my_tuple)"
   ]
  },
  {
   "cell_type": "code",
   "execution_count": 92,
   "metadata": {},
   "outputs": [],
   "source": [
    "#1st:tuple型。星座は不変。\n",
    "#2nd:list型。セレブは変更もされるし、追加もされる。\n",
    "#3rd:keyvalue型。辞書型。\n",
    "ny = {\n",
    "    \"座標\":(40.7128,74.0059),\n",
    "    \n",
    "    \"セレブ\":[\"1\",\"2\",\"3\",],\n",
    "    \"事実\":{\"州\":\"newyork\",\n",
    "         \"国\":\"america\",\n",
    "    }\n",
    "}"
   ]
  },
  {
   "cell_type": "code",
   "execution_count": null,
   "metadata": {},
   "outputs": [],
   "source": []
  }
 ],
 "metadata": {
  "kernelspec": {
   "display_name": "Python 3",
   "language": "python",
   "name": "python3"
  },
  "language_info": {
   "codemirror_mode": {
    "name": "ipython",
    "version": 3
   },
   "file_extension": ".py",
   "mimetype": "text/x-python",
   "name": "python",
   "nbconvert_exporter": "python",
   "pygments_lexer": "ipython3",
   "version": "3.7.0"
  }
 },
 "nbformat": 4,
 "nbformat_minor": 2
}
