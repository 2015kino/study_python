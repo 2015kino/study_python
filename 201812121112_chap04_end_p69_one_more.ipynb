{
 "cells": [
  {
   "cell_type": "code",
   "execution_count": 1,
   "metadata": {},
   "outputs": [],
   "source": [
    "#def=define(定義する).\n",
    "def f(x):\n",
    "    return x*2"
   ]
  },
  {
   "cell_type": "code",
   "execution_count": 2,
   "metadata": {},
   "outputs": [
    {
     "data": {
      "text/plain": [
       "4"
      ]
     },
     "execution_count": 2,
     "metadata": {},
     "output_type": "execute_result"
    }
   ],
   "source": [
    "#I just defined it, so I do not get any results ...?\n",
    "#Python coding guide\n",
    "#1:行の長さは８０-１００文字以下\n",
    "#2:インデントは４つのスペース\n",
    "#3:後続の空白はいらない\n",
    "#4:全テキストファイルはUNIXの行末を使用してプッシュする\n",
    "#5:Windowsではcore.autocrlfをtrue設定にする必要有\n",
    "#6:変数、関数、モジュールの名前はlike_thisのように小文字であり、文字を繋げるならアンダースコアを使う\n",
    "#7:クラスはLikeThisのようなラクダのケース（camel case)\n",
    "#8:camelcaseは、複合語をひと綴りとして、要素語の最初を大文字で書き表すことをいう。\n",
    "#9:キャメルケースとは、大文字が「らくだのこぶ」のように見えることからの命名である。\n",
    "#10:コメントを書くときは、スペルチェッカーを使用してください。\n",
    "#11:コメントのタイプミスは煩わしいものになります。\n",
    "#12:私たちはある日、それらのドキュメント文字列からパブリックなドキュメントを生成するかもしれないので、\n",
    "#13:ドキュメント文字列のタイプミスは悪いです。\n",
    "\n",
    "f(2)"
   ]
  },
  {
   "cell_type": "code",
   "execution_count": 6,
   "metadata": {},
   "outputs": [
    {
     "name": "stdout",
     "output_type": "stream",
     "text": [
      "3\n"
     ]
    }
   ],
   "source": [
    "#I just defined it, so I do not get any results ...?\n",
    "#The answer came out.\n",
    "#In writing\n",
    "#Define f (x)\n",
    "#Numbers put in x * 2 and x return with return.\n",
    "#So, if you enter f (2) with the following syntax\n",
    "#2 * 2 = 4\n",
    "#And is answered.\n",
    "\n",
    "result = f(2)\n",
    "print(result)"
   ]
  },
  {
   "cell_type": "code",
   "execution_count": 4,
   "metadata": {},
   "outputs": [
    {
     "name": "stdout",
     "output_type": "stream",
     "text": [
      "6\n"
     ]
    }
   ],
   "source": [
    "#Incidentally, result = \"結果\".\n",
    "result = f(3)\n",
    "print(result)"
   ]
  },
  {
   "cell_type": "code",
   "execution_count": 5,
   "metadata": {},
   "outputs": [
    {
     "name": "stdout",
     "output_type": "stream",
     "text": [
      "z is 5\n"
     ]
    }
   ],
   "source": [
    "def f(x):\n",
    "    return x+1\n",
    "\n",
    "z = f(4)\n",
    "\n",
    "if z == 5:\n",
    "    print(\"z is 5\")\n",
    "else:\n",
    "    print(\"z isn't 5\")"
   ]
  },
  {
   "cell_type": "code",
   "execution_count": 7,
   "metadata": {},
   "outputs": [
    {
     "ename": "NameError",
     "evalue": "name 'x' is not defined",
     "output_type": "error",
     "traceback": [
      "\u001b[1;31m---------------------------------------------------------------------------\u001b[0m",
      "\u001b[1;31mNameError\u001b[0m                                 Traceback (most recent call last)",
      "\u001b[1;32m<ipython-input-7-cbdebc9a7224>\u001b[0m in \u001b[0;36m<module>\u001b[1;34m()\u001b[0m\n\u001b[0;32m      1\u001b[0m \u001b[0mf\u001b[0m\u001b[1;33m(\u001b[0m\u001b[0mz\u001b[0m\u001b[1;33m)\u001b[0m\u001b[1;33m\u001b[0m\u001b[0m\n\u001b[1;32m----> 2\u001b[1;33m \u001b[0mf\u001b[0m\u001b[1;33m(\u001b[0m\u001b[0mx\u001b[0m\u001b[1;33m)\u001b[0m\u001b[1;33m\u001b[0m\u001b[0m\n\u001b[0m",
      "\u001b[1;31mNameError\u001b[0m: name 'x' is not defined"
     ]
    }
   ],
   "source": [
    "f(z)\n",
    "f(x)"
   ]
  },
  {
   "cell_type": "code",
   "execution_count": 8,
   "metadata": {},
   "outputs": [
    {
     "data": {
      "text/plain": [
       "6"
      ]
     },
     "execution_count": 8,
     "metadata": {},
     "output_type": "execute_result"
    }
   ],
   "source": [
    "#今,f(z)の中には5が代入されているはずなので、f(z)=5,f(x)=3と返ってくるはず…。\n",
    "#違いました…。\n",
    "f(z)"
   ]
  },
  {
   "cell_type": "code",
   "execution_count": 9,
   "metadata": {},
   "outputs": [
    {
     "ename": "NameError",
     "evalue": "name 'x' is not defined",
     "output_type": "error",
     "traceback": [
      "\u001b[1;31m---------------------------------------------------------------------------\u001b[0m",
      "\u001b[1;31mNameError\u001b[0m                                 Traceback (most recent call last)",
      "\u001b[1;32m<ipython-input-9-f2d123ee1505>\u001b[0m in \u001b[0;36m<module>\u001b[1;34m()\u001b[0m\n\u001b[1;32m----> 1\u001b[1;33m \u001b[0mf\u001b[0m\u001b[1;33m(\u001b[0m\u001b[0mx\u001b[0m\u001b[1;33m)\u001b[0m\u001b[1;33m\u001b[0m\u001b[0m\n\u001b[0m",
      "\u001b[1;31mNameError\u001b[0m: name 'x' is not defined"
     ]
    }
   ],
   "source": [
    "f(x)"
   ]
  },
  {
   "cell_type": "code",
   "execution_count": 10,
   "metadata": {},
   "outputs": [
    {
     "data": {
      "text/plain": [
       "6"
      ]
     },
     "execution_count": 10,
     "metadata": {},
     "output_type": "execute_result"
    }
   ],
   "source": [
    "#そうか…。def f(x):return x+1と定義して、z = f(4)とzに変更したから今はz→xに権利が移っているのかな…？\n",
    "#f(z)で今6と帰って来てるのはreturn結果でインクリメントz=（z+1)されたから。次は恐らく7と返答があるはず。\n",
    "#f(x)は勿論Errorとなる。そんな名前定義してねぇって感じで。\n",
    "f(z)"
   ]
  },
  {
   "cell_type": "code",
   "execution_count": 11,
   "metadata": {},
   "outputs": [
    {
     "data": {
      "text/plain": [
       "6"
      ]
     },
     "execution_count": 11,
     "metadata": {},
     "output_type": "execute_result"
    }
   ],
   "source": [
    "#ありゃ…？f(z)=6のままだ…。じゃあ、次も6のままだよね…。\n",
    "f(z)"
   ]
  },
  {
   "cell_type": "code",
   "execution_count": 12,
   "metadata": {},
   "outputs": [
    {
     "ename": "SyntaxError",
     "evalue": "invalid syntax (<ipython-input-12-f1a53a319bea>, line 2)",
     "output_type": "error",
     "traceback": [
      "\u001b[1;36m  File \u001b[1;32m\"<ipython-input-12-f1a53a319bea>\"\u001b[1;36m, line \u001b[1;32m2\u001b[0m\n\u001b[1;33m    deff():\u001b[0m\n\u001b[1;37m           ^\u001b[0m\n\u001b[1;31mSyntaxError\u001b[0m\u001b[1;31m:\u001b[0m invalid syntax\n"
     ]
    }
   ],
   "source": [
    "#OK。\n",
    "deff():\n",
    "    return 1+1\n",
    "\n",
    "result = f()\n",
    "print(result)"
   ]
  },
  {
   "cell_type": "code",
   "execution_count": 13,
   "metadata": {},
   "outputs": [
    {
     "name": "stdout",
     "output_type": "stream",
     "text": [
      "2\n"
     ]
    }
   ],
   "source": [
    "def f():\n",
    "    return 1+1\n",
    "\n",
    "result = f()\n",
    "print(result)"
   ]
  },
  {
   "cell_type": "code",
   "execution_count": 14,
   "metadata": {},
   "outputs": [
    {
     "name": "stdout",
     "output_type": "stream",
     "text": [
      "6\n"
     ]
    }
   ],
   "source": [
    "def f(x,y,z):\n",
    "    return x+y+z\n",
    "\n",
    "result = f(1,2,3)\n",
    "print(result)"
   ]
  },
  {
   "cell_type": "code",
   "execution_count": 15,
   "metadata": {},
   "outputs": [
    {
     "ename": "SyntaxError",
     "evalue": "invalid syntax (<ipython-input-15-d7cdca473fc1>, line 2)",
     "output_type": "error",
     "traceback": [
      "\u001b[1;36m  File \u001b[1;32m\"<ipython-input-15-d7cdca473fc1>\"\u001b[1;36m, line \u001b[1;32m2\u001b[0m\n\u001b[1;33m    z 1+1\u001b[0m\n\u001b[1;37m      ^\u001b[0m\n\u001b[1;31mSyntaxError\u001b[0m\u001b[1;31m:\u001b[0m invalid syntax\n"
     ]
    }
   ],
   "source": [
    "def f():\n",
    "    z 1+1\n",
    "\n",
    "result = f()\n",
    "print(result)"
   ]
  },
  {
   "cell_type": "code",
   "execution_count": 16,
   "metadata": {},
   "outputs": [
    {
     "name": "stdout",
     "output_type": "stream",
     "text": [
      "None\n"
     ]
    }
   ],
   "source": [
    "def f():\n",
    "    z = 1 + 1\n",
    "\n",
    "result = f()\n",
    "print(result)"
   ]
  },
  {
   "cell_type": "code",
   "execution_count": 17,
   "metadata": {},
   "outputs": [
    {
     "data": {
      "text/plain": [
       "5"
      ]
     },
     "execution_count": 17,
     "metadata": {},
     "output_type": "execute_result"
    }
   ],
   "source": [
    "len(\"Monty\")"
   ]
  },
  {
   "cell_type": "code",
   "execution_count": 18,
   "metadata": {},
   "outputs": [
    {
     "data": {
      "text/plain": [
       "6"
      ]
     },
     "execution_count": 18,
     "metadata": {},
     "output_type": "execute_result"
    }
   ],
   "source": [
    "len(\"Python\")"
   ]
  },
  {
   "cell_type": "code",
   "execution_count": 19,
   "metadata": {},
   "outputs": [
    {
     "data": {
      "text/plain": [
       "12"
      ]
     },
     "execution_count": 19,
     "metadata": {},
     "output_type": "execute_result"
    }
   ],
   "source": [
    "len(\"Monty Python\")"
   ]
  },
  {
   "cell_type": "code",
   "execution_count": 20,
   "metadata": {},
   "outputs": [
    {
     "data": {
      "text/plain": [
       "'100'"
      ]
     },
     "execution_count": 20,
     "metadata": {},
     "output_type": "execute_result"
    }
   ],
   "source": [
    "str(100)"
   ]
  },
  {
   "cell_type": "code",
   "execution_count": 21,
   "metadata": {},
   "outputs": [
    {
     "data": {
      "text/plain": [
       "1"
      ]
     },
     "execution_count": 21,
     "metadata": {},
     "output_type": "execute_result"
    }
   ],
   "source": [
    "int(\"1\")"
   ]
  },
  {
   "cell_type": "code",
   "execution_count": 22,
   "metadata": {},
   "outputs": [
    {
     "data": {
      "text/plain": [
       "100.0"
      ]
     },
     "execution_count": 22,
     "metadata": {},
     "output_type": "execute_result"
    }
   ],
   "source": [
    "float(100)"
   ]
  },
  {
   "cell_type": "code",
   "execution_count": 23,
   "metadata": {},
   "outputs": [
    {
     "data": {
      "text/plain": [
       "99.0"
      ]
     },
     "execution_count": 23,
     "metadata": {},
     "output_type": "execute_result"
    }
   ],
   "source": [
    "int(\"110\")\n",
    "int(20.54)\n",
    "float(\"16.4\")\n",
    "float(99)"
   ]
  },
  {
   "cell_type": "code",
   "execution_count": 24,
   "metadata": {},
   "outputs": [
    {
     "data": {
      "text/plain": [
       "110"
      ]
     },
     "execution_count": 24,
     "metadata": {},
     "output_type": "execute_result"
    }
   ],
   "source": [
    "int(\"110\")"
   ]
  },
  {
   "cell_type": "code",
   "execution_count": 25,
   "metadata": {},
   "outputs": [
    {
     "data": {
      "text/plain": [
       "20"
      ]
     },
     "execution_count": 25,
     "metadata": {},
     "output_type": "execute_result"
    }
   ],
   "source": [
    "int(20.65)"
   ]
  },
  {
   "cell_type": "code",
   "execution_count": 26,
   "metadata": {},
   "outputs": [
    {
     "data": {
      "text/plain": [
       "16.4"
      ]
     },
     "execution_count": 26,
     "metadata": {},
     "output_type": "execute_result"
    }
   ],
   "source": [
    "float(\"16.4\")"
   ]
  },
  {
   "cell_type": "code",
   "execution_count": 27,
   "metadata": {},
   "outputs": [
    {
     "ename": "ValueError",
     "evalue": "invalid literal for int() with base 10: 'Prince'",
     "output_type": "error",
     "traceback": [
      "\u001b[1;31m---------------------------------------------------------------------------\u001b[0m",
      "\u001b[1;31mValueError\u001b[0m                                Traceback (most recent call last)",
      "\u001b[1;32m<ipython-input-27-2b8599fa5473>\u001b[0m in \u001b[0;36m<module>\u001b[1;34m()\u001b[0m\n\u001b[1;32m----> 1\u001b[1;33m \u001b[0mint\u001b[0m\u001b[1;33m(\u001b[0m\u001b[1;34m\"Prince\"\u001b[0m\u001b[1;33m)\u001b[0m\u001b[1;33m\u001b[0m\u001b[0m\n\u001b[0m",
      "\u001b[1;31mValueError\u001b[0m: invalid literal for int() with base 10: 'Prince'"
     ]
    }
   ],
   "source": [
    "int(\"Prince\")"
   ]
  },
  {
   "cell_type": "code",
   "execution_count": 28,
   "metadata": {},
   "outputs": [
    {
     "ename": "SyntaxError",
     "evalue": "invalid syntax (<ipython-input-28-aa379b44aa1e>, line 5)",
     "output_type": "error",
     "traceback": [
      "\u001b[1;36m  File \u001b[1;32m\"<ipython-input-28-aa379b44aa1e>\"\u001b[1;36m, line \u001b[1;32m5\u001b[0m\n\u001b[1;33m    else\u001b[0m\n\u001b[1;37m        ^\u001b[0m\n\u001b[1;31mSyntaxError\u001b[0m\u001b[1;31m:\u001b[0m invalid syntax\n"
     ]
    }
   ],
   "source": [
    "age = input(\"Enter your Age:\")\n",
    "int_age = int(age)\n",
    "if int_age < 21:\n",
    "    print(\"You are Young!\")\n",
    "else\n",
    "    print(\"Wow,You are old!\")"
   ]
  },
  {
   "cell_type": "code",
   "execution_count": 29,
   "metadata": {},
   "outputs": [
    {
     "name": "stdout",
     "output_type": "stream",
     "text": [
      "Enter your Age:22\n",
      "Wow,You are old!\n"
     ]
    }
   ],
   "source": [
    "age = input(\"Enter your Age:\")\n",
    "int_age = int(age)\n",
    "if int_age < 21:\n",
    "    print(\"You are Young!\")\n",
    "else:\n",
    "    print(\"Wow,You are old!\")"
   ]
  },
  {
   "cell_type": "code",
   "execution_count": 1,
   "metadata": {},
   "outputs": [
    {
     "ename": "SyntaxError",
     "evalue": "invalid syntax (<ipython-input-1-15f32071b598>, line 3)",
     "output_type": "error",
     "traceback": [
      "\u001b[1;36m  File \u001b[1;32m\"<ipython-input-1-15f32071b598>\"\u001b[1;36m, line \u001b[1;32m3\u001b[0m\n\u001b[1;33m    if int_age < 21\u001b[0m\n\u001b[1;37m                   ^\u001b[0m\n\u001b[1;31mSyntaxError\u001b[0m\u001b[1;31m:\u001b[0m invalid syntax\n"
     ]
    }
   ],
   "source": [
    "age = input(\"Enter your Age:\")\n",
    "int_age = int(age)\n",
    "if int_age < 21\n",
    "    print(\"You are Young!\")\n",
    "else:\n",
    "    print(\"Wow,You are old!\")"
   ]
  },
  {
   "cell_type": "code",
   "execution_count": 2,
   "metadata": {},
   "outputs": [
    {
     "name": "stdout",
     "output_type": "stream",
     "text": [
      "Enter your Age:23\n",
      "Wow,You are old!\n"
     ]
    }
   ],
   "source": [
    "age = input(\"Enter your Age:\")\n",
    "int_age = int(age)\n",
    "if int_age < 21:\n",
    "    print(\"You are Young!\")\n",
    "else:\n",
    "    print(\"Wow,You are old!\")"
   ]
  },
  {
   "cell_type": "code",
   "execution_count": 3,
   "metadata": {},
   "outputs": [
    {
     "name": "stdout",
     "output_type": "stream",
     "text": [
      "even number\n"
     ]
    }
   ],
   "source": [
    "#It was buggy ....\n",
    "#In * [*] is * execution state.\n",
    "#When I change to a number like In [1] it seems to be ready.\n",
    "#The explanation is Pycharm ....\n",
    "\n",
    "def even_odd(x):\n",
    "    if x % 2 == 0:\n",
    "        print(\"even number\")\n",
    "    else:\n",
    "        print(\"odd number\")\n",
    "even_odd(2)"
   ]
  },
  {
   "cell_type": "code",
   "execution_count": 4,
   "metadata": {},
   "outputs": [
    {
     "name": "stdout",
     "output_type": "stream",
     "text": [
      "odd number\n"
     ]
    }
   ],
   "source": [
    "def even_odd(x):\n",
    "    if x % 2 == 0:\n",
    "        print(\"even number\")\n",
    "    else:\n",
    "        print(\"odd number\")\n",
    "even_odd(3)"
   ]
  },
  {
   "cell_type": "code",
   "execution_count": 5,
   "metadata": {},
   "outputs": [
    {
     "name": "stdout",
     "output_type": "stream",
     "text": [
      "type a number:2\n",
      "23\n"
     ]
    },
    {
     "ename": "NameError",
     "evalue": "name 'x' is not defined",
     "output_type": "error",
     "traceback": [
      "\u001b[1;31m---------------------------------------------------------------------------\u001b[0m",
      "\u001b[1;31mNameError\u001b[0m                                 Traceback (most recent call last)",
      "\u001b[1;32m<ipython-input-5-c7d1c6f2b9f5>\u001b[0m in \u001b[0;36m<module>\u001b[1;34m()\u001b[0m\n\u001b[0;32m      1\u001b[0m \u001b[0mn\u001b[0m \u001b[1;33m=\u001b[0m \u001b[0minput\u001b[0m\u001b[1;33m(\u001b[0m\u001b[1;34m\"type a number:\"\u001b[0m\u001b[1;33m)\u001b[0m\u001b[1;33m\u001b[0m\u001b[0m\n\u001b[0;32m      2\u001b[0m \u001b[0mn\u001b[0m \u001b[1;33m=\u001b[0m \u001b[0minput\u001b[0m\u001b[1;33m(\u001b[0m\u001b[0mn\u001b[0m\u001b[1;33m)\u001b[0m\u001b[1;33m\u001b[0m\u001b[0m\n\u001b[1;32m----> 3\u001b[1;33m \u001b[1;32mif\u001b[0m \u001b[0mx\u001b[0m \u001b[1;33m%\u001b[0m \u001b[1;36m2\u001b[0m \u001b[1;33m==\u001b[0m \u001b[1;36m0\u001b[0m\u001b[1;33m:\u001b[0m\u001b[1;33m\u001b[0m\u001b[0m\n\u001b[0m\u001b[0;32m      4\u001b[0m     \u001b[0mprint\u001b[0m\u001b[1;33m(\u001b[0m\u001b[1;34m\"n is even number\"\u001b[0m\u001b[1;33m)\u001b[0m\u001b[1;33m\u001b[0m\u001b[0m\n\u001b[0;32m      5\u001b[0m \u001b[1;32melse\u001b[0m\u001b[1;33m:\u001b[0m\u001b[1;33m\u001b[0m\u001b[0m\n",
      "\u001b[1;31mNameError\u001b[0m: name 'x' is not defined"
     ]
    }
   ],
   "source": [
    "n = input(\"type a number:\")\n",
    "n = input(n)\n",
    "if x % 2 == 0:\n",
    "    print(\"n is even number\")\n",
    "else:\n",
    "    print(\"n is odd number\")\n",
    "\n",
    "n = input(\"type a number:\")\n",
    "n = input(n)\n",
    "if x % 2 == 0:\n",
    "    print(\"n is even number\")\n",
    "else:\n",
    "    print(\"n is odd number\")\n",
    "\n",
    "n = input(\"type a number:\")\n",
    "n = input(n)\n",
    "if x % 2 == 0:\n",
    "    print(\"n is even number\")\n",
    "else:\n",
    "    print(\"n is odd number\")"
   ]
  },
  {
   "cell_type": "code",
   "execution_count": 6,
   "metadata": {},
   "outputs": [
    {
     "name": "stdout",
     "output_type": "stream",
     "text": [
      "type a number:2\n",
      "23\n"
     ]
    },
    {
     "ename": "TypeError",
     "evalue": "not all arguments converted during string formatting",
     "output_type": "error",
     "traceback": [
      "\u001b[1;31m---------------------------------------------------------------------------\u001b[0m",
      "\u001b[1;31mTypeError\u001b[0m                                 Traceback (most recent call last)",
      "\u001b[1;32m<ipython-input-6-761c195e08b1>\u001b[0m in \u001b[0;36m<module>\u001b[1;34m()\u001b[0m\n\u001b[0;32m      1\u001b[0m \u001b[0mn\u001b[0m \u001b[1;33m=\u001b[0m \u001b[0minput\u001b[0m\u001b[1;33m(\u001b[0m\u001b[1;34m\"type a number:\"\u001b[0m\u001b[1;33m)\u001b[0m\u001b[1;33m\u001b[0m\u001b[0m\n\u001b[0;32m      2\u001b[0m \u001b[0mn\u001b[0m \u001b[1;33m=\u001b[0m \u001b[0minput\u001b[0m\u001b[1;33m(\u001b[0m\u001b[0mn\u001b[0m\u001b[1;33m)\u001b[0m\u001b[1;33m\u001b[0m\u001b[0m\n\u001b[1;32m----> 3\u001b[1;33m \u001b[1;32mif\u001b[0m \u001b[0mn\u001b[0m \u001b[1;33m%\u001b[0m \u001b[1;36m2\u001b[0m \u001b[1;33m==\u001b[0m \u001b[1;36m0\u001b[0m\u001b[1;33m:\u001b[0m\u001b[1;33m\u001b[0m\u001b[0m\n\u001b[0m\u001b[0;32m      4\u001b[0m     \u001b[0mprint\u001b[0m\u001b[1;33m(\u001b[0m\u001b[1;34m\"n is even number\"\u001b[0m\u001b[1;33m)\u001b[0m\u001b[1;33m\u001b[0m\u001b[0m\n\u001b[0;32m      5\u001b[0m \u001b[1;32melse\u001b[0m\u001b[1;33m:\u001b[0m\u001b[1;33m\u001b[0m\u001b[0m\n",
      "\u001b[1;31mTypeError\u001b[0m: not all arguments converted during string formatting"
     ]
    }
   ],
   "source": [
    "n = input(\"type a number:\")\n",
    "n = input(n)\n",
    "if n % 2 == 0:\n",
    "    print(\"n is even number\")\n",
    "else:\n",
    "    print(\"n is odd number\")\n",
    "\n",
    "n = input(\"type a number:\")\n",
    "n = input(n)\n",
    "if n % 2 == 0:\n",
    "    print(\"n is even number\")\n",
    "else:\n",
    "    print(\"n is odd number\")\n",
    "\n",
    "n = input(\"type a number:\")\n",
    "n = input(n)\n",
    "if n % 2 == 0:\n",
    "    print(\"n is even number\")\n",
    "else:\n",
    "    print(\"n is odd number\")\n"
   ]
  },
  {
   "cell_type": "code",
   "execution_count": 7,
   "metadata": {},
   "outputs": [
    {
     "name": "stdout",
     "output_type": "stream",
     "text": [
      "type a number:2\n",
      "2\n"
     ]
    },
    {
     "ename": "TypeError",
     "evalue": "not all arguments converted during string formatting",
     "output_type": "error",
     "traceback": [
      "\u001b[1;31m---------------------------------------------------------------------------\u001b[0m",
      "\u001b[1;31mTypeError\u001b[0m                                 Traceback (most recent call last)",
      "\u001b[1;32m<ipython-input-7-761c195e08b1>\u001b[0m in \u001b[0;36m<module>\u001b[1;34m()\u001b[0m\n\u001b[0;32m      1\u001b[0m \u001b[0mn\u001b[0m \u001b[1;33m=\u001b[0m \u001b[0minput\u001b[0m\u001b[1;33m(\u001b[0m\u001b[1;34m\"type a number:\"\u001b[0m\u001b[1;33m)\u001b[0m\u001b[1;33m\u001b[0m\u001b[0m\n\u001b[0;32m      2\u001b[0m \u001b[0mn\u001b[0m \u001b[1;33m=\u001b[0m \u001b[0minput\u001b[0m\u001b[1;33m(\u001b[0m\u001b[0mn\u001b[0m\u001b[1;33m)\u001b[0m\u001b[1;33m\u001b[0m\u001b[0m\n\u001b[1;32m----> 3\u001b[1;33m \u001b[1;32mif\u001b[0m \u001b[0mn\u001b[0m \u001b[1;33m%\u001b[0m \u001b[1;36m2\u001b[0m \u001b[1;33m==\u001b[0m \u001b[1;36m0\u001b[0m\u001b[1;33m:\u001b[0m\u001b[1;33m\u001b[0m\u001b[0m\n\u001b[0m\u001b[0;32m      4\u001b[0m     \u001b[0mprint\u001b[0m\u001b[1;33m(\u001b[0m\u001b[1;34m\"n is even number\"\u001b[0m\u001b[1;33m)\u001b[0m\u001b[1;33m\u001b[0m\u001b[0m\n\u001b[0;32m      5\u001b[0m \u001b[1;32melse\u001b[0m\u001b[1;33m:\u001b[0m\u001b[1;33m\u001b[0m\u001b[0m\n",
      "\u001b[1;31mTypeError\u001b[0m: not all arguments converted during string formatting"
     ]
    }
   ],
   "source": [
    "n = input(\"type a number:\")\n",
    "n = input(n)\n",
    "if n % 2 == 0:\n",
    "    print(\"n is even number\")\n",
    "else:\n",
    "    print(\"n is odd number\")\n",
    "\n",
    "n = input(\"type a number:\")\n",
    "n = input(n)\n",
    "if n % 2 == 0:\n",
    "    print(\"n is even number\")\n",
    "else:\n",
    "    print(\"n is odd number\")\n",
    "\n",
    "n = input(\"type a number:\")\n",
    "n = input(n)\n",
    "if n % 2 == 0:\n",
    "    print(\"n is even number\")\n",
    "else:\n",
    "    print(\"n is odd number\")"
   ]
  },
  {
   "cell_type": "code",
   "execution_count": 8,
   "metadata": {},
   "outputs": [
    {
     "name": "stdout",
     "output_type": "stream",
     "text": [
      "type a number:2\n",
      "2s\n"
     ]
    },
    {
     "ename": "TypeError",
     "evalue": "not all arguments converted during string formatting",
     "output_type": "error",
     "traceback": [
      "\u001b[1;31m---------------------------------------------------------------------------\u001b[0m",
      "\u001b[1;31mTypeError\u001b[0m                                 Traceback (most recent call last)",
      "\u001b[1;32m<ipython-input-8-761c195e08b1>\u001b[0m in \u001b[0;36m<module>\u001b[1;34m()\u001b[0m\n\u001b[0;32m      1\u001b[0m \u001b[0mn\u001b[0m \u001b[1;33m=\u001b[0m \u001b[0minput\u001b[0m\u001b[1;33m(\u001b[0m\u001b[1;34m\"type a number:\"\u001b[0m\u001b[1;33m)\u001b[0m\u001b[1;33m\u001b[0m\u001b[0m\n\u001b[0;32m      2\u001b[0m \u001b[0mn\u001b[0m \u001b[1;33m=\u001b[0m \u001b[0minput\u001b[0m\u001b[1;33m(\u001b[0m\u001b[0mn\u001b[0m\u001b[1;33m)\u001b[0m\u001b[1;33m\u001b[0m\u001b[0m\n\u001b[1;32m----> 3\u001b[1;33m \u001b[1;32mif\u001b[0m \u001b[0mn\u001b[0m \u001b[1;33m%\u001b[0m \u001b[1;36m2\u001b[0m \u001b[1;33m==\u001b[0m \u001b[1;36m0\u001b[0m\u001b[1;33m:\u001b[0m\u001b[1;33m\u001b[0m\u001b[0m\n\u001b[0m\u001b[0;32m      4\u001b[0m     \u001b[0mprint\u001b[0m\u001b[1;33m(\u001b[0m\u001b[1;34m\"n is even number\"\u001b[0m\u001b[1;33m)\u001b[0m\u001b[1;33m\u001b[0m\u001b[0m\n\u001b[0;32m      5\u001b[0m \u001b[1;32melse\u001b[0m\u001b[1;33m:\u001b[0m\u001b[1;33m\u001b[0m\u001b[0m\n",
      "\u001b[1;31mTypeError\u001b[0m: not all arguments converted during string formatting"
     ]
    }
   ],
   "source": [
    "n = input(\"type a number:\")\n",
    "n = input(n)\n",
    "if n % 2 == 0:\n",
    "    print(\"n is even number\")\n",
    "else:\n",
    "    print(\"n is odd number\")\n",
    "\n",
    "n = input(\"type a number:\")\n",
    "n = input(n)\n",
    "if n % 2 == 0:\n",
    "    print(\"n is even number\")\n",
    "else:\n",
    "    print(\"n is odd number\")\n",
    "\n",
    "n = input(\"type a number:\")\n",
    "n = input(n)\n",
    "if n % 2 == 0:\n",
    "    print(\"n is even number\")\n",
    "else:\n",
    "    print(\"n is odd number\")"
   ]
  },
  {
   "cell_type": "code",
   "execution_count": 9,
   "metadata": {},
   "outputs": [
    {
     "name": "stdout",
     "output_type": "stream",
     "text": [
      "type a number2\n",
      "n is even.\n",
      "type a number3\n",
      "n is odd.\n",
      "type a number4\n",
      "n is even.\n"
     ]
    }
   ],
   "source": [
    "n = input(\"type a number\")\n",
    "n = int(n)\n",
    "\n",
    "\n",
    "if n % 2 == 0:\n",
    "    print(\"n is even.\")\n",
    "else:\n",
    "    print(\"n is odd.\")\n",
    "\n",
    "\n",
    "n = input(\"type a number\")\n",
    "n = int(n)\n",
    "if n % 2 == 0:\n",
    "    print(\"n is even.\")\n",
    "else:\n",
    "    print(\"n is odd.\")\n",
    "\n",
    "\n",
    "n = input(\"type a number\")\n",
    "n = int(n)\n",
    "if n % 2 == 0:\n",
    "    print(\"n is even.\")\n",
    "else:\n",
    "    print(\"n is odd.\")"
   ]
  },
  {
   "cell_type": "code",
   "execution_count": 10,
   "metadata": {},
   "outputs": [
    {
     "name": "stdout",
     "output_type": "stream",
     "text": [
      "type a number:2\n",
      "n is even number\n",
      "type a number:3\n",
      "n is odd number\n",
      "type a number:4\n",
      "n is even number\n"
     ]
    }
   ],
   "source": [
    "n = input(\"type a number:\")\n",
    "n = int(n)\n",
    "if n % 2 == 0:\n",
    "    print(\"n is even number\")\n",
    "else:\n",
    "    print(\"n is odd number\")\n",
    "\n",
    "n = input(\"type a number:\")\n",
    "n = int(n)\n",
    "if n % 2 == 0:\n",
    "    print(\"n is even number\")\n",
    "else:\n",
    "    print(\"n is odd number\")\n",
    "\n",
    "n = input(\"type a number:\")\n",
    "n = int(n)\n",
    "if n % 2 == 0:\n",
    "    print(\"n is even number\")\n",
    "else:\n",
    "    print(\"n is odd number\")"
   ]
  },
  {
   "cell_type": "code",
   "execution_count": 11,
   "metadata": {},
   "outputs": [
    {
     "name": "stdout",
     "output_type": "stream",
     "text": [
      "type a number:3\n",
      "n is odd number\n",
      "type a number:2\n",
      "n is even number\n",
      "type a number:1\n",
      "n is odd number\n"
     ]
    }
   ],
   "source": [
    "#プログラムは文章だって言ったけれど、もう一度。プログラムは文章。\n",
    "#n = input(\"type a number:\")でnに数字が入って、int(n)で整数オブジェクトのnという事を伝える。\n",
    "\n",
    "# I said the program is a sentence, but once again. The program is sentences.\n",
    "#In # n = input (\"type a number:\"), \n",
    "#a number is entered in n and int (n) tells that it is an integer object n.\n",
    "\n",
    "#そしてそれを3回コピペするとかおかしいでしょってので、even_odd()を定義して最後に3回登場するけれど、\n",
    "#定義した構文を呼び出してくれている。\n",
    "\n",
    "#And it's inefficient to copy and paste it three times, so even_odd () is defined.\n",
    "#Lastly it calls the syntax defined three times.\n",
    "\n",
    "def even_odd():\n",
    "    n = input(\"type a number:\")\n",
    "    n = int(n)\n",
    "    if n % 2 == 0:\n",
    "        print(\"n is even number\")\n",
    "    else:\n",
    "        print(\"n is odd number\")\n",
    "even_odd()\n",
    "even_odd()\n",
    "even_odd()"
   ]
  },
  {
   "cell_type": "code",
   "execution_count": 12,
   "metadata": {},
   "outputs": [
    {
     "name": "stdout",
     "output_type": "stream",
     "text": [
      "1\n"
     ]
    }
   ],
   "source": [
    "def f(x=1):\n",
    "    return x ** x\n",
    "\n",
    "print(f())"
   ]
  },
  {
   "cell_type": "code",
   "execution_count": 13,
   "metadata": {},
   "outputs": [
    {
     "name": "stdout",
     "output_type": "stream",
     "text": [
      "256\n"
     ]
    }
   ],
   "source": [
    "def f(x=1):\n",
    "    return x ** x\n",
    "\n",
    "print(f(4))"
   ]
  },
  {
   "cell_type": "code",
   "execution_count": 14,
   "metadata": {},
   "outputs": [
    {
     "name": "stdout",
     "output_type": "stream",
     "text": [
      "1\n",
      "256\n"
     ]
    }
   ],
   "source": [
    "def f(x=1):\n",
    "    return x ** x\n",
    "\n",
    "print(f())\n",
    "print(f(4))"
   ]
  },
  {
   "cell_type": "code",
   "execution_count": 15,
   "metadata": {},
   "outputs": [
    {
     "name": "stdout",
     "output_type": "stream",
     "text": [
      "4\n",
      "256\n"
     ]
    }
   ],
   "source": [
    "def f(x=2):\n",
    "    return x ** x\n",
    "\n",
    "print(f())\n",
    "print(f(4))"
   ]
  },
  {
   "cell_type": "code",
   "execution_count": 16,
   "metadata": {},
   "outputs": [
    {
     "name": "stdout",
     "output_type": "stream",
     "text": [
      "256\n",
      "1\n"
     ]
    }
   ],
   "source": [
    "def f(x=1):\n",
    "    return x ** x\n",
    "\n",
    "print(f(4))\n",
    "print(f())"
   ]
  },
  {
   "cell_type": "code",
   "execution_count": 17,
   "metadata": {},
   "outputs": [
    {
     "name": "stdout",
     "output_type": "stream",
     "text": [
      "12\n"
     ]
    }
   ],
   "source": [
    "def add_it(x,y=10):\n",
    "    return x + y\n",
    "result = add_it(2)\n",
    "print(result)"
   ]
  },
  {
   "cell_type": "code",
   "execution_count": 18,
   "metadata": {},
   "outputs": [],
   "source": [
    "x=1\n",
    "y=2\n",
    "z=3"
   ]
  },
  {
   "cell_type": "code",
   "execution_count": 19,
   "metadata": {},
   "outputs": [
    {
     "name": "stdout",
     "output_type": "stream",
     "text": [
      "1\n",
      "2\n",
      "3\n"
     ]
    }
   ],
   "source": [
    "def f():\n",
    "    print(x)\n",
    "    print(y)\n",
    "    print(z)\n",
    "f()"
   ]
  },
  {
   "cell_type": "code",
   "execution_count": 20,
   "metadata": {},
   "outputs": [],
   "source": [
    "def f():\n",
    "    print(x)\n",
    "    print(y)\n",
    "    print(z)"
   ]
  },
  {
   "cell_type": "code",
   "execution_count": 21,
   "metadata": {},
   "outputs": [
    {
     "name": "stdout",
     "output_type": "stream",
     "text": [
      "1\n",
      "2\n",
      "3\n"
     ]
    }
   ],
   "source": [
    "def f():\n",
    "    print(x)\n",
    "    print(y)\n",
    "    print(z)\n",
    "f()"
   ]
  },
  {
   "cell_type": "code",
   "execution_count": 22,
   "metadata": {},
   "outputs": [],
   "source": [
    "def f():\n",
    "    x=1\n",
    "    y=2\n",
    "    z=3\n",
    "    print(x)\n",
    "    print(y)\n",
    "    print(z)"
   ]
  },
  {
   "cell_type": "code",
   "execution_count": 23,
   "metadata": {},
   "outputs": [
    {
     "name": "stdout",
     "output_type": "stream",
     "text": [
      "1\n",
      "2\n",
      "3\n"
     ]
    }
   ],
   "source": [
    "def f():\n",
    "    x = 1\n",
    "    y = 2\n",
    "    z = 3\n",
    "\n",
    "\n",
    "print(x)\n",
    "print(y)\n",
    "print(z)"
   ]
  },
  {
   "cell_type": "code",
   "execution_count": 24,
   "metadata": {},
   "outputs": [
    {
     "name": "stdout",
     "output_type": "stream",
     "text": [
      "3\n"
     ]
    }
   ],
   "source": [
    "#Well ... using a variable in a function is an error, but it will be displayed properly ....\n",
    "def foo():\n",
    "    print(z)\n",
    "foo()\n"
   ]
  },
  {
   "cell_type": "code",
   "execution_count": 25,
   "metadata": {},
   "outputs": [],
   "source": [
    "del x,y,z"
   ]
  },
  {
   "cell_type": "code",
   "execution_count": 26,
   "metadata": {},
   "outputs": [
    {
     "ename": "NameError",
     "evalue": "name 'x' is not defined",
     "output_type": "error",
     "traceback": [
      "\u001b[1;31m---------------------------------------------------------------------------\u001b[0m",
      "\u001b[1;31mNameError\u001b[0m                                 Traceback (most recent call last)",
      "\u001b[1;32m<ipython-input-26-1231cc53d56c>\u001b[0m in \u001b[0;36m<module>\u001b[1;34m()\u001b[0m\n\u001b[0;32m      5\u001b[0m \u001b[1;33m\u001b[0m\u001b[0m\n\u001b[0;32m      6\u001b[0m \u001b[1;33m\u001b[0m\u001b[0m\n\u001b[1;32m----> 7\u001b[1;33m \u001b[0mprint\u001b[0m\u001b[1;33m(\u001b[0m\u001b[0mx\u001b[0m\u001b[1;33m)\u001b[0m\u001b[1;33m\u001b[0m\u001b[0m\n\u001b[0m\u001b[0;32m      8\u001b[0m \u001b[0mprint\u001b[0m\u001b[1;33m(\u001b[0m\u001b[0my\u001b[0m\u001b[1;33m)\u001b[0m\u001b[1;33m\u001b[0m\u001b[0m\n\u001b[0;32m      9\u001b[0m \u001b[0mprint\u001b[0m\u001b[1;33m(\u001b[0m\u001b[0mz\u001b[0m\u001b[1;33m)\u001b[0m\u001b[1;33m\u001b[0m\u001b[0m\n",
      "\u001b[1;31mNameError\u001b[0m: name 'x' is not defined"
     ]
    }
   ],
   "source": [
    "def f():\n",
    "    x = 1\n",
    "    y = 2\n",
    "    z = 3\n",
    "\n",
    "\n",
    "print(x)\n",
    "print(y)\n",
    "print(z)"
   ]
  },
  {
   "cell_type": "code",
   "execution_count": 27,
   "metadata": {},
   "outputs": [
    {
     "ename": "NameError",
     "evalue": "name 'x' is not defined",
     "output_type": "error",
     "traceback": [
      "\u001b[1;31m---------------------------------------------------------------------------\u001b[0m",
      "\u001b[1;31mNameError\u001b[0m                                 Traceback (most recent call last)",
      "\u001b[1;32m<ipython-input-27-1ee7860ecb2e>\u001b[0m in \u001b[0;36m<module>\u001b[1;34m()\u001b[0m\n\u001b[0;32m     12\u001b[0m \u001b[1;33m\u001b[0m\u001b[0m\n\u001b[0;32m     13\u001b[0m \u001b[1;33m\u001b[0m\u001b[0m\n\u001b[1;32m---> 14\u001b[1;33m \u001b[0mprint\u001b[0m\u001b[1;33m(\u001b[0m\u001b[0mx\u001b[0m\u001b[1;33m)\u001b[0m\u001b[1;33m\u001b[0m\u001b[0m\n\u001b[0m\u001b[0;32m     15\u001b[0m \u001b[0mprint\u001b[0m\u001b[1;33m(\u001b[0m\u001b[0my\u001b[0m\u001b[1;33m)\u001b[0m\u001b[1;33m\u001b[0m\u001b[0m\n\u001b[0;32m     16\u001b[0m \u001b[0mprint\u001b[0m\u001b[1;33m(\u001b[0m\u001b[0mz\u001b[0m\u001b[1;33m)\u001b[0m\u001b[1;33m\u001b[0m\u001b[0m\n",
      "\u001b[1;31mNameError\u001b[0m: name 'x' is not defined"
     ]
    }
   ],
   "source": [
    "#After all the global variable that was declared at first remained, \n",
    "#it was called all the time. And even if you declare it in a function, \n",
    "#it will be used as it is because the global survives ... ...\n",
    "\n",
    "#やっぱり最初に宣言していたグローバル変数が残っていたからそれがずっと呼び出されていた。\n",
    "#そして、それを関数内で宣言しても、それがグローバルの方が生き残っているからそのまま使われる…。\n",
    "\n",
    "def f():\n",
    "    x = 1\n",
    "    y = 2\n",
    "    z = 3\n",
    "\n",
    "print(x)\n",
    "print(y)\n",
    "print(z)\n",
    "\n",
    "f()"
   ]
  },
  {
   "cell_type": "code",
   "execution_count": 28,
   "metadata": {},
   "outputs": [
    {
     "name": "stdout",
     "output_type": "stream",
     "text": [
      "1\n",
      "2\n",
      "3\n"
     ]
    }
   ],
   "source": [
    "def f():\n",
    "    x = 1\n",
    "    y = 2\n",
    "    z = 3\n",
    "    print(x)\n",
    "    print(y)\n",
    "    print(z)\n",
    "\n",
    "\n",
    "f()"
   ]
  },
  {
   "cell_type": "code",
   "execution_count": 29,
   "metadata": {},
   "outputs": [
    {
     "ename": "NameError",
     "evalue": "name 'x' is not defined",
     "output_type": "error",
     "traceback": [
      "\u001b[1;31m---------------------------------------------------------------------------\u001b[0m",
      "\u001b[1;31mNameError\u001b[0m                                 Traceback (most recent call last)",
      "\u001b[1;32m<ipython-input-29-a8548b7e6c58>\u001b[0m in \u001b[0;36m<module>\u001b[1;34m()\u001b[0m\n\u001b[0;32m      2\u001b[0m \u001b[1;31m#Process ....\u001b[0m\u001b[1;33m\u001b[0m\u001b[1;33m\u001b[0m\u001b[0m\n\u001b[0;32m      3\u001b[0m \u001b[1;33m\u001b[0m\u001b[0m\n\u001b[1;32m----> 4\u001b[1;33m \u001b[1;32mif\u001b[0m \u001b[0mx\u001b[0m \u001b[1;33m>\u001b[0m \u001b[1;36m100\u001b[0m\u001b[1;33m:\u001b[0m\u001b[1;33m\u001b[0m\u001b[0m\n\u001b[0m\u001b[0;32m      5\u001b[0m     \u001b[0mprint\u001b[0m\u001b[1;33m(\u001b[0m\u001b[1;34m\"x is > 100\"\u001b[0m\u001b[1;33m)\u001b[0m\u001b[1;33m\u001b[0m\u001b[0m\n",
      "\u001b[1;31mNameError\u001b[0m: name 'x' is not defined"
     ]
    }
   ],
   "source": [
    "#This is indentation ....\n",
    "#Process ....\n",
    "\n",
    "if x > 100:\n",
    "    print(\"x is > 100\")"
   ]
  },
  {
   "cell_type": "code",
   "execution_count": 30,
   "metadata": {},
   "outputs": [
    {
     "name": "stdout",
     "output_type": "stream",
     "text": [
      "101\n"
     ]
    }
   ],
   "source": [
    "x = 100\n",
    "\n",
    "def f():\n",
    "    global x\n",
    "    x += 1\n",
    "    print(x)\n",
    "\n",
    "f()"
   ]
  },
  {
   "cell_type": "code",
   "execution_count": 31,
   "metadata": {},
   "outputs": [
    {
     "name": "stdout",
     "output_type": "stream",
     "text": [
      "type a number:10\n",
      "type b number:5\n",
      "2.0\n"
     ]
    }
   ],
   "source": [
    "a=input(\"type a number:\")\n",
    "b=input(\"type b number:\")\n",
    "a=int(a)\n",
    "b=int(b)\n",
    "print(a/b)"
   ]
  },
  {
   "cell_type": "code",
   "execution_count": 32,
   "metadata": {},
   "outputs": [
    {
     "name": "stdout",
     "output_type": "stream",
     "text": [
      "type a number:10\n",
      "type b number:0\n"
     ]
    },
    {
     "ename": "ZeroDivisionError",
     "evalue": "division by zero",
     "output_type": "error",
     "traceback": [
      "\u001b[1;31m---------------------------------------------------------------------------\u001b[0m",
      "\u001b[1;31mZeroDivisionError\u001b[0m                         Traceback (most recent call last)",
      "\u001b[1;32m<ipython-input-32-7f934f50724c>\u001b[0m in \u001b[0;36m<module>\u001b[1;34m()\u001b[0m\n\u001b[0;32m      3\u001b[0m \u001b[0ma\u001b[0m\u001b[1;33m=\u001b[0m\u001b[0mint\u001b[0m\u001b[1;33m(\u001b[0m\u001b[0ma\u001b[0m\u001b[1;33m)\u001b[0m\u001b[1;33m\u001b[0m\u001b[0m\n\u001b[0;32m      4\u001b[0m \u001b[0mb\u001b[0m\u001b[1;33m=\u001b[0m\u001b[0mint\u001b[0m\u001b[1;33m(\u001b[0m\u001b[0mb\u001b[0m\u001b[1;33m)\u001b[0m\u001b[1;33m\u001b[0m\u001b[0m\n\u001b[1;32m----> 5\u001b[1;33m \u001b[0mprint\u001b[0m\u001b[1;33m(\u001b[0m\u001b[0ma\u001b[0m\u001b[1;33m/\u001b[0m\u001b[0mb\u001b[0m\u001b[1;33m)\u001b[0m\u001b[1;33m\u001b[0m\u001b[0m\n\u001b[0m",
      "\u001b[1;31mZeroDivisionError\u001b[0m: division by zero"
     ]
    }
   ],
   "source": [
    "a=input(\"type a number:\")\n",
    "b=input(\"type b number:\")\n",
    "a=int(a)\n",
    "b=int(b)\n",
    "print(a/b)"
   ]
  },
  {
   "cell_type": "code",
   "execution_count": 33,
   "metadata": {},
   "outputs": [
    {
     "name": "stdout",
     "output_type": "stream",
     "text": [
      "type a number:10\n",
      "type b number:0\n",
      "b can't be zero!\n"
     ]
    }
   ],
   "source": [
    "a=input(\"type a number:\")\n",
    "b=input(\"type b number:\")\n",
    "a=int(a)\n",
    "b=int(b)\n",
    "try:\n",
    "    print(a/b)\n",
    "except ZeroDivisionError:\n",
    "    print(\"b can't be zero!\")"
   ]
  },
  {
   "cell_type": "code",
   "execution_count": 34,
   "metadata": {},
   "outputs": [
    {
     "name": "stdout",
     "output_type": "stream",
     "text": [
      "type a number:Hund\n",
      "type another:Million\n"
     ]
    },
    {
     "ename": "ValueError",
     "evalue": "invalid literal for int() with base 10: 'Hund'",
     "output_type": "error",
     "traceback": [
      "\u001b[1;31m---------------------------------------------------------------------------\u001b[0m",
      "\u001b[1;31mValueError\u001b[0m                                Traceback (most recent call last)",
      "\u001b[1;32m<ipython-input-34-f6a193335da9>\u001b[0m in \u001b[0;36m<module>\u001b[1;34m()\u001b[0m\n\u001b[0;32m      1\u001b[0m \u001b[0ma\u001b[0m\u001b[1;33m=\u001b[0m\u001b[0minput\u001b[0m\u001b[1;33m(\u001b[0m\u001b[1;34m\"type a number:\"\u001b[0m\u001b[1;33m)\u001b[0m\u001b[1;33m\u001b[0m\u001b[0m\n\u001b[0;32m      2\u001b[0m \u001b[0mb\u001b[0m\u001b[1;33m=\u001b[0m\u001b[0minput\u001b[0m\u001b[1;33m(\u001b[0m\u001b[1;34m\"type another:\"\u001b[0m\u001b[1;33m)\u001b[0m\u001b[1;33m\u001b[0m\u001b[0m\n\u001b[1;32m----> 3\u001b[1;33m \u001b[0ma\u001b[0m\u001b[1;33m=\u001b[0m\u001b[0mint\u001b[0m\u001b[1;33m(\u001b[0m\u001b[0ma\u001b[0m\u001b[1;33m)\u001b[0m\u001b[1;33m\u001b[0m\u001b[0m\n\u001b[0m\u001b[0;32m      4\u001b[0m \u001b[0mb\u001b[0m\u001b[1;33m=\u001b[0m\u001b[0mint\u001b[0m\u001b[1;33m(\u001b[0m\u001b[0mb\u001b[0m\u001b[1;33m)\u001b[0m\u001b[1;33m\u001b[0m\u001b[0m\n\u001b[0;32m      5\u001b[0m \u001b[1;32mtry\u001b[0m\u001b[1;33m:\u001b[0m\u001b[1;33m\u001b[0m\u001b[0m\n",
      "\u001b[1;31mValueError\u001b[0m: invalid literal for int() with base 10: 'Hund'"
     ]
    }
   ],
   "source": [
    "a=input(\"type a number:\")\n",
    "b=input(\"type another:\")\n",
    "a=int(a)\n",
    "b=int(b)\n",
    "try:\n",
    "    print(a/b)\n",
    "except ZeroDivisionError:\n",
    "    print(\"b can't be zero!\")"
   ]
  },
  {
   "cell_type": "code",
   "execution_count": 35,
   "metadata": {},
   "outputs": [
    {
     "ename": "SyntaxError",
     "evalue": "invalid syntax (<ipython-input-35-dde7c529182e>, line 7)",
     "output_type": "error",
     "traceback": [
      "\u001b[1;36m  File \u001b[1;32m\"<ipython-input-35-dde7c529182e>\"\u001b[1;36m, line \u001b[1;32m7\u001b[0m\n\u001b[1;33m    except (ZeroDivisionError:,ValueError):\u001b[0m\n\u001b[1;37m                             ^\u001b[0m\n\u001b[1;31mSyntaxError\u001b[0m\u001b[1;31m:\u001b[0m invalid syntax\n"
     ]
    }
   ],
   "source": [
    "a = input(\"type a number:\")\n",
    "b = input(\"type another:\")\n",
    "a = int(a)\n",
    "b = int(b)\n",
    "try:\n",
    "    print(a / b)\n",
    "except (ZeroDivisionError:,ValueError):\n",
    "    print(\"invalid input(無効入力).\")"
   ]
  },
  {
   "cell_type": "code",
   "execution_count": 36,
   "metadata": {},
   "outputs": [
    {
     "name": "stdout",
     "output_type": "stream",
     "text": [
      "type a number:hund\n",
      "type another:number\n"
     ]
    },
    {
     "ename": "ValueError",
     "evalue": "invalid literal for int() with base 10: 'hund'",
     "output_type": "error",
     "traceback": [
      "\u001b[1;31m---------------------------------------------------------------------------\u001b[0m",
      "\u001b[1;31mValueError\u001b[0m                                Traceback (most recent call last)",
      "\u001b[1;32m<ipython-input-36-511f110eabaf>\u001b[0m in \u001b[0;36m<module>\u001b[1;34m()\u001b[0m\n\u001b[0;32m      1\u001b[0m \u001b[0ma\u001b[0m \u001b[1;33m=\u001b[0m \u001b[0minput\u001b[0m\u001b[1;33m(\u001b[0m\u001b[1;34m\"type a number:\"\u001b[0m\u001b[1;33m)\u001b[0m\u001b[1;33m\u001b[0m\u001b[0m\n\u001b[0;32m      2\u001b[0m \u001b[0mb\u001b[0m \u001b[1;33m=\u001b[0m \u001b[0minput\u001b[0m\u001b[1;33m(\u001b[0m\u001b[1;34m\"type another:\"\u001b[0m\u001b[1;33m)\u001b[0m\u001b[1;33m\u001b[0m\u001b[0m\n\u001b[1;32m----> 3\u001b[1;33m \u001b[0ma\u001b[0m \u001b[1;33m=\u001b[0m \u001b[0mint\u001b[0m\u001b[1;33m(\u001b[0m\u001b[0ma\u001b[0m\u001b[1;33m)\u001b[0m\u001b[1;33m\u001b[0m\u001b[0m\n\u001b[0m\u001b[0;32m      4\u001b[0m \u001b[0mb\u001b[0m \u001b[1;33m=\u001b[0m \u001b[0mint\u001b[0m\u001b[1;33m(\u001b[0m\u001b[0mb\u001b[0m\u001b[1;33m)\u001b[0m\u001b[1;33m\u001b[0m\u001b[0m\n\u001b[0;32m      5\u001b[0m \u001b[1;32mtry\u001b[0m\u001b[1;33m:\u001b[0m\u001b[1;33m\u001b[0m\u001b[0m\n",
      "\u001b[1;31mValueError\u001b[0m: invalid literal for int() with base 10: 'hund'"
     ]
    }
   ],
   "source": [
    "a = input(\"type a number:\")\n",
    "b = input(\"type another:\")\n",
    "a = int(a)\n",
    "b = int(b)\n",
    "try:\n",
    "    print(a / b)\n",
    "except (ZeroDivisionError,ValueError):\n",
    "    print(\"invalid input(無効入力).\")"
   ]
  },
  {
   "cell_type": "code",
   "execution_count": 37,
   "metadata": {},
   "outputs": [
    {
     "name": "stdout",
     "output_type": "stream",
     "text": [
      "type a number:type\n",
      "type another:type\n",
      "invalid input(無効入力).\n"
     ]
    }
   ],
   "source": [
    "try:\n",
    "    a = input(\"type a number:\")\n",
    "    b = input(\"type another:\")\n",
    "    a = int(a)\n",
    "    b = int(b)\n",
    "    print(a / b)\n",
    "except (ZeroDivisionError,ValueError):\n",
    "    print(\"invalid input(無効入力).\")"
   ]
  },
  {
   "cell_type": "code",
   "execution_count": 38,
   "metadata": {},
   "outputs": [
    {
     "ename": "NameError",
     "evalue": "name 'c' is not defined",
     "output_type": "error",
     "traceback": [
      "\u001b[1;31m---------------------------------------------------------------------------\u001b[0m",
      "\u001b[1;31mZeroDivisionError\u001b[0m                         Traceback (most recent call last)",
      "\u001b[1;32m<ipython-input-38-b43d46b3d716>\u001b[0m in \u001b[0;36m<module>\u001b[1;34m()\u001b[0m\n\u001b[0;32m     10\u001b[0m \u001b[1;32mtry\u001b[0m\u001b[1;33m:\u001b[0m\u001b[1;33m\u001b[0m\u001b[0m\n\u001b[1;32m---> 11\u001b[1;33m     \u001b[1;36m10\u001b[0m\u001b[1;33m/\u001b[0m\u001b[1;36m0\u001b[0m\u001b[1;33m\u001b[0m\u001b[0m\n\u001b[0m\u001b[0;32m     12\u001b[0m     \u001b[0mc\u001b[0m \u001b[1;33m=\u001b[0m \u001b[1;34m\"I'll never get defined(永遠に定義できないでしょう)\"\u001b[0m\u001b[1;33m\u001b[0m\u001b[0m\n",
      "\u001b[1;31mZeroDivisionError\u001b[0m: division by zero",
      "\nDuring handling of the above exception, another exception occurred:\n",
      "\u001b[1;31mNameError\u001b[0m                                 Traceback (most recent call last)",
      "\u001b[1;32m<ipython-input-38-b43d46b3d716>\u001b[0m in \u001b[0;36m<module>\u001b[1;34m()\u001b[0m\n\u001b[0;32m     12\u001b[0m     \u001b[0mc\u001b[0m \u001b[1;33m=\u001b[0m \u001b[1;34m\"I'll never get defined(永遠に定義できないでしょう)\"\u001b[0m\u001b[1;33m\u001b[0m\u001b[0m\n\u001b[0;32m     13\u001b[0m \u001b[1;32mexcept\u001b[0m \u001b[0mZeroDivisionError\u001b[0m\u001b[1;33m:\u001b[0m\u001b[1;33m\u001b[0m\u001b[0m\n\u001b[1;32m---> 14\u001b[1;33m     \u001b[0mprint\u001b[0m\u001b[1;33m(\u001b[0m\u001b[0mc\u001b[0m\u001b[1;33m)\u001b[0m\u001b[1;33m\u001b[0m\u001b[0m\n\u001b[0m",
      "\u001b[1;31mNameError\u001b[0m: name 'c' is not defined"
     ]
    }
   ],
   "source": [
    "#Fuck….\n",
    "#It's a trap ....\n",
    "#The input order of try changes.\n",
    "#In other words, when both A and B are put in the Try section and you enter 0,\n",
    "#it's a feeling to prevent erroneous input.\n",
    "\n",
    "#tryの入力順序が変わる。\n",
    "#つまり、AもBもTryの節に入れてしまって0を入力した時とか、誤入力を防ぐ感じ。\n",
    "\n",
    "try:\n",
    "    10/0\n",
    "    c = \"I'll never get defined(永遠に定義できないでしょう)\"\n",
    "except ZeroDivisionError:\n",
    "    print(c)\n"
   ]
  },
  {
   "cell_type": "code",
   "execution_count": 40,
   "metadata": {},
   "outputs": [],
   "source": [
    "def add(x,y):\n",
    "    \"\"\"\n",
    "    Returns x +y.\n",
    "    :param x: int.\n",
    "    :param y: int.\n",
    "    :return: int sum of x and y.\n",
    "    \"\"\"\n",
    "    return x+ y"
   ]
  },
  {
   "cell_type": "code",
   "execution_count": 41,
   "metadata": {},
   "outputs": [
    {
     "name": "stdout",
     "output_type": "stream",
     "text": [
      "100\n"
     ]
    }
   ],
   "source": [
    "x = 100\n",
    "print(x)"
   ]
  },
  {
   "cell_type": "code",
   "execution_count": 42,
   "metadata": {},
   "outputs": [
    {
     "name": "stdout",
     "output_type": "stream",
     "text": [
      "100\n"
     ]
    }
   ],
   "source": [
    "print(100)"
   ]
  },
  {
   "cell_type": "code",
   "execution_count": 43,
   "metadata": {},
   "outputs": [],
   "source": [
    "#program is documentation.It's\"Docstring\".\n",
    "#param=\"パラメータ\"\n",
    "\n",
    "def add(x, y):\n",
    "    \"\"\"\n",
    "    Returns x + y.\n",
    "    :param x: int.\n",
    "    :param y: int.\n",
    "    :return: int sum of x and y.\n",
    "    \"\"\"\n",
    "    return x + y"
   ]
  },
  {
   "cell_type": "code",
   "execution_count": 44,
   "metadata": {},
   "outputs": [],
   "source": [
    "#Doc strings(ドキュメント文字列)\n",
    "#Right now the state of the docstrings inside qiBuild are quite a mess.\n",
    "#But you should try to write docstrings as if all of then were going to be use with sphinx autodoc extension.\n",
    "#(qiBuild内のドキュメント文字列の状態はかなり混乱しています。 )\n",
    "#その為、すべてのものがsphinx autodoc拡張で使用されるようにdocstringを書くようにしてください。\n",
    "\n",
    "#sphinx とは Python 製のドキュメント生成ツールです。\n",
    "#reST(reStructuredText) 記法でドキュメントを作成できるので、\n",
    "#マークダウンに慣れている人には非常に使いやすいと思います。\n",
    "\n",
    "#Sphinx(実際にはSphinxを実行しているPythonインタプリタ)がモジュールを見つけられるためには、\n",
    "#そのモジュールはインポート可能になっていなければなりません。\n",
    "#これは、インポートしたいモジュールやパッケージがsys.pathで設定されている\n",
    "#ディレクトリのどれかに入っている必要があるということです。設定ファイル内で、適宜sys.pathを調整してください。\n",
    "\n",
    "#autodoc はドキュメンテーションされるモジュールを インポート します. \n",
    "#もしインポートによる副作用があれば、 sphinx-build が実行されるとき autodoc により実行されます。\n",
    "#もしあなたが (ライブラリモジュールではなく) スクリプトをドキュメント化したいのであれば、\n",
    "#スクリプトのメインルーチンが if __name__ == '__main__' 条件により保護されていることを確認して下さい。\n",
    "\n",
    "#So the canonical docstring should look like:\n",
    "\n",
    "def foo(bar, baz):\n",
    "    \"\"\" Does this and that\n",
    "    :param bar: ...\n",
    "    :param baz: ...\n",
    "\n",
    "    :raise: MyError if ...\n",
    "    :return: True if ...\n",
    "\n",
    "    \"\"\""
   ]
  },
  {
   "cell_type": "code",
   "execution_count": 45,
   "metadata": {},
   "outputs": [
    {
     "data": {
      "text/plain": [
       "4"
      ]
     },
     "execution_count": 45,
     "metadata": {},
     "output_type": "execute_result"
    }
   ],
   "source": [
    "#challenge:\n",
    "#1: Let's write a function that accepts numbers as input values and returns a squared number.\n",
    "#1:数字を入力値として受け取り、その数字を2乗した戻り値を返す関数を書いてみよう。\n",
    "\n",
    "#I think that it is probably wrong and sentences because I think that the program is a symbol.\n",
    "#In other words, this problem is\n",
    "#1: Let's write a function that accepts numbers as input values and returns a squared number.\n",
    "\n",
    "#Define substituting x (number) into f.\n",
    "#Write a function that returns the return value obtained by squaring the number.\n",
    "#fの中にx（数字）を代入することを定義する。\n",
    "#それを数字を2乗した戻り値を返す関数を書く。\n",
    "\n",
    "def f(x):\n",
    "    return x * 2\n",
    "f(2)\n",
    "\n",
    "\n"
   ]
  },
  {
   "cell_type": "code",
   "execution_count": 46,
   "metadata": {},
   "outputs": [
    {
     "name": "stdout",
     "output_type": "stream",
     "text": [
      "4\n"
     ]
    }
   ],
   "source": [
    "#2: Let's write a function that takes a character string as an argument and outputs the character string.\n",
    "#2:文字列を引数とし、その文字列を出力する関数を書いてみよう。\n",
    "#string=文字列\n",
    "#result(結果)\n",
    "\n",
    "result = f(2)\n",
    "print(result)\n",
    "\n",
    "#I need repetition ....\n",
    "#result (結果) So substitute 2 into f (x) defined earlier.\n",
    "#The result is f (2), and print its result (result). I feel it."
   ]
  },
  {
   "cell_type": "code",
   "execution_count": 48,
   "metadata": {},
   "outputs": [],
   "source": [
    "def greeting(Hello):\n",
    "    print(greeting)\n"
   ]
  },
  {
   "cell_type": "code",
   "execution_count": 49,
   "metadata": {},
   "outputs": [
    {
     "ename": "SyntaxError",
     "evalue": "invalid syntax (<ipython-input-49-496d35efc71b>, line 1)",
     "output_type": "error",
     "traceback": [
      "\u001b[1;36m  File \u001b[1;32m\"<ipython-input-49-496d35efc71b>\"\u001b[1;36m, line \u001b[1;32m1\u001b[0m\n\u001b[1;33m    def greeting(\"Hello\"):\u001b[0m\n\u001b[1;37m                       ^\u001b[0m\n\u001b[1;31mSyntaxError\u001b[0m\u001b[1;31m:\u001b[0m invalid syntax\n"
     ]
    }
   ],
   "source": [
    "def greeting(\"Hello\"):\n",
    "    print(greeting)"
   ]
  },
  {
   "cell_type": "code",
   "execution_count": 50,
   "metadata": {},
   "outputs": [],
   "source": [
    "def greeting(word=\"Hello\"):\n",
    "    print(greeting)"
   ]
  },
  {
   "cell_type": "code",
   "execution_count": 51,
   "metadata": {},
   "outputs": [],
   "source": [
    "def greeting(word=\"Hello\"):\n",
    "    print(word)"
   ]
  },
  {
   "cell_type": "code",
   "execution_count": 52,
   "metadata": {},
   "outputs": [
    {
     "name": "stdout",
     "output_type": "stream",
     "text": [
      "Testing: 1, 2, 3.\n"
     ]
    }
   ],
   "source": [
    "def print_string(string):\n",
    "    print(string)\n",
    "\n",
    "print_string(\"Testing: 1, 2, 3.\")"
   ]
  },
  {
   "cell_type": "code",
   "execution_count": 53,
   "metadata": {},
   "outputs": [
    {
     "name": "stdout",
     "output_type": "stream",
     "text": [
      "Enter Your age:22\n",
      "Wow,you are old!\n"
     ]
    }
   ],
   "source": [
    "#Fuck….\n",
    "#I make a definition. Enter a name (character string).\n",
    "#Print that (character string).\n",
    "#I've a name (\"print\")\n",
    "\n",
    "#定義をします。名前があって（文字列）を入れる。\n",
    "#その（文字列）をプリントする。\n",
    "#名前があって（”印刷”）する。\n",
    "\n",
    "#def print_string(string):\n",
    "#    print(string)\n",
    "\n",
    "#print_string(\"Testing: 1, 2, 3.\")\n",
    "\n",
    "#one more P61…\n",
    "\n",
    "#stringという文字は出てこないけれど、intで似たようなのが出てくるからこれから洞察しないと駄目。\n",
    "\n",
    "age = input(\"Enter Your age:\")\n",
    "int_age = int(age)\n",
    "if int_age < 21:\n",
    "    print(\"You are young!\")\n",
    "else:\n",
    "    print(\"Wow,you are old!\")"
   ]
  },
  {
   "cell_type": "code",
   "execution_count": 54,
   "metadata": {},
   "outputs": [
    {
     "data": {
      "text/plain": [
       "50.0"
      ]
     },
     "execution_count": 54,
     "metadata": {},
     "output_type": "execute_result"
    }
   ],
   "source": [
    "#つまり、integer（整数）がstring(文字列)\n",
    "\n",
    "#4:2つの関数からなるプログラムを書いてみよう。\n",
    "#1つ目の関数は整数を引数として受け取り、その整数を２で割って求められる整数を出力として返そう。\n",
    "#2つ目の関数は整数を引数として受け取り、４で掛けた整数を返そう。プログラム内で、\n",
    "#１つ目の関数と呼び、戻り値を変数として保存し、２つ目の関数の引数として渡そう。\n",
    "\n",
    "#4: Let's write a program consisting of two functions.\n",
    "\n",
    "#The first function takes an integer as an argument and returns an integer obtained\n",
    "#by dividing the integer by 2 as an output.\n",
    "#The second function accepts an integer as an argument and returns an integer multiplied by 4.\n",
    "#In the program, call it the first function, save the return value as a variable\n",
    "#and pass it as the argument of the second function.\n",
    "\n",
    "def one(x):\n",
    "    return x/2\n",
    "one(100)"
   ]
  },
  {
   "cell_type": "code",
   "execution_count": 55,
   "metadata": {},
   "outputs": [
    {
     "name": "stdout",
     "output_type": "stream",
     "text": [
      "8.0\n"
     ]
    }
   ],
   "source": [
    "def divide(x):\n",
    "    return x / 2\n",
    "\n",
    "\n",
    "def multiply(x):\n",
    "    return x * 4\n",
    "\n",
    "y = divide(4)\n",
    "z = multiply(y)\n",
    "\n",
    "print(z)"
   ]
  },
  {
   "cell_type": "code",
   "execution_count": 56,
   "metadata": {},
   "outputs": [
    {
     "name": "stdout",
     "output_type": "stream",
     "text": [
      "8.0\n"
     ]
    }
   ],
   "source": [
    "#やっぱりそうだよね。\n",
    "#関数は上書きされるから2つの答えは表示されない。\n",
    "\n",
    "#I guess that's true.\n",
    "#Since the function is overwritten, two answers are not displayed.\n",
    "\n",
    "#問題文を見ると、1つ目の関数…表示しよう、と\n",
    "#2つ目の関数…表示しようだから、2つの文章が出来る、でいいんだ。\n",
    "\n",
    "#Looking at the problem sentence, let's display the first function ...\n",
    "#The second function ... Because I try to display it, I can do two sentences, so it's okay.\n",
    "\n",
    "#divide=分ける\n",
    "#multiply=掛ける\n",
    "#何となく想像してたけれど…。\n",
    "\n",
    "def divide(x):\n",
    "    return x / 2\n",
    "y = divide(4)\n",
    "z = multiply(y)\n",
    "print(z)"
   ]
  },
  {
   "cell_type": "code",
   "execution_count": 57,
   "metadata": {},
   "outputs": [],
   "source": [
    "#... It must not be deleted.\n",
    "#…削除しないとだめなやつ。\n",
    "\n",
    "del x,y,z"
   ]
  },
  {
   "cell_type": "code",
   "execution_count": 58,
   "metadata": {},
   "outputs": [
    {
     "name": "stdout",
     "output_type": "stream",
     "text": [
      "8.0\n"
     ]
    }
   ],
   "source": [
    "def divide(x):\n",
    "    return x / 2\n",
    "y = divide(4)\n",
    "z = multiply(y)\n",
    "print(z)"
   ]
  },
  {
   "cell_type": "code",
   "execution_count": 59,
   "metadata": {},
   "outputs": [
    {
     "ename": "NameError",
     "evalue": "name 'x' is not defined",
     "output_type": "error",
     "traceback": [
      "\u001b[1;31m---------------------------------------------------------------------------\u001b[0m",
      "\u001b[1;31mNameError\u001b[0m                                 Traceback (most recent call last)",
      "\u001b[1;32m<ipython-input-59-f4894d06513c>\u001b[0m in \u001b[0;36m<module>\u001b[1;34m()\u001b[0m\n\u001b[1;32m----> 1\u001b[1;33m \u001b[1;32mdel\u001b[0m \u001b[0mx\u001b[0m\u001b[1;33m,\u001b[0m\u001b[0my\u001b[0m\u001b[1;33m,\u001b[0m\u001b[0mz\u001b[0m\u001b[1;33m\u001b[0m\u001b[0m\n\u001b[0m",
      "\u001b[1;31mNameError\u001b[0m: name 'x' is not defined"
     ]
    }
   ],
   "source": [
    "del x,y,z"
   ]
  },
  {
   "cell_type": "code",
   "execution_count": 60,
   "metadata": {},
   "outputs": [
    {
     "ename": "NameError",
     "evalue": "name 'x' is not defined",
     "output_type": "error",
     "traceback": [
      "\u001b[1;31m---------------------------------------------------------------------------\u001b[0m",
      "\u001b[1;31mNameError\u001b[0m                                 Traceback (most recent call last)",
      "\u001b[1;32m<ipython-input-60-f3f95c4a0556>\u001b[0m in \u001b[0;36m<module>\u001b[1;34m()\u001b[0m\n\u001b[1;32m----> 1\u001b[1;33m \u001b[0mprint\u001b[0m\u001b[1;33m(\u001b[0m\u001b[0mx\u001b[0m\u001b[1;33m)\u001b[0m\u001b[1;33m\u001b[0m\u001b[0m\n\u001b[0m\u001b[0;32m      2\u001b[0m \u001b[0mprint\u001b[0m\u001b[1;33m(\u001b[0m\u001b[0my\u001b[0m\u001b[1;33m)\u001b[0m\u001b[1;33m\u001b[0m\u001b[0m\n\u001b[0;32m      3\u001b[0m \u001b[0mprint\u001b[0m\u001b[1;33m(\u001b[0m\u001b[0mz\u001b[0m\u001b[1;33m)\u001b[0m\u001b[1;33m\u001b[0m\u001b[0m\n",
      "\u001b[1;31mNameError\u001b[0m: name 'x' is not defined"
     ]
    }
   ],
   "source": [
    "print(x)\n",
    "print(y)\n",
    "print(z)"
   ]
  },
  {
   "cell_type": "code",
   "execution_count": 61,
   "metadata": {},
   "outputs": [
    {
     "name": "stdout",
     "output_type": "stream",
     "text": [
      "4\n"
     ]
    }
   ],
   "source": [
    "def divide(x):\n",
    "    return x / 2\n",
    "print(4)"
   ]
  },
  {
   "cell_type": "code",
   "execution_count": 62,
   "metadata": {},
   "outputs": [
    {
     "name": "stdout",
     "output_type": "stream",
     "text": [
      "<function divide at 0x00000000050B1048>\n"
     ]
    }
   ],
   "source": [
    "print(divide)"
   ]
  },
  {
   "cell_type": "code",
   "execution_count": 63,
   "metadata": {},
   "outputs": [
    {
     "name": "stdout",
     "output_type": "stream",
     "text": [
      "8\n"
     ]
    }
   ],
   "source": [
    "def divide(x):\n",
    "    return x / 2\n",
    "print(8)"
   ]
  },
  {
   "cell_type": "code",
   "execution_count": 64,
   "metadata": {},
   "outputs": [
    {
     "data": {
      "text/plain": [
       "2.0"
      ]
     },
     "execution_count": 64,
     "metadata": {},
     "output_type": "execute_result"
    }
   ],
   "source": [
    "def divide(x):\n",
    "    return x / 2\n",
    "divide(4)"
   ]
  },
  {
   "cell_type": "code",
   "execution_count": 65,
   "metadata": {},
   "outputs": [
    {
     "ename": "NameError",
     "evalue": "name 'devide' is not defined",
     "output_type": "error",
     "traceback": [
      "\u001b[1;31m---------------------------------------------------------------------------\u001b[0m",
      "\u001b[1;31mNameError\u001b[0m                                 Traceback (most recent call last)",
      "\u001b[1;32m<ipython-input-65-a92034d3f98d>\u001b[0m in \u001b[0;36m<module>\u001b[1;34m()\u001b[0m\n\u001b[0;32m      4\u001b[0m \u001b[1;31m#divideにすると構文に代入したｘを戻すのだからdevide(4)を構文に戻すという感じ、か。\u001b[0m\u001b[1;33m\u001b[0m\u001b[1;33m\u001b[0m\u001b[0m\n\u001b[0;32m      5\u001b[0m \u001b[1;33m\u001b[0m\u001b[0m\n\u001b[1;32m----> 6\u001b[1;33m \u001b[0mdevide\u001b[0m\u001b[1;33m(\u001b[0m\u001b[1;36m4\u001b[0m\u001b[1;33m)\u001b[0m\u001b[1;33m\u001b[0m\u001b[0m\n\u001b[0m",
      "\u001b[1;31mNameError\u001b[0m: name 'devide' is not defined"
     ]
    }
   ],
   "source": [
    "#纏めると、devideという構文にxという文字を代入して、\n",
    "#x/2で数字を返却する先を\n",
    "#printにするとそのまま入力したxが表示され\n",
    "#divideにすると構文に代入したｘを戻すのだからdevide(4)を構文に戻すという感じ、か。\n",
    "\n",
    "devide(4)"
   ]
  },
  {
   "cell_type": "code",
   "execution_count": 66,
   "metadata": {},
   "outputs": [
    {
     "data": {
      "text/plain": [
       "2.0"
      ]
     },
     "execution_count": 66,
     "metadata": {},
     "output_type": "execute_result"
    }
   ],
   "source": [
    "divide(4)"
   ]
  },
  {
   "cell_type": "code",
   "execution_count": 67,
   "metadata": {},
   "outputs": [
    {
     "name": "stdout",
     "output_type": "stream",
     "text": [
      "4\n"
     ]
    }
   ],
   "source": [
    "print(4)"
   ]
  },
  {
   "cell_type": "code",
   "execution_count": 68,
   "metadata": {},
   "outputs": [
    {
     "name": "stdout",
     "output_type": "stream",
     "text": [
      "8.0\n"
     ]
    }
   ],
   "source": [
    "def divide(x):\n",
    "    return x / 2\n",
    "\n",
    "\n",
    "def multiply(x):\n",
    "    return x * 4\n",
    "\n",
    "y = divide(4)\n",
    "z = multiply(y)\n",
    "\n",
    "print(z)"
   ]
  },
  {
   "cell_type": "code",
   "execution_count": 69,
   "metadata": {},
   "outputs": [
    {
     "name": "stdout",
     "output_type": "stream",
     "text": [
      "4.0\n"
     ]
    }
   ],
   "source": [
    "def divide(x):\n",
    "    return x / 2\n",
    "\n",
    "\n",
    "def multiply(x):\n",
    "    return x * 4\n",
    "\n",
    "y = divide(2)\n",
    "z = multiply(y)\n",
    "\n",
    "print(z)"
   ]
  },
  {
   "cell_type": "code",
   "execution_count": 70,
   "metadata": {},
   "outputs": [
    {
     "name": "stdout",
     "output_type": "stream",
     "text": [
      "55.0\n"
     ]
    }
   ],
   "source": [
    "#5:文字列をfloat型に変換して戻り値とする関数を書いてみよう。起こり得る例外をキャッチする例外処理を書こう。\n",
    "#5: Let's write a function that converts character string to float type and returns it.\n",
    "#Let's write an exception handling catching possible exceptions.\n",
    "\n",
    "def convert(string):\n",
    "    try:\n",
    "        return float(string)\n",
    "    except ValueError:\n",
    "        print(\"Could not convert the string to a float.\")\n",
    "\n",
    "c = convert(\"55.0\")\n",
    "print(c)"
   ]
  },
  {
   "cell_type": "code",
   "execution_count": 71,
   "metadata": {},
   "outputs": [
    {
     "name": "stdout",
     "output_type": "stream",
     "text": [
      "55.0\n"
     ]
    }
   ],
   "source": [
    "def convert(string):\n",
    "    try:\n",
    "        return float(string)\n",
    "    except ValueError:\n",
    "        print(\"Could not convert the string to a float.\")\n",
    "\n",
    "c = convert(55.0)\n",
    "print(c)"
   ]
  },
  {
   "cell_type": "code",
   "execution_count": 72,
   "metadata": {},
   "outputs": [
    {
     "name": "stdout",
     "output_type": "stream",
     "text": [
      "Could not convert the string to a float.\n",
      "None\n"
     ]
    }
   ],
   "source": [
    "def convert(string):\n",
    "    try:\n",
    "        return float(string)\n",
    "    except ValueError:\n",
    "        print(\"Could not convert the string to a float.\")\n",
    "\n",
    "c = convert(\"数字\")\n",
    "print(c)"
   ]
  },
  {
   "cell_type": "code",
   "execution_count": 73,
   "metadata": {},
   "outputs": [
    {
     "name": "stdout",
     "output_type": "stream",
     "text": [
      "Testing: 1, 2, 3.\n"
     ]
    }
   ],
   "source": [
    "#6:上の１から５で書いた関数すべてにdocstringを追加しよう。\n",
    "#6: Let's add docstring to all the functions written in 1 to 5 above.\n",
    "\n",
    "def squared(x):\n",
    "    \"\"\" Takes an int and returns it multiplied by 2.\n",
    "    squared=2乗\n",
    "    :param x: int.\n",
    "    :return: x multiplied by 2.\n",
    "    \"\"\"\n",
    "    return x ** 2\n",
    "\n",
    "\n",
    "def print_string(string):\n",
    "    \"\"\" Prints the string passed in.\n",
    "    :param string: str.\n",
    "    \"\"\"\n",
    "    print(string)\n",
    "\n",
    "print_string(\"Testing: 1, 2, 3.\")\n",
    "\n",
    "\n",
    "def add_mult(a,b,c,x=100,z=1000):\n",
    "    \"\"\" Returns the result of two optional params\n",
    "    multiplied by the addition of 3 required params.\n",
    "    :param a: int.\n",
    "    :param b: int.\n",
    "    :param c: int.\n",
    "    :param x: int.\n",
    "    :param z: int.\n",
    "    :return: int.\n",
    "    \"\"\"\n",
    "    return a + b + c * x * z\n",
    "\n",
    "\n",
    "def convert(string):\n",
    "    \"\"\" Converts passed in str to int.\n",
    "    :param string: str.\n",
    "    :return: string converted to int.\n",
    "    \"\"\"\n",
    "    try:\n",
    "        return float(string)\n",
    "    except ValueError:\n",
    "        print(\"Could not convert the string to a float.\")"
   ]
  },
  {
   "cell_type": "code",
   "execution_count": 74,
   "metadata": {},
   "outputs": [],
   "source": [
    "del print_string"
   ]
  },
  {
   "cell_type": "code",
   "execution_count": 75,
   "metadata": {},
   "outputs": [
    {
     "name": "stdout",
     "output_type": "stream",
     "text": [
      "Testing: 1, 2, 3.\n"
     ]
    }
   ],
   "source": [
    "#6:上の１から５で書いた関数すべてにdocstringを追加しよう。\n",
    "#6: Let's add docstring to all the functions written in 1 to 5 above.\n",
    "\n",
    "def squared(x):\n",
    "    \"\"\" Takes an int and returns it multiplied by 2.\n",
    "    squared=2乗\n",
    "    :param x: int.\n",
    "    :return: x multiplied by 2.\n",
    "    \"\"\"\n",
    "    return x ** 2\n",
    "\n",
    "\n",
    "def print_string(string):\n",
    "    \"\"\" Prints the string passed in.\n",
    "    :param string: str.\n",
    "    \"\"\"\n",
    "    print(string)\n",
    "\n",
    "print_string(\"Testing: 1, 2, 3.\")\n",
    "\n",
    "\n",
    "def add_mult(a,b,c,x=100,z=1000):\n",
    "    \"\"\" Returns the result of two optional params\n",
    "    multiplied by the addition of 3 required params.\n",
    "    :param a: int.\n",
    "    :param b: int.\n",
    "    :param c: int.\n",
    "    :param x: int.\n",
    "    :param z: int.\n",
    "    :return: int.\n",
    "    \"\"\"\n",
    "    return a + b + c * x * z\n",
    "\n",
    "\n",
    "\n",
    "def convert(string):\n",
    "    \"\"\" Converts passed in str to int.\n",
    "    :param string: str.\n",
    "    :return: string converted to int.\n",
    "    \"\"\"\n",
    "    try:\n",
    "        return float(string)\n",
    "    except ValueError:\n",
    "        print(\"Could not convert the string to a float.\")\n",
    "       \n",
    "#記述として。\n",
    "#def function_name(function)\n",
    "    \"\"\"\n",
    "    Definition statement explanation\n",
    "    :param string: Built-in function explanation(example)\n",
    "    :return: string.\n",
    "    \"\"\"\n",
    "#define and result"
   ]
  },
  {
   "cell_type": "code",
   "execution_count": null,
   "metadata": {},
   "outputs": [],
   "source": []
  }
 ],
 "metadata": {
  "kernelspec": {
   "display_name": "Python 3",
   "language": "python",
   "name": "python3"
  },
  "language_info": {
   "codemirror_mode": {
    "name": "ipython",
    "version": 3
   },
   "file_extension": ".py",
   "mimetype": "text/x-python",
   "name": "python",
   "nbconvert_exporter": "python",
   "pygments_lexer": "ipython3",
   "version": "3.7.0"
  }
 },
 "nbformat": 4,
 "nbformat_minor": 2
}
