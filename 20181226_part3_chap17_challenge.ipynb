{
 "cells": [
  {
   "cell_type": "code",
   "execution_count": 1,
   "metadata": {},
   "outputs": [],
   "source": [
    "#1:Pythonを使って、\"The Zen of Python\"の文中にある\"Dutch\"という単語に一致する正規表現を書こう。\n",
    "# 1: Using Python, write a regular expression that matches the word \"Dutch\" in the sentence \"The Zen of Python\"."
   ]
  },
  {
   "cell_type": "code",
   "execution_count": 2,
   "metadata": {},
   "outputs": [],
   "source": [
    "#2:pythonを使って、文字列”Arizona 479,501,870. California 209, 213, 650.”にある数字の部分全てに一致する\n",
    "#正規表現を書こう。\n",
    "# 2: Using python, write a regular expression that matches all the digits in \n",
    "#the string \"Arizona 479, 501, 870. California 209, 213, 650.\""
   ]
  },
  {
   "cell_type": "code",
   "execution_count": 3,
   "metadata": {},
   "outputs": [],
   "source": [
    "#3:Pythonのreモジュールを使って、何かの文字の後ろにoが2回登場する単語に一致する正規表現を書こう。\n",
    "#そして「The ghost that says boo haunts the loo」の文中にあるbooやlooに一致するか試そう。\n",
    "# 3: Using Python's re module, let's write a regular expression that matches the word where o appears\n",
    "#twice after some character. Then try to match boo and loo \n",
    "#in the sentence \"The ghost that says boo haunts the loo\"."
   ]
  },
  {
   "cell_type": "code",
   "execution_count": 4,
   "metadata": {},
   "outputs": [
    {
     "name": "stdout",
     "output_type": "stream",
     "text": [
      "[]\n"
     ]
    }
   ],
   "source": [
    "import re\n",
    "\n",
    "zen = \"\"\"The Zen of Python, by Tim Peters\n",
    "\n",
    "Beautiful is better than ugly.\n",
    "Explicit is better than implicit.\n",
    "Simple is better than complex.\n",
    "Complex is better than complicated.\n",
    "Flat is better than nested.\n",
    "Sparse is better than dense.\n",
    "Readability counts.\n",
    "Special cases aren't special enough to break the rules.\n",
    "Although practicality beats purity.\n",
    "Errors should never pass silently.\n",
    "Unless explicitly silenced.\n",
    "In the face of ambiguity, refuse the temptation to guess.\n",
    "There should be one-- and preferably only one --obvious way to do it.\n",
    "Although that way may not be obvious at first unless you're Dutch.\n",
    "Now is better than never.\n",
    "Although never is often better than *right* now.\n",
    "If the implementation is hard to explain, it's a bad idea.\n",
    "If the implementation is easy to explain, it may be a good idea.\n",
    "Namespaces are one honking great idea -- let's do more of those!\"\"\"\n",
    "\n",
    "m = re.findall(\"Dutch\", zen, re.MULTILINE)\n",
    "print(m)"
   ]
  },
  {
   "cell_type": "code",
   "execution_count": 5,
   "metadata": {},
   "outputs": [
    {
     "name": "stdout",
     "output_type": "stream",
     "text": [
      "['Dutch']\n"
     ]
    }
   ],
   "source": [
    "import re\n",
    "\n",
    "zen = \"\"\"The Zen of Python, by Tim Peters\n",
    "\n",
    "Beautiful is better than ugly.\n",
    "Explicit is better than implicit.\n",
    "Simple is better than complex.\n",
    "Complex is better than complicated.\n",
    "Flat is better than nested.\n",
    "Sparse is better than dense.\n",
    "Readability counts.\n",
    "Special cases aren't special enough to break the rules.\n",
    "Although practicality beats purity.\n",
    "Errors should never pass silently.\n",
    "Unless explicitly silenced.\n",
    "In the face of ambiguity, refuse the temptation to guess.\n",
    "There should be one-- and preferably only one --obvious way to do it.\n",
    "Although that way may not be obvious at first unless you're Dutch.\n",
    "Now is better than never.\n",
    "Although never is often better than *right* now.\n",
    "If the implementation is hard to explain, it's a bad idea.\n",
    "If the implementation is easy to explain, it may be a good idea.\n",
    "Namespaces are one honking great idea -- let's do more of those!\"\"\"\n",
    "\n",
    "m = re.findall(\"Dutch\", zen, re.MULTILINE)\n",
    "print(m)"
   ]
  },
  {
   "cell_type": "code",
   "execution_count": 6,
   "metadata": {},
   "outputs": [
    {
     "name": "stdout",
     "output_type": "stream",
     "text": [
      "['4', '7', '9', '5', '0', '1', '8', '7', '0', '2', '0', '9', '2', '1', '3', '6', '5', '0']\n"
     ]
    }
   ],
   "source": [
    "import re\n",
    "\n",
    "line = \"Arizona 479, 501, 870. California 209, 213, 650.\"\n",
    "m = re.findall(\"\\d\", line, re.IGNORECASE)\n",
    "print(m)"
   ]
  },
  {
   "cell_type": "code",
   "execution_count": 7,
   "metadata": {},
   "outputs": [
    {
     "name": "stdout",
     "output_type": "stream",
     "text": [
      "['boo', 'loo']\n"
     ]
    }
   ],
   "source": [
    "import re\n",
    "\n",
    "match = re.findall(\".oo\", \"The ghost that says boo haunts the loo.\")\n",
    "print(match)"
   ]
  },
  {
   "cell_type": "code",
   "execution_count": null,
   "metadata": {},
   "outputs": [],
   "source": []
  }
 ],
 "metadata": {
  "kernelspec": {
   "display_name": "Python 3",
   "language": "python",
   "name": "python3"
  },
  "language_info": {
   "codemirror_mode": {
    "name": "ipython",
    "version": 3
   },
   "file_extension": ".py",
   "mimetype": "text/x-python",
   "name": "python",
   "nbconvert_exporter": "python",
   "pygments_lexer": "ipython3",
   "version": "3.7.0"
  }
 },
 "nbformat": 4,
 "nbformat_minor": 2
}
