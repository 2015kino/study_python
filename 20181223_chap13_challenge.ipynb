{
 "cells": [
  {
   "cell_type": "code",
   "execution_count": 1,
   "metadata": {},
   "outputs": [],
   "source": [
    "#1:RectangleとSquareクラスを造ろう。両方のクラスにその図形の外周の長さを計算して返すcalculate_perimeterメソッドを定義しよう。\n",
    "#そしてRectangleとSquareのオブジェクトを作ってcalculate_perimeterメソッドを呼ぼう。\n",
    "\n",
    "# 1: Let's make Rectangle and Square class. Let's define the calculate_perimeter method to calculate and return\n",
    "#the length of the outer perimeter of that figure to both classes.\n",
    "#Then create objects of Rectangle and Square and call the calculate_perimeter method."
   ]
  },
  {
   "cell_type": "code",
   "execution_count": 3,
   "metadata": {},
   "outputs": [],
   "source": [
    "#2：Squareクラスにchange_sizeメソッドを定義して、そこに渡した数値の分だけSquareオブジェクトの横幅を増やしたり、\n",
    "#減らしたり（マイナス値の場合）してみよう。\n",
    "\n",
    "# 2: Define the change_size method in the Square class and try increasing or decreasing the width of \n",
    "#the square object (in the case of minus value) by the numerical value passed to it."
   ]
  },
  {
   "cell_type": "code",
   "execution_count": 4,
   "metadata": {},
   "outputs": [],
   "source": [
    "#3：Shapeクラスを定義しよう。呼ばれたら”I am a shape\"を返すメソッド、what_am_iを定義しよう。\n",
    "#前のチャレンジで定義したRectangleとSquareクラスを変更して、このShapeクラスを継承させよう。\n",
    "#そして、RectangleとSquareのオブジェクトを生成して、このチャレンジで追加したメソッドwhat_am_iを呼んでみよう。\n",
    "\n",
    "# 3: Let's define the Shape class. Let's define a method, what_am_i, that returns \"I am a shape\" when called. \n",
    "#Let's inherit this Shape class by modifying the Rectangle and Square classes defined in the previous challenge.\n",
    "#Then, create objects of Rectangle and Square and call the method what_am_i added with this challenge."
   ]
  },
  {
   "cell_type": "code",
   "execution_count": 5,
   "metadata": {},
   "outputs": [],
   "source": [
    "#4：HorseクラスとRiderクラスを定義しよう。コンポジションを使って、馬に騎手を持たせよう。\n",
    "\n",
    "# 4: Let's define Horse class and Rider class. Let a horse have a jockey with composition."
   ]
  },
  {
   "cell_type": "code",
   "execution_count": 6,
   "metadata": {},
   "outputs": [
    {
     "name": "stdout",
     "output_type": "stream",
     "text": [
      "150\n",
      "80\n"
     ]
    }
   ],
   "source": [
    "class Rectangle():\n",
    "    def __init__(self, width, length):\n",
    "        self.width = width\n",
    "        self.length = length\n",
    "\n",
    "    def calculate_perimeter(self):\n",
    "        return self.width * 2 + self.length * 2\n",
    "\n",
    "\n",
    "class Square():\n",
    "    def __init__(self, s1):\n",
    "        self.s1 = s1\n",
    "\n",
    "    def calculate_perimeter(self):\n",
    "        return self.s1 * 4\n",
    "\n",
    "a_rectangle = Rectangle(25, 50)\n",
    "a_square = Square(20)\n",
    "\n",
    "print(a_rectangle.calculate_perimeter())\n",
    "print(a_square.calculate_perimeter())"
   ]
  },
  {
   "cell_type": "code",
   "execution_count": 7,
   "metadata": {},
   "outputs": [
    {
     "name": "stdout",
     "output_type": "stream",
     "text": [
      "100\n",
      "300\n"
     ]
    }
   ],
   "source": [
    "class Square():\n",
    "    def __init__(self, s1):\n",
    "        self.s1 = s1\n",
    "\n",
    "    def calculate_perimeter(self):\n",
    "        return self.s1 * 4\n",
    "\n",
    "    def change_size(self, new_size):\n",
    "        self.s1 += new_size\n",
    "\n",
    "a_square = Square(100)\n",
    "print(a_square.s1)\n",
    "\n",
    "a_square.change_size(200)\n",
    "print(a_square.s1)"
   ]
  },
  {
   "cell_type": "code",
   "execution_count": 8,
   "metadata": {},
   "outputs": [
    {
     "name": "stdout",
     "output_type": "stream",
     "text": [
      "I am a shape.\n",
      "I am a shape.\n"
     ]
    }
   ],
   "source": [
    "\n",
    "class Shape():\n",
    "    def what_am_i(self):\n",
    "        print(\"I am a shape.\")\n",
    "\n",
    "\n",
    "class Rectangle(Shape):\n",
    "    def __init__(self, width, length):\n",
    "        self.width = width\n",
    "        self.length = length\n",
    "\n",
    "    def calculate_perimeter(self):\n",
    "        return self.width * 2 + self.length * 2\n",
    "\n",
    "\n",
    "class Square(Shape):\n",
    "    def __init__(self, s1):\n",
    "        self.s1 = s1\n",
    "\n",
    "    def calculate_perimeter(self):\n",
    "        return self.s1 * 4\n",
    "\n",
    "a_rectangle = Rectangle(20, 50)\n",
    "a_square = Square(29)\n",
    "\n",
    "a_rectangle.what_am_i()\n",
    "a_square.what_am_i()"
   ]
  },
  {
   "cell_type": "code",
   "execution_count": 9,
   "metadata": {},
   "outputs": [
    {
     "name": "stdout",
     "output_type": "stream",
     "text": [
      "Harry\n"
     ]
    }
   ],
   "source": [
    "class Horse():\n",
    "    def __init__(self, name):\n",
    "        self.name = name\n",
    "\n",
    "\n",
    "class Rider():\n",
    "    def __init__(self, name, horse):\n",
    "        self.name = name\n",
    "        self.horse = horse\n",
    "\n",
    "harry_the_horse = Horse(\"Harry\")\n",
    "the_rider = Rider(\"Sally\", harry_the_horse)\n",
    "\n",
    "print(the_rider.horse.name)"
   ]
  },
  {
   "cell_type": "code",
   "execution_count": null,
   "metadata": {},
   "outputs": [],
   "source": []
  }
 ],
 "metadata": {
  "kernelspec": {
   "display_name": "Python 3",
   "language": "python",
   "name": "python3"
  },
  "language_info": {
   "codemirror_mode": {
    "name": "ipython",
    "version": 3
   },
   "file_extension": ".py",
   "mimetype": "text/x-python",
   "name": "python",
   "nbconvert_exporter": "python",
   "pygments_lexer": "ipython3",
   "version": "3.7.0"
  }
 },
 "nbformat": 4,
 "nbformat_minor": 2
}
