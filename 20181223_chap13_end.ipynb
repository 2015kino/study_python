{
 "cells": [
  {
   "cell_type": "code",
   "execution_count": 1,
   "metadata": {},
   "outputs": [
    {
     "ename": "SyntaxError",
     "evalue": "invalid syntax (<ipython-input-1-c8768afb2113>, line 23)",
     "output_type": "error",
     "traceback": [
      "\u001b[1;36m  File \u001b[1;32m\"<ipython-input-1-c8768afb2113>\"\u001b[1;36m, line \u001b[1;32m23\u001b[0m\n\u001b[1;33m    Class Rectangle:\u001b[0m\n\u001b[1;37m                  ^\u001b[0m\n\u001b[1;31mSyntaxError\u001b[0m\u001b[1;31m:\u001b[0m invalid syntax\n"
     ]
    }
   ],
   "source": [
    "#オブジェクト指向プログラミングの4大要素\n",
    "#１：カプセル化\n",
    "#２：抽象化\n",
    "#３：ポリモーフィズム\n",
    "#４：継承\n",
    "\n",
    "# Four major elements of object-oriented programming\n",
    "# 1: Encapsulation\n",
    "# 2: Abstraction\n",
    "# 3: Polymorphism\n",
    "# 4: Inheritance\n",
    "\n",
    "#１：カプセル化\n",
    "\n",
    "#カプセル化は2つの概念で成り立つ\n",
    "#・オブジェクトによって複数の変数（状態を保持する）\n",
    "#・メソッド（状態を変更したり状態を使用して計算したりする）\n",
    "\n",
    "# Encapsulation consists of two concepts\n",
    "# · Multiple variables (hold state) by object\n",
    "# · Method (change state or calculate using state)\n",
    "\n",
    "Class Rectangle:\n",
    "    def __init__(self,w,l):\n",
    "        self.width = w\n",
    "        self.len = l\n",
    "    def area(self):\n",
    "        return self.width * self.len"
   ]
  },
  {
   "cell_type": "code",
   "execution_count": 2,
   "metadata": {},
   "outputs": [],
   "source": [
    "class Rectangle:\n",
    "    def __init__(self,w,l):\n",
    "        self.width = w\n",
    "        self.len = l\n",
    "    def area(self):\n",
    "        return self.width * self.len"
   ]
  },
  {
   "cell_type": "code",
   "execution_count": 3,
   "metadata": {},
   "outputs": [],
   "source": [
    "#カプセル化\n",
    "#１：オブジェクトによって複数の変数（状態を保持する）とメソッド\n",
    "#（状態を変更したり、状態を使用して計算したりする）を纏める事です」\n",
    "#２：データをクラス内に隠蔽して外から見えないようにする事\n",
    "\n",
    "#Encapsulation\n",
    "# 1: It is to put together multiple variables (hold state) and methods \n",
    "#(to change state or calculate using state) depending on the object \"\n",
    "# 2: Hide the data in the class and make it invisible from the outside\n",
    "\n",
    "class Data:\n",
    "    def __init__(self):\n",
    "        self.nums = [1,2,3,4,5]\n",
    "\n",
    "    def change_data(self,index,n):\n",
    "        self.nums[index] = n"
   ]
  },
  {
   "cell_type": "code",
   "execution_count": 4,
   "metadata": {},
   "outputs": [
    {
     "name": "stdout",
     "output_type": "stream",
     "text": [
      "[100, 2, 3, 4, 5]\n",
      "[100, 2, 3, 4, 5]\n"
     ]
    }
   ],
   "source": [
    "class Data:\n",
    "    def __init__(self):\n",
    "        self.nums = [1,2,3,4,5]\n",
    "\n",
    "    def change_data(self,index,n):\n",
    "        self.nums[index] = n\n",
    "\n",
    "data_one = Data()\n",
    "data_one.nums[0] = 100\n",
    "print(data_one.nums)\n",
    "\n",
    "data_two = Data()\n",
    "data_two.change_data(0,100)\n",
    "print(data_two.nums)"
   ]
  },
  {
   "cell_type": "code",
   "execution_count": 5,
   "metadata": {},
   "outputs": [],
   "source": [
    "#class Data:\n",
    "#    def __init__(self):\n",
    "#        self.nums = [1,2,3,4,5]\n",
    "\n",
    "#    def change_data(self,index,n):\n",
    "#        self.nums[index] = n\n",
    "\n",
    "#class Dataを造る。\n",
    "#リストにインスタンス変数nums持たせる。つまり今インスタンス変数numsには[1,2,3,4,5]が入っている。\n",
    "#インスタンス変数numsを変更するには2つの方法がある。\n",
    "#1:change_dataメソッド\n",
    "#2:インスタンス変数numsを直接変更する"
   ]
  },
  {
   "cell_type": "code",
   "execution_count": 6,
   "metadata": {},
   "outputs": [],
   "source": [
    "#ただ、リストは変数可能だけれどタプルは変更不可\n",
    "#※tupleとは数学における順序組（じゅんじょぐみ、英:、ordered tuplet、ordered list etc.）\n",
    "#あるいは単に組 (tuple、tuplet etc.) とは、通常は有限な長さの列を言う。\n",
    "\n",
    "# However, the list is variable but you can not change tuples\n",
    "# ※ What is tuple? Ordered pairs in mathematics \n",
    "#(Junjiumigomi, English:, ordered tupllet, ordered list etc.)\n",
    "#or just pairs (tuple, tuplet etc.) usually means a string of finite length.\n",
    "\n",
    "#プログラミング言語は勿論Python以外にも複数あって、その変数をクラス内だけで変更。\n",
    "#若しくはクラス外から変更。クラス外から変更不可等定義が可能。\n",
    "#pythonの場合、プライベート変数がなくパブリック変数のみとなる。\n",
    "#但し、暗黙の記述ルールがあって変数の前に＿を付ける事でそれが外側（client）から\n",
    "#いじってほしくない変数プライベート変数となる。\n",
    "#ただし、先ほども言ったように暗黙のルールだから、変更することも可能なのである。\n",
    "\n",
    "# There are several programming languages besides Python, of course, \n",
    "#and we changed that variable only within class. Change from outside class.\n",
    "#It is possible to define such as unchangeable from outside the class.\n",
    "#In python, there are no private variables and only public variables.\n",
    "#However, there is an implicit description rule, and by appending\n",
    "#an _ in front of the variable, it becomes a variable private variable\n",
    "#which it does not want to mess out from the client.\n",
    "#However, as I said earlier, it is an implicit rule, so I can change it.\n",
    "\n",
    "class PublicPrivateExample:\n",
    "    def __init__(self):\n",
    "        self.public = \"safe\"\n",
    "        self._unsafe = \"unsafe\"\n",
    "\n",
    "    def public_method(self):\n",
    "        #clientが使っても良い\n",
    "        pass #pass文は、分が必須な構文で何もしない場合に使う\n",
    "\n",
    "    def unsafe_method(self):\n",
    "        #clientは使うべきじゃない\n",
    "        pass #pass文は、分が必須な構文で何もしない場合に使う\n"
   ]
  },
  {
   "cell_type": "code",
   "execution_count": 7,
   "metadata": {},
   "outputs": [
    {
     "name": "stdout",
     "output_type": "stream",
     "text": [
      "[100, 2, 3, 4, 5]\n",
      "[100, 2, 3, 4, 5]\n"
     ]
    }
   ],
   "source": [
    "class Data:\n",
    "    def __init__(self):\n",
    "        self.nums = [1,2,3,4,5]\n",
    "\n",
    "    def change_data(self,index,n):\n",
    "        self.nums[index] = n\n",
    "\n",
    "#下記2つはクラスの外側からオブジェクトを利用する。これをclientと呼ぶ。clientは依頼人という意味。\n",
    "#こっちはnums変数、直接データ操作を行っている。\n",
    "data_one = Data()\n",
    "data_one.nums[0] = 100\n",
    "print(data_one.nums)\n",
    "\n",
    "#こっちはchange_dataメソッドを使う\n",
    "data_two = Data()\n",
    "data_two.change_data(0,100)\n",
    "print(data_two.nums)"
   ]
  },
  {
   "cell_type": "code",
   "execution_count": 8,
   "metadata": {},
   "outputs": [],
   "source": [
    "#抽象化\n",
    "#対象から小さな特徴を除く、本質的な特徴だけを集めた状態。\n",
    "#人をモデルにする\n",
    "#大まかに言えば、男性、女性、年齢とかとか。\n",
    "#でも、細かくいうと身長、体重、出身地とかとか。\n",
    "#抽象化とはそのオブジェクトの重要ポイントのみを抽出していく。\n",
    "\n",
    "# Abstraction\n",
    "# A state that collects only the essential features except small features from objects.\n",
    "# Model a person\n",
    "# Roughly speaking, men, women, age and so on.\n",
    "#But, in other words, height, weight, birth place and so on.\n",
    "# Abstraction means extracting only important points of the object."
   ]
  },
  {
   "cell_type": "code",
   "execution_count": 9,
   "metadata": {},
   "outputs": [
    {
     "name": "stdout",
     "output_type": "stream",
     "text": [
      "Hello,world!\n",
      "299\n",
      "200 1\n"
     ]
    }
   ],
   "source": [
    "#ポリモーフィズム\n",
    "#多型、多形性、多型性、遺伝子多型、結晶多形の意味\n",
    "#ITだとポリモーフィズム（英: Polymorphism）とは、\n",
    "#プログラミング言語の型システムの性質を表すもので、\n",
    "#プログラミング言語の各要素（定数、変数、式、オブジェクト、関数、メソッドなど）について\n",
    "#それらが複数の型に属することを許すという性質を指す。\n",
    "#ポリモルフィズム、多態性、多相性、多様性とも呼ばれる。\n",
    "\n",
    "# Polymorphism\n",
    "# Meaning of polymorphism, polymorphism, polymorphism,\n",
    "#genetic polymorphism, crystal polymorphism\n",
    "#When it is IT, polymorphism (English: Polymorphism) represents \n",
    "#the nature of the type system of a programming language, and as for each element \n",
    "#(constant, variable, expression, object, function, method, etc.) \n",
    "#of a programming language, To belong to the property. \n",
    "#Polymorphism, polymorphism, polymorphism, also called diversity.\n",
    "\n",
    "print(\"Hello,world!\")\n",
    "print(299)\n",
    "print(200,1)"
   ]
  },
  {
   "cell_type": "code",
   "execution_count": 10,
   "metadata": {},
   "outputs": [
    {
     "name": "stdout",
     "output_type": "stream",
     "text": [
      "Hello,world!\n",
      "299\n",
      "200.1\n"
     ]
    },
    {
     "data": {
      "text/plain": [
       "float"
      ]
     },
     "execution_count": 10,
     "metadata": {},
     "output_type": "execute_result"
    }
   ],
   "source": [
    "print(\"Hello,world!\")\n",
    "print(299)\n",
    "print(200.1)\n",
    "\n",
    "type(\"Hello,world!\")\n",
    "type(299)\n",
    "type(200.1)"
   ]
  },
  {
   "cell_type": "code",
   "execution_count": 11,
   "metadata": {},
   "outputs": [
    {
     "data": {
      "text/plain": [
       "str"
      ]
     },
     "execution_count": 11,
     "metadata": {},
     "output_type": "execute_result"
    }
   ],
   "source": [
    "type(\"Hello,world!\")\n"
   ]
  },
  {
   "cell_type": "code",
   "execution_count": 12,
   "metadata": {},
   "outputs": [
    {
     "data": {
      "text/plain": [
       "int"
      ]
     },
     "execution_count": 12,
     "metadata": {},
     "output_type": "execute_result"
    }
   ],
   "source": [
    "type(299)\n"
   ]
  },
  {
   "cell_type": "code",
   "execution_count": 13,
   "metadata": {},
   "outputs": [
    {
     "data": {
      "text/plain": [
       "float"
      ]
     },
     "execution_count": 13,
     "metadata": {},
     "output_type": "execute_result"
    }
   ],
   "source": [
    "type(200.1)"
   ]
  },
  {
   "cell_type": "code",
   "execution_count": 14,
   "metadata": {},
   "outputs": [],
   "source": [
    "#ポリモーフィズム\n",
    "#同じインターフェースだけれどデータ型に合わせて異なる動作をする機能。\n",
    "#これがポリモーフィズム。多様性ってことだね。\n",
    "#インターフェースは関数を指している。\n",
    "#例\n",
    "#print(\"文字\")\n",
    "#print(\"123\")\n",
    "#print(\"123.1\")\n",
    "#上記のように入力すると、入力した通りに表示されるが、これをprint→typeに変更すると\n",
    "#str,int,floatと表示される。中のデータ型のタイプが表示されている。\n",
    "\n",
    "# Polymorphism\n",
    "# It has the same interface, but it performs different actions according to the data type.\n",
    "# This is polymorphism. That's diversity.\n",
    "# The interface points to a function.\n",
    "# Example\n",
    "# print (\"character\")\n",
    "# print (\"123\")\n",
    "# print (\"123.1\")\n",
    "# If you enter as above,\n",
    "#it will be displayed as you type, but if you change this to print → type,\n",
    "#str, int, float will be displayed. The type of data type in it is displayed."
   ]
  },
  {
   "cell_type": "code",
   "execution_count": 15,
   "metadata": {},
   "outputs": [],
   "source": [
    "from PIL import Image, ImageDraw\n",
    "\n",
    "im = Image.new('RGB', (500, 300), (128, 128, 128))\n",
    "draw = ImageDraw.Draw(im)"
   ]
  },
  {
   "cell_type": "code",
   "execution_count": 16,
   "metadata": {},
   "outputs": [
    {
     "ename": "FileNotFoundError",
     "evalue": "[Errno 2] No such file or directory: 'data/dst/pillow_imagedraw.jpg'",
     "output_type": "error",
     "traceback": [
      "\u001b[1;31m---------------------------------------------------------------------------\u001b[0m",
      "\u001b[1;31mFileNotFoundError\u001b[0m                         Traceback (most recent call last)",
      "\u001b[1;32m<ipython-input-16-ccf8735d07e2>\u001b[0m in \u001b[0;36m<module>\u001b[1;34m()\u001b[0m\n\u001b[0;32m      3\u001b[0m \u001b[0mdraw\u001b[0m\u001b[1;33m.\u001b[0m\u001b[0mline\u001b[0m\u001b[1;33m(\u001b[0m\u001b[1;33m(\u001b[0m\u001b[1;36m350\u001b[0m\u001b[1;33m,\u001b[0m \u001b[1;36m200\u001b[0m\u001b[1;33m,\u001b[0m \u001b[1;36m450\u001b[0m\u001b[1;33m,\u001b[0m \u001b[1;36m100\u001b[0m\u001b[1;33m)\u001b[0m\u001b[1;33m,\u001b[0m \u001b[0mfill\u001b[0m\u001b[1;33m=\u001b[0m\u001b[1;33m(\u001b[0m\u001b[1;36m255\u001b[0m\u001b[1;33m,\u001b[0m \u001b[1;36m255\u001b[0m\u001b[1;33m,\u001b[0m \u001b[1;36m0\u001b[0m\u001b[1;33m)\u001b[0m\u001b[1;33m,\u001b[0m \u001b[0mwidth\u001b[0m\u001b[1;33m=\u001b[0m\u001b[1;36m10\u001b[0m\u001b[1;33m)\u001b[0m\u001b[1;33m\u001b[0m\u001b[0m\n\u001b[0;32m      4\u001b[0m \u001b[1;33m\u001b[0m\u001b[0m\n\u001b[1;32m----> 5\u001b[1;33m \u001b[0mim\u001b[0m\u001b[1;33m.\u001b[0m\u001b[0msave\u001b[0m\u001b[1;33m(\u001b[0m\u001b[1;34m'data/dst/pillow_imagedraw.jpg'\u001b[0m\u001b[1;33m,\u001b[0m \u001b[0mquality\u001b[0m\u001b[1;33m=\u001b[0m\u001b[1;36m95\u001b[0m\u001b[1;33m)\u001b[0m\u001b[1;33m\u001b[0m\u001b[0m\n\u001b[0m",
      "\u001b[1;32mD:\\anaconda\\lib\\site-packages\\PIL\\Image.py\u001b[0m in \u001b[0;36msave\u001b[1;34m(self, fp, format, **params)\u001b[0m\n\u001b[0;32m   1945\u001b[0m                 \u001b[1;31m# Open also for reading (\"+\"), because TIFF save_all\u001b[0m\u001b[1;33m\u001b[0m\u001b[1;33m\u001b[0m\u001b[0m\n\u001b[0;32m   1946\u001b[0m                 \u001b[1;31m# writer needs to go back and edit the written data.\u001b[0m\u001b[1;33m\u001b[0m\u001b[1;33m\u001b[0m\u001b[0m\n\u001b[1;32m-> 1947\u001b[1;33m                 \u001b[0mfp\u001b[0m \u001b[1;33m=\u001b[0m \u001b[0mbuiltins\u001b[0m\u001b[1;33m.\u001b[0m\u001b[0mopen\u001b[0m\u001b[1;33m(\u001b[0m\u001b[0mfilename\u001b[0m\u001b[1;33m,\u001b[0m \u001b[1;34m\"w+b\"\u001b[0m\u001b[1;33m)\u001b[0m\u001b[1;33m\u001b[0m\u001b[0m\n\u001b[0m\u001b[0;32m   1948\u001b[0m \u001b[1;33m\u001b[0m\u001b[0m\n\u001b[0;32m   1949\u001b[0m         \u001b[1;32mtry\u001b[0m\u001b[1;33m:\u001b[0m\u001b[1;33m\u001b[0m\u001b[0m\n",
      "\u001b[1;31mFileNotFoundError\u001b[0m: [Errno 2] No such file or directory: 'data/dst/pillow_imagedraw.jpg'"
     ]
    }
   ],
   "source": [
    "draw.ellipse((100, 100, 150, 200), fill=(255, 0, 0), outline=(0, 0, 0))\n",
    "draw.rectangle((200, 100, 300, 200), fill=(0, 192, 192), outline=(255, 255, 255))\n",
    "draw.line((350, 200, 450, 100), fill=(255, 255, 0), width=10)\n",
    "\n",
    "im.save('data/dst/pillow_imagedraw.jpg', quality=95)"
   ]
  },
  {
   "cell_type": "code",
   "execution_count": 17,
   "metadata": {},
   "outputs": [],
   "source": [
    "#上記はpythonで円とか書く例のプログラムをコピーしてきたものだけれど、例によってエラー。これは何故起こるのかというと日本のプログラマーの場合、自分の環境で行ったものをそのまま書きだしてプログラム化してしまう為。\n",
    "#例えば、上記のエラーだと\n",
    "#save(self, fp, format, **params)\n",
    "#第二引数は多分\"file Python\"だろうね。第三引数は…って見れば分かるけれど、このFP引数の所で問題を起こしていて、\n",
    "#fp = builtins.open(filename, \"w+b\")\n",
    "#つまり、\"w+b\"の第二引数を引っ張ってこれにとか言われていて、\n",
    "#FileNotFoundError: [Errno 2] No such file or Zirectory:'data/dst/pillow_imagedraw.jpg'\n",
    "#多分フォルダーがないって言われている。\n",
    "\n",
    "# The above is a copy of an example program written as pie in python, but an error by example. Why is this happening because, in the case of Japanese programmers, I write what I did in my own environment and program it.\n",
    "# For example, if it is the above error\n",
    "\n",
    "# For example, if it is the above error\n",
    "#save (self, fp, format, ** params)\n",
    "# The second argument is probably \"file Python\". The third argument can be found by looking at ... but I have problems with this FP argument,\n",
    "# fp = builtins.open (filename, \"w + b\")\n",
    "# That is, it is said that this is by pulling the second argument of \"w + b\"\n",
    "# FileNotFoundError: [Errno 2] No such file or Zirectory: 'data / dst / pillow_imagedraw.jpg'\n",
    "# It is told that there is probably no folder."
   ]
  },
  {
   "cell_type": "code",
   "execution_count": 18,
   "metadata": {},
   "outputs": [
    {
     "ename": "SyntaxError",
     "evalue": "invalid syntax (<ipython-input-18-dc51989262cf>, line 6)",
     "output_type": "error",
     "traceback": [
      "\u001b[1;36m  File \u001b[1;32m\"<ipython-input-18-dc51989262cf>\"\u001b[1;36m, line \u001b[1;32m6\u001b[0m\n\u001b[1;33m    if isinstance(a__shape,Triangle)\u001b[0m\n\u001b[1;37m                                    ^\u001b[0m\n\u001b[1;31mSyntaxError\u001b[0m\u001b[1;31m:\u001b[0m invalid syntax\n"
     ]
    }
   ],
   "source": [
    "#example\n",
    "\n",
    "#ポリモーフィズムなしで様々な形状を描画する場合\n",
    "shapes = [trl,sql,crl]\n",
    "for a_shape in shapes:\n",
    "    if isinstance(a__shape,Triangle)\n",
    "        a_shape.draw_triangle()\n",
    "    if isinstance(a__shape,Square)\n",
    "        a_shape.draw_square()\n",
    "    if isinstance(a__shape,Circle)\n",
    "        a_shape.draw_circle()\n",
    "\n",
    "#ポリモーフィズムで様々な形状を描画する場合\n",
    "shqpes = [trl,swl,crl]\n",
    "for a_shape in shapes:\n",
    "    a_shape.draw()\n",
    "\n",
    "#ポリフォーリズム無だとfor文で確認するために構文が多く必要になるが、\n",
    "#ポリフォーリズム有だとリスト確認で済む"
   ]
  },
  {
   "cell_type": "code",
   "execution_count": 19,
   "metadata": {},
   "outputs": [
    {
     "name": "stdout",
     "output_type": "stream",
     "text": [
      "Cat: Meow\n",
      "Dog: Bow\n",
      "Book: "
     ]
    },
    {
     "ename": "AttributeError",
     "evalue": "'Book' object has no attribute 'sound'",
     "output_type": "error",
     "traceback": [
      "\u001b[1;31m---------------------------------------------------------------------------\u001b[0m",
      "\u001b[1;31mAttributeError\u001b[0m                            Traceback (most recent call last)",
      "\u001b[1;32m<ipython-input-19-1310a30fb126>\u001b[0m in \u001b[0;36m<module>\u001b[1;34m()\u001b[0m\n\u001b[0;32m     31\u001b[0m \u001b[1;33m\u001b[0m\u001b[0m\n\u001b[0;32m     32\u001b[0m     \u001b[0mb\u001b[0m \u001b[1;33m=\u001b[0m \u001b[0mBook\u001b[0m\u001b[1;33m(\u001b[0m\u001b[1;33m)\u001b[0m\u001b[1;33m\u001b[0m\u001b[0m\n\u001b[1;32m---> 33\u001b[1;33m     \u001b[0moutput\u001b[0m\u001b[1;33m(\u001b[0m\u001b[0mb\u001b[0m\u001b[1;33m)\u001b[0m\u001b[1;33m\u001b[0m\u001b[0m\n\u001b[0m",
      "\u001b[1;32m<ipython-input-19-1310a30fb126>\u001b[0m in \u001b[0;36moutput\u001b[1;34m(animal)\u001b[0m\n\u001b[0;32m     21\u001b[0m \u001b[1;32mdef\u001b[0m \u001b[0moutput\u001b[0m\u001b[1;33m(\u001b[0m\u001b[0manimal\u001b[0m\u001b[1;33m)\u001b[0m\u001b[1;33m:\u001b[0m\u001b[1;33m\u001b[0m\u001b[0m\n\u001b[0;32m     22\u001b[0m     \u001b[0mprint\u001b[0m\u001b[1;33m(\u001b[0m\u001b[0manimal\u001b[0m\u001b[1;33m.\u001b[0m\u001b[0m__class__\u001b[0m\u001b[1;33m.\u001b[0m\u001b[0m__name__\u001b[0m\u001b[1;33m,\u001b[0m \u001b[0mend\u001b[0m\u001b[1;33m=\u001b[0m\u001b[1;34m\": \"\u001b[0m\u001b[1;33m)\u001b[0m\u001b[1;33m\u001b[0m\u001b[0m\n\u001b[1;32m---> 23\u001b[1;33m     \u001b[0manimal\u001b[0m\u001b[1;33m.\u001b[0m\u001b[0msound\u001b[0m\u001b[1;33m(\u001b[0m\u001b[1;33m)\u001b[0m\u001b[1;33m\u001b[0m\u001b[0m\n\u001b[0m\u001b[0;32m     24\u001b[0m \u001b[1;33m\u001b[0m\u001b[0m\n\u001b[0;32m     25\u001b[0m \u001b[1;32mif\u001b[0m \u001b[0m__name__\u001b[0m \u001b[1;33m==\u001b[0m \u001b[1;34m\"__main__\"\u001b[0m\u001b[1;33m:\u001b[0m\u001b[1;33m\u001b[0m\u001b[0m\n",
      "\u001b[1;31mAttributeError\u001b[0m: 'Book' object has no attribute 'sound'"
     ]
    }
   ],
   "source": [
    "from abc import ABCMeta, abstractmethod\n",
    "\n",
    "class Animal(metaclass=ABCMeta):\n",
    "    @abstractmethod\n",
    "    def sound(self):\n",
    "        pass\n",
    "\n",
    "class Cat(Animal):\n",
    "    def sound(self):\n",
    "        print(\"Meow\")\n",
    "\n",
    "class Dog():\n",
    "    def sound(self):\n",
    "        print(\"Bow\")\n",
    "\n",
    "class Book():\n",
    "    pass\n",
    "\n",
    "Animal.register(Dog)\n",
    "\n",
    "def output(animal):\n",
    "    print(animal.__class__.__name__, end=\": \")\n",
    "    animal.sound()\n",
    "\n",
    "if __name__ == \"__main__\":\n",
    "    c = Cat()\n",
    "    output(c)\n",
    "\n",
    "    d = Dog()\n",
    "    output(d)\n",
    "\n",
    "    b = Book()\n",
    "    output(b)"
   ]
  },
  {
   "cell_type": "code",
   "execution_count": 22,
   "metadata": {},
   "outputs": [
    {
     "name": "stdout",
     "output_type": "stream",
     "text": [
      "Cat: Meow\n",
      "Dog: Bow\n"
     ]
    }
   ],
   "source": [
    "from abc import ABCMeta, abstractmethod\n",
    "\n",
    "class Animal(metaclass=ABCMeta):\n",
    "    @abstractmethod\n",
    "    def sound(self):\n",
    "        pass\n",
    "\n",
    "class Cat(Animal):\n",
    "    def sound(self):\n",
    "        print(\"Meow\")\n",
    "\n",
    "class Dog():\n",
    "    def sound(self):\n",
    "        print(\"Bow\")\n",
    "\n",
    "class Book():\n",
    "    pass\n",
    "\n",
    "Animal.register(Dog)\n",
    "\n",
    "def output(animal):\n",
    "    if not isinstance(animal, Animal):\n",
    "        return\n",
    "    print(animal.__class__.__name__, end=\": \")\n",
    "    animal.sound()\n",
    "\n",
    "if __name__ == \"__main__\":\n",
    "    c = Cat()\n",
    "    output(c)\n",
    "\n",
    "    d = Dog()\n",
    "    output(d)\n",
    "\n",
    "    b = Book()\n",
    "    output(b)"
   ]
  },
  {
   "cell_type": "code",
   "execution_count": 21,
   "metadata": {},
   "outputs": [],
   "source": [
    "#さっきの実行できなかったプログラム例を実際に実行できるようにどうすればいいのかを\n",
    "#書いているブログを発見。\n",
    "#https://qiita.com/kaneshin/items/269bc5f156d86f8a91c4\n",
    "\n",
    "#まずはポリモーフィズムの冒頭に「同じインターフェースでありながら、\n",
    "#データ型に合わせて異なる動作をする機能」（インターフェースは関数、メソッドの事）と\n",
    "#記載したが、その詳細なる説明。\n",
    "\n",
    "#この本ではprintは文章や数字を表示できるけれど、typeで打つとデータ型が返ってくるという\n",
    "#結果が出て、これを例えば〇、▼、◆という3つのクラスを実装してdrawには【自動】だと\n",
    "#「近づく],[引き分けになる],【他動】だと[～を引く、引き込む],[～を描く、描画する]…\n",
    "#等様々意味があるけれど、この場合線を描くになる。\n",
    "#〇、▼、◆の線を描くのは良いけれど、プログラムだと\n",
    "\n",
    "#shapes = [trl,sql,crl]　リストを用意して変数にいれます\n",
    "#for a_shape in shapes: shapesの中にリストの名前があるなら繰り返して\n",
    "#    if isinstance(a__shape,Triangle) インスタンスは▼…\n",
    "#        a_shape.draw_triangle()\n",
    "#    if isinstance(a__shape,Square)\n",
    "#        a_shape.draw_square()\n",
    "#    if isinstance(a__shape,Circle)\n",
    "#        a_shape.draw_circle()\n",
    "\n",
    "#となるけれど、\n",
    "\n",
    "#shqpes = [trl,swl,crl]\n",
    "#for a_shape in shapes:\n",
    "#    a_shape.draw()\n",
    "\n",
    "#drawメソッドがデータ型に合わせて動作を変えてくるれるおかげで行数を少なくしてプログラム可能。"
   ]
  },
  {
   "cell_type": "code",
   "execution_count": 23,
   "metadata": {},
   "outputs": [],
   "source": [
    "#from abc import ABCMeta, abstractmethod\n",
    "#class Animal(metaclass=ABCMeta):\n",
    "#    @abstractmethod\n",
    "#    def sound(self):　鳴くってメソッドを定義\n",
    "#        pass\n",
    "\n",
    "#class Cat(Animal):\n",
    "#    def sound(self):\n",
    "#        print(\"Meow\")　猫は鳴くから\n",
    "\n",
    "#class Dog():\n",
    "#    def sound(self):\n",
    "#        print(\"Bow\")　犬もなくし\n",
    "\n",
    "#class Book():\n",
    "#    pass　本は鳴かない\n",
    "\n",
    "#Animal.register(Dog) register=登録　だから犬をCat（カタログだと思う）クラスの第一引数に渡す。\n",
    "\n",
    "#はじめはこの定義文だったが、\n",
    "#def output(animal):\n",
    "#    print(animal.__class__.__name__, end=\": \")\n",
    "#    animal.sound()\n",
    "#Cat: Meow\n",
    "#Dog: Bow\n",
    "#AttributeError: 'Book' object has no attribute 'sound'\n",
    "#本自分でパスってんだろうがとエラーが返ってくる。\n",
    "\n",
    "#インスタンスで指定しているかを判定材料にして、今回は動物は鳴くと抽象化したクラスが\n",
    "#ハンドリング（補足する）出来る。\n",
    "#def output(animal):\n",
    "#    if not isinstance(animal, Animal):\n",
    "#        return\n",
    "#    print(animal.__class__.__name__, end=\": \")\n",
    "#    animal.sound()\n",
    "\n",
    "#if __name__ == \"__main__\":\n",
    "#    c = Cat()\n",
    "#    output(c)\n",
    "\n",
    "#    d = Dog()\n",
    "#    output(d)\n",
    "\n",
    "#    b = Book()\n",
    "#    output(b)\n",
    "\n",
    "#ダック・タイピングとは？\n",
    "#\"If it walks like a duck and quacks like a duck, it must be a duck.\" -\n",
    "#「アヒルのように歩き、鳴けば、それはアヒルだ。」\n",
    "\n",
    "#これを簡素化して「鳴けばそれは動物だ。」としましょう。\n",
    "#そして無理やりプログラミングに落とし込んでやると「あるオブジェクトに「鳴く」\n",
    "#というメソッドを実装してやれば、その具象クラスは「動物」である」となります。\n",
    "\n",
    "#つまりダックタイピングとは比喩表現なんだけれど、「アヒルのように歩き、\n",
    "#鳴くならアヒルで良いじゃん」ってそんな感じ。"
   ]
  },
  {
   "cell_type": "code",
   "execution_count": 25,
   "metadata": {},
   "outputs": [
    {
     "ename": "NameError",
     "evalue": "name 'shape' is not defined",
     "output_type": "error",
     "traceback": [
      "\u001b[1;31m---------------------------------------------------------------------------\u001b[0m",
      "\u001b[1;31mNameError\u001b[0m                                 Traceback (most recent call last)",
      "\u001b[1;32m<ipython-input-25-aa25730a13cd>\u001b[0m in \u001b[0;36m<module>\u001b[1;34m()\u001b[0m\n\u001b[0;32m     18\u001b[0m         \u001b[0mprint\u001b[0m\u001b[1;33m(\u001b[0m\u001b[1;34m\"{} by {}\"\u001b[0m\u001b[1;33m.\u001b[0m\u001b[0mformat\u001b[0m\u001b[1;33m(\u001b[0m\u001b[0mself\u001b[0m\u001b[1;33m.\u001b[0m\u001b[0mwidth\u001b[0m\u001b[1;33m,\u001b[0m\u001b[0mself\u001b[0m\u001b[1;33m,\u001b[0m\u001b[0mlen\u001b[0m\u001b[1;33m)\u001b[0m\u001b[1;33m)\u001b[0m\u001b[1;33m\u001b[0m\u001b[0m\n\u001b[0;32m     19\u001b[0m \u001b[1;33m\u001b[0m\u001b[0m\n\u001b[1;32m---> 20\u001b[1;33m \u001b[0mmy_shape\u001b[0m \u001b[1;33m=\u001b[0m \u001b[0mshape\u001b[0m\u001b[1;33m(\u001b[0m\u001b[1;36m20\u001b[0m\u001b[1;33m,\u001b[0m\u001b[1;36m25\u001b[0m\u001b[1;33m)\u001b[0m\u001b[1;33m\u001b[0m\u001b[0m\n\u001b[0m\u001b[0;32m     21\u001b[0m \u001b[0mmy_shape\u001b[0m\u001b[1;33m.\u001b[0m\u001b[0mprint_size\u001b[0m\u001b[1;33m(\u001b[0m\u001b[1;33m)\u001b[0m\u001b[1;33m\u001b[0m\u001b[0m\n",
      "\u001b[1;31mNameError\u001b[0m: name 'shape' is not defined"
     ]
    }
   ],
   "source": [
    "#継承\n",
    "#プログラミングにおける継承は、リアルだと遺伝子継承に似ている。\n",
    "#遺伝は書く必要ないか、禿は遺伝するとかそんな感じ\n",
    "#プログラミングではクラスが作成されるとき、他のクラスからメソッド、変数を受け継ぎ、元を”親クラス”、先を”子クラス”という。\n",
    "\n",
    "# Inheritance\n",
    "# Inheritance in programming is real like gene inheritance is real.\n",
    "# Do not need to write heredity, baldness inherit or such feeling\n",
    "# In programming, when classes are created, methods and variables are inherited from other classes,\n",
    "#and the original is called \"parent class\", and the destination is called \"child class\".\n",
    "\n",
    "class Shape:\n",
    "    def __init__(self,w,l):\n",
    "        self.width = w\n",
    "        self.len = 1\n",
    "\n",
    "    def print_size(self):\n",
    "        print(\"{} by {}\".format(self.width,self,len))\n",
    "\n",
    "my_shape = shape(20,25)\n",
    "my_shape.print_size()"
   ]
  },
  {
   "cell_type": "code",
   "execution_count": 26,
   "metadata": {},
   "outputs": [
    {
     "name": "stdout",
     "output_type": "stream",
     "text": [
      "20 by <__main__.Shape object at 0x0000000004E5D470>\n"
     ]
    }
   ],
   "source": [
    "class Shape:\n",
    "    def __init__(self,w,l):\n",
    "        self.width = w\n",
    "        self.len = 1\n",
    "\n",
    "    def print_size(self):\n",
    "        print(\"{} by {}\".format(self.width,self,len))\n",
    "\n",
    "my_shape = Shape(20,25)\n",
    "my_shape.print_size()"
   ]
  },
  {
   "cell_type": "code",
   "execution_count": 27,
   "metadata": {},
   "outputs": [
    {
     "name": "stdout",
     "output_type": "stream",
     "text": [
      "20 by 1\n"
     ]
    }
   ],
   "source": [
    "class Shape:\n",
    "    def __init__(self,w,l):\n",
    "        self.width = w\n",
    "        self.len = 1\n",
    "\n",
    "    def print_size(self):\n",
    "        print(\"{} by {}\".format(self.width,self.len))\n",
    "\n",
    "my_shape = Shape(20,25)\n",
    "my_shape.print_size()"
   ]
  },
  {
   "cell_type": "code",
   "execution_count": 28,
   "metadata": {},
   "outputs": [
    {
     "name": "stdout",
     "output_type": "stream",
     "text": [
      "20 by 25\n"
     ]
    }
   ],
   "source": [
    "class Shape:\n",
    "    def __init__(self,w,l):\n",
    "        self.width = w\n",
    "        self.len = l\n",
    "\n",
    "    def print_size(self):\n",
    "        print(\"{} by {}\".format(self.width,self.len))\n",
    "\n",
    "my_shape = Shape(20,25)\n",
    "my_shape.print_size()"
   ]
  },
  {
   "cell_type": "code",
   "execution_count": 29,
   "metadata": {},
   "outputs": [
    {
     "name": "stdout",
     "output_type": "stream",
     "text": [
      "20 by 20\n"
     ]
    }
   ],
   "source": [
    "class Shape:\n",
    "    def __init__(self,w,l):\n",
    "        self.width = w\n",
    "        self.len = l\n",
    "\n",
    "    def print_size(self):\n",
    "        print(\"{} by {}\".format(self.width,self.len))\n",
    "\n",
    "class Square(Shape):\n",
    "    pass\n",
    "\n",
    "a_shape = Shape(20,20)\n",
    "a_shape.print_size()"
   ]
  },
  {
   "cell_type": "code",
   "execution_count": 30,
   "metadata": {},
   "outputs": [
    {
     "ename": "SyntaxError",
     "evalue": "invalid syntax (<ipython-input-30-a594c276bf44>, line 13)",
     "output_type": "error",
     "traceback": [
      "\u001b[1;36m  File \u001b[1;32m\"<ipython-input-30-a594c276bf44>\"\u001b[1;36m, line \u001b[1;32m13\u001b[0m\n\u001b[1;33m    def print_size(self)\u001b[0m\n\u001b[1;37m                        ^\u001b[0m\n\u001b[1;31mSyntaxError\u001b[0m\u001b[1;31m:\u001b[0m invalid syntax\n"
     ]
    }
   ],
   "source": [
    "class Shape:\n",
    "    def __init__(self,w,l):\n",
    "        self.width = w\n",
    "        self.len = l\n",
    "\n",
    "    def print_size(self):\n",
    "        print(\"{} by {}\".format(self.width,self.len))\n",
    "\n",
    "class Square(Shape):\n",
    "    def area(self):\n",
    "        return self.width * self.len\n",
    "\n",
    "    def print_size(self)\n",
    "        print(\"I am {} by {}\".format(self.width,self.len))\n",
    "\n",
    "a_shape = Shape(20,20)\n",
    "a_shape.print_size()"
   ]
  },
  {
   "cell_type": "code",
   "execution_count": 31,
   "metadata": {},
   "outputs": [
    {
     "name": "stdout",
     "output_type": "stream",
     "text": [
      "20 by 20\n"
     ]
    }
   ],
   "source": [
    "class Shape:\n",
    "    def __init__(self,w,l):\n",
    "        self.width = w\n",
    "        self.len = l\n",
    "\n",
    "    def print_size(self):\n",
    "        print(\"{} by {}\".format(self.width,self.len))\n",
    "\n",
    "class Square(Shape):\n",
    "    def area(self):\n",
    "        return self.width * self.len\n",
    "\n",
    "    def print_size(self):\n",
    "        print(\"I am {} by {}\".format(self.width,self.len))\n",
    "\n",
    "a_shape = Shape(20,20)\n",
    "a_shape.print_size()"
   ]
  },
  {
   "cell_type": "code",
   "execution_count": 32,
   "metadata": {},
   "outputs": [
    {
     "name": "stdout",
     "output_type": "stream",
     "text": [
      "I am 20 by 20\n"
     ]
    }
   ],
   "source": [
    "class Shape:\n",
    "    def __init__(self,w,l):\n",
    "        self.width = w\n",
    "        self.len = l\n",
    "\n",
    "    def print_size(self):\n",
    "        print(\"{} by {}\".format(self.width,self.len))\n",
    "\n",
    "class Square(Shape):\n",
    "    def area(self):\n",
    "        return self.width * self.len\n",
    "\n",
    "    def print_size(self):\n",
    "        print(\"I am {} by {}\".format(self.width,self.len))\n",
    "\n",
    "a_square = Square(20,20)\n",
    "a_square.print_size()"
   ]
  },
  {
   "cell_type": "code",
   "execution_count": 34,
   "metadata": {},
   "outputs": [],
   "source": [
    "##コンポジション\n",
    "#構成(すること)、組み立て(ること)、合成、混成、組み立てられたもの、構成物、合成物、混合物、(合成)成分、作文\n",
    "\n",
    "#[has-a]関係\n",
    "#データベース設計やオブジェクト指向プログラミングアーキテクチャにおいて、has-aとは、\n",
    "#(複合型と呼ばれる)もう一つのオブジェクト(の一部またはメンバ)に属する(よく複合されたオブジェクトと呼ばれる)あるオブジェクトの関係であり、\n",
    "#所有者のルールに準じて振る舞うものである。多数のhas-a関係は相まって所有階層を形成する。\n",
    "#これは異なる種類の階層(派生型)を構成するis-a関係と対比される。\n",
    "#オブジェクトとそれに従属するオブジェクトとの最も論理的な関係がhas-aであるのかis-aであるのかは、必ずしも明確に決められない。\n",
    "#そのような判断上の混乱があるため、これらのメタ言語的用語が生まれたとも言える。日本語では関連関係を意味する。\n",
    "\n",
    "# Composition\n",
    "# Composition (composing), assembling (synthesis), synthesis, hybrid, assembled, composition, compound, mixture, (synthetic) ingredients, composition\n",
    "\n",
    "# [has-a] relationship\n",
    "#In database design and object-oriented programming architecture,\n",
    "#has-a is the relationship of an object (often referred to as a compound object) belonging to (another part or member of) another object\n",
    "#(called a complex type) It behaves according to the rules of the owner.\n",
    "#Many has-a relationships together form the ownership hierarchy.\n",
    "#This contrasts with the is-a relationship that constitutes a different kind of hierarchy (derived type).\n",
    "#Whether the most logical relationship between an object and its dependent object is has-a or is-a can not necessarily\n",
    "#be clearly determined. Because of such confusion in judgment, it can be said that these meta-linguistic terms were born.\n",
    "#In Japanese it means relation.\n",
    "\n",
    "class Dog:\n",
    "    def __init__(self,name,breed,owner):\n",
    "        self.name = name\n",
    "        self.bread = bread\n",
    "        self.owner = owner\n",
    "\n",
    "class Person:\n",
    "    def __init__(self,name):\n",
    "        self.name = name\n",
    "\n",
    "#breed\n",
    "#1繁殖.\n",
    "#2飼育，飼養; 育種.\n",
    "#3a養育，しつけ.\n",
    "#b育ち，教養; 行儀作法.\n",
    "#a man of fine breeding 教養の豊かな人.\n",
    "#4【原子物理】 増殖(作用).        \n"
   ]
  },
  {
   "cell_type": "code",
   "execution_count": 36,
   "metadata": {},
   "outputs": [
    {
     "ename": "NameError",
     "evalue": "name 'bread' is not defined",
     "output_type": "error",
     "traceback": [
      "\u001b[1;31m---------------------------------------------------------------------------\u001b[0m",
      "\u001b[1;31mNameError\u001b[0m                                 Traceback (most recent call last)",
      "\u001b[1;32m<ipython-input-36-a9e56316ff60>\u001b[0m in \u001b[0;36m<module>\u001b[1;34m()\u001b[0m\n\u001b[0;32m     10\u001b[0m \u001b[1;33m\u001b[0m\u001b[0m\n\u001b[0;32m     11\u001b[0m \u001b[0mmick\u001b[0m \u001b[1;33m=\u001b[0m \u001b[0mPerson\u001b[0m\u001b[1;33m(\u001b[0m\u001b[1;34m\"Mick Jagger\"\u001b[0m\u001b[1;33m)\u001b[0m\u001b[1;33m\u001b[0m\u001b[0m\n\u001b[1;32m---> 12\u001b[1;33m \u001b[0mstan\u001b[0m \u001b[1;33m=\u001b[0m \u001b[0mDog\u001b[0m\u001b[1;33m(\u001b[0m\u001b[1;34m\"Stanley\"\u001b[0m\u001b[1;33m,\u001b[0m\u001b[1;34m\"Bulldog\"\u001b[0m\u001b[1;33m,\u001b[0m\u001b[0mmick\u001b[0m\u001b[1;33m)\u001b[0m\u001b[1;33m\u001b[0m\u001b[0m\n\u001b[0m\u001b[0;32m     13\u001b[0m \u001b[0mprint\u001b[0m\u001b[1;33m(\u001b[0m\u001b[0mstan\u001b[0m\u001b[1;33m.\u001b[0m\u001b[0mowner\u001b[0m\u001b[1;33m.\u001b[0m\u001b[0mname\u001b[0m\u001b[1;33m)\u001b[0m\u001b[1;33m\u001b[0m\u001b[0m\n",
      "\u001b[1;32m<ipython-input-36-a9e56316ff60>\u001b[0m in \u001b[0;36m__init__\u001b[1;34m(self, name, breed, owner)\u001b[0m\n\u001b[0;32m      2\u001b[0m     \u001b[1;32mdef\u001b[0m \u001b[0m__init__\u001b[0m\u001b[1;33m(\u001b[0m\u001b[0mself\u001b[0m\u001b[1;33m,\u001b[0m\u001b[0mname\u001b[0m\u001b[1;33m,\u001b[0m\u001b[0mbreed\u001b[0m\u001b[1;33m,\u001b[0m\u001b[0mowner\u001b[0m\u001b[1;33m)\u001b[0m\u001b[1;33m:\u001b[0m\u001b[1;33m\u001b[0m\u001b[0m\n\u001b[0;32m      3\u001b[0m         \u001b[0mself\u001b[0m\u001b[1;33m.\u001b[0m\u001b[0mname\u001b[0m \u001b[1;33m=\u001b[0m \u001b[0mname\u001b[0m\u001b[1;33m\u001b[0m\u001b[0m\n\u001b[1;32m----> 4\u001b[1;33m         \u001b[0mself\u001b[0m\u001b[1;33m.\u001b[0m\u001b[0mbread\u001b[0m \u001b[1;33m=\u001b[0m \u001b[0mbread\u001b[0m\u001b[1;33m\u001b[0m\u001b[0m\n\u001b[0m\u001b[0;32m      5\u001b[0m         \u001b[0mself\u001b[0m\u001b[1;33m.\u001b[0m\u001b[0mowner\u001b[0m \u001b[1;33m=\u001b[0m \u001b[0mowner\u001b[0m\u001b[1;33m\u001b[0m\u001b[0m\n\u001b[0;32m      6\u001b[0m \u001b[1;33m\u001b[0m\u001b[0m\n",
      "\u001b[1;31mNameError\u001b[0m: name 'bread' is not defined"
     ]
    }
   ],
   "source": [
    "class Dog:\n",
    "    def __init__(self,name,breed,owner):\n",
    "        self.name = name\n",
    "        self.bread = bread\n",
    "        self.owner = owner\n",
    "\n",
    "class Person:\n",
    "    def __init__(self,name):\n",
    "        self.name = name\n",
    "\n",
    "mick = Person(\"Mick Jagger\")\n",
    "stan = Dog(\"Stanley\",\"Bulldog\",mick)\n",
    "print(stan.owner.name)"
   ]
  },
  {
   "cell_type": "code",
   "execution_count": 37,
   "metadata": {},
   "outputs": [
    {
     "name": "stdout",
     "output_type": "stream",
     "text": [
      "Mick Jagger\n"
     ]
    }
   ],
   "source": [
    "class Dog:\n",
    "    def __init__(self,name,breed,owner):\n",
    "        self.name = name\n",
    "        self.breed = breed\n",
    "        self.owner = owner\n",
    "\n",
    "class Person:\n",
    "    def __init__(self,name):\n",
    "        self.name = name\n",
    "\n",
    "mick = Person(\"Mick Jagger\")\n",
    "stan = Dog(\"Stanley\",\"Bulldog\",mick)\n",
    "print(stan.owner.name)"
   ]
  },
  {
   "cell_type": "code",
   "execution_count": 38,
   "metadata": {},
   "outputs": [],
   "source": [
    "#上記プログラムは犬は1人の飼い主を持つという意味\n",
    "#stan = Dog(\"Stanley\",\"Bulldog\",mick)\n",
    "#\"Stanley\"という名前のstanオブジェクトは\"Mick Jagger\"という名前のPersonオブジェクトをインスタンス変数ownerに持つ。"
   ]
  },
  {
   "cell_type": "code",
   "execution_count": 39,
   "metadata": {},
   "outputs": [],
   "source": [
    "#object指向プログラミングの4大要素：カプセル化、抽象化、ポリモーフィズム、継承\n",
    "#カプセル化:2つの概念で成り立つ。\n",
    "#１：オブジェクト指向プログラミングに置いて、オブジェクトによって複数の変数（状態）とメソッド\n",
    "#（状態を変更したり状態を使って計算する）を纏める事。\n",
    "#２：データをクラス内に隠蔽して外から見えないようにする事\n",
    "#client：クラスの外側からオブジェクトを操作するコード\n",
    "#抽象化:対象から小さな特徴を除いて、本質な特徴だけを集めた状態\n",
    "#親クラス：継承元となるクラスの事\n",
    "#子クラス：継承先となるクラスの事\n",
    "#メソッドオーバーライト：子クラスが親クラスのメソッドを別の実装で置き換える事\n",
    "#コンポジション：別クラスのオブジェクトを変数として持たせる事「has-a関係」\n",
    "#プライベート変数：オブジェクトの中からアクセスできるけれど、clientからはアクセス出来ない変数\n",
    "#プライベートメソッド：オブジェクトの中からはアクセス出来ないメソッド\n",
    "#パブリック変数:clientからアクセスできる変数\n",
    "\n",
    "#※pythonは全部パブリックなので出来ない事はないけれど。\n",
    "\n",
    "# Object Four main elements of oriented programming: encapsulation, abstraction, polymorphism, inheritance\n",
    "# Encapsulation: It consists of two concepts.\n",
    "# 1: Combine multiple variables (states) and methods (change state or calculate using state) depending on the object\n",
    "#in object-oriented programming.\n",
    "# 2: Hide the data in the class and make it invisible from the outside\n",
    "#client: Code to manipulate objects from outside the class\n",
    "# Abstraction: A state in which only essential features are gathered except small features from objects\n",
    "# Parent class: things to inherit from\n",
    "# Child class: things to inherit from\n",
    "# Method overwrite: Child class replaces method of parent class with another implementation\n",
    "# Composition: Having an object of another class as a variable \"has-a relation\"\n",
    "# Private variable: variable accessible from the object but not accessible from the client\n",
    "# Private method: methods not accessible from objects\n",
    "# Public variable: variable accessible from client\n",
    "\n",
    "# Because all python is public, there is nothing I can not do."
   ]
  },
  {
   "cell_type": "code",
   "execution_count": null,
   "metadata": {},
   "outputs": [],
   "source": []
  }
 ],
 "metadata": {
  "kernelspec": {
   "display_name": "Python 3",
   "language": "python",
   "name": "python3"
  },
  "language_info": {
   "codemirror_mode": {
    "name": "ipython",
    "version": 3
   },
   "file_extension": ".py",
   "mimetype": "text/x-python",
   "name": "python",
   "nbconvert_exporter": "python",
   "pygments_lexer": "ipython3",
   "version": "3.7.0"
  }
 },
 "nbformat": 4,
 "nbformat_minor": 2
}
