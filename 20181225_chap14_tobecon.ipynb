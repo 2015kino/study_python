{
 "cells": [
  {
   "cell_type": "code",
   "execution_count": 1,
   "metadata": {},
   "outputs": [
    {
     "name": "stdout",
     "output_type": "stream",
     "text": [
      "<class '__main__.Square'>\n"
     ]
    }
   ],
   "source": [
    "#◆\n",
    "#・全オブジェクトはクラスのインスタンスである。\n",
    "#・クラスから作られるオブジェクトをインスタンスと呼ぶ\n",
    "#・この本ではオブジェクト＝インスタンス\n",
    "\n",
    "# ◆\n",
    "# All objects are instances of the class.\n",
    "# - Call an object created from a class as an instance\n",
    "# · In this book object = instance\n",
    "\n",
    "#◆\n",
    "#・クラス変数VSインスタンス変数\n",
    "#・プログラマートークにて「○○クラスのインスタンス」、「インスタンスオブジェクト」、\n",
    "#[オブジェクト」というのは、「Hello]とか「こんにちは」とか同列の意味でつかわれる。\n",
    "#Pythonは、クラスそのものもオブジェクトとして扱える\n",
    "#その場合、単にオブジェクトとし呼ぶのは紛らわしいため「クラスオブジェクト」と明示的に呼ぶ。\n",
    "#クラスはtypeクラスから作られるオブジェクト。\n",
    "#「クラスを作るクラス」の事を「メタクラス」。\n",
    "\n",
    "# ◆\n",
    "# · Class variable VS instance variable\n",
    "# · In the programmer talk, \"instance of ○○ class\", \"instance object\", \"object\" is used in \n",
    "#the same meaning as \"Hello\" or \"Hello\".\n",
    "# Python can handle the class itself as an object\n",
    "# In that case, it is confusing to simply call it as an object, so explicitly as \"class object\".\n",
    "# Class is an object created from the type class.\n",
    "# \"Things to make a class\" is \"Metaclass\".\n",
    "\n",
    "class Square:\n",
    "    pass\n",
    "\n",
    "print(Square)"
   ]
  },
  {
   "cell_type": "code",
   "execution_count": 2,
   "metadata": {},
   "outputs": [
    {
     "name": "stdout",
     "output_type": "stream",
     "text": [
      "10 by 24\n"
     ]
    }
   ],
   "source": [
    "#◆\n",
    "#Squareというクラスオブジェクトを出力する\n",
    "#クラスにはクラス変数とインスタンス変数の2種類の変数があります。\n",
    "#self.[変数名] = [値]のように各変数はインスタンス変数。インスタンス変数はインスタンスオブジェクトに属する\n",
    "\n",
    "# ◆\n",
    "#Output a class object called Square\n",
    "#There are two kinds of variables in the class: class variable and instance variable.\n",
    "#Each variable is an instance variable like #self. [variable name] = [value]. \n",
    "#Instance variable belongs to instance object\n",
    "\n",
    "class Rectangle:\n",
    "    def __init__(self,w,l):\n",
    "        self.width = w\n",
    "        self.len = l\n",
    "\n",
    "    def print_size(self):\n",
    "        print(\"{} by {}\".format(self.width,self.len))\n",
    "\n",
    "my_rectangle = Rectangle(10,24)\n",
    "my_rectangle.print_size()"
   ]
  },
  {
   "cell_type": "code",
   "execution_count": 3,
   "metadata": {},
   "outputs": [
    {
     "ename": "TypeError",
     "evalue": "append() takes exactly one argument (2 given)",
     "output_type": "error",
     "traceback": [
      "\u001b[1;31m---------------------------------------------------------------------------\u001b[0m",
      "\u001b[1;31mTypeError\u001b[0m                                 Traceback (most recent call last)",
      "\u001b[1;32m<ipython-input-3-fcbdcd545c30>\u001b[0m in \u001b[0;36m<module>\u001b[1;34m()\u001b[0m\n\u001b[0;32m     22\u001b[0m         \u001b[0mprint\u001b[0m\u001b[1;33m(\u001b[0m\u001b[1;34m\"{} by {}\"\u001b[0m\u001b[1;33m.\u001b[0m\u001b[0mformat\u001b[0m\u001b[1;33m(\u001b[0m\u001b[0mself\u001b[0m\u001b[1;33m.\u001b[0m\u001b[0mwidth\u001b[0m\u001b[1;33m,\u001b[0m\u001b[0mself\u001b[0m\u001b[1;33m.\u001b[0m\u001b[0mlen\u001b[0m\u001b[1;33m)\u001b[0m\u001b[1;33m)\u001b[0m\u001b[1;33m\u001b[0m\u001b[0m\n\u001b[0;32m     23\u001b[0m \u001b[1;33m\u001b[0m\u001b[0m\n\u001b[1;32m---> 24\u001b[1;33m \u001b[0mr1\u001b[0m \u001b[1;33m=\u001b[0m \u001b[0mRectangle\u001b[0m\u001b[1;33m(\u001b[0m\u001b[1;36m10\u001b[0m\u001b[1;33m,\u001b[0m\u001b[1;36m24\u001b[0m\u001b[1;33m)\u001b[0m\u001b[1;33m\u001b[0m\u001b[0m\n\u001b[0m\u001b[0;32m     25\u001b[0m \u001b[0mr2\u001b[0m \u001b[1;33m=\u001b[0m \u001b[0mRectangle\u001b[0m\u001b[1;33m(\u001b[0m\u001b[1;36m20\u001b[0m\u001b[1;33m,\u001b[0m\u001b[1;36m40\u001b[0m\u001b[1;33m)\u001b[0m\u001b[1;33m\u001b[0m\u001b[0m\n\u001b[0;32m     26\u001b[0m \u001b[0mr3\u001b[0m \u001b[1;33m=\u001b[0m \u001b[0mRectangle\u001b[0m\u001b[1;33m(\u001b[0m\u001b[1;36m100\u001b[0m\u001b[1;33m,\u001b[0m\u001b[1;36m200\u001b[0m\u001b[1;33m)\u001b[0m\u001b[1;33m\u001b[0m\u001b[0m\n",
      "\u001b[1;32m<ipython-input-3-fcbdcd545c30>\u001b[0m in \u001b[0;36m__init__\u001b[1;34m(self, w, l)\u001b[0m\n\u001b[0;32m     17\u001b[0m         \u001b[0mself\u001b[0m\u001b[1;33m.\u001b[0m\u001b[0mwidth\u001b[0m \u001b[1;33m=\u001b[0m \u001b[0mw\u001b[0m\u001b[1;33m\u001b[0m\u001b[0m\n\u001b[0;32m     18\u001b[0m         \u001b[0mself\u001b[0m\u001b[1;33m.\u001b[0m\u001b[0mlen\u001b[0m \u001b[1;33m=\u001b[0m \u001b[0ml\u001b[0m\u001b[1;33m\u001b[0m\u001b[0m\n\u001b[1;32m---> 19\u001b[1;33m         \u001b[0mself\u001b[0m\u001b[1;33m.\u001b[0m\u001b[0mrece\u001b[0m\u001b[1;33m.\u001b[0m\u001b[0mappend\u001b[0m\u001b[1;33m(\u001b[0m\u001b[0mself\u001b[0m\u001b[1;33m.\u001b[0m\u001b[0mwidth\u001b[0m\u001b[1;33m,\u001b[0m\u001b[0mself\u001b[0m\u001b[1;33m.\u001b[0m\u001b[0mlen\u001b[0m\u001b[1;33m)\u001b[0m\u001b[1;33m\u001b[0m\u001b[0m\n\u001b[0m\u001b[0;32m     20\u001b[0m \u001b[1;33m\u001b[0m\u001b[0m\n\u001b[0;32m     21\u001b[0m     \u001b[1;32mdef\u001b[0m \u001b[0mprint_size\u001b[0m\u001b[1;33m(\u001b[0m\u001b[0mself\u001b[0m\u001b[1;33m)\u001b[0m\u001b[1;33m:\u001b[0m\u001b[1;33m\u001b[0m\u001b[0m\n",
      "\u001b[1;31mTypeError\u001b[0m: append() takes exactly one argument (2 given)"
     ]
    }
   ],
   "source": [
    "#◆\n",
    "#上記コード例ではwidthとlenがインスタンス変数。\n",
    "\n",
    "#次、クラス変数は各クラス定義時にPythonが作成したクラスオブジェクトに属します。\n",
    "#クラス変数はそのクラスから作られたインスタンスオブジェクトの何処からでも利用可能。グローバル変数に頼らなくても良い。\n",
    "\n",
    "# ◆\n",
    "# In the code example above, width and len are instance variables.\n",
    "\n",
    "# Next, the class variable belongs to the class object created by Python at the time of each class definition.\n",
    "#Class variables can be used anywhere in the instance object created from that class. You do not have to rely on global variables.\n",
    "\n",
    "class Rectangle:\n",
    "    rece = []\n",
    "    \n",
    "    def __init__(self,w,l):\n",
    "        self.width = w\n",
    "        self.len = l\n",
    "        self.rece.append(self.width,self.len)\n",
    "\n",
    "    def print_size(self):\n",
    "        print(\"{} by {}\".format(self.width,self.len))\n",
    "\n",
    "r1 = Rectangle(10,24)\n",
    "r2 = Rectangle(20,40)\n",
    "r3 = Rectangle(100,200)\n",
    "\n",
    "print(Rectangle.rece)\n"
   ]
  },
  {
   "cell_type": "code",
   "execution_count": 4,
   "metadata": {},
   "outputs": [
    {
     "name": "stdout",
     "output_type": "stream",
     "text": [
      "[(10, 24), (20, 40), (100, 200)]\n"
     ]
    }
   ],
   "source": [
    "class Rectangle:\n",
    "    recs = []\n",
    "    \n",
    "    def __init__(self,w,l):\n",
    "        self.width = w\n",
    "        self.len = l\n",
    "        self.recs.append((self.width,self.len))\n",
    "\n",
    "    def print_size(self):\n",
    "        print(\"{} by {}\".format(self.width,self.len))\n",
    "\n",
    "r1 = Rectangle(10,24)\n",
    "r2 = Rectangle(20,40)\n",
    "r3 = Rectangle(100,200)\n",
    "\n",
    "print(Rectangle.recs)"
   ]
  },
  {
   "cell_type": "code",
   "execution_count": 1,
   "metadata": {},
   "outputs": [],
   "source": [
    "#append() takes exactly one argument (2 given)\n",
    "#append（）は1つの引数しか受け取っていない (2個取得している）)\n",
    "#        self.rece.append(self.width,self.len)\n",
    "#→\n",
    "#        self.recs.append((self.width,self.len))\n",
    "\n",
    "#class Rectangle:\n",
    "#    recs = [] recsを追加(rectangleは矩形とか長方形とかだから、rectangels。つまり複数形の短縮がクラス変数として利用されている)\n",
    "    \n",
    "#    def __init__(self,w,l):\n",
    "#        self.width = w\n",
    "#        self.len = l\n",
    "#        self.recs.append((self.width,self.len))\n",
    "\n",
    "#    def print_size(self):\n",
    "#        print(\"{} by {}\".format(self.width,self.len))\n",
    "\n",
    "#__init__が呼ばれるのは、クラスのインスタンスを作成した時のみ。クラス変数にアクセスは出来るが、__init__メソッドは呼ばれない。\n",
    "\n",
    "#r1 = Rectangle(10,24)\n",
    "#r2 = Rectangle(20,40)\n",
    "#r3 = Rectangle(100,200)\n",
    "\n",
    "#r1,r2,r3とクラスのオブジェクト（インスタンス）作成。\n",
    "#その度にクラスRectangleは呼ばれる。\n",
    "#幅と長さを含むタプルをリストに加える\n",
    "\n",
    "#※タプルまたはチュープル（英: tuple）とは、複数の構成要素からなる組を総称する一般概念。\n",
    "\n",
    "#print(Rectangle.recs)https://twitter.com/aajugvoice"
   ]
  },
  {
   "cell_type": "code",
   "execution_count": 2,
   "metadata": {},
   "outputs": [
    {
     "name": "stdout",
     "output_type": "stream",
     "text": [
      "<__main__.Lion object at 0x000000000553A978>\n"
     ]
    }
   ],
   "source": [
    "#特殊メソッド\n",
    "\n",
    "#pythonの全クラスはobjectクラスを継承する。\n",
    "#そのためobjectから継承したメソッドが使える。\n",
    "#例えば、クラスから作成したインスタンスオブジェクトをprint関数に渡すと、次のコード例のように動作する。\n",
    "\n",
    "# Special methods\n",
    "\n",
    "#All python classes inherit the object class.\n",
    "# You can use methods inherited from object. For example,\n",
    "#passing an instance object created from a class to the print function will behave like the following code example.\n",
    "\n",
    "class Lion:\n",
    "    def __init__(self,name):\n",
    "        self.name = name\n",
    "\n",
    "lion = Lion(\"Dilbert\")\n",
    "print(lion)"
   ]
  },
  {
   "cell_type": "code",
   "execution_count": 3,
   "metadata": {},
   "outputs": [
    {
     "name": "stdout",
     "output_type": "stream",
     "text": [
      "Dilbert\n"
     ]
    }
   ],
   "source": [
    "#Lionのオブジェクト（＝インスタント）をprint関数に渡すと、\n",
    "#PythonはObjectクラスから継承した__repr__が返してきた値を出力する。\n",
    "#この__repr__メソッドをオーバーライドして出力したい内容を変更できる。\n",
    "\n",
    "#When passing Lion's object (= instant) to the print function, \n",
    "#Python outputs the value returned by __repr__ inherited from Object class.\n",
    "# You can override this __repr__ method to change what you want to output.\n",
    "\n",
    "class Lion:\n",
    "    def __init__(self,name):\n",
    "        self.name = name\n",
    "\n",
    "    def __repr__(self):\n",
    "        return self.name\n",
    "\n",
    "lion = Lion(\"Dilbert\")\n",
    "print(lion)"
   ]
  },
  {
   "cell_type": "code",
   "execution_count": 4,
   "metadata": {},
   "outputs": [
    {
     "name": "stdout",
     "output_type": "stream",
     "text": [
      "<__main__.Lion object at 0x000000000553A710>\n"
     ]
    }
   ],
   "source": [
    "class Lion:\n",
    "    def __init__(self,name):\n",
    "        self.name = name\n",
    "\n",
    "lion = Lion(\"Dilbert\")\n",
    "print(lion)"
   ]
  },
  {
   "cell_type": "code",
   "execution_count": 5,
   "metadata": {},
   "outputs": [],
   "source": [
    "#何を言ってるかというと、Lionクラスってオブジェクト、つまり箱を作っている。\n",
    "#で、これをprint関数、表示させると、Pythonは__repr__(replace)が返してきた値を出力する。\n",
    "#これを__repr__メソッドを抜いてみるとさっきの訳わかめな表示が出てくる。これがメタ言語ってなる。\n",
    "#上記で実践した通り。\n",
    "\n",
    "# What you are talking about, Lion classes are making objects, or boxes.\n",
    "#When this is displayed as a print function, Python outputs the value returned by __repr __ (replace).\n",
    "# When I try to pull out the __repr__ method from this, a blank display appears. This is a meta-language.\n",
    "# As you practiced above."
   ]
  },
  {
   "cell_type": "code",
   "execution_count": 6,
   "metadata": {},
   "outputs": [
    {
     "ename": "NameError",
     "evalue": "name 'AlwaysPsitive' is not defined",
     "output_type": "error",
     "traceback": [
      "\u001b[1;31m---------------------------------------------------------------------------\u001b[0m",
      "\u001b[1;31mNameError\u001b[0m                                 Traceback (most recent call last)",
      "\u001b[1;32m<ipython-input-6-6275aee3c20e>\u001b[0m in \u001b[0;36m<module>\u001b[1;34m()\u001b[0m\n\u001b[0;32m     10\u001b[0m \u001b[1;31m#you can calculate that object with the addition operator.\u001b[0m\u001b[1;33m\u001b[0m\u001b[1;33m\u001b[0m\u001b[0m\n\u001b[0;32m     11\u001b[0m \u001b[1;33m\u001b[0m\u001b[0m\n\u001b[1;32m---> 12\u001b[1;33m \u001b[1;32mclass\u001b[0m \u001b[0mAlwaysPsitive\u001b[0m\u001b[1;33m:\u001b[0m\u001b[1;33m\u001b[0m\u001b[0m\n\u001b[0m\u001b[0;32m     13\u001b[0m     \u001b[1;32mdef\u001b[0m \u001b[0m__init__\u001b[0m\u001b[1;33m(\u001b[0m\u001b[0mself\u001b[0m\u001b[1;33m,\u001b[0m\u001b[0mnumber\u001b[0m\u001b[1;33m)\u001b[0m\u001b[1;33m:\u001b[0m\u001b[1;33m\u001b[0m\u001b[0m\n\u001b[0;32m     14\u001b[0m         \u001b[0mself\u001b[0m\u001b[1;33m.\u001b[0m\u001b[0mn\u001b[0m \u001b[1;33m=\u001b[0m \u001b[0mnumber\u001b[0m\u001b[1;33m\u001b[0m\u001b[0m\n",
      "\u001b[1;32m<ipython-input-6-6275aee3c20e>\u001b[0m in \u001b[0;36mAlwaysPsitive\u001b[1;34m()\u001b[0m\n\u001b[0;32m     17\u001b[0m         \u001b[1;32mreturn\u001b[0m \u001b[0mabs\u001b[0m\u001b[1;33m(\u001b[0m\u001b[0mself\u001b[0m\u001b[1;33m.\u001b[0m\u001b[0mn\u001b[0m \u001b[1;33m+\u001b[0m\u001b[0mother\u001b[0m\u001b[1;33m.\u001b[0m\u001b[0mn\u001b[0m\u001b[1;33m)\u001b[0m\u001b[1;33m\u001b[0m\u001b[0m\n\u001b[0;32m     18\u001b[0m \u001b[1;33m\u001b[0m\u001b[0m\n\u001b[1;32m---> 19\u001b[1;33m     \u001b[0mx\u001b[0m \u001b[1;33m=\u001b[0m \u001b[0mAlwaysPsitive\u001b[0m\u001b[1;33m(\u001b[0m\u001b[1;33m-\u001b[0m\u001b[1;36m20\u001b[0m\u001b[1;33m)\u001b[0m\u001b[1;33m\u001b[0m\u001b[0m\n\u001b[0m\u001b[0;32m     20\u001b[0m     \u001b[0my\u001b[0m \u001b[1;33m=\u001b[0m \u001b[0mAlwaysPsitive\u001b[0m\u001b[1;33m(\u001b[0m\u001b[1;36m10\u001b[0m\u001b[1;33m)\u001b[0m\u001b[1;33m\u001b[0m\u001b[0m\n\u001b[0;32m     21\u001b[0m \u001b[0mprint\u001b[0m\u001b[1;33m(\u001b[0m\u001b[0mx\u001b[0m \u001b[1;33m+\u001b[0m \u001b[0my\u001b[0m\u001b[1;33m)\u001b[0m\u001b[1;33m\u001b[0m\u001b[0m\n",
      "\u001b[1;31mNameError\u001b[0m: name 'AlwaysPsitive' is not defined"
     ]
    }
   ],
   "source": [
    "#演算子の対象となるオブジェクト（非演算子）は、演算子が指揮を評価するのに使用する特殊メソッドを持つ必要があります。\n",
    "#例えば、2 + 2という式では、非演算子となるどちらの整数値も特殊メソッド__aad__を持っていて、\n",
    "#Pythonは足し算を評価するためにこのメソッドを呼びます。つまり、__add__メソッドをクラスに持たせれば、\n",
    "#そのオブジェクトを足し算の演算子で計算できるのです。\n",
    "\n",
    "#The target object (non operator) of the operator must have a special method that the operator\n",
    "#uses to evaluate the command. For example, in the expression 2 + 2, both integer values\n",
    "#that are nonoperators have the special method __aad__ and Python calls this method to evaluate addition.\n",
    "#In other words, if you have the __ add__ method in your class,\n",
    "#you can calculate that object with the addition operator.\n",
    "\n",
    "class AlwaysPsitive:\n",
    "    def __init__(self,number):\n",
    "        self.n = number\n",
    "\n",
    "    def __add__(self,other):\n",
    "        return abs(self.n +other.n)\n",
    "\n",
    "    x = AlwaysPsitive(-20)\n",
    "    y = AlwaysPsitive(10)\n",
    "print(x + y)"
   ]
  },
  {
   "cell_type": "code",
   "execution_count": 7,
   "metadata": {},
   "outputs": [
    {
     "ename": "NameError",
     "evalue": "name 'AlwaysPositive' is not defined",
     "output_type": "error",
     "traceback": [
      "\u001b[1;31m---------------------------------------------------------------------------\u001b[0m",
      "\u001b[1;31mNameError\u001b[0m                                 Traceback (most recent call last)",
      "\u001b[1;32m<ipython-input-7-49a9d2e74d4f>\u001b[0m in \u001b[0;36m<module>\u001b[1;34m()\u001b[0m\n\u001b[1;32m----> 1\u001b[1;33m \u001b[1;32mclass\u001b[0m \u001b[0mAlwaysPositive\u001b[0m\u001b[1;33m:\u001b[0m\u001b[1;33m\u001b[0m\u001b[0m\n\u001b[0m\u001b[0;32m      2\u001b[0m     \u001b[1;32mdef\u001b[0m \u001b[0m__init__\u001b[0m\u001b[1;33m(\u001b[0m\u001b[0mself\u001b[0m\u001b[1;33m,\u001b[0m \u001b[0mnumber\u001b[0m\u001b[1;33m)\u001b[0m\u001b[1;33m:\u001b[0m\u001b[1;33m\u001b[0m\u001b[0m\n\u001b[0;32m      3\u001b[0m         \u001b[0mself\u001b[0m\u001b[1;33m.\u001b[0m\u001b[0mn\u001b[0m \u001b[1;33m=\u001b[0m \u001b[0mnumber\u001b[0m\u001b[1;33m\u001b[0m\u001b[0m\n\u001b[0;32m      4\u001b[0m \u001b[1;33m\u001b[0m\u001b[0m\n\u001b[0;32m      5\u001b[0m     \u001b[1;32mdef\u001b[0m \u001b[0m__add__\u001b[0m\u001b[1;33m(\u001b[0m\u001b[0mself\u001b[0m\u001b[1;33m,\u001b[0m \u001b[0mother\u001b[0m\u001b[1;33m)\u001b[0m\u001b[1;33m:\u001b[0m\u001b[1;33m\u001b[0m\u001b[0m\n",
      "\u001b[1;32m<ipython-input-7-49a9d2e74d4f>\u001b[0m in \u001b[0;36mAlwaysPositive\u001b[1;34m()\u001b[0m\n\u001b[0;32m      6\u001b[0m         \u001b[1;32mreturn\u001b[0m \u001b[0mabs\u001b[0m\u001b[1;33m(\u001b[0m\u001b[0mself\u001b[0m\u001b[1;33m.\u001b[0m\u001b[0mn\u001b[0m \u001b[1;33m+\u001b[0m \u001b[0mother\u001b[0m\u001b[1;33m.\u001b[0m\u001b[0mn\u001b[0m\u001b[1;33m)\u001b[0m\u001b[1;33m\u001b[0m\u001b[0m\n\u001b[0;32m      7\u001b[0m \u001b[1;33m\u001b[0m\u001b[0m\n\u001b[1;32m----> 8\u001b[1;33m     \u001b[0mx\u001b[0m \u001b[1;33m=\u001b[0m \u001b[0mAlwaysPositive\u001b[0m\u001b[1;33m(\u001b[0m\u001b[1;33m-\u001b[0m\u001b[1;36m20\u001b[0m\u001b[1;33m)\u001b[0m\u001b[1;33m\u001b[0m\u001b[0m\n\u001b[0m\u001b[0;32m      9\u001b[0m     \u001b[0my\u001b[0m \u001b[1;33m=\u001b[0m \u001b[0mAlwaysPositive\u001b[0m\u001b[1;33m(\u001b[0m\u001b[1;36m10\u001b[0m\u001b[1;33m)\u001b[0m\u001b[1;33m\u001b[0m\u001b[0m\n\u001b[0;32m     10\u001b[0m \u001b[0mprint\u001b[0m\u001b[1;33m(\u001b[0m\u001b[0mx\u001b[0m \u001b[1;33m+\u001b[0m \u001b[0my\u001b[0m\u001b[1;33m)\u001b[0m\u001b[1;33m\u001b[0m\u001b[0m\n",
      "\u001b[1;31mNameError\u001b[0m: name 'AlwaysPositive' is not defined"
     ]
    }
   ],
   "source": [
    "class AlwaysPositive:\n",
    "    def __init__(self, number):\n",
    "        self.n = number\n",
    "\n",
    "    def __add__(self, other):\n",
    "        return abs(self.n + other.n)\n",
    "\n",
    "    x = AlwaysPositive(-20)\n",
    "    y = AlwaysPositive(10)\n",
    "print(x + y)"
   ]
  },
  {
   "cell_type": "code",
   "execution_count": 8,
   "metadata": {},
   "outputs": [
    {
     "ename": "NameError",
     "evalue": "name 'AlwaysPositive' is not defined",
     "output_type": "error",
     "traceback": [
      "\u001b[1;31m---------------------------------------------------------------------------\u001b[0m",
      "\u001b[1;31mNameError\u001b[0m                                 Traceback (most recent call last)",
      "\u001b[1;32m<ipython-input-8-49a9d2e74d4f>\u001b[0m in \u001b[0;36m<module>\u001b[1;34m()\u001b[0m\n\u001b[1;32m----> 1\u001b[1;33m \u001b[1;32mclass\u001b[0m \u001b[0mAlwaysPositive\u001b[0m\u001b[1;33m:\u001b[0m\u001b[1;33m\u001b[0m\u001b[0m\n\u001b[0m\u001b[0;32m      2\u001b[0m     \u001b[1;32mdef\u001b[0m \u001b[0m__init__\u001b[0m\u001b[1;33m(\u001b[0m\u001b[0mself\u001b[0m\u001b[1;33m,\u001b[0m \u001b[0mnumber\u001b[0m\u001b[1;33m)\u001b[0m\u001b[1;33m:\u001b[0m\u001b[1;33m\u001b[0m\u001b[0m\n\u001b[0;32m      3\u001b[0m         \u001b[0mself\u001b[0m\u001b[1;33m.\u001b[0m\u001b[0mn\u001b[0m \u001b[1;33m=\u001b[0m \u001b[0mnumber\u001b[0m\u001b[1;33m\u001b[0m\u001b[0m\n\u001b[0;32m      4\u001b[0m \u001b[1;33m\u001b[0m\u001b[0m\n\u001b[0;32m      5\u001b[0m     \u001b[1;32mdef\u001b[0m \u001b[0m__add__\u001b[0m\u001b[1;33m(\u001b[0m\u001b[0mself\u001b[0m\u001b[1;33m,\u001b[0m \u001b[0mother\u001b[0m\u001b[1;33m)\u001b[0m\u001b[1;33m:\u001b[0m\u001b[1;33m\u001b[0m\u001b[0m\n",
      "\u001b[1;32m<ipython-input-8-49a9d2e74d4f>\u001b[0m in \u001b[0;36mAlwaysPositive\u001b[1;34m()\u001b[0m\n\u001b[0;32m      6\u001b[0m         \u001b[1;32mreturn\u001b[0m \u001b[0mabs\u001b[0m\u001b[1;33m(\u001b[0m\u001b[0mself\u001b[0m\u001b[1;33m.\u001b[0m\u001b[0mn\u001b[0m \u001b[1;33m+\u001b[0m \u001b[0mother\u001b[0m\u001b[1;33m.\u001b[0m\u001b[0mn\u001b[0m\u001b[1;33m)\u001b[0m\u001b[1;33m\u001b[0m\u001b[0m\n\u001b[0;32m      7\u001b[0m \u001b[1;33m\u001b[0m\u001b[0m\n\u001b[1;32m----> 8\u001b[1;33m     \u001b[0mx\u001b[0m \u001b[1;33m=\u001b[0m \u001b[0mAlwaysPositive\u001b[0m\u001b[1;33m(\u001b[0m\u001b[1;33m-\u001b[0m\u001b[1;36m20\u001b[0m\u001b[1;33m)\u001b[0m\u001b[1;33m\u001b[0m\u001b[0m\n\u001b[0m\u001b[0;32m      9\u001b[0m     \u001b[0my\u001b[0m \u001b[1;33m=\u001b[0m \u001b[0mAlwaysPositive\u001b[0m\u001b[1;33m(\u001b[0m\u001b[1;36m10\u001b[0m\u001b[1;33m)\u001b[0m\u001b[1;33m\u001b[0m\u001b[0m\n\u001b[0;32m     10\u001b[0m \u001b[0mprint\u001b[0m\u001b[1;33m(\u001b[0m\u001b[0mx\u001b[0m \u001b[1;33m+\u001b[0m \u001b[0my\u001b[0m\u001b[1;33m)\u001b[0m\u001b[1;33m\u001b[0m\u001b[0m\n",
      "\u001b[1;31mNameError\u001b[0m: name 'AlwaysPositive' is not defined"
     ]
    }
   ],
   "source": [
    "class AlwaysPositive:\n",
    "    def __init__(self, number):\n",
    "        self.n = number\n",
    "\n",
    "    def __add__(self, other):\n",
    "        return abs(self.n + other.n)\n",
    "\n",
    "    x = AlwaysPositive(-20)\n",
    "    y = AlwaysPositive(10)\n",
    "print(x + y)"
   ]
  },
  {
   "cell_type": "code",
   "execution_count": 9,
   "metadata": {},
   "outputs": [
    {
     "name": "stdout",
     "output_type": "stream",
     "text": [
      "10\n"
     ]
    }
   ],
   "source": [
    "class AlwaysPositive:\n",
    "    def __init__(self, number):\n",
    "        self.n = number\n",
    "\n",
    "    def __add__(self, other):\n",
    "        return abs(self.n +\n",
    "                   other.n)\n",
    "\n",
    "x = AlwaysPositive(-20)\n",
    "y = AlwaysPositive(10)\n",
    "\n",
    "print(x + y)"
   ]
  },
  {
   "cell_type": "code",
   "execution_count": 10,
   "metadata": {},
   "outputs": [
    {
     "name": "stdout",
     "output_type": "stream",
     "text": [
      "10\n"
     ]
    }
   ],
   "source": [
    "class AlwaysPositive:\n",
    "    def __init__(self, number):\n",
    "        self.n = number\n",
    "\n",
    "    def __add__(self, other):\n",
    "        return abs(self.n + other.n)\n",
    "\n",
    "x = AlwaysPositive(-20)\n",
    "y = AlwaysPositive(10)\n",
    "\n",
    "print(x + y)"
   ]
  },
  {
   "cell_type": "code",
   "execution_count": 11,
   "metadata": {},
   "outputs": [
    {
     "name": "stdout",
     "output_type": "stream",
     "text": [
      "10\n"
     ]
    }
   ],
   "source": [
    "class AlwaysPositive:\n",
    "    def __init__(self,number):\n",
    "        self.n = number\n",
    "\n",
    "    def __add__(self,other):\n",
    "        return abs(self.n + other.n)\n",
    "\n",
    "x = AlwaysPositive(-20)\n",
    "y = AlwaysPositive(10)\n",
    "\n",
    "print(x + y)"
   ]
  },
  {
   "cell_type": "code",
   "execution_count": 12,
   "metadata": {},
   "outputs": [
    {
     "ename": "NameError",
     "evalue": "name 'aaa' is not defined",
     "output_type": "error",
     "traceback": [
      "\u001b[1;31m---------------------------------------------------------------------------\u001b[0m",
      "\u001b[1;31mNameError\u001b[0m                                 Traceback (most recent call last)",
      "\u001b[1;32m<ipython-input-12-a7ce538b2f19>\u001b[0m in \u001b[0;36m<module>\u001b[1;34m()\u001b[0m\n\u001b[0;32m     10\u001b[0m         \u001b[1;32mreturn\u001b[0m \u001b[0mabs\u001b[0m\u001b[1;33m(\u001b[0m\u001b[0mself\u001b[0m\u001b[1;33m.\u001b[0m\u001b[0mn\u001b[0m \u001b[1;33m+\u001b[0m \u001b[0mother\u001b[0m\u001b[1;33m.\u001b[0m\u001b[0mn\u001b[0m\u001b[1;33m)\u001b[0m\u001b[1;33m\u001b[0m\u001b[0m\n\u001b[0;32m     11\u001b[0m \u001b[1;33m\u001b[0m\u001b[0m\n\u001b[1;32m---> 12\u001b[1;33m \u001b[0mx\u001b[0m \u001b[1;33m=\u001b[0m \u001b[0mAlwaysPositive\u001b[0m\u001b[1;33m(\u001b[0m\u001b[0maaa\u001b[0m\u001b[1;33m)\u001b[0m\u001b[1;33m\u001b[0m\u001b[0m\n\u001b[0m\u001b[0;32m     13\u001b[0m \u001b[0my\u001b[0m \u001b[1;33m=\u001b[0m \u001b[0mAlwaysPositive\u001b[0m\u001b[1;33m(\u001b[0m\u001b[0mbbb\u001b[0m\u001b[1;33m)\u001b[0m\u001b[1;33m\u001b[0m\u001b[0m\n\u001b[0;32m     14\u001b[0m \u001b[1;33m\u001b[0m\u001b[0m\n",
      "\u001b[1;31mNameError\u001b[0m: name 'aaa' is not defined"
     ]
    }
   ],
   "source": [
    "#何故間違ってたんだ…？\n",
    "\n",
    "# Why was he wrong ...?\n",
    "\n",
    "class AlwaysPositive:\n",
    "    def __init__(self,number):\n",
    "        self.n = number\n",
    "\n",
    "    def __add__(self,other):\n",
    "        return abs(self.n + other.n)\n",
    "\n",
    "x = AlwaysPositive(aaa)\n",
    "y = AlwaysPositive(bbb)\n",
    "\n",
    "print(x + y)\n"
   ]
  },
  {
   "cell_type": "code",
   "execution_count": 13,
   "metadata": {},
   "outputs": [
    {
     "ename": "NameError",
     "evalue": "name 'a' is not defined",
     "output_type": "error",
     "traceback": [
      "\u001b[1;31m---------------------------------------------------------------------------\u001b[0m",
      "\u001b[1;31mNameError\u001b[0m                                 Traceback (most recent call last)",
      "\u001b[1;32m<ipython-input-13-e9629f57d48f>\u001b[0m in \u001b[0;36m<module>\u001b[1;34m()\u001b[0m\n\u001b[0;32m      6\u001b[0m         \u001b[1;32mreturn\u001b[0m \u001b[0mabs\u001b[0m\u001b[1;33m(\u001b[0m\u001b[0mself\u001b[0m\u001b[1;33m.\u001b[0m\u001b[0mn\u001b[0m \u001b[1;33m+\u001b[0m \u001b[0mother\u001b[0m\u001b[1;33m.\u001b[0m\u001b[0mn\u001b[0m\u001b[1;33m)\u001b[0m\u001b[1;33m\u001b[0m\u001b[0m\n\u001b[0;32m      7\u001b[0m \u001b[1;33m\u001b[0m\u001b[0m\n\u001b[1;32m----> 8\u001b[1;33m \u001b[0mx\u001b[0m \u001b[1;33m=\u001b[0m \u001b[0mAlwaysPositive\u001b[0m\u001b[1;33m(\u001b[0m\u001b[0ma\u001b[0m\u001b[1;33m)\u001b[0m\u001b[1;33m\u001b[0m\u001b[0m\n\u001b[0m\u001b[0;32m      9\u001b[0m \u001b[0my\u001b[0m \u001b[1;33m=\u001b[0m \u001b[0mAlwaysPositive\u001b[0m\u001b[1;33m(\u001b[0m\u001b[0mb\u001b[0m\u001b[1;33m)\u001b[0m\u001b[1;33m\u001b[0m\u001b[0m\n\u001b[0;32m     10\u001b[0m \u001b[0mprint\u001b[0m\u001b[1;33m(\u001b[0m\u001b[0mx\u001b[0m \u001b[1;33m+\u001b[0m \u001b[0my\u001b[0m\u001b[1;33m)\u001b[0m\u001b[1;33m\u001b[0m\u001b[0m\n",
      "\u001b[1;31mNameError\u001b[0m: name 'a' is not defined"
     ]
    }
   ],
   "source": [
    "class AlwaysPositive:\n",
    "    def __init__(self,number):\n",
    "        self.n = number\n",
    "\n",
    "    def __add__(self,other):\n",
    "        return abs(self.n + other.n)\n",
    "\n",
    "x = AlwaysPositive(a)\n",
    "y = AlwaysPositive(b)\n",
    "print(x + y)"
   ]
  },
  {
   "cell_type": "code",
   "execution_count": 14,
   "metadata": {},
   "outputs": [
    {
     "name": "stdout",
     "output_type": "stream",
     "text": [
      "30\n"
     ]
    }
   ],
   "source": [
    "class AlwaysPositive:\n",
    "    def __init__(self,number):\n",
    "        self.n = number\n",
    "\n",
    "    def __add__(self,other):\n",
    "        return abs(self.n + other.n)\n",
    "\n",
    "x = AlwaysPositive(10)\n",
    "y = AlwaysPositive(20)\n",
    "\n",
    "print(x + y)"
   ]
  },
  {
   "cell_type": "code",
   "execution_count": 15,
   "metadata": {},
   "outputs": [],
   "source": [
    "#class AlwaysPositive: 箱（オブジェクトを作る）\n",
    "#    def __init__(self,number): 第二引数numberを初期化\n",
    "#        self.n = number \n",
    "\n",
    "#    def __add__(self,other):　ここで出てくるaddメソッドは被演算子、簡単に言うと「+」の事なんだけれど、\n",
    "#これを書く事でPythonが足し算かって評価してくれて計算してくれる。\n",
    "#        return abs(self.n + other.n)\n",
    "\n",
    "#x = AlwaysPositive(10)\n",
    "#y = AlwaysPositive(20)\n",
    "\n",
    "#print(x + y)"
   ]
  },
  {
   "cell_type": "code",
   "execution_count": 16,
   "metadata": {},
   "outputs": [
    {
     "name": "stdout",
     "output_type": "stream",
     "text": [
      "30\n"
     ]
    }
   ],
   "source": [
    "class AlwaysPositive:\n",
    "    def __init__(self,number):\n",
    "        self.n = number\n",
    "\n",
    "    def __add__(self,other):\n",
    "        return abs(self.n + other.n)\n",
    "\n",
    "x = AlwaysPositive(-10)\n",
    "y = AlwaysPositive(-20)\n",
    "\n",
    "print(x + y)"
   ]
  },
  {
   "cell_type": "code",
   "execution_count": 17,
   "metadata": {},
   "outputs": [
    {
     "name": "stdout",
     "output_type": "stream",
     "text": [
      "True\n",
      "False\n"
     ]
    }
   ],
   "source": [
    "#日本の翻訳者ってのは基本不親切だよね…。\n",
    "#この__add__メソッドは絶対値になるように計算される。\n",
    "#絶対値は0から見たらどれ位？っていう意味。\n",
    "#上記のプログラムでは-10+-20をしているのだから本当は-30だけれど、0から見たら30離れているのだから30と返される。\n",
    "\n",
    "# Japanese translators are basically unfriendly ....\n",
    "# This __add__ method is calculated to be an absolute value.\n",
    "# How much is the absolute value seen from 0? It means.\n",
    "# In the above program it is -10 + -20, so it's really -30, \n",
    "#but if you look at 0 it's 30 away so it will be returned as 30.\n",
    "\n",
    "class Person:\n",
    "    def __init__(self):\n",
    "        self.name = 'Bob'\n",
    "\n",
    "bob = Person()\n",
    "same_bob = bob\n",
    "print(bob is same_bob)\n",
    "\n",
    "another_bob = Person()\n",
    "print(bob is another_bob)"
   ]
  },
  {
   "cell_type": "code",
   "execution_count": 18,
   "metadata": {},
   "outputs": [
    {
     "name": "stdout",
     "output_type": "stream",
     "text": [
      "x はNoneじゃない\n",
      "x　はNone\n"
     ]
    }
   ],
   "source": [
    "#is\n",
    "#is キーワードは、前後のオブジェクトが同一のオブジェクトならtrueを返す。\n",
    "\n",
    "#The 「is」 keyword returns true if the preceding and succeeding objects are the same object.\n",
    "\n",
    "#式の中でオブジェクトbobとsame_bobを「is」キーワードで比較すると、\n",
    "#2つの変数はPersonから作られた1つのオブジェクトを指しているので、この式は「True」と評価される。\n",
    "#此処で新しくもう1つのPersonのオブジェクトを作ってbobと比較してみる。\n",
    "#今度は、2つの変数が別のオブジェクトを指しているので、式は「False」に評価される。\n",
    "#「is」キーワードはある変数がNoneかどうかを調べる時にも使う。\n",
    "\n",
    "#When comparing the object bob and same_bob with the \"is\" keyword in the expression, \n",
    "#this expression evaluates to \"True\" because the two variables point to one object created from Person.\n",
    "#Here we create another new Person object and compare it with bob.\n",
    "#Now the expression evaluates to \"False\" because the two variables point to different objects.\n",
    "# The \"is\" keyword is also used to check if a variable is None.\n",
    "\n",
    "x = 10\n",
    "if x is None:\n",
    "    print(\"x　はNone ：（\")\n",
    "else:\n",
    "    print(\"x はNoneじゃない\")\n",
    "\n",
    "x = None\n",
    "if x is None:\n",
    "    print(\"x　はNone\")\n",
    "else:\n",
    "    print(\"x はNoneじゃない：（\")\n",
    "\n"
   ]
  },
  {
   "cell_type": "code",
   "execution_count": 19,
   "metadata": {},
   "outputs": [],
   "source": [
    "#・Class変数：クラスオブジェクトと、クラスから作られたインスタンスオブジェクトに属する変数\n",
    "#・インスタンス変数：インスタンスオブジェクトに属する（クラス変数以外の）変数\n",
    "\n",
    "# · Class Variable: Variables belonging to the class object and the instance object created from the class\n",
    "# · Instance variable: Variable (other than class variable) belonging to the instance object"
   ]
  },
  {
   "cell_type": "code",
   "execution_count": null,
   "metadata": {},
   "outputs": [],
   "source": []
  }
 ],
 "metadata": {
  "kernelspec": {
   "display_name": "Python 3",
   "language": "python",
   "name": "python3"
  },
  "language_info": {
   "codemirror_mode": {
    "name": "ipython",
    "version": 3
   },
   "file_extension": ".py",
   "mimetype": "text/x-python",
   "name": "python",
   "nbconvert_exporter": "python",
   "pygments_lexer": "ipython3",
   "version": "3.7.0"
  }
 },
 "nbformat": 4,
 "nbformat_minor": 2
}
