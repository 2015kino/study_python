{
 "cells": [
  {
   "cell_type": "code",
   "execution_count": 1,
   "metadata": {},
   "outputs": [],
   "source": [
    "#d:\\python>python -V\n",
    "#Python 3.7.0\n",
    "#\n",
    "#d:\\python>python -c \"import this\"\n",
    "#The Zen of Python, by Tim Peters\n",
    "#\n",
    "#Beautiful is better than ugly.\n",
    "#Explicit is better than implicit.\n",
    "#Simple is better than complex.\n",
    "#Complex is better than complicated.\n",
    "#Flat is better than nested.\n",
    "#Sparse is better than dense.\n",
    "#Readability counts.\n",
    "#Special cases aren't special enough to break the rules.\n",
    "#Although practicality beats purity.\n",
    "#Errors should never pass silently.\n",
    "#Unless explicitly silenced.\n",
    "#In the face of ambiguity, refuse the temptation to guess.\n",
    "#There should be one-- and preferably only one --obvious way to do it.\n",
    "#Although that way may not be obvious at first unless you're Dutch.\n",
    "#Now is better than never.\n",
    "#Although never is often better than *right* now.\n",
    "#If the implementation is hard to explain, it's a bad idea.\n",
    "#If the implementation is easy to explain, it may be a good idea.\n",
    "#Namespaces are one honking great idea -- let's do more of those!"
   ]
  },
  {
   "cell_type": "code",
   "execution_count": 2,
   "metadata": {},
   "outputs": [],
   "source": [
    "#上記の文章はPythonの”イースターエッグ”。\n",
    "#此処では正規表現を学んでいく。「連続した文字列の検索パターン定義」の事。\n",
    "\n",
    "# The above sentence is Python's \"Easter egg\".\n",
    "#Here I will learn about regular expressions. \n",
    "#\"Search pattern definition of consecutive character strings\" thing.\n",
    "\n",
    "#参考書ではUNIXベースで進んでいるけれど、此処ではWindowsベースですすむ。\n",
    "# Reference books are progressing on UNIX base, but here we go on Windows base.\n",
    "\n",
    "#d:\\python>dir\n",
    "# ドライブ D のボリューム ラベルがありません。\n",
    "# ボリューム シリアル番号は 8AB7-54DD です\n",
    "#\n",
    "# d:\\python のディレクトリ\n",
    "\n",
    "#2018/12/26  19:44    <DIR>          .\n",
    "#2018/12/26  19:44    <DIR>          ..\n",
    "#2018/12/10  00:05    <DIR>          .idea\n",
    "#2018/12/09  14:11    <DIR>          anaconda\n",
    "##2018/12/26  19:03    <DIR>          program\n",
    "#2018/12/09  23:27    <DIR>          PyCharm 2018.3.1\n",
    "#2018/12/09  03:08            18,847 python＿20181209.txt\n",
    "#2018/11/30  17:46                23 test.py\n",
    "#2018/12/26  19:44                 0 zen.txt\n",
    "#               3 個のファイル              18,870 バイト\n",
    "#               6 個のディレクトリ  1,667,820,736,512 バイトの空き領域\n",
    "#d:\\python>FIND \"beautiful\" zen.txt\n",
    "#\n",
    "#---------- ZEN.TXT\n",
    "\n",
    "#d:\\python>find /i \"beautiful\" zen.txt\n",
    "\n",
    "#---------- ZEN.TXT\n",
    "#Beautiful is better than ugly."
   ]
  },
  {
   "cell_type": "code",
   "execution_count": 3,
   "metadata": {},
   "outputs": [
    {
     "ename": "SyntaxError",
     "evalue": "can't assign to literal (<ipython-input-3-29b60d3526cd>, line 2)",
     "output_type": "error",
     "traceback": [
      "\u001b[1;36m  File \u001b[1;32m\"<ipython-input-3-29b60d3526cd>\"\u001b[1;36m, line \u001b[1;32m2\u001b[0m\n\u001b[1;33m    1 = \"Beautiful is better than ugly.\"\u001b[0m\n\u001b[1;37m                                        ^\u001b[0m\n\u001b[1;31mSyntaxError\u001b[0m\u001b[1;31m:\u001b[0m can't assign to literal\n"
     ]
    }
   ],
   "source": [
    "import re\n",
    "1 = \"Beautiful is better than ugly.\"\n",
    "matches = re.fildall(\"Beautiful\",1)\n",
    "print(matches)"
   ]
  },
  {
   "cell_type": "code",
   "execution_count": 4,
   "metadata": {},
   "outputs": [
    {
     "ename": "AttributeError",
     "evalue": "module 're' has no attribute 'fildall'",
     "output_type": "error",
     "traceback": [
      "\u001b[1;31m---------------------------------------------------------------------------\u001b[0m",
      "\u001b[1;31mAttributeError\u001b[0m                            Traceback (most recent call last)",
      "\u001b[1;32m<ipython-input-4-c15f6a9ea613>\u001b[0m in \u001b[0;36m<module>\u001b[1;34m()\u001b[0m\n\u001b[0;32m      2\u001b[0m \u001b[1;32mimport\u001b[0m \u001b[0mre\u001b[0m\u001b[1;33m\u001b[0m\u001b[0m\n\u001b[0;32m      3\u001b[0m \u001b[0ml\u001b[0m \u001b[1;33m=\u001b[0m \u001b[1;34m\"Beautiful is better than ugly.\"\u001b[0m\u001b[1;33m\u001b[0m\u001b[0m\n\u001b[1;32m----> 4\u001b[1;33m \u001b[0mmatches\u001b[0m \u001b[1;33m=\u001b[0m \u001b[0mre\u001b[0m\u001b[1;33m.\u001b[0m\u001b[0mfildall\u001b[0m\u001b[1;33m(\u001b[0m\u001b[1;34m\"Beautiful\"\u001b[0m\u001b[1;33m,\u001b[0m \u001b[0ml\u001b[0m\u001b[1;33m)\u001b[0m\u001b[1;33m\u001b[0m\u001b[0m\n\u001b[0m\u001b[0;32m      5\u001b[0m \u001b[0mprint\u001b[0m\u001b[1;33m(\u001b[0m\u001b[0mmatches\u001b[0m\u001b[1;33m)\u001b[0m\u001b[1;33m\u001b[0m\u001b[0m\n",
      "\u001b[1;31mAttributeError\u001b[0m: module 're' has no attribute 'fildall'"
     ]
    }
   ],
   "source": [
    "#SyntaxError：リテラルに代入できない\n",
    "import re\n",
    "l = \"Beautiful is better than ugly.\"\n",
    "matches = re.fildall(\"Beautiful\", l)\n",
    "print(matches)"
   ]
  },
  {
   "cell_type": "code",
   "execution_count": 5,
   "metadata": {},
   "outputs": [
    {
     "ename": "SyntaxError",
     "evalue": "invalid character in identifier (<ipython-input-5-59111425c000>, line 1)",
     "output_type": "error",
     "traceback": [
      "\u001b[1;36m  File \u001b[1;32m\"<ipython-input-5-59111425c000>\"\u001b[1;36m, line \u001b[1;32m1\u001b[0m\n\u001b[1;33m    属性Error：モジュール 're'には属性 'fildall'がありません\u001b[0m\n\u001b[1;37m                ^\u001b[0m\n\u001b[1;31mSyntaxError\u001b[0m\u001b[1;31m:\u001b[0m invalid character in identifier\n"
     ]
    }
   ],
   "source": [
    "属性Error：モジュール 're'には属性 'fildall'がありません\n",
    "import re\n",
    "l = \"Beautiful is better than ugly.\"\n",
    "matches = re.findall(\"Beautiful\", l)\n",
    "print(matches)"
   ]
  },
  {
   "cell_type": "code",
   "execution_count": 6,
   "metadata": {},
   "outputs": [
    {
     "name": "stdout",
     "output_type": "stream",
     "text": [
      "['Beautiful']\n"
     ]
    }
   ],
   "source": [
    "#SyntaxError：識別子に無効な文字があります\n",
    "\n",
    "#これはPythonで文章を検索行う例。\n",
    "# This is an example of searching sentences in Python.\n",
    "\n",
    "import re\n",
    "l = \"Beautiful is better than ugly.\"\n",
    "matches = re.findall(\"Beautiful\", l)\n",
    "print(matches)"
   ]
  },
  {
   "cell_type": "code",
   "execution_count": 7,
   "metadata": {},
   "outputs": [
    {
     "name": "stdout",
     "output_type": "stream",
     "text": [
      "['Beautiful']\n"
     ]
    }
   ],
   "source": [
    "import re\n",
    "l = \"Beautiful is better than ugly.\"\n",
    "matches = re.findall(\"Beautiful\", l, re.IGNORECASE)\n",
    "print(matches)"
   ]
  },
  {
   "cell_type": "code",
   "execution_count": 8,
   "metadata": {},
   "outputs": [],
   "source": [
    "#前方一致と後方一致\n",
    "# Forward match and backward match\n",
    "\n",
    "#キャレット記号（＾）：行先頭に一致する正規表現パターンを作れる\n",
    "# Caret symbol (^): can create regular expression pattern matching top of line\n",
    "\n",
    "#d:\\python>findstr /r \"^If\" zen.txt\n",
    "#If the implementation is hard to explain, it's a bad idea.\n",
    "#If the implementation is easy to explain, it may be a good idea.\n",
    "\n",
    "#ピリオド記号(.)：どんな文字にも一致\n",
    "#※3行目はideaの直後に空白文字があるため\n",
    "#名前空間は一つの素晴らしいアイデアです - それらをもっとやろう！\n",
    "\n",
    "\n",
    "# Period symbol (.): Matches any character\n",
    "# # The third line has white space immediately after idea\n",
    "# Namespace is a wonderful idea - let's do them more!\n",
    "\n",
    "#d:\\python>findstr /r \"idea.\" zen.txt\n",
    "#If the implementation is hard to explain, it's a bad idea.\n",
    "#If the implementation is easy to explain, it may be a good idea.\n",
    "#Namespaces are one honking great idea -- let's do more of those!\n",
    "\n",
    "#ドル記号($)：行の終端に一致するパターンを作れる。\n",
    "#※今回3行目が表示されないのは、行の終端にキーワード（今回ならidea）がないため。\n",
    "# Dollar sign ($): You can create a pattern that matches the end of the line.\n",
    "# # The third line is not displayed this time because there is no keyword (idea this time) at the end of the line.\n",
    "\n",
    "\n",
    "#d:\\python>findstr /r \"idea.$\" zen.txt\n",
    "#If the implementation is hard to explain, it's a bad idea.\n",
    "#If the implementation is easy to explain, it may be a good idea."
   ]
  },
  {
   "cell_type": "code",
   "execution_count": 9,
   "metadata": {},
   "outputs": [
    {
     "name": "stdout",
     "output_type": "stream",
     "text": [
      "['If', 'If']\n"
     ]
    }
   ],
   "source": [
    "import re\n",
    "\n",
    "zen = \"\"\"Although never is often better than *right* now.\n",
    "If the implementation is hard to explain, it's a bad idea.\n",
    "If the implementation is easy to explain, it may be a good idea.\n",
    "Namespaces are one honking great idea -- let's do more of those!\"\"\"\n",
    "\n",
    "m = re.findall(\"^If\", zen, re.MULTILINE)\n",
    "print(m)"
   ]
  },
  {
   "cell_type": "code",
   "execution_count": 10,
   "metadata": {},
   "outputs": [],
   "source": [
    "#d:\\python>echo Two too. | findstr /i t[ow]o\n",
    "#Two too.\n",
    "\n",
    "#複数文字との一致\n",
    "\n",
    "#何気にUNIXに寄っていってるなーって思うのはやっぱ世界観を統一させたいから？\n",
    "#echo Two too. | findstr /i t[ow]o\n",
    "#Two too.\n",
    "\n",
    "#上記のように表示されるのは、Two tooを呼び出して、パイプラインで渡して、twoと[ow]この文字を使っているのであれば、それを呼び出すみたいな感じの正規表現。\n",
    "\n",
    "#Pythonだと下記。\n",
    "\n",
    "# Match with multiple characters\n",
    "\n",
    "# Why do you think I'm approaching UNIX? Because I want to unify the world view after all?\n",
    "# echo Two too. | findstr / i t [ow] o\n",
    "# Two too.\n",
    "\n",
    "# What you see above is a regular expression that looks like calling Two too, passing it in pipeline, calling it with two and [ow] this character.\n",
    "\n",
    "# Python and below."
   ]
  },
  {
   "cell_type": "code",
   "execution_count": 11,
   "metadata": {},
   "outputs": [
    {
     "name": "stdout",
     "output_type": "stream",
     "text": [
      "['Two', 'too']\n"
     ]
    }
   ],
   "source": [
    "import re\n",
    "\n",
    "string = \"Two too\"\n",
    "m = re.findall(\"t[ow]o\",string, re.IGNORECASE)\n",
    "print(m)"
   ]
  },
  {
   "cell_type": "code",
   "execution_count": 12,
   "metadata": {},
   "outputs": [
    {
     "ename": "NameError",
     "evalue": "name 'hello' is not defined",
     "output_type": "error",
     "traceback": [
      "\u001b[1;31m---------------------------------------------------------------------------\u001b[0m",
      "\u001b[1;31mNameError\u001b[0m                                 Traceback (most recent call last)",
      "\u001b[1;32m<ipython-input-12-cc8b0025e608>\u001b[0m in \u001b[0;36m<module>\u001b[1;34m()\u001b[0m\n\u001b[0;32m      2\u001b[0m \u001b[1;33m\u001b[0m\u001b[0m\n\u001b[0;32m      3\u001b[0m \u001b[0mline\u001b[0m \u001b[1;33m=\u001b[0m \u001b[1;34m\"123 hi 34 hello.\"\u001b[0m\u001b[1;33m\u001b[0m\u001b[0m\n\u001b[1;32m----> 4\u001b[1;33m \u001b[0mm\u001b[0m \u001b[1;33m=\u001b[0m \u001b[0mre\u001b[0m\u001b[1;33m.\u001b[0m\u001b[0mfindall\u001b[0m\u001b[1;33m(\u001b[0m\u001b[1;34m\"\\d\"\u001b[0m\u001b[1;33m,\u001b[0m \u001b[0mhello\u001b[0m\u001b[1;33m,\u001b[0m \u001b[0mre\u001b[0m\u001b[1;33m.\u001b[0m\u001b[0mIGNORECASE\u001b[0m\u001b[1;33m)\u001b[0m\u001b[1;33m\u001b[0m\u001b[0m\n\u001b[0m\u001b[0;32m      5\u001b[0m \u001b[0mprint\u001b[0m\u001b[1;33m(\u001b[0m\u001b[0mm\u001b[0m\u001b[1;33m)\u001b[0m\u001b[1;33m\u001b[0m\u001b[0m\n",
      "\u001b[1;31mNameError\u001b[0m: name 'hello' is not defined"
     ]
    }
   ],
   "source": [
    "import re\n",
    "\n",
    "line = \"123 hi 34 hello.\"\n",
    "m = re.findall(\"\\d\", hello, re.IGNORECASE)\n",
    "print(m)"
   ]
  },
  {
   "cell_type": "code",
   "execution_count": 13,
   "metadata": {},
   "outputs": [
    {
     "name": "stdout",
     "output_type": "stream",
     "text": [
      "['1', '2', '3', '3', '4']\n"
     ]
    }
   ],
   "source": [
    "import re\n",
    "\n",
    "line = \"123 hi 34 hello.\"\n",
    "m = re.findall(\"\\d\", line, re.IGNORECASE)\n",
    "print(m)"
   ]
  },
  {
   "cell_type": "code",
   "execution_count": 14,
   "metadata": {},
   "outputs": [],
   "source": [
    "#d:\\python>echo 123 hi 34 hello! | findstr [[:digit:]]\n",
    "#d:\\python>echo 123 hi 34 hello! | findstr /r /c:[0-9][0-9]*$\"\n",
    "#数値との一致なんだけれど、一致した数字を出すのじゃないのか…？"
   ]
  },
  {
   "cell_type": "code",
   "execution_count": 15,
   "metadata": {},
   "outputs": [
    {
     "name": "stdout",
     "output_type": "stream",
     "text": [
      "__\n",
      "__\n",
      "__\n",
      "__\n",
      "__\n",
      "__\n"
     ]
    }
   ],
   "source": [
    "#Repeat\n",
    "\n",
    "import re\n",
    "\n",
    "t = \"__one__ __two__ __three__\"\n",
    "found = re.findall(\"__.*?\", t)\n",
    "for match in found:\n",
    "    print(match)"
   ]
  },
  {
   "cell_type": "code",
   "execution_count": 16,
   "metadata": {},
   "outputs": [
    {
     "name": "stdout",
     "output_type": "stream",
     "text": [
      "__one__\n",
      "__two__\n",
      "__three__\n"
     ]
    }
   ],
   "source": [
    "import re\n",
    "\n",
    "t = \"__one__ __two__ __three__\"\n",
    "found = re.findall(\"__.*?__\", t)\n",
    "for match in found:\n",
    "    print(match)"
   ]
  },
  {
   "cell_type": "code",
   "execution_count": 17,
   "metadata": {},
   "outputs": [
    {
     "ename": "NameError",
     "evalue": "name 'mad__libs' is not defined",
     "output_type": "error",
     "traceback": [
      "\u001b[1;31m---------------------------------------------------------------------------\u001b[0m",
      "\u001b[1;31mNameError\u001b[0m                                 Traceback (most recent call last)",
      "\u001b[1;32m<ipython-input-17-17dd59b9ed2e>\u001b[0m in \u001b[0;36m<module>\u001b[1;34m()\u001b[0m\n\u001b[0;32m     20\u001b[0m     \u001b[1;32melse\u001b[0m\u001b[1;33m:\u001b[0m\u001b[1;33m\u001b[0m\u001b[0m\n\u001b[0;32m     21\u001b[0m         \u001b[0mprint\u001b[0m\u001b[1;33m(\u001b[0m\u001b[1;34m\"引数mlsが無効です\"\u001b[0m\u001b[1;33m)\u001b[0m\u001b[1;33m\u001b[0m\u001b[0m\n\u001b[1;32m---> 22\u001b[1;33m \u001b[0mmad__libs\u001b[0m\u001b[1;33m(\u001b[0m\u001b[0mtext\u001b[0m\u001b[1;33m)\u001b[0m\u001b[1;33m\u001b[0m\u001b[0m\n\u001b[0m",
      "\u001b[1;31mNameError\u001b[0m: name 'mad__libs' is not defined"
     ]
    }
   ],
   "source": [
    "import re\n",
    "text = \"\"\"キリンは大昔から __複数名詞__ の興味の対象でした。キリンは __複数名詞__ の中で一番背が高いですが、\n",
    "科学者たちはそのような長い __体の一部__ をどうやって獲得したのか説明できません。キリンの身長は __数値__ __単位__\n",
    "近くあり、その高さの殆どは脚と __体の一部__ によるものです。\"\"\"\n",
    "\n",
    "def mad_libs(mis):\n",
    "    \"\"\"\n",
    "    :param mls:文字列でユーザーに入力してもらいたい単語（=ヒント)の部分は後を2つのアンダースコアで挟んでください。\n",
    "    ヒントの単語にはアンダースコアを含めないでください。__hint__hint__はダメです。__hint__はOKです。\n",
    "    \"\"\"\n",
    "    hints = re.findall(\"__.*?__\",mls)\n",
    "    if hints is not None:\n",
    "        for word in hints:\n",
    "            q = \"{}を入力：\".format(word)\n",
    "            new = input(q)\n",
    "            mls = mls.replace(word, new, l)\n",
    "        print('\\n')\n",
    "        mls = mls.replace(\"\\n\",\"\")\n",
    "        print(mls)\n",
    "    else:\n",
    "        print(\"引数mlsが無効です\")\n",
    "mad__libs(text)"
   ]
  },
  {
   "cell_type": "code",
   "execution_count": 18,
   "metadata": {},
   "outputs": [
    {
     "ename": "UnboundLocalError",
     "evalue": "local variable 'mls' referenced before assignment",
     "output_type": "error",
     "traceback": [
      "\u001b[1;31m---------------------------------------------------------------------------\u001b[0m",
      "\u001b[1;31mUnboundLocalError\u001b[0m                         Traceback (most recent call last)",
      "\u001b[1;32m<ipython-input-18-efea34df699d>\u001b[0m in \u001b[0;36m<module>\u001b[1;34m()\u001b[0m\n\u001b[0;32m     20\u001b[0m     \u001b[1;32melse\u001b[0m\u001b[1;33m:\u001b[0m\u001b[1;33m\u001b[0m\u001b[0m\n\u001b[0;32m     21\u001b[0m         \u001b[0mprint\u001b[0m\u001b[1;33m(\u001b[0m\u001b[1;34m\"引数mlsが無効です\"\u001b[0m\u001b[1;33m)\u001b[0m\u001b[1;33m\u001b[0m\u001b[0m\n\u001b[1;32m---> 22\u001b[1;33m \u001b[0mmad_libs\u001b[0m\u001b[1;33m(\u001b[0m\u001b[0mtext\u001b[0m\u001b[1;33m)\u001b[0m\u001b[1;33m\u001b[0m\u001b[0m\n\u001b[0m",
      "\u001b[1;32m<ipython-input-18-efea34df699d>\u001b[0m in \u001b[0;36mmad_libs\u001b[1;34m(mis)\u001b[0m\n\u001b[0;32m      9\u001b[0m     \u001b[0mヒントの単語にはアンダースコアを含めないでください\u001b[0m\u001b[0;31m。\u001b[0m\u001b[0m__hint__hint__はダメです\u001b[0m\u001b[0;31m。\u001b[0m\u001b[0m__hint__はOKです\u001b[0m\u001b[0;31m。\u001b[0m\u001b[1;33m\u001b[0m\u001b[0m\n\u001b[0;32m     10\u001b[0m     \"\"\"\n\u001b[1;32m---> 11\u001b[1;33m     \u001b[0mhints\u001b[0m \u001b[1;33m=\u001b[0m \u001b[0mre\u001b[0m\u001b[1;33m.\u001b[0m\u001b[0mfindall\u001b[0m\u001b[1;33m(\u001b[0m\u001b[1;34m\"__.*?__\"\u001b[0m\u001b[1;33m,\u001b[0m\u001b[0mmls\u001b[0m\u001b[1;33m)\u001b[0m\u001b[1;33m\u001b[0m\u001b[0m\n\u001b[0m\u001b[0;32m     12\u001b[0m     \u001b[1;32mif\u001b[0m \u001b[0mhints\u001b[0m \u001b[1;32mis\u001b[0m \u001b[1;32mnot\u001b[0m \u001b[1;32mNone\u001b[0m\u001b[1;33m:\u001b[0m\u001b[1;33m\u001b[0m\u001b[0m\n\u001b[0;32m     13\u001b[0m         \u001b[1;32mfor\u001b[0m \u001b[0mword\u001b[0m \u001b[1;32min\u001b[0m \u001b[0mhints\u001b[0m\u001b[1;33m:\u001b[0m\u001b[1;33m\u001b[0m\u001b[0m\n",
      "\u001b[1;31mUnboundLocalError\u001b[0m: local variable 'mls' referenced before assignment"
     ]
    }
   ],
   "source": [
    "import re\n",
    "text = \"\"\"キリンは大昔から __複数名詞__ の興味の対象でした。キリンは __複数名詞__ の中で一番背が高いですが、\n",
    "科学者たちはそのような長い __体の一部__ をどうやって獲得したのか説明できません。キリンの身長は __数値__ __単位__\n",
    "近くあり、その高さの殆どは脚と __体の一部__ によるものです。\"\"\"\n",
    "\n",
    "def mad_libs(mis):\n",
    "    \"\"\"\n",
    "    :param mls:文字列でユーザーに入力してもらいたい単語（=ヒント)の部分は後を2つのアンダースコアで挟んでください。\n",
    "    ヒントの単語にはアンダースコアを含めないでください。__hint__hint__はダメです。__hint__はOKです。\n",
    "    \"\"\"\n",
    "    hints = re.findall(\"__.*?__\",mls)\n",
    "    if hints is not None:\n",
    "        for word in hints:\n",
    "            q = \"{}を入力：\".format(word)\n",
    "            new = input(q)\n",
    "            mls = mls.replace(word, new, l)\n",
    "        print('\\n')\n",
    "        mls = mls.replace(\"\\n\",\"\")\n",
    "        print(mls)\n",
    "    else:\n",
    "        print(\"引数mlsが無効です\")\n",
    "mad_libs(text)"
   ]
  },
  {
   "cell_type": "code",
   "execution_count": 19,
   "metadata": {},
   "outputs": [
    {
     "ename": "UnboundLocalError",
     "evalue": "local variable 'mls' referenced before assignment",
     "output_type": "error",
     "traceback": [
      "\u001b[1;31m---------------------------------------------------------------------------\u001b[0m",
      "\u001b[1;31mUnboundLocalError\u001b[0m                         Traceback (most recent call last)",
      "\u001b[1;32m<ipython-input-19-efea34df699d>\u001b[0m in \u001b[0;36m<module>\u001b[1;34m()\u001b[0m\n\u001b[0;32m     20\u001b[0m     \u001b[1;32melse\u001b[0m\u001b[1;33m:\u001b[0m\u001b[1;33m\u001b[0m\u001b[0m\n\u001b[0;32m     21\u001b[0m         \u001b[0mprint\u001b[0m\u001b[1;33m(\u001b[0m\u001b[1;34m\"引数mlsが無効です\"\u001b[0m\u001b[1;33m)\u001b[0m\u001b[1;33m\u001b[0m\u001b[0m\n\u001b[1;32m---> 22\u001b[1;33m \u001b[0mmad_libs\u001b[0m\u001b[1;33m(\u001b[0m\u001b[0mtext\u001b[0m\u001b[1;33m)\u001b[0m\u001b[1;33m\u001b[0m\u001b[0m\n\u001b[0m",
      "\u001b[1;32m<ipython-input-19-efea34df699d>\u001b[0m in \u001b[0;36mmad_libs\u001b[1;34m(mis)\u001b[0m\n\u001b[0;32m      9\u001b[0m     \u001b[0mヒントの単語にはアンダースコアを含めないでください\u001b[0m\u001b[0;31m。\u001b[0m\u001b[0m__hint__hint__はダメです\u001b[0m\u001b[0;31m。\u001b[0m\u001b[0m__hint__はOKです\u001b[0m\u001b[0;31m。\u001b[0m\u001b[1;33m\u001b[0m\u001b[0m\n\u001b[0;32m     10\u001b[0m     \"\"\"\n\u001b[1;32m---> 11\u001b[1;33m     \u001b[0mhints\u001b[0m \u001b[1;33m=\u001b[0m \u001b[0mre\u001b[0m\u001b[1;33m.\u001b[0m\u001b[0mfindall\u001b[0m\u001b[1;33m(\u001b[0m\u001b[1;34m\"__.*?__\"\u001b[0m\u001b[1;33m,\u001b[0m\u001b[0mmls\u001b[0m\u001b[1;33m)\u001b[0m\u001b[1;33m\u001b[0m\u001b[0m\n\u001b[0m\u001b[0;32m     12\u001b[0m     \u001b[1;32mif\u001b[0m \u001b[0mhints\u001b[0m \u001b[1;32mis\u001b[0m \u001b[1;32mnot\u001b[0m \u001b[1;32mNone\u001b[0m\u001b[1;33m:\u001b[0m\u001b[1;33m\u001b[0m\u001b[0m\n\u001b[0;32m     13\u001b[0m         \u001b[1;32mfor\u001b[0m \u001b[0mword\u001b[0m \u001b[1;32min\u001b[0m \u001b[0mhints\u001b[0m\u001b[1;33m:\u001b[0m\u001b[1;33m\u001b[0m\u001b[0m\n",
      "\u001b[1;31mUnboundLocalError\u001b[0m: local variable 'mls' referenced before assignment"
     ]
    }
   ],
   "source": [
    "import re\n",
    "text = \"\"\"キリンは大昔から __複数名詞__ の興味の対象でした。キリンは __複数名詞__ の中で一番背が高いですが、\n",
    "科学者たちはそのような長い __体の一部__ をどうやって獲得したのか説明できません。キリンの身長は __数値__ __単位__\n",
    "近くあり、その高さの殆どは脚と __体の一部__ によるものです。\"\"\"\n",
    "\n",
    "def mad_libs(mis):\n",
    "    \"\"\"\n",
    "    :param mls:文字列でユーザーに入力してもらいたい単語（=ヒント)の部分は後を2つのアンダースコアで挟んでください。\n",
    "    ヒントの単語にはアンダースコアを含めないでください。__hint__hint__はダメです。__hint__はOKです。\n",
    "    \"\"\"\n",
    "    hints = re.findall(\"__.*?__\",mls)\n",
    "    if hints is not None:\n",
    "        for word in hints:\n",
    "            q = \"{}を入力：\".format(word)\n",
    "            new = input(q)\n",
    "            mls = mls.replace(word, new, l)\n",
    "        print('\\n')\n",
    "        mls = mls.replace(\"\\n\",\"\")\n",
    "        print(mls)\n",
    "    else:\n",
    "        print(\"引数mlsが無効です\")\n",
    "mad_libs(text)"
   ]
  },
  {
   "cell_type": "code",
   "execution_count": 20,
   "metadata": {},
   "outputs": [
    {
     "name": "stdout",
     "output_type": "stream",
     "text": [
      "__複数名詞__を入力：hint\n"
     ]
    },
    {
     "ename": "TypeError",
     "evalue": "'str' object cannot be interpreted as an integer",
     "output_type": "error",
     "traceback": [
      "\u001b[1;31m---------------------------------------------------------------------------\u001b[0m",
      "\u001b[1;31mTypeError\u001b[0m                                 Traceback (most recent call last)",
      "\u001b[1;32m<ipython-input-20-ee0e3b075fb4>\u001b[0m in \u001b[0;36m<module>\u001b[1;34m()\u001b[0m\n\u001b[0;32m     22\u001b[0m     \u001b[1;32melse\u001b[0m\u001b[1;33m:\u001b[0m\u001b[1;33m\u001b[0m\u001b[0m\n\u001b[0;32m     23\u001b[0m         \u001b[0mprint\u001b[0m\u001b[1;33m(\u001b[0m\u001b[1;34m\"引数mlsが無効です\"\u001b[0m\u001b[1;33m)\u001b[0m\u001b[1;33m\u001b[0m\u001b[0m\n\u001b[1;32m---> 24\u001b[1;33m \u001b[0mmad_libs\u001b[0m\u001b[1;33m(\u001b[0m\u001b[0mtext\u001b[0m\u001b[1;33m)\u001b[0m\u001b[1;33m\u001b[0m\u001b[0m\n\u001b[0m",
      "\u001b[1;32m<ipython-input-20-ee0e3b075fb4>\u001b[0m in \u001b[0;36mmad_libs\u001b[1;34m(mls)\u001b[0m\n\u001b[0;32m     16\u001b[0m             \u001b[0mq\u001b[0m \u001b[1;33m=\u001b[0m \u001b[1;34m\"{}を入力：\"\u001b[0m\u001b[1;33m.\u001b[0m\u001b[0mformat\u001b[0m\u001b[1;33m(\u001b[0m\u001b[0mword\u001b[0m\u001b[1;33m)\u001b[0m\u001b[1;33m\u001b[0m\u001b[0m\n\u001b[0;32m     17\u001b[0m             \u001b[0mnew\u001b[0m \u001b[1;33m=\u001b[0m \u001b[0minput\u001b[0m\u001b[1;33m(\u001b[0m\u001b[0mq\u001b[0m\u001b[1;33m)\u001b[0m\u001b[1;33m\u001b[0m\u001b[0m\n\u001b[1;32m---> 18\u001b[1;33m             \u001b[0mmls\u001b[0m \u001b[1;33m=\u001b[0m \u001b[0mmls\u001b[0m\u001b[1;33m.\u001b[0m\u001b[0mreplace\u001b[0m\u001b[1;33m(\u001b[0m\u001b[0mword\u001b[0m\u001b[1;33m,\u001b[0m \u001b[0mnew\u001b[0m\u001b[1;33m,\u001b[0m \u001b[0ml\u001b[0m\u001b[1;33m)\u001b[0m\u001b[1;33m\u001b[0m\u001b[0m\n\u001b[0m\u001b[0;32m     19\u001b[0m         \u001b[0mprint\u001b[0m\u001b[1;33m(\u001b[0m\u001b[1;34m'\\n'\u001b[0m\u001b[1;33m)\u001b[0m\u001b[1;33m\u001b[0m\u001b[0m\n\u001b[0;32m     20\u001b[0m         \u001b[0mmls\u001b[0m \u001b[1;33m=\u001b[0m \u001b[0mmls\u001b[0m\u001b[1;33m.\u001b[0m\u001b[0mreplace\u001b[0m\u001b[1;33m(\u001b[0m\u001b[1;34m\"\\n\"\u001b[0m\u001b[1;33m,\u001b[0m\u001b[1;34m\"\"\u001b[0m\u001b[1;33m)\u001b[0m\u001b[1;33m\u001b[0m\u001b[0m\n",
      "\u001b[1;31mTypeError\u001b[0m: 'str' object cannot be interpreted as an integer"
     ]
    }
   ],
   "source": [
    "#UnboundLocalError：代入前に参照されるローカル変数 'mls'\n",
    "\n",
    "import re\n",
    "text = \"\"\"キリンは大昔から __複数名詞__ の興味の対象でした。キリンは __複数名詞__ の中で一番背が高いですが、\n",
    "科学者たちはそのような長い __体の一部__ をどうやって獲得したのか説明できません。キリンの身長は __数値__ __単位__\n",
    "近くあり、その高さの殆どは脚と __体の一部__ によるものです。\"\"\"\n",
    "\n",
    "def mad_libs(mls):\n",
    "    \"\"\"\n",
    "    :param mls:文字列でユーザーに入力してもらいたい単語（=ヒント)の部分は後を2つのアンダースコアで挟んでください。\n",
    "    ヒントの単語にはアンダースコアを含めないでください。__hint__hint__はダメです。__hint__はOKです。\n",
    "    \"\"\"\n",
    "    hints = re.findall(\"__.*?__\",mls)\n",
    "    if hints is not None:\n",
    "        for word in hints:\n",
    "            q = \"{}を入力：\".format(word)\n",
    "            new = input(q)\n",
    "            mls = mls.replace(word, new, l)\n",
    "        print('\\n')\n",
    "        mls = mls.replace(\"\\n\",\"\")\n",
    "        print(mls)\n",
    "    else:\n",
    "        print(\"引数mlsが無効です\")\n",
    "mad_libs(text)"
   ]
  },
  {
   "cell_type": "code",
   "execution_count": 21,
   "metadata": {},
   "outputs": [
    {
     "ename": "TypeError",
     "evalue": "findall() missing 1 required positional argument: 'string'",
     "output_type": "error",
     "traceback": [
      "\u001b[1;31m---------------------------------------------------------------------------\u001b[0m",
      "\u001b[1;31mTypeError\u001b[0m                                 Traceback (most recent call last)",
      "\u001b[1;32m<ipython-input-21-95a03a81e843>\u001b[0m in \u001b[0;36m<module>\u001b[1;34m()\u001b[0m\n\u001b[0;32m      2\u001b[0m \u001b[1;33m\u001b[0m\u001b[0m\n\u001b[0;32m      3\u001b[0m \u001b[0mline\u001b[0m \u001b[1;33m=\u001b[0m \u001b[1;34m\"I love $\"\u001b[0m\u001b[1;33m\u001b[0m\u001b[0m\n\u001b[1;32m----> 4\u001b[1;33m \u001b[0mm\u001b[0m \u001b[1;33m=\u001b[0m \u001b[0mre\u001b[0m\u001b[1;33m.\u001b[0m\u001b[0mfindall\u001b[0m\u001b[1;33m(\u001b[0m\u001b[1;34m\"\\\\$, line, re.IGNORECASE\"\u001b[0m\u001b[1;33m)\u001b[0m\u001b[1;33m\u001b[0m\u001b[0m\n\u001b[0m\u001b[0;32m      5\u001b[0m \u001b[0mprint\u001b[0m\u001b[1;33m(\u001b[0m\u001b[0mm\u001b[0m\u001b[1;33m)\u001b[0m\u001b[1;33m\u001b[0m\u001b[0m\n",
      "\u001b[1;31mTypeError\u001b[0m: findall() missing 1 required positional argument: 'string'"
     ]
    }
   ],
   "source": [
    "import re\n",
    "\n",
    "line = \"I love $\"\n",
    "m = re.findall(\"\\\\$, line, re.IGNORECASE\")\n",
    "print(m)"
   ]
  },
  {
   "cell_type": "code",
   "execution_count": 22,
   "metadata": {},
   "outputs": [
    {
     "name": "stdout",
     "output_type": "stream",
     "text": [
      "['$']\n"
     ]
    }
   ],
   "source": [
    "import re\n",
    "\n",
    "line = \"I love $\"\n",
    "m = re.findall(\"\\\\$\", line, re.IGNORECASE)\n",
    "print(m)"
   ]
  },
  {
   "cell_type": "code",
   "execution_count": 23,
   "metadata": {},
   "outputs": [
    {
     "name": "stdout",
     "output_type": "stream",
     "text": [
      "Enter a __PLURAL_NOUN__b\n",
      "Enter a __PLURAL_NOUN__b\n",
      "Enter a __PART_OF_THE_BODY__b\n",
      "Enter a __NUMBER__b\n",
      "Enter a __PLURAL_NOUN__b\n",
      "Enter a __BODYPART__b\n",
      "\n",
      "\n",
      "Giraffes have aroused the curiosity of b since earliest times. The giraffe is the tallest of all living b, but scientists are unable to explain how it got its long b. The giraffe's tremendous height, which might reach b b, comes from it legs and b.\n"
     ]
    }
   ],
   "source": [
    "import re\n",
    "\n",
    "\n",
    "text = \"\"\"Giraffes have aroused\n",
    " the curiosity of __PLURAL_NOUN__\n",
    " since earliest times. The\n",
    " giraffe is the tallest of all\n",
    " living __PLURAL_NOUN__, but\n",
    " scientists are unable to\n",
    " explain how it got its long\n",
    " __PART_OF_THE_BODY__. The\n",
    " giraffe's tremendous height,\n",
    " which might reach __NUMBER__\n",
    " __PLURAL_NOUN__, comes from\n",
    " it legs and __BODYPART__.\n",
    "\"\"\"\n",
    "\n",
    "\n",
    "def mad_libs(mls):\n",
    "    \"\"\"\n",
    "    :param mls: String\n",
    "    with parts the user\n",
    "    should fill out surrounded\n",
    "    by double underscores.\n",
    "    Underscores cannot\n",
    "    be inside hint e.g., no\n",
    "    __hint_hint__ only\n",
    "    __hint__.\n",
    "    \"\"\"\n",
    "    hints = re.findall(\"__.*?__\",\n",
    "                      mls)\n",
    "    if hints is not None:\n",
    "        for word in hints:\n",
    "            q = \"Enter a {}\"\\\n",
    "                   .format(word)\n",
    "            new = input(q)\n",
    "            mls = mls.replace(word,\n",
    "                              new,\n",
    "                              1)\n",
    "        print('\\n')\n",
    "        mls = mls.replace(\"\\n\", \"\")\n",
    "        print(mls)\n",
    "    else:\n",
    "        print(\"invalid mls\")\n",
    "\n",
    "mad_libs(text)"
   ]
  },
  {
   "cell_type": "code",
   "execution_count": null,
   "metadata": {},
   "outputs": [],
   "source": []
  },
  {
   "cell_type": "code",
   "execution_count": null,
   "metadata": {},
   "outputs": [],
   "source": []
  }
 ],
 "metadata": {
  "kernelspec": {
   "display_name": "Python 3",
   "language": "python",
   "name": "python3"
  },
  "language_info": {
   "codemirror_mode": {
    "name": "ipython",
    "version": 3
   },
   "file_extension": ".py",
   "mimetype": "text/x-python",
   "name": "python",
   "nbconvert_exporter": "python",
   "pygments_lexer": "ipython3",
   "version": "3.7.0"
  }
 },
 "nbformat": 4,
 "nbformat_minor": 2
}
