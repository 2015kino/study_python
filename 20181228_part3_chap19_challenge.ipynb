{
 "cells": [
  {
   "cell_type": "code",
   "execution_count": null,
   "metadata": {},
   "outputs": [],
   "source": [
    "#1:GitHubに新しいリポジトリを作る。そして、これまでにチャレンジで作成した全Pythonファイルを\n",
    "#リポジトリにコミットして、作った中央リポジトリにプッシュしよう。\n",
    "# 1: Make a new repository on GitHub. And let's push all the Python files you created\n",
    "#with the challenge to the repository and push it to the central repository you created."
   ]
  }
 ],
 "metadata": {
  "kernelspec": {
   "display_name": "Python 3",
   "language": "python",
   "name": "python3"
  },
  "language_info": {
   "codemirror_mode": {
    "name": "ipython",
    "version": 3
   },
   "file_extension": ".py",
   "mimetype": "text/x-python",
   "name": "python",
   "nbconvert_exporter": "python",
   "pygments_lexer": "ipython3",
   "version": "3.7.0"
  }
 },
 "nbformat": 4,
 "nbformat_minor": 2
}
