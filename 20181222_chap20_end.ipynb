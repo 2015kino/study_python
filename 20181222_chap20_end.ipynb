{
 "cells": [
  {
   "cell_type": "code",
   "execution_count": 1,
   "metadata": {},
   "outputs": [
    {
     "data": {
      "text/plain": [
       "14"
      ]
     },
     "execution_count": 1,
     "metadata": {},
     "output_type": "execute_result"
    }
   ],
   "source": [
    "x = 2\n",
    "y = 4\n",
    "z = 8\n",
    "xyz = x + y + z\n",
    "xyz"
   ]
  },
  {
   "cell_type": "code",
   "execution_count": 2,
   "metadata": {},
   "outputs": [
    {
     "name": "stdout",
     "output_type": "stream",
     "text": [
      "Please enter either P or J. It ends with Q! :q\n"
     ]
    },
    {
     "ename": "NameError",
     "evalue": "name 'brake' is not defined",
     "output_type": "error",
     "traceback": [
      "\u001b[1;31m---------------------------------------------------------------------------\u001b[0m",
      "\u001b[1;31mNameError\u001b[0m                                 Traceback (most recent call last)",
      "\u001b[1;32m<ipython-input-2-486ad6a9064b>\u001b[0m in \u001b[0;36m<module>\u001b[1;34m()\u001b[0m\n\u001b[0;32m     24\u001b[0m             \u001b[0mprint\u001b[0m\u001b[1;33m(\u001b[0m\u001b[1;34m\"jpop songs:\"\u001b[0m\u001b[1;33m,\u001b[0m\u001b[0mjpop\u001b[0m\u001b[1;33m)\u001b[0m\u001b[1;33m\u001b[0m\u001b[0m\n\u001b[0;32m     25\u001b[0m \u001b[1;33m\u001b[0m\u001b[0m\n\u001b[1;32m---> 26\u001b[1;33m \u001b[0mcollect_songs\u001b[0m\u001b[1;33m(\u001b[0m\u001b[1;33m)\u001b[0m\u001b[1;33m\u001b[0m\u001b[0m\n\u001b[0m",
      "\u001b[1;32m<ipython-input-2-486ad6a9064b>\u001b[0m in \u001b[0;36mcollect_songs\u001b[1;34m()\u001b[0m\n\u001b[0;32m      9\u001b[0m         \u001b[0mgenre\u001b[0m \u001b[1;33m=\u001b[0m \u001b[0minput\u001b[0m\u001b[1;33m(\u001b[0m\u001b[0mask\u001b[0m\u001b[1;33m)\u001b[0m\u001b[1;33m\u001b[0m\u001b[0m\n\u001b[0;32m     10\u001b[0m         \u001b[1;32mif\u001b[0m \u001b[0mgenre\u001b[0m \u001b[1;33m==\u001b[0m \u001b[1;34m\"q\"\u001b[0m\u001b[1;33m:\u001b[0m\u001b[1;33m\u001b[0m\u001b[0m\n\u001b[1;32m---> 11\u001b[1;33m             \u001b[0mbrake\u001b[0m\u001b[1;33m\u001b[0m\u001b[0m\n\u001b[0m\u001b[0;32m     12\u001b[0m \u001b[1;33m\u001b[0m\u001b[0m\n\u001b[0;32m     13\u001b[0m         \u001b[1;32mif\u001b[0m \u001b[0mgenre\u001b[0m \u001b[1;33m==\u001b[0m \u001b[1;34m\"p\"\u001b[0m\u001b[1;33m:\u001b[0m\u001b[1;33m\u001b[0m\u001b[0m\n",
      "\u001b[1;31mNameError\u001b[0m: name 'brake' is not defined"
     ]
    }
   ],
   "source": [
    "pop = []  #洋楽ポップソングを保存するリスト（List to save Western music pop song）\n",
    "jpop = [] #Jpopsongを保存するリスト（List to save music Jpop song）\n",
    "\n",
    "def collect_songs():\n",
    "    song = \"Please enter the song title\"\n",
    "    ask = \"Please enter either P or J. It ends with Q! :\"\n",
    "    \n",
    "    while True:\n",
    "        genre = input(ask)\n",
    "        if genre == \"q\":\n",
    "            brake\n",
    "        \n",
    "        if genre == \"p\":\n",
    "            p = input(song)\n",
    "            pop.append(p)\n",
    "\n",
    "        elif genre == \"j\":\n",
    "            j = input(song)\n",
    "            jpop.append(j)\n",
    "\n",
    "        else:\n",
    "            print(\"It's an illegal value.\")\n",
    "            print(\"pop songs:\",pop)\n",
    "            print(\"jpop songs:\",jpop)\n",
    "\n",
    "collect_songs()"
   ]
  },
  {
   "cell_type": "code",
   "execution_count": 3,
   "metadata": {},
   "outputs": [
    {
     "name": "stdout",
     "output_type": "stream",
     "text": [
      "Please enter either P or J. It ends with Q! :q\n"
     ]
    },
    {
     "ename": "NameError",
     "evalue": "name 'brake' is not defined",
     "output_type": "error",
     "traceback": [
      "\u001b[1;31m---------------------------------------------------------------------------\u001b[0m",
      "\u001b[1;31mNameError\u001b[0m                                 Traceback (most recent call last)",
      "\u001b[1;32m<ipython-input-3-1b6e900c28f1>\u001b[0m in \u001b[0;36m<module>\u001b[1;34m()\u001b[0m\n\u001b[0;32m     24\u001b[0m             \u001b[0mprint\u001b[0m\u001b[1;33m(\u001b[0m\u001b[1;34m\"jpop songs:\"\u001b[0m\u001b[1;33m,\u001b[0m\u001b[0mjpop\u001b[0m\u001b[1;33m)\u001b[0m\u001b[1;33m\u001b[0m\u001b[0m\n\u001b[0;32m     25\u001b[0m \u001b[1;33m\u001b[0m\u001b[0m\n\u001b[1;32m---> 26\u001b[1;33m \u001b[0mcollect_songs\u001b[0m\u001b[1;33m(\u001b[0m\u001b[1;33m)\u001b[0m\u001b[1;33m\u001b[0m\u001b[0m\n\u001b[0m",
      "\u001b[1;32m<ipython-input-3-1b6e900c28f1>\u001b[0m in \u001b[0;36mcollect_songs\u001b[1;34m()\u001b[0m\n\u001b[0;32m      9\u001b[0m         \u001b[0mgenre\u001b[0m \u001b[1;33m=\u001b[0m \u001b[0minput\u001b[0m\u001b[1;33m(\u001b[0m\u001b[0mask\u001b[0m\u001b[1;33m)\u001b[0m\u001b[1;33m\u001b[0m\u001b[0m\n\u001b[0;32m     10\u001b[0m         \u001b[1;32mif\u001b[0m \u001b[0mgenre\u001b[0m \u001b[1;33m==\u001b[0m \u001b[1;34m\"q\"\u001b[0m\u001b[1;33m:\u001b[0m\u001b[1;33m\u001b[0m\u001b[0m\n\u001b[1;32m---> 11\u001b[1;33m             \u001b[0mbrake\u001b[0m\u001b[1;33m\u001b[0m\u001b[0m\n\u001b[0m\u001b[0;32m     12\u001b[0m \u001b[1;33m\u001b[0m\u001b[0m\n\u001b[0;32m     13\u001b[0m         \u001b[1;32mif\u001b[0m \u001b[0mgenre\u001b[0m \u001b[1;33m==\u001b[0m \u001b[1;34m\"p\"\u001b[0m\u001b[1;33m:\u001b[0m\u001b[1;33m\u001b[0m\u001b[0m\n",
      "\u001b[1;31mNameError\u001b[0m: name 'brake' is not defined"
     ]
    }
   ],
   "source": [
    "pop = []  #洋楽ポップソングを保存するリスト（List to save Western music pop song）\n",
    "jpop = [] #Jpopsongを保存するリスト（List to save music Jpop song）\n",
    "\n",
    "def collect_songs():\n",
    "    song = \"Please enter the song title\"\n",
    "    ask = \"Please enter either P or J. It ends with Q! :\"\n",
    "    \n",
    "    while True:\n",
    "        genre = input(ask)\n",
    "        if genre == \"q\":\n",
    "            brake\n",
    "\n",
    "        if genre == \"p\":\n",
    "            p = input(song)\n",
    "            pop.append(p)\n",
    "\n",
    "        elif genre == \"j\":\n",
    "            j = input(song)\n",
    "            jpop.append(j)\n",
    "\n",
    "        else:\n",
    "            print(\"It's an illegal value.\")\n",
    "            print(\"pop songs:\",pop)\n",
    "            print(\"jpop songs:\",jpop)\n",
    "\n",
    "collect_songs()"
   ]
  },
  {
   "cell_type": "code",
   "execution_count": 4,
   "metadata": {},
   "outputs": [
    {
     "name": "stdout",
     "output_type": "stream",
     "text": [
      "Please enter either P or J. It ends with Q! :q\n"
     ]
    }
   ],
   "source": [
    "pop = []  #洋楽ポップソングを保存するリスト（List to save Western music pop song）\n",
    "jpop = [] #Jpopsongを保存するリスト（List to save music Jpop song）\n",
    "\n",
    "def collect_songs():\n",
    "    song = \"Please enter the song title\"\n",
    "    ask = \"Please enter either P or J. It ends with Q! :\"\n",
    "    \n",
    "    while True:\n",
    "        genre = input(ask)\n",
    "        if genre == \"q\":\n",
    "            break\n",
    "        \n",
    "        if genre == \"p\":\n",
    "            p = input(song)\n",
    "            pop.append(p)\n",
    "\n",
    "        elif genre == \"j\":\n",
    "            j = input(song)\n",
    "            jpop.append(j)\n",
    "\n",
    "        else:\n",
    "            print(\"It's an illegal value.\")\n",
    "            print(\"pop songs:\",pop)\n",
    "            print(\"jpop songs:\",jpop)\n",
    "\n",
    "collect_songs()"
   ]
  },
  {
   "cell_type": "code",
   "execution_count": 5,
   "metadata": {},
   "outputs": [
    {
     "name": "stdout",
     "output_type": "stream",
     "text": [
      "Please enter either P or J. It ends with Q! :p\n",
      "Please enter the song titlej\n",
      "Please enter either P or J. It ends with Q! :j\n",
      "Please enter the song titleq\n",
      "Please enter either P or J. It ends with Q! :q\n"
     ]
    }
   ],
   "source": [
    "pop = []  #洋楽ポップソングを保存するリスト（List to save Western music pop song）\n",
    "jpop = [] #Jpopsongを保存するリスト（List to save music Jpop song）\n",
    "\n",
    "def collect_songs():\n",
    "    song = \"Please enter the song title\"\n",
    "    ask = \"Please enter either P or J. It ends with Q! :\"\n",
    "    \n",
    "    while True:\n",
    "        genre = input(ask)\n",
    "        if genre == \"q\":\n",
    "            break\n",
    "        \n",
    "        if genre == \"p\":\n",
    "            p = input(song)\n",
    "            pop.append(p)\n",
    "\n",
    "        elif genre == \"j\":\n",
    "            j = input(song)\n",
    "            jpop.append(j)\n",
    "\n",
    "        else:\n",
    "            print(\"It's an illegal value.\")\n",
    "            print(\"pop songs:\",pop)\n",
    "            print(\"jpop songs:\",jpop)\n",
    "\n",
    "collect_songs()"
   ]
  },
  {
   "cell_type": "code",
   "execution_count": 6,
   "metadata": {},
   "outputs": [],
   "source": [
    "#programing paradigm\n",
    "#paradigm=Paradigm is a concept of scientific historians,\n",
    "#scientific philosophy, advocated by Thomas Kuhn,\n",
    "#a historian of science and philosophy of science. \n",
    "#Generally it is a term meaning \"model\" or \"paradigm\", \n",
    "#but it became famous for being used as a special term of scientific history in Kuhn's\n",
    "#\"structure of scientific revolution\" published in 1962.\n",
    "\n",
    "#パラダイムとは、科学史家、科学哲学者のトーマスクーンによって提唱された、\n",
    "#科学史家、科学哲学上の概念。一般には「模範」「範」を意味する語だが、\n",
    "#1962年に刊行されたクーンの「科学革命の構造」で科学史の特別な用語として\n",
    "#用いられたことで有名になった。\n",
    "\n",
    "#The famous one is \"a picture of an old woman and a woman.\"\n",
    "#In other words, even one picture can be seen by young women depending on viewpoint\n",
    "#, and also by an old woman.I wonder if you say that bringing about a paradigm shift\n",
    "#in yourself as a lesson of having to change your viewpoint is important.\n",
    "\n",
    "#有名なのは『老婆と女性の絵』。つまり一つの絵でも見方によっては若い女性にも見えるし、\n",
    "#老婆にも見える。視点を変える事が大事って事の教訓として、\n",
    "#自分の中でのパラダイムシフトを起こすことを言うのかな。"
   ]
  },
  {
   "cell_type": "code",
   "execution_count": 7,
   "metadata": {},
   "outputs": [],
   "source": [
    "#In Chapter 12, we learn that programming paradigm.\n",
    "#It is not that difficult though.\n",
    "#・Object programming oriented\n",
    "#・Functional programming\n",
    "#・Procedural programming\n",
    "#Learn these three types in this chapter.\n",
    "#If you do not understand the characteristics of each program and do not do it, \n",
    "#it will be a panic and chapter to learn properly.\n",
    "#As an emphasis, we will learn object programming orientation.\n",
    "\n",
    "#12章ではそのプログラミングパラダイムを学ぶ。\n",
    "#といってもそんな難しくはない。\n",
    "#・オブジェクトプログラミング指向\n",
    "#・関数型プログラミング\n",
    "#・手続型プログラミング\n",
    "#この3種類をこの章で学ぶ。\n",
    "#それぞれのプログラムの特徴を理解して行わないと、パニックになるから\n",
    "#ちゃんと学ぶようにって章。\n",
    "#重点としてオブジェクトプログラミング指向を学んでいく。\n",
    "\n",
    "#◆ State\n",
    "\n",
    "#The point of the programming paradigm lies in this state (variable).\n",
    "#One of the states is a global variable that is being executed.\n",
    "\n",
    "#◆状態\n",
    "\n",
    "#プログラミングパラダイムのポイントはこの状態（変数）にある。\n",
    "#状態の1つグローバルステートは実行中のグローバル変数の事。\n",
    "\n",
    "#◆Procedural programming\n",
    "\n",
    "#It performs consecutive procedures and transits the normal state (function)\n",
    "#into the program. The programming in Chapter 1 was doing this.\n",
    "#Specific examples are as follows.\n",
    "\n",
    "#◆手続型プログラミング\n",
    "\n",
    "#連続した手続きをこなしてプログラム中に常態（関数）を遷移させていく。\n",
    "#第1章のプログラミングはこれを行っていた。具体的な例としては下記のモノになる。"
   ]
  },
  {
   "cell_type": "code",
   "execution_count": 8,
   "metadata": {},
   "outputs": [
    {
     "data": {
      "text/plain": [
       "14"
      ]
     },
     "execution_count": 8,
     "metadata": {},
     "output_type": "execute_result"
    }
   ],
   "source": [
    "x = 2\n",
    "y = 4\n",
    "z = 8\n",
    "xyz = x + y + z\n",
    "xyz"
   ]
  },
  {
   "cell_type": "code",
   "execution_count": 9,
   "metadata": {},
   "outputs": [
    {
     "data": {
      "text/plain": [
       "14"
      ]
     },
     "execution_count": 9,
     "metadata": {},
     "output_type": "execute_result"
    }
   ],
   "source": [
    "x = 2\n",
    "y = 4\n",
    "z = 8\n",
    "xyz"
   ]
  },
  {
   "cell_type": "code",
   "execution_count": 10,
   "metadata": {},
   "outputs": [
    {
     "ename": "SyntaxError",
     "evalue": "invalid syntax (<ipython-input-10-8408ca7ff1e8>, line 1)",
     "output_type": "error",
     "traceback": [
      "\u001b[1;36m  File \u001b[1;32m\"<ipython-input-10-8408ca7ff1e8>\"\u001b[1;36m, line \u001b[1;32m1\u001b[0m\n\u001b[1;33m    del = xyz\u001b[0m\n\u001b[1;37m        ^\u001b[0m\n\u001b[1;31mSyntaxError\u001b[0m\u001b[1;31m:\u001b[0m invalid syntax\n"
     ]
    }
   ],
   "source": [
    "del = xyz"
   ]
  },
  {
   "cell_type": "code",
   "execution_count": 11,
   "metadata": {},
   "outputs": [],
   "source": [
    "del  xyz"
   ]
  },
  {
   "cell_type": "code",
   "execution_count": 12,
   "metadata": {},
   "outputs": [
    {
     "ename": "NameError",
     "evalue": "name 'xyz' is not defined",
     "output_type": "error",
     "traceback": [
      "\u001b[1;31m---------------------------------------------------------------------------\u001b[0m",
      "\u001b[1;31mNameError\u001b[0m                                 Traceback (most recent call last)",
      "\u001b[1;32m<ipython-input-12-729a031ad9e3>\u001b[0m in \u001b[0;36m<module>\u001b[1;34m()\u001b[0m\n\u001b[0;32m      2\u001b[0m \u001b[0my\u001b[0m \u001b[1;33m=\u001b[0m \u001b[1;36m4\u001b[0m\u001b[1;33m\u001b[0m\u001b[0m\n\u001b[0;32m      3\u001b[0m \u001b[0mz\u001b[0m \u001b[1;33m=\u001b[0m \u001b[1;36m8\u001b[0m\u001b[1;33m\u001b[0m\u001b[0m\n\u001b[1;32m----> 4\u001b[1;33m \u001b[0mxyz\u001b[0m\u001b[1;33m\u001b[0m\u001b[0m\n\u001b[0m",
      "\u001b[1;31mNameError\u001b[0m: name 'xyz' is not defined"
     ]
    }
   ],
   "source": [
    "x = 2\n",
    "y = 4\n",
    "z = 8\n",
    "xyz"
   ]
  },
  {
   "cell_type": "code",
   "execution_count": 13,
   "metadata": {},
   "outputs": [
    {
     "data": {
      "text/plain": [
       "14"
      ]
     },
     "execution_count": 13,
     "metadata": {},
     "output_type": "execute_result"
    }
   ],
   "source": [
    "x = 2 #xに2を代入して\n",
    "y = 4 #yに4を代入して\n",
    "z = 8 #zに8を代入して\n",
    "xyz = x + y + z #x + y + zを計算してxyzにいれて\n",
    "xyz #xyzってなに？とこんな感じで関数を1行ごとに遷移させている。"
   ]
  },
  {
   "cell_type": "code",
   "execution_count": 14,
   "metadata": {},
   "outputs": [
    {
     "name": "stdout",
     "output_type": "stream",
     "text": [
      "Please enter either P or J. It ends with Q! :q\n"
     ]
    }
   ],
   "source": [
    "pop = []  #洋楽ポップソングを保存するリスト（List to save Western music pop song）\n",
    "jpop = [] #Jpopsongを保存するリスト（List to save music Jpop song）\n",
    "\n",
    "def collect_songs():\n",
    "    song = \"Please enter the song title\"\n",
    "    ask = \"Please enter either P or J. It ends with Q! :\"\n",
    "    \n",
    "    while True:\n",
    "        genre = input(ask)\n",
    "        if genre == \"q\":\n",
    "            break\n",
    "        \n",
    "        if genre == \"p\":\n",
    "            p = input(song)\n",
    "            pop.append(p)\n",
    "\n",
    "        elif genre == \"j\":\n",
    "            j = input(song)\n",
    "            jpop.append(j)\n",
    "\n",
    "        else:\n",
    "            print(\"It's an illegal value.\")\n",
    "            print(\"pop songs:\",pop)\n",
    "            print(\"jpop songs:\",jpop)\n",
    "\n",
    "collect_songs()"
   ]
  },
  {
   "cell_type": "code",
   "execution_count": 15,
   "metadata": {},
   "outputs": [
    {
     "name": "stdout",
     "output_type": "stream",
     "text": [
      "Please enter either P or J. It ends with Q! :q\n"
     ]
    }
   ],
   "source": [
    "pop = []  #洋楽ポップソングを保存するリスト（List to save Western music pop song）\n",
    "jpop = [] #Jpopsongを保存するリスト（List to save music Jpop song）\n",
    "\n",
    "#上記はグローバル変数。構文の外にあるからグローバル。\n",
    "# The above is a global variable. Because it is outside the syntax global.\n",
    "\n",
    "def collect_songs(): #collect_songを定義する\n",
    "    song = \"Please enter the song title\" #songに文字を代入する\n",
    "    ask = \"Please enter either P or J. It ends with Q! :\" #askに文字を代入する\n",
    "    \n",
    "    while True: #真になった時。\n",
    "        genre = input(ask) #genre(ジャンル)にaskステートを表示してinputメソッドを使って\n",
    "        if genre == \"q\": #もしジャンルに\"Q\"が入力されたら\n",
    "            break #break、抜けていいよ\n",
    "        \n",
    "        if genre == \"p\": #もしジャンルにPが入力されたら\n",
    "            p = input(song) #songステートを表示してinputメソッドを使ってpに代入して\n",
    "            pop.append(p) #此処でのpopの意味は最初に作った変数popに入力されたpを追加する\n",
    "\n",
    "#※popはlistの要素として存在する。その為本来は使わないほうが良いと思う。\n",
    "#因みにpopは置くとか、抜くとかそういう意味。\n",
    "#list.pop[i]として使うとリストに指定された要素を削除して、その要素を返す。\n",
    "\n",
    "# ※ pop exists as an element of list. \n",
    "#For that reason I think that it is better not to use it.\n",
    "# By the way, pop means putting or pulling it out.\n",
    "#When used as # list.pop [i], \n",
    "#it removes the element specified in the list and returns that element.\n",
    "\n",
    "        elif genre == \"j\": #もしジャンルにJが入力さたら\n",
    "            j = input(song) #songステートを表示してinputメソッドを使ってjに代入して\n",
    "            jpop.append(j) #此処でのpopの意味は最初に作った変数popに入力されたpを追加する\n",
    "\n",
    "        else:\n",
    "            print(\"It's an illegal value.(それは不正値)\")\n",
    "            print(\"pop songs:\",pop)\n",
    "            print(\"jpop songs:\",jpop)\n",
    "\n",
    "collect_songs() #作った構文を呼び出す。\n",
    "\n",
    "#入力された関数(ステート)でデータを操作していく。\n",
    "# Manipulate data with the input function (state)."
   ]
  },
  {
   "cell_type": "code",
   "execution_count": 16,
   "metadata": {},
   "outputs": [],
   "source": [
    "#手続型プログラミング\n",
    "#1:受注\n",
    "#2:在庫確認\n",
    "\n",
    "#3-1-1:もし在庫があったら\n",
    "#3-1-2:出庫指示\n",
    "\n",
    "#3-2-1:もし在庫がなかったら\n",
    "#3-2-2:発注して\n",
    "\n",
    "#簡易に書くとこれが手続型プログラミング\n",
    "#上から順番に書いていく方法。\n",
    "#全体を設計、つまり受注→発注若しくは出庫指示の全体の流れを知ってないと、\n",
    "#プログラムする事は出来ない。\n",
    "\n",
    "# Procedural programming\n",
    "# 1: Order received\n",
    "# 2: Stock check\n",
    "\n",
    "# 3-1-1: If there is stock\n",
    "# 3 - 1 - 2: Departure instruction\n",
    "\n",
    "# 3-2-1: If there is no stock\n",
    "# 3-2-2: Placing an order\n",
    "\n",
    "# If you write it simply this is procedural programming\n",
    "# How to write in order from the top.\n",
    "# If you do not know the overall flow of design, ie order entry → order or delivery instruction,\n",
    "# I can not program."
   ]
  },
  {
   "cell_type": "code",
   "execution_count": 17,
   "metadata": {},
   "outputs": [],
   "source": [
    "#宣言型プログラミング\n",
    "#1:受注受付時、受注が来る→受注票が出来ている\n",
    "#2:受注票が出来ている→在庫有無が判別可能\n",
    "#3:在庫有→出庫指示有\n",
    "#4:在庫無→発注されている\n",
    "\n",
    "#「→」のプログラムを記述していく事になっても、必ず出来ているとは限らない\n",
    "\n",
    "#例\n",
    "#5:配達準備完了→最短距離で配送先を回る\n",
    "\n",
    "#5の場合、配達者が誰かわからないし、何処を辿って配達先を回るのかもわからない。\n",
    "#それを推測するのは無理なので、部分的に書いていく。\n",
    "#全体像が出来てなくても、部分をプログラムして最終部分を調整していけばいい…\n",
    "#って分かりやすい例か？これ。\n",
    "\n",
    "# Declarative programming\n",
    "# 1: When order acceptance, orders come → Order slips are made\n",
    "# 2: Order slips are made → Stock availability can be determined\n",
    "# 3: With inventory → With delivery instructions\n",
    "# 4: Out of stock → ordered\n",
    "\n",
    "#Even if you write the program of \"→\", it is not always done.\n",
    "\n",
    "#An example\n",
    "# 5: Delivery ready → Turn the delivery destination at the shortest distance\n",
    "\n",
    "#5:In the case of, I do not know who the deliverer is,\n",
    "#and where I will follow the delivery destination\n",
    "# Even if you do not have a whole picture, \n",
    "#you can program the part and adjust the final part\n",
    "#... Is it easy to understand? this."
   ]
  },
  {
   "cell_type": "code",
   "execution_count": 18,
   "metadata": {},
   "outputs": [],
   "source": [
    "#オブジェクト指向(純粋)\n",
    "#オブジェクト間のメッセージのやりとりで動かしていく\n",
    "#本来はこれだけで、シミュレーションから派生した系統\n",
    "#業務をシミュレーションすれば業務システムができあがる\n",
    "\n",
    "# Object oriented (pure)\n",
    "# Move it by exchanging messages between objects\n",
    "# Originally this alone, derived from the simulation\n",
    "# If you simulate the business, the business system will be completed\n",
    "\n",
    "#オブジェクト指向(クラスベース)\n",
    "#本来のオブジェクト指向から一部の特徴を手続き型に取り込んだので、本来は手続き型の派生系\n",
    "#手続き型はプログラムが大きくなると上手く制御しないと構造が破綻しやすくなるので、\n",
    "#本来のオブジェクト指向の一部の特徴を取り込んでハイブリッド型に仕上げたもの\n",
    "#手続き型でも書けるし、ある程度までならオブジェクト指向も出来るのが特徴\n",
    "#問題は自然と手続き型っぽくなるので、オブジェクト指向のメリットが出にくくなること\n",
    "\n",
    "# Object oriented (class based)\n",
    "# Since we incorporate some features from the original object orientation\n",
    "#in procedural form, originally a procedural type derived system\n",
    "# The procedural type is structurally more difficult to control\n",
    "#if the program becomes larger, the structure is likely to break down,\n",
    "#so it is a hybrid type that incorporates some of the original object oriented features\n",
    "#It can also be written in procedural style, and features can be object oriented tosome extent\n",
    "# The problem becomes naturally and procedural type, so it will be difficult\n",
    "#for object-oriented merit to appear"
   ]
  },
  {
   "cell_type": "code",
   "execution_count": 19,
   "metadata": {},
   "outputs": [],
   "source": [
    "#関数型(純粋)\n",
    "#結果を導く単純な関数を定義してそれを欲しい結果に向けて組み合わせることで\n",
    "#プログラムを動かしていく\n",
    "#一度決めた値は2度と変わらないので、同じ入力に対しては常に同じ結果が出るのが特徴\n",
    "#表計算ソフトの特徴とほぼ一致\n",
    "#従来アカデミックな分野では使われていた模様だけどSIの世界には全く来なかった\n",
    "#問題は実装が出来上がるまでの生産性が低く感じること\n",
    "#(テストまで含めるとトータルの生産性は高いはず)\n",
    "\n",
    "# Function type (pure)\n",
    "# Define a simple function that leads the result and move \n",
    "#the program by combining it to the desired result\n",
    "# Since once we decide the value does not change twice,\n",
    "#the same result always comes out for the same input\n",
    "# Almost coincident with the features of spreadsheet software\n",
    "# Although it seems that it was used in academic field in the past,\n",
    "#it did not come to the world of SI at all\n",
    "# The problem is that productivity is low until the implementation is completed\n",
    "#(Total productivity should be high when including the test)\n",
    "\n",
    "#関数型(クラスベースのオブジェクト指向とのハイブリッド)\n",
    "#クラスベースのオブジェクト指向と純粋関数型のハイブリッド。\n",
    "#どっちの特性を強く持つかで特徴が大きく変わる\n",
    "#純粋関数型にある難しさをクラスベースのオブジェクト指向で緩和したもの\n",
    "#純粋関数型ではあり得ない\"変数\"を使えるのが特徴\n",
    "#クラスベースのオブジェクト指向の弱点の手続き部分を関数型で書くなどの方法がとれるのが特徴\n",
    "#オブジェクト指向が歩んだ道をもう一回たどることになるので流行まではだいぶ時間がかかるはず\n",
    "#今後の課題は”関数”とか\"評価\"などの特徴的な言葉の拡大解釈がどこまで広がるかと、\n",
    "#どうやって正しく伝えていくのか\n",
    "\n",
    "#Function type (Hybrid with class-based object oriented)\n",
    "#A class-based object-oriented and purely functional hybrid.\n",
    "#Characteristic changes greatly depending on which characteristic strongly holds\n",
    "#Class-based object-oriented relaxation of difficulty in pure function type\n",
    "#Characteristic of using \"variable\" which can not be a pure function type\n",
    "#Characteristic that it is possible to adopt a method such as writing a procedure\n",
    "#part of a class-based object-oriented weak point function type\n",
    "#It will take much time until the epidemic \n",
    "#because it will follow another path that object-oriented has taken.\n",
    "#The future task is to know how widening interpretation of distinctive words\n",
    "#such as \"function\" or \"evaluation\" will spread and how to correctly communicate"
   ]
  },
  {
   "cell_type": "code",
   "execution_count": 1,
   "metadata": {},
   "outputs": [
    {
     "name": "stdout",
     "output_type": "stream",
     "text": [
      "Type r or c. q to quitq\n",
      "[]\n",
      "[]\n"
     ]
    }
   ],
   "source": [
    "# Thank you so much for purchasing my book! Feel free to contact me at cory[at]theselftaughtprogrammer.io.\n",
    "# If you are enjoying it, please consider leaving a review on Amazon :). Keep up the hard work!\n",
    "\n",
    "rock = []\n",
    "country = []\n",
    "\n",
    "\n",
    "def collect_songs():\n",
    "    song = \"Enter a song.\"\n",
    "    ask = \"Type r or c. q to quit\"\n",
    "\n",
    "    while True:\n",
    "        genre = input(ask)\n",
    "        if genre == \"q\":\n",
    "            break\n",
    "\n",
    "        if genre == \"r\":\n",
    "            rk = input(song)\n",
    "            rock.append(rk)\n",
    "\n",
    "        elif genre ==(\"c\"):\n",
    "            cy = input(song)\n",
    "            country.append(cy)\n",
    "\n",
    "        else:\n",
    "            print(\"Invalid.\")\n",
    "    print(rock)\n",
    "    print(country)\n",
    "\n",
    "collect_songs()\n",
    "\n",
    "# What is this program doing?\n",
    "#·Lock? Country song? →\n",
    "# If you are locking enter \"R\" and put it in the list\n",
    "# If you are a country song, enter \"C\" and put it in the list\n",
    "# If there is no song to enter, type \"Q\" and it will end\n",
    "# If another key is entered, it means \"Invailed\" or \"invalid\".\n",
    "\n",
    "#このプログラムが何をしているかというと、\n",
    "#・ロック？カントリーソング？→\n",
    "#ロックなら「R」を入力して、リストに入れるから\n",
    "#カントリーソングなら「C」を入力して、リストに入れるから\n",
    "#入力する曲がないなら「Q」を入力して、終わるから\n",
    "#その他のキーが入力されたら、「Invailed」つまり「無効」って事。"
   ]
  },
  {
   "cell_type": "code",
   "execution_count": 2,
   "metadata": {},
   "outputs": [],
   "source": [
    "#上記のプログラミングは手続型関数を行っている。\n",
    "#グローバル変数に「song」を使っているが、inputメソッド（song)の関数（ステート）が\n",
    "#「R」or「C」を入力される事で状態が変わる。\n",
    "#これは本では副作用という言い方をしているけれど、遷移、つまり上書きをしている事で成り立つプログラムなので、\n",
    "#その変数に今何が入力されているのかはイメージしながらプログラミングしないとバグが起こる。\n",
    "#25行位のプログラムなので、まだ関数の遷移状態を追えるけれど、これが100行以上になってくると追えなくなる。\n",
    "#この問題を解決するのがオブジェクト指向プログラミング、関数型プログラミング。\n",
    "\n",
    "# The above programming is a procedural function.\n",
    "#Although \"song\" is used as a global variable,\n",
    "#the state changes as the function (state) of the input method (song) is input as \"R\" or \"C\". \n",
    "#This is called a side effect in books, but because it is a program that consists of transitions,\n",
    "#that is, overwriting, a bug occurs unless programming is done while imagining what is currently\n",
    "#input to that variable.\n",
    "#Since it is a program of 25 rows, I can follow the transition state of the function yet,\n",
    "#but it will not be able to follow it if it gets over 100 lines.\n",
    "# Object oriented programming, functional programming to solve this problem.\n",
    "\n",
    "#また日本語でも同じ漢字で音読みと訓読みがあるように、同じものを指しているはずなのに言い方が変わる時がある。\n",
    "#このプログラムなら変数書いたり、関数と書いたり、状態と書いたり、同じ意味モノをさしているのに言葉が違う。\n",
    "#恐らくそこも混乱させる一つの原因。\n",
    "\n",
    "# Also in Japanese there are times when the way of expression changes,\n",
    "#even though it is supposed to point to the same thing, as there is a reading and\n",
    "#kun reading with the same kanji.\n",
    "# In this program, the words are written differently,\n",
    "#written as a function, written as a function, written as state, the same meaning,\n",
    "#but the words are different.\n",
    "# Perhaps one cause that confuses too."
   ]
  },
  {
   "cell_type": "code",
   "execution_count": 3,
   "metadata": {},
   "outputs": [],
   "source": [
    "a=0\n",
    "\n",
    "def i():\n",
    "    global a\n",
    "    a += 1"
   ]
  },
  {
   "cell_type": "code",
   "execution_count": 4,
   "metadata": {},
   "outputs": [],
   "source": [
    "def i(a):\n",
    "    return a + 1"
   ]
  },
  {
   "cell_type": "code",
   "execution_count": 5,
   "metadata": {},
   "outputs": [],
   "source": [
    "#関数型プログラミング\n",
    "#グローバルステートがないプログラミング。\n",
    "#変数の状態遷移がないから、今その変数に何が入っているかという混乱を抑える事が可能。\n",
    "\n",
    "#a = 0 …\n",
    "#がグローバル変数を用意している。\n",
    "#def i(a)\n",
    "#グローバル変数を参照しない。\n",
    "\n",
    "#但し、true,falseといったような状態遷移が出来ないので、プログラミングを複雑化させてしまうって問題もある。\n",
    "\n",
    "# Functional programming\n",
    "# Programming with no global state.\n",
    "# Since there is no state transition of variable, it is possible to suppress confusion about\n",
    "#what is contained in the variable now.\n",
    "\n",
    "# a = 0 ...\n",
    "# Prepares global variables.\n",
    "#def i (a)\n",
    "# Do not reference global variables.\n",
    "\n",
    "# However, since state transitions such as true and false are impossible,\n",
    "#there is also a problem that programming becomes complicated."
   ]
  },
  {
   "cell_type": "code",
   "execution_count": 6,
   "metadata": {},
   "outputs": [],
   "source": [
    "#オブジェクト指向プログラミング\n",
    "#グローバルステートを排除したプログラミング。\n",
    "#関数型と違うのは関数にその状態を持たせるのではなく、オブジェクトに状態を持たせることを言う。\n",
    "#オブジェクトは物って言う意味。そのオブジェクトを集合したのがクラス。\n",
    "#クラスは分類、集合、組って意味を持つ。\n",
    "#つまり、モノが集まってクラスとなる。\n",
    "\n",
    "#例にすると人がいてオブジェクト。男と女がいてそれが属性。それが集まってクラス。となる。\n",
    "\n",
    "#全オブジェクトはクラスのインスタンス。\n",
    "#インスタンスとは、この場合とか、例とか。\n",
    "#此処でもそうだけれど、オブジェクトとインスタンスは結局同じと見ていい。\n",
    "\n",
    "# Object Oriented Programming\n",
    "# Programming with global state excluded. What is different from the function type is to let the object\n",
    "#have a state, rather than letting the function have that state.\n",
    "# The object stands for it. It was the class that assembled the objects.\n",
    "# Classes have meanings, classifications, groups.\n",
    "# That is, things gather and become classes.\n",
    "\n",
    "# For example, people are objects and objects. \n",
    "#There are men and women and it is an attribute. It gathers and classes. .\n",
    "\n",
    "# All objects are instances of the class.\n",
    "# An instance is, in this case, an example.\n",
    "# Here as well, you can assume that the object and instance are the same after all."
   ]
  },
  {
   "cell_type": "code",
   "execution_count": 7,
   "metadata": {},
   "outputs": [],
   "source": [
    "#数値123はintクラスのインスタンス。\n",
    "#文字abcはstrクラスのインスタンス。\n",
    "#pythonは全オブジェクトは何らかのインスタンスである。\n",
    "#プログラミング言語で記述が決まっているものをリテラルという。\n",
    "#リテラル（英: literal）は、「文字どおり」「字義どおり」を意味する語で、letter と同じくラテン語の \n",
    "#littera（文字）に由来する。数理論理学とコンピュータプログラミングで異なる意味の専門用語として使われる。\n",
    "\n",
    "# Numeric 123 is an instance of int class.\n",
    "# The character abc is an instance of the str class.\n",
    "#python all objects are some instance.\n",
    "# What is written in the programming language is called a literal.\n",
    "# Literal (English: literal) is a word meaning \"literally\" \"literally\", derived from the Latin \n",
    "#littera (letter) as well as letter. It is used as a technical term of different meanings in mathematical\n",
    "#logic and computer programming."
   ]
  },
  {
   "cell_type": "code",
   "execution_count": 8,
   "metadata": {},
   "outputs": [],
   "source": [
    "#スイートとは、一式、一揃い、一組、一続き、一行、組曲、などの意味を持つ英単語。「甘い」という意味のスイート(sweet)とは英語でも日本語でも同音異義語。\n",
    "#ITの分野では、互いに関連のある独立した複数のソフトウェアを詰め合わせた販売パッケージなどのことを\n",
    "#ソフトウェアスイートあるいは単にスイートということが多い。\n",
    "#最もよく知られるのはワープロソフトや表計算ソフトなど事務処理などに使うアプリケーションソフトを\n",
    "#ひとまとめにした「オフィススイート」(office suite)だが、\n",
    "#「サーバスイート」「開発スイート」といったように分野や種類によって様々なものがある。\n",
    "#類義語は「キット」(kit)や「パッケージ」(package)。\n",
    "\n",
    "#スイートは単体でも機能する製品を組み合わせてひとまとめにしたものを指すことが多く、\n",
    "#個別に購入するより割安な価格が設定されているといったメリットがある。\n",
    "#単体では販売されずスイートにのみ付随する特典的なツールやデータ集などが同梱されていることもある。\n",
    "#また、スイートを構成するソフトウェア群は機能やデータの連携機能や共通の表示・メニュー体系や操作感を持つよう\n",
    "#設計されていることが多く、それぞれ別のメーカーの製品を組み合わせるより使い勝手が良いことが多い。\n",
    "\n",
    "# Suite is an English word meaningful, such as a set, one set, one set, one series, one line, suite.\n",
    "#Suite (sweet) meaning \"sweet\" is an homonym in English or in Japanese.\n",
    "#In the field of IT, sales packages and the like packing multiple independent software related to each \n",
    "#other are often referred to as software suites or simply a suite.\n",
    "#The best known is \"office suite\" (office suite) which grouped together application software\n",
    "#used for office work such as word processing software and spreadsheet software,\n",
    "#but it is different depending on the field and kind such as \"server suite\" and \"development suite\"\n",
    "#There is something. Synonyms are \"kit\" (kit) and \"package\" (package).\n",
    "\n",
    "#Suite is often referred to as a single product that combines products that work even if it is standalone,\n",
    "#there is a merit that it is set more reasonable price than purchasing individually.\n",
    "#Sometimes it is bundled with a special package of tools and data that are not sold on a standalone\n",
    "#basis but accompany the suite. In addition, the software group constituting the suite is often designed\n",
    "#to have a function / data linkage function and a common display / menu system and operation feeling,\n",
    "#and it is more convenient to combine products of different manufacturers Many."
   ]
  },
  {
   "cell_type": "code",
   "execution_count": 1,
   "metadata": {},
   "outputs": [],
   "source": [
    "#Pythonのクラスはヘッダーとスイートを持つ複合文である。\n",
    "#つまりさっきのオブジェクト指向で言えば、クラスがあってオブジェクト、インスタンスみたいな感じ。書き方は。\n",
    "\n",
    "#class[class_name]\n",
    "#[suite]\n",
    "\n",
    "#class[class_name]は[suite]はクラスのスイート。\n",
    "#・Pythonのクラス名は常に大文字で始まるキャメルケースで記述。例としてLikeThis（←ラクダのこぶのように大文字があるからなんだけれど、感性がわからん）\n",
    "#・関数の命名規則ではアンダースコアで単語を繋ぐ\n",
    "\n",
    "# Python's class is a compound statement with headers and suites.\n",
    "# That is, in object-oriented terms just before, there is a class, it feels like an object, an instance. How to write.\n",
    "\n",
    "# class [class_name]\n",
    "# [suite]\n",
    "\n",
    "# class [class_name] [suite] is a suite of classes.\n",
    "# - Python class name is described in Camel Case which always starts with capital letters. LikeThis as an example (← It is because there are capital letters like a camel 's glove, but I do not know the sensitivity).\n",
    "# - Function naming convention connects words with underscores."
   ]
  },
  {
   "cell_type": "code",
   "execution_count": 2,
   "metadata": {},
   "outputs": [],
   "source": [
    "#class[class_name]\n",
    "#[suite]\n",
    "\n",
    "#「suite」部分は単純文かメソッドと呼ばれる複合文を書く。\n",
    "#色々書いているかれどルールとして。\n",
    "#クラスの中にスイートが存在するイメージ。\n",
    "#第1章で\"hello\".upper()”Pythonでは大文字・小文字変換メソッドlower()、\n",
    "#upper()はstringオブジェクトに組み込まれています。\"という例で登場している。\n",
    "\n",
    "# Write the compound statement called \"simple statement\" or \"method\" in \"suite\" part.\n",
    "# As a rule whether it is writing variously.\n",
    "# The image that the suite exists in the class.\n",
    "# In Chapter 1 \"hello\" .upper () \"In Python, the lower case conversion method lower (), \n",
    "#upper () is embedded in the string object\" appears in the example.\n",
    "\n",
    "#今迄メソッドって呼んでたものは違ったみたい…。\n",
    "#メソッドルール（関数とは違う）\n",
    "#１：クラスのスイート部分に定義される。\n",
    "#２：例外はあるけれど、引数を最低1つ定義する。Pythonの慣習として\"self”という名前を使う。\n",
    "\n",
    "#class Orange:\n",
    "#def __init__(self):\n",
    "#print(\"Created!\")\n",
    "\n",
    "# It seems that what I called method until now is different.\n",
    "# Method rule (not function)\n",
    "# 1: Defined in the suite part of the class.\n",
    "# 2: There are exceptions, but at least one argument is defined. Use the name \"self\" as the Python convention.\n",
    "\n",
    "# class Orange:\n",
    "#def __init __ (self):\n",
    "#print (\"Created!\")"
   ]
  },
  {
   "cell_type": "code",
   "execution_count": 3,
   "metadata": {},
   "outputs": [],
   "source": [
    "#self変数はインスタンス変数の定義に使う。（本によってはオブジェクト変数とかいってきそうだけれど、同意義)。\n",
    "#やりたい事はクラスという親をたてて、子の数値を変更していくのだから、各オブジェクトの変数は異なる。\n",
    "\n",
    "#self.[変数名] = [値]\n",
    "#これが構文。インスタンス変数は__init__という特別なメソッドの中で定義し（init(initialize(初期化の事）))\n",
    "#オブジェクトを造る時にPythonから呼び出される。\n",
    "\n",
    "#The #self variable is used to define instance variables.\n",
    "#(Depending on the book, it seems to be an object variable, but it is synonymous).\n",
    "# The thing you want to do is to create parents of classes,\n",
    "#change children's numbers, so the variables of each object are different.\n",
    "\n",
    "#self. [variable name] = [value]\n",
    "# This is the syntax. Instance variables are defined in a special method called \n",
    "#__init__ (init (initialize)) and called from Python when building objects."
   ]
  },
  {
   "cell_type": "code",
   "execution_count": 4,
   "metadata": {},
   "outputs": [],
   "source": [
    "class Orange:\n",
    "    def __init__(self):\n",
    "        print(\"Created\")"
   ]
  },
  {
   "cell_type": "code",
   "execution_count": 5,
   "metadata": {},
   "outputs": [],
   "source": [
    "class Orange:\n",
    "    def __init__(self,w,c):\n",
    "        self.weight = w\n",
    "        self.color = c\n",
    "        print(\"Created\")"
   ]
  },
  {
   "cell_type": "code",
   "execution_count": 6,
   "metadata": {},
   "outputs": [],
   "source": [
    "#クラスOrangeが作成→__init__で初期化実行\n",
    "#weight,colorインスタンス変数が作成され、クラス内のどのメソッドでもそのインスタンス変数が通常の変数と\n",
    "#同じよう利用できる。\n",
    "#__init__のように二重のアンダースコアで囲まれたメソッドを”特殊メソッド”という。\n",
    "\n",
    "# Class Orange created → initialized with __init__\n",
    "# weight, color An instance variable is created, and any instance of the class can use its instance\n",
    "#variable like an ordinary variable.\n",
    "#A method surrounded by double underscore like \"__init__\" is called \"special method\"."
   ]
  },
  {
   "cell_type": "code",
   "execution_count": 7,
   "metadata": {},
   "outputs": [
    {
     "name": "stdout",
     "output_type": "stream",
     "text": [
      "Created\n"
     ]
    }
   ],
   "source": [
    "class Orange:\n",
    "    def __init__(self,w,c):\n",
    "        self.weight = w\n",
    "        self.color = c\n",
    "        print(\"Created\")\n",
    "\n",
    "or1 = Orange(10,\"dark\")"
   ]
  },
  {
   "cell_type": "code",
   "execution_count": 8,
   "metadata": {},
   "outputs": [],
   "source": [
    "#上記のようにOrangeオブジェクトってこんな風に名前が定まらないんだよなぁ…。\n",
    "#とりあえずオブジェクトを造るっていうみたい。クラスで指定しているのにも関わらず！\n",
    "#構文\n",
    "#[classname]([引数])\n",
    "#引数は第1引数\"self”が…ってここでも変数が引数に変わるからね…。\n",
    "#名前をマジで固定してほしい。\"self\"が__init__に渡してくれる。\n",
    "#新しいオブジェクトを作成する事をクラスのインスタンス化という。\n",
    "\n",
    "# The Orange object does not have its name like this as described above.\n",
    "# It seems to build an object for the time being. Despite being specified in class!\n",
    "#syntax\n",
    "# [classname] ([argument])\n",
    "# Argument has the first argument \"self\" ... Even here variable is changed to argument .... \n",
    "#Please fix the name seriously. \"self\" hands over to __init__.\n",
    "#Creating a new object is called class instantiation.\n",
    "\n",
    "#構文の中にprintが入っているのでprintのは、いらない。でも、恐らく2つある時は必要なのか？\n",
    "\n",
    "# Because there is a print in the syntax, you do not need print.\n",
    "#But, perhaps it is necessary when there are two?"
   ]
  },
  {
   "cell_type": "code",
   "execution_count": 9,
   "metadata": {},
   "outputs": [
    {
     "name": "stdout",
     "output_type": "stream",
     "text": [
      "Created\n",
      "10\n",
      "dark\n"
     ]
    }
   ],
   "source": [
    "class Orange:\n",
    "    def __init__(self,w,c):\n",
    "        self.weight = w\n",
    "        self.color = c\n",
    "        print(\"Created\")\n",
    "\n",
    "or1 = Orange(10,\"dark\")\n",
    "print(or1.weight)\n",
    "print(or1.color)"
   ]
  },
  {
   "cell_type": "code",
   "execution_count": 1,
   "metadata": {},
   "outputs": [],
   "source": [
    "#class Orange: Orangeクラスの定義\n",
    "#    def __init__(self,w,c): \n",
    "#__init__（初期化）メソッドを定義（define）して、引数self,w,cを造る。\n",
    "#第一引数（self)はpythonが明示的に渡すのでこれもPythonルール。\n",
    "#        self.weight = w\n",
    "#        self.color = c\n",
    "#        print(\"Created\")\n",
    "#第二引数はw。第三引数はc。言語化の難しさよ…。\n",
    "#此処までがクラスの定義。\n",
    "\n",
    "#or1 = Orange(10,\"dark\")\n",
    "#print(or1.weight)\n",
    "#print(or1.color)\n",
    "\n",
    "#class Orange: Orangeクラスの定義\n",
    "#    def __init__(self,w,c): \n",
    "#        self.weight = w\n",
    "#        self.color = c\n",
    "\n",
    "#or1にはOrangeクラスで定義した第一引数selfが第二引数と第三引数を引っ張って来てくれる。\n",
    "#結果として。\n",
    "\n",
    "#Created\n",
    "#10\n",
    "#dark\n",
    "#となる。"
   ]
  },
  {
   "cell_type": "code",
   "execution_count": 2,
   "metadata": {},
   "outputs": [
    {
     "name": "stdout",
     "output_type": "stream",
     "text": [
      "Created\n",
      "Created\n",
      "Created\n",
      "10\n",
      "blue\n",
      "perple\n"
     ]
    }
   ],
   "source": [
    "class Orange:\n",
    "    def __init__(self,w,c):\n",
    "        self.weight = w\n",
    "        self.color = c\n",
    "        print(\"Created\")\n",
    "\n",
    "or1 = Orange(10,\"dark\")\n",
    "or2 = Orange(20,\"blue\")\n",
    "or3 = Orange(30,\"perple\")\n",
    "\n",
    "print(or1.weight)\n",
    "print(or2.color)\n",
    "print(or3.color)"
   ]
  },
  {
   "cell_type": "code",
   "execution_count": 3,
   "metadata": {},
   "outputs": [],
   "source": [
    "#上記からもわかるように一回オブジェクトを作ってしまってインスタンス化してしまえば、\n",
    "#インスタンス変数を変えるだけでインスタンス変数"
   ]
  },
  {
   "cell_type": "code",
   "execution_count": 4,
   "metadata": {},
   "outputs": [
    {
     "name": "stdout",
     "output_type": "stream",
     "text": [
      "Created\n"
     ]
    },
    {
     "ename": "NameError",
     "evalue": "name 'moid' is not defined",
     "output_type": "error",
     "traceback": [
      "\u001b[1;31m---------------------------------------------------------------------------\u001b[0m",
      "\u001b[1;31mNameError\u001b[0m                                 Traceback (most recent call last)",
      "\u001b[1;32m<ipython-input-4-549cef9928ff>\u001b[0m in \u001b[0;36m<module>\u001b[1;34m()\u001b[0m\n\u001b[0;32m     11\u001b[0m \u001b[1;33m\u001b[0m\u001b[0m\n\u001b[0;32m     12\u001b[0m \u001b[0morange\u001b[0m \u001b[1;33m=\u001b[0m \u001b[0mOrange\u001b[0m\u001b[1;33m(\u001b[0m\u001b[1;36m200\u001b[0m\u001b[1;33m,\u001b[0m\u001b[1;34m\"orange\"\u001b[0m\u001b[1;33m)\u001b[0m\u001b[1;33m\u001b[0m\u001b[0m\n\u001b[1;32m---> 13\u001b[1;33m \u001b[0mprint\u001b[0m\u001b[1;33m(\u001b[0m\u001b[0morange\u001b[0m\u001b[1;33m,\u001b[0m\u001b[0mmoid\u001b[0m\u001b[1;33m)\u001b[0m\u001b[1;33m\u001b[0m\u001b[0m\n\u001b[0m\u001b[0;32m     14\u001b[0m \u001b[0morange\u001b[0m\u001b[1;33m.\u001b[0m\u001b[0mmoid\u001b[0m\u001b[1;33m(\u001b[0m\u001b[1;36m10\u001b[0m\u001b[1;33m,\u001b[0m\u001b[1;36m37\u001b[0m\u001b[1;33m)\u001b[0m\u001b[1;33m\u001b[0m\u001b[0m\n\u001b[0;32m     15\u001b[0m \u001b[0mprint\u001b[0m\u001b[1;33m(\u001b[0m\u001b[0morange\u001b[0m\u001b[1;33m.\u001b[0m\u001b[0mmoid\u001b[0m\u001b[1;33m)\u001b[0m\u001b[1;33m\u001b[0m\u001b[0m\n",
      "\u001b[1;31mNameError\u001b[0m: name 'moid' is not defined"
     ]
    }
   ],
   "source": [
    "class Orange:\n",
    "    def __init__(self,w,c):\n",
    "        self.weight = w\n",
    "        self.color = c\n",
    "        self.mold = 0\n",
    "        print(\"Created\")\n",
    "\n",
    "    def rot(self,dyas,tamp):\n",
    "        \"\"\"temp(温度)は摂氏\"\"\"\n",
    "        self.mold = days * temp\n",
    "\n",
    "orange = Orange(200,\"orange\")\n",
    "print(orange,moid)\n",
    "orange.moid(10,37)\n",
    "print(orange.moid)"
   ]
  },
  {
   "cell_type": "code",
   "execution_count": 5,
   "metadata": {},
   "outputs": [
    {
     "name": "stdout",
     "output_type": "stream",
     "text": [
      "Created\n"
     ]
    },
    {
     "ename": "AttributeError",
     "evalue": "'Orange' object has no attribute 'moid'",
     "output_type": "error",
     "traceback": [
      "\u001b[1;31m---------------------------------------------------------------------------\u001b[0m",
      "\u001b[1;31mAttributeError\u001b[0m                            Traceback (most recent call last)",
      "\u001b[1;32m<ipython-input-5-1731174a08bf>\u001b[0m in \u001b[0;36m<module>\u001b[1;34m()\u001b[0m\n\u001b[0;32m     11\u001b[0m \u001b[1;33m\u001b[0m\u001b[0m\n\u001b[0;32m     12\u001b[0m \u001b[0morange\u001b[0m \u001b[1;33m=\u001b[0m \u001b[0mOrange\u001b[0m\u001b[1;33m(\u001b[0m\u001b[1;36m200\u001b[0m\u001b[1;33m,\u001b[0m\u001b[1;34m\"orange\"\u001b[0m\u001b[1;33m)\u001b[0m\u001b[1;33m\u001b[0m\u001b[0m\n\u001b[1;32m---> 13\u001b[1;33m \u001b[0mprint\u001b[0m\u001b[1;33m(\u001b[0m\u001b[0morange\u001b[0m\u001b[1;33m.\u001b[0m\u001b[0mmoid\u001b[0m\u001b[1;33m)\u001b[0m\u001b[1;33m\u001b[0m\u001b[0m\n\u001b[0m\u001b[0;32m     14\u001b[0m \u001b[0morange\u001b[0m\u001b[1;33m.\u001b[0m\u001b[0mmoid\u001b[0m\u001b[1;33m(\u001b[0m\u001b[1;36m10\u001b[0m\u001b[1;33m,\u001b[0m\u001b[1;36m37\u001b[0m\u001b[1;33m)\u001b[0m\u001b[1;33m\u001b[0m\u001b[0m\n\u001b[0;32m     15\u001b[0m \u001b[0mprint\u001b[0m\u001b[1;33m(\u001b[0m\u001b[0morange\u001b[0m\u001b[1;33m.\u001b[0m\u001b[0mmoid\u001b[0m\u001b[1;33m)\u001b[0m\u001b[1;33m\u001b[0m\u001b[0m\n",
      "\u001b[1;31mAttributeError\u001b[0m: 'Orange' object has no attribute 'moid'"
     ]
    }
   ],
   "source": [
    "class Orange:\n",
    "    def __init__(self,w,c):\n",
    "        self.weight = w\n",
    "        self.color = c\n",
    "        self.mold = 0\n",
    "        print(\"Created\")\n",
    "\n",
    "    def rot(self,dyas,tamp):\n",
    "        \"\"\"temp(温度)は摂氏\"\"\"\n",
    "        self.mold = days * temp\n",
    "\n",
    "orange = Orange(200,\"orange\")\n",
    "print(orange.moid)\n",
    "orange.moid(10,37)\n",
    "print(orange.moid)"
   ]
  },
  {
   "cell_type": "code",
   "execution_count": 6,
   "metadata": {},
   "outputs": [
    {
     "name": "stdout",
     "output_type": "stream",
     "text": [
      "Created\n",
      "0\n"
     ]
    },
    {
     "ename": "AttributeError",
     "evalue": "'Orange' object has no attribute 'moid'",
     "output_type": "error",
     "traceback": [
      "\u001b[1;31m---------------------------------------------------------------------------\u001b[0m",
      "\u001b[1;31mAttributeError\u001b[0m                            Traceback (most recent call last)",
      "\u001b[1;32m<ipython-input-6-b249b2b7c90a>\u001b[0m in \u001b[0;36m<module>\u001b[1;34m()\u001b[0m\n\u001b[0;32m     12\u001b[0m \u001b[0morange\u001b[0m \u001b[1;33m=\u001b[0m \u001b[0mOrange\u001b[0m\u001b[1;33m(\u001b[0m\u001b[1;36m200\u001b[0m\u001b[1;33m,\u001b[0m\u001b[1;34m\"orange\"\u001b[0m\u001b[1;33m)\u001b[0m\u001b[1;33m\u001b[0m\u001b[0m\n\u001b[0;32m     13\u001b[0m \u001b[0mprint\u001b[0m\u001b[1;33m(\u001b[0m\u001b[0morange\u001b[0m\u001b[1;33m.\u001b[0m\u001b[0mmold\u001b[0m\u001b[1;33m)\u001b[0m\u001b[1;33m\u001b[0m\u001b[0m\n\u001b[1;32m---> 14\u001b[1;33m \u001b[0morange\u001b[0m\u001b[1;33m.\u001b[0m\u001b[0mmoid\u001b[0m\u001b[1;33m(\u001b[0m\u001b[1;36m10\u001b[0m\u001b[1;33m,\u001b[0m\u001b[1;36m37\u001b[0m\u001b[1;33m)\u001b[0m\u001b[1;33m\u001b[0m\u001b[0m\n\u001b[0m\u001b[0;32m     15\u001b[0m \u001b[0mprint\u001b[0m\u001b[1;33m(\u001b[0m\u001b[0morange\u001b[0m\u001b[1;33m.\u001b[0m\u001b[0mmold\u001b[0m\u001b[1;33m)\u001b[0m\u001b[1;33m\u001b[0m\u001b[0m\n",
      "\u001b[1;31mAttributeError\u001b[0m: 'Orange' object has no attribute 'moid'"
     ]
    }
   ],
   "source": [
    "class Orange:\n",
    "    def __init__(self,w,c):\n",
    "        self.weight = w\n",
    "        self.color = c\n",
    "        self.mold = 0\n",
    "        print(\"Created\")\n",
    "\n",
    "    def rot(self,dyas,tamp):\n",
    "        \"\"\"temp(温度)は摂氏\"\"\"\n",
    "        self.mold = days * temp\n",
    "\n",
    "orange = Orange(200,\"orange\")\n",
    "print(orange.mold)\n",
    "orange.moid(10,37)\n",
    "print(orange.mold)"
   ]
  },
  {
   "cell_type": "code",
   "execution_count": 7,
   "metadata": {},
   "outputs": [
    {
     "name": "stdout",
     "output_type": "stream",
     "text": [
      "Created\n",
      "0\n"
     ]
    },
    {
     "ename": "TypeError",
     "evalue": "'int' object is not callable",
     "output_type": "error",
     "traceback": [
      "\u001b[1;31m---------------------------------------------------------------------------\u001b[0m",
      "\u001b[1;31mTypeError\u001b[0m                                 Traceback (most recent call last)",
      "\u001b[1;32m<ipython-input-7-c1f403776edc>\u001b[0m in \u001b[0;36m<module>\u001b[1;34m()\u001b[0m\n\u001b[0;32m     12\u001b[0m \u001b[0morange\u001b[0m \u001b[1;33m=\u001b[0m \u001b[0mOrange\u001b[0m\u001b[1;33m(\u001b[0m\u001b[1;36m200\u001b[0m\u001b[1;33m,\u001b[0m\u001b[1;34m\"orange\"\u001b[0m\u001b[1;33m)\u001b[0m\u001b[1;33m\u001b[0m\u001b[0m\n\u001b[0;32m     13\u001b[0m \u001b[0mprint\u001b[0m\u001b[1;33m(\u001b[0m\u001b[0morange\u001b[0m\u001b[1;33m.\u001b[0m\u001b[0mmold\u001b[0m\u001b[1;33m)\u001b[0m\u001b[1;33m\u001b[0m\u001b[0m\n\u001b[1;32m---> 14\u001b[1;33m \u001b[0morange\u001b[0m\u001b[1;33m.\u001b[0m\u001b[0mmold\u001b[0m\u001b[1;33m(\u001b[0m\u001b[1;36m10\u001b[0m\u001b[1;33m,\u001b[0m\u001b[1;36m37\u001b[0m\u001b[1;33m)\u001b[0m\u001b[1;33m\u001b[0m\u001b[0m\n\u001b[0m\u001b[0;32m     15\u001b[0m \u001b[0mprint\u001b[0m\u001b[1;33m(\u001b[0m\u001b[0morange\u001b[0m\u001b[1;33m.\u001b[0m\u001b[0mmold\u001b[0m\u001b[1;33m)\u001b[0m\u001b[1;33m\u001b[0m\u001b[0m\n",
      "\u001b[1;31mTypeError\u001b[0m: 'int' object is not callable"
     ]
    }
   ],
   "source": [
    "class Orange:\n",
    "    def __init__(self,w,c):\n",
    "        self.weight = w\n",
    "        self.color = c\n",
    "        self.mold = 0\n",
    "        print(\"Created\")\n",
    "\n",
    "    def rot(self,dyas,tamp):\n",
    "        \"\"\"temp(温度)は摂氏\"\"\"\n",
    "        self.mold = days * temp\n",
    "\n",
    "orange = Orange(200,\"orange\")\n",
    "print(orange.mold)\n",
    "orange.mold(10,37)\n",
    "print(orange.mold)"
   ]
  },
  {
   "cell_type": "code",
   "execution_count": 8,
   "metadata": {},
   "outputs": [
    {
     "name": "stdout",
     "output_type": "stream",
     "text": [
      "Created\n",
      "0\n"
     ]
    },
    {
     "ename": "TypeError",
     "evalue": "'int' object is not callable",
     "output_type": "error",
     "traceback": [
      "\u001b[1;31m---------------------------------------------------------------------------\u001b[0m",
      "\u001b[1;31mTypeError\u001b[0m                                 Traceback (most recent call last)",
      "\u001b[1;32m<ipython-input-8-dccc4e637140>\u001b[0m in \u001b[0;36m<module>\u001b[1;34m()\u001b[0m\n\u001b[0;32m     12\u001b[0m \u001b[0morange\u001b[0m \u001b[1;33m=\u001b[0m \u001b[0mOrange\u001b[0m\u001b[1;33m(\u001b[0m\u001b[1;36m200\u001b[0m\u001b[1;33m,\u001b[0m\u001b[1;34m\"orange\"\u001b[0m\u001b[1;33m)\u001b[0m\u001b[1;33m\u001b[0m\u001b[0m\n\u001b[0;32m     13\u001b[0m \u001b[0mprint\u001b[0m\u001b[1;33m(\u001b[0m\u001b[0morange\u001b[0m\u001b[1;33m.\u001b[0m\u001b[0mmold\u001b[0m\u001b[1;33m)\u001b[0m\u001b[1;33m\u001b[0m\u001b[0m\n\u001b[1;32m---> 14\u001b[1;33m \u001b[0morange\u001b[0m\u001b[1;33m.\u001b[0m\u001b[0mmold\u001b[0m\u001b[1;33m(\u001b[0m\u001b[1;36m10.37\u001b[0m\u001b[1;33m)\u001b[0m\u001b[1;33m\u001b[0m\u001b[0m\n\u001b[0m\u001b[0;32m     15\u001b[0m \u001b[0mprint\u001b[0m\u001b[1;33m(\u001b[0m\u001b[0morange\u001b[0m\u001b[1;33m.\u001b[0m\u001b[0mmold\u001b[0m\u001b[1;33m)\u001b[0m\u001b[1;33m\u001b[0m\u001b[0m\n",
      "\u001b[1;31mTypeError\u001b[0m: 'int' object is not callable"
     ]
    }
   ],
   "source": [
    "class Orange:\n",
    "    def __init__(self,w,c):\n",
    "        self.weight = w\n",
    "        self.color = c\n",
    "        self.mold = 0\n",
    "        print(\"Created\")\n",
    "\n",
    "    def rot(self,dyas,tamp):\n",
    "        \"\"\"temp(温度)は摂氏\"\"\"\n",
    "        self.mold = days * temp\n",
    "\n",
    "orange = Orange(200,\"orange\")\n",
    "print(orange.mold)\n",
    "orange.mold(10.37)\n",
    "print(orange.mold)"
   ]
  },
  {
   "cell_type": "code",
   "execution_count": 9,
   "metadata": {},
   "outputs": [
    {
     "name": "stdout",
     "output_type": "stream",
     "text": [
      "Created\n",
      "0\n"
     ]
    },
    {
     "ename": "NameError",
     "evalue": "name 'days' is not defined",
     "output_type": "error",
     "traceback": [
      "\u001b[1;31m---------------------------------------------------------------------------\u001b[0m",
      "\u001b[1;31mNameError\u001b[0m                                 Traceback (most recent call last)",
      "\u001b[1;32m<ipython-input-9-83a61a2a667e>\u001b[0m in \u001b[0;36m<module>\u001b[1;34m()\u001b[0m\n\u001b[0;32m     12\u001b[0m \u001b[0morange\u001b[0m \u001b[1;33m=\u001b[0m \u001b[0mOrange\u001b[0m\u001b[1;33m(\u001b[0m\u001b[1;36m200\u001b[0m\u001b[1;33m,\u001b[0m\u001b[1;34m\"orange\"\u001b[0m\u001b[1;33m)\u001b[0m\u001b[1;33m\u001b[0m\u001b[0m\n\u001b[0;32m     13\u001b[0m \u001b[0mprint\u001b[0m\u001b[1;33m(\u001b[0m\u001b[0morange\u001b[0m\u001b[1;33m.\u001b[0m\u001b[0mmold\u001b[0m\u001b[1;33m)\u001b[0m\u001b[1;33m\u001b[0m\u001b[0m\n\u001b[1;32m---> 14\u001b[1;33m \u001b[0morange\u001b[0m\u001b[1;33m.\u001b[0m\u001b[0mrot\u001b[0m\u001b[1;33m(\u001b[0m\u001b[1;36m10\u001b[0m\u001b[1;33m,\u001b[0m \u001b[1;36m37\u001b[0m\u001b[1;33m)\u001b[0m\u001b[1;33m\u001b[0m\u001b[0m\n\u001b[0m\u001b[0;32m     15\u001b[0m \u001b[0mprint\u001b[0m\u001b[1;33m(\u001b[0m\u001b[0morange\u001b[0m\u001b[1;33m.\u001b[0m\u001b[0mmold\u001b[0m\u001b[1;33m)\u001b[0m\u001b[1;33m\u001b[0m\u001b[0m\n",
      "\u001b[1;32m<ipython-input-9-83a61a2a667e>\u001b[0m in \u001b[0;36mrot\u001b[1;34m(self, dyas, tamp)\u001b[0m\n\u001b[0;32m      8\u001b[0m     \u001b[1;32mdef\u001b[0m \u001b[0mrot\u001b[0m\u001b[1;33m(\u001b[0m\u001b[0mself\u001b[0m\u001b[1;33m,\u001b[0m\u001b[0mdyas\u001b[0m\u001b[1;33m,\u001b[0m\u001b[0mtamp\u001b[0m\u001b[1;33m)\u001b[0m\u001b[1;33m:\u001b[0m\u001b[1;33m\u001b[0m\u001b[0m\n\u001b[0;32m      9\u001b[0m         \u001b[1;34m\"\"\"temp(温度)は摂氏\"\"\"\u001b[0m\u001b[1;33m\u001b[0m\u001b[0m\n\u001b[1;32m---> 10\u001b[1;33m         \u001b[0mself\u001b[0m\u001b[1;33m.\u001b[0m\u001b[0mmold\u001b[0m \u001b[1;33m=\u001b[0m \u001b[0mdays\u001b[0m \u001b[1;33m*\u001b[0m \u001b[0mtemp\u001b[0m\u001b[1;33m\u001b[0m\u001b[0m\n\u001b[0m\u001b[0;32m     11\u001b[0m \u001b[1;33m\u001b[0m\u001b[0m\n\u001b[0;32m     12\u001b[0m \u001b[0morange\u001b[0m \u001b[1;33m=\u001b[0m \u001b[0mOrange\u001b[0m\u001b[1;33m(\u001b[0m\u001b[1;36m200\u001b[0m\u001b[1;33m,\u001b[0m\u001b[1;34m\"orange\"\u001b[0m\u001b[1;33m)\u001b[0m\u001b[1;33m\u001b[0m\u001b[0m\n",
      "\u001b[1;31mNameError\u001b[0m: name 'days' is not defined"
     ]
    }
   ],
   "source": [
    "class Orange:\n",
    "    def __init__(self,w,c):\n",
    "        self.weight = w\n",
    "        self.color = c\n",
    "        self.mold = 0\n",
    "        print(\"Created\")\n",
    "\n",
    "    def rot(self,dyas,tamp):\n",
    "        \"\"\"temp(温度)は摂氏\"\"\"\n",
    "        self.mold = days * temp\n",
    "\n",
    "orange = Orange(200,\"orange\")\n",
    "print(orange.mold)\n",
    "orange.rot(10, 37)\n",
    "print(orange.mold)"
   ]
  },
  {
   "cell_type": "code",
   "execution_count": 10,
   "metadata": {},
   "outputs": [
    {
     "name": "stdout",
     "output_type": "stream",
     "text": [
      "Created\n",
      "0\n",
      "370\n"
     ]
    }
   ],
   "source": [
    "class Orange:\n",
    "    def __init__(self,w,c):\n",
    "        self.weight = w\n",
    "        self.color = c\n",
    "        self.mold = 0\n",
    "        print(\"Created\")\n",
    "\n",
    "    def rot(self,days,temp):\n",
    "        \"\"\"temp(温度)は摂氏\"\"\"\n",
    "        self.mold = days * temp\n",
    "\n",
    "orange = Orange(200,\"orange\")\n",
    "print(orange.mold)\n",
    "orange.rot(10, 37)\n",
    "print(orange.mold)"
   ]
  },
  {
   "cell_type": "code",
   "execution_count": 11,
   "metadata": {},
   "outputs": [],
   "source": [
    "#上記のプログラムは新しいオブジェクトを造っただけの話だけれど、\n",
    "#それを状態を遷移するとかいっちゃうから面倒な話だと思う。\n",
    "#ただ一つ、新しいオブジェクトが出てきても第一引数は\"self\"だからこれは覚えておく。\n",
    "\n",
    "# The above program talks only of building a new object,\n",
    "#but I think that it is troublesome to say that it will change state.\n",
    "# Only one new object comes out, but remember this as the first argument is \"self\".\n"
   ]
  },
  {
   "cell_type": "code",
   "execution_count": 12,
   "metadata": {},
   "outputs": [
    {
     "ename": "SyntaxError",
     "evalue": "invalid syntax (<ipython-input-12-02f02c2ca60d>, line 9)",
     "output_type": "error",
     "traceback": [
      "\u001b[1;36m  File \u001b[1;32m\"<ipython-input-12-02f02c2ca60d>\"\u001b[1;36m, line \u001b[1;32m9\u001b[0m\n\u001b[1;33m    return self.width = self.len\u001b[0m\n\u001b[1;37m                      ^\u001b[0m\n\u001b[1;31mSyntaxError\u001b[0m\u001b[1;31m:\u001b[0m invalid syntax\n"
     ]
    }
   ],
   "source": [
    "class Rectangle:\n",
    "    def __init__(self,w,c):\n",
    "        self.width = w\n",
    "        self.len = l\n",
    "\n",
    "#rectangle = 長方形、矩形\n",
    "\n",
    "    def area(self):\n",
    "        return self.width = self.len\n",
    "\n",
    "    def change(self,w,l):\n",
    "        self.width = w\n",
    "        self.len = l\n",
    "\n",
    "rectangle = Rectangle(10,20)\n",
    "print(rectangle.area())\n",
    "rectangle.change(20, 40)\n",
    "print(rectangle.area)"
   ]
  },
  {
   "cell_type": "code",
   "execution_count": 13,
   "metadata": {},
   "outputs": [
    {
     "ename": "NameError",
     "evalue": "name 'l' is not defined",
     "output_type": "error",
     "traceback": [
      "\u001b[1;31m---------------------------------------------------------------------------\u001b[0m",
      "\u001b[1;31mNameError\u001b[0m                                 Traceback (most recent call last)",
      "\u001b[1;32m<ipython-input-13-270808c0986c>\u001b[0m in \u001b[0;36m<module>\u001b[1;34m()\u001b[0m\n\u001b[0;32m     13\u001b[0m         \u001b[0mself\u001b[0m\u001b[1;33m.\u001b[0m\u001b[0mlen\u001b[0m \u001b[1;33m=\u001b[0m \u001b[0ml\u001b[0m\u001b[1;33m\u001b[0m\u001b[0m\n\u001b[0;32m     14\u001b[0m \u001b[1;33m\u001b[0m\u001b[0m\n\u001b[1;32m---> 15\u001b[1;33m \u001b[0mrectangle\u001b[0m \u001b[1;33m=\u001b[0m \u001b[0mRectangle\u001b[0m\u001b[1;33m(\u001b[0m\u001b[1;36m10\u001b[0m\u001b[1;33m,\u001b[0m\u001b[1;36m20\u001b[0m\u001b[1;33m)\u001b[0m\u001b[1;33m\u001b[0m\u001b[0m\n\u001b[0m\u001b[0;32m     16\u001b[0m \u001b[0mprint\u001b[0m\u001b[1;33m(\u001b[0m\u001b[0mrectangle\u001b[0m\u001b[1;33m.\u001b[0m\u001b[0marea\u001b[0m\u001b[1;33m(\u001b[0m\u001b[1;33m)\u001b[0m\u001b[1;33m)\u001b[0m\u001b[1;33m\u001b[0m\u001b[0m\n\u001b[0;32m     17\u001b[0m \u001b[0mrectangle\u001b[0m\u001b[1;33m.\u001b[0m\u001b[0mchange\u001b[0m\u001b[1;33m(\u001b[0m\u001b[1;36m20\u001b[0m\u001b[1;33m,\u001b[0m \u001b[1;36m40\u001b[0m\u001b[1;33m)\u001b[0m\u001b[1;33m\u001b[0m\u001b[0m\n",
      "\u001b[1;32m<ipython-input-13-270808c0986c>\u001b[0m in \u001b[0;36m__init__\u001b[1;34m(self, w, c)\u001b[0m\n\u001b[0;32m      2\u001b[0m     \u001b[1;32mdef\u001b[0m \u001b[0m__init__\u001b[0m\u001b[1;33m(\u001b[0m\u001b[0mself\u001b[0m\u001b[1;33m,\u001b[0m\u001b[0mw\u001b[0m\u001b[1;33m,\u001b[0m\u001b[0mc\u001b[0m\u001b[1;33m)\u001b[0m\u001b[1;33m:\u001b[0m\u001b[1;33m\u001b[0m\u001b[0m\n\u001b[0;32m      3\u001b[0m         \u001b[0mself\u001b[0m\u001b[1;33m.\u001b[0m\u001b[0mwidth\u001b[0m \u001b[1;33m=\u001b[0m \u001b[0mw\u001b[0m\u001b[1;33m\u001b[0m\u001b[0m\n\u001b[1;32m----> 4\u001b[1;33m         \u001b[0mself\u001b[0m\u001b[1;33m.\u001b[0m\u001b[0mlen\u001b[0m \u001b[1;33m=\u001b[0m \u001b[0ml\u001b[0m\u001b[1;33m\u001b[0m\u001b[0m\n\u001b[0m\u001b[0;32m      5\u001b[0m \u001b[1;33m\u001b[0m\u001b[0m\n\u001b[0;32m      6\u001b[0m \u001b[1;31m#rectangle = 長方形、矩形\u001b[0m\u001b[1;33m\u001b[0m\u001b[1;33m\u001b[0m\u001b[0m\n",
      "\u001b[1;31mNameError\u001b[0m: name 'l' is not defined"
     ]
    }
   ],
   "source": [
    "class Rectangle:\n",
    "    def __init__(self,w,c):\n",
    "        self.width = w\n",
    "        self.len = l\n",
    "\n",
    "#rectangle = 長方形、矩形\n",
    "\n",
    "    def area(self):\n",
    "        return self.width * self.len\n",
    "\n",
    "    def change(self,w,l):\n",
    "        self.width = w\n",
    "        self.len = l\n",
    "\n",
    "rectangle = Rectangle(10,20)\n",
    "print(rectangle.area())\n",
    "rectangle.change(20, 40)\n",
    "print(rectangle.area)"
   ]
  },
  {
   "cell_type": "code",
   "execution_count": 14,
   "metadata": {},
   "outputs": [
    {
     "ename": "SyntaxError",
     "evalue": "invalid syntax (<ipython-input-14-b211c8e68a30>, line 2)",
     "output_type": "error",
     "traceback": [
      "\u001b[1;36m  File \u001b[1;32m\"<ipython-input-14-b211c8e68a30>\"\u001b[1;36m, line \u001b[1;32m2\u001b[0m\n\u001b[1;33m    def __init__(self,w,1):\u001b[0m\n\u001b[1;37m                        ^\u001b[0m\n\u001b[1;31mSyntaxError\u001b[0m\u001b[1;31m:\u001b[0m invalid syntax\n"
     ]
    }
   ],
   "source": [
    "class Rectangle:\n",
    "    def __init__(self,w,1):\n",
    "        self.width = w\n",
    "        self.len = l\n",
    "\n",
    "#rectangle = 長方形、矩形\n",
    "\n",
    "    def area(self):\n",
    "        return self.width * self.len\n",
    "\n",
    "    def change_size(self,w,l):\n",
    "        self.width = w\n",
    "        self.len = l\n",
    "\n",
    "rectangle = Rectangle(10, 20)\n",
    "print(rectangle.area())\n",
    "rectangle.change_size(20, 40)\n",
    "print(rectangle.area())"
   ]
  },
  {
   "cell_type": "code",
   "execution_count": 15,
   "metadata": {},
   "outputs": [
    {
     "name": "stdout",
     "output_type": "stream",
     "text": [
      "200\n",
      "800\n"
     ]
    }
   ],
   "source": [
    "class Rectangle:\n",
    "    def __init__(self,w,l):\n",
    "        self.width = w\n",
    "        self.len = l\n",
    "\n",
    "#rectangle = 長方形、矩形\n",
    "\n",
    "    def area(self):\n",
    "        return self.width * self.len\n",
    "\n",
    "    def change_size(self,w,l):\n",
    "        self.width = w\n",
    "        self.len = l\n",
    "\n",
    "rectangle = Rectangle(10, 20)\n",
    "print(rectangle.area())\n",
    "rectangle.change_size(20, 40)\n",
    "print(rectangle.area())"
   ]
  },
  {
   "cell_type": "code",
   "execution_count": 16,
   "metadata": {},
   "outputs": [],
   "source": [
    "#プログラミングパラダイム：プログラミングのスタイル・手法の事\n",
    "#状態（ステート）：プログラムがウドいている時の変数の値の事\n",
    "#グローバルステート：プログラム実行中のグローバル変数の値の事\n",
    "#手続型プログラミング：プログラミングのスタイル・手法の一つ。連続した手続きをこなし、\n",
    "#途中途中でプログラムのステートを変えながら、少しずつほしい答えに近づいていく。\n",
    "#関数型プログラミング：グローバルステートに頼らず、関数から関数へ変数を渡すことによって、\n",
    "#手続型プログラミングで発生する問題を解決するプログラミングのスタイル・手法\n",
    "#副作用：グローバル変数の状態を変える事\n",
    "#オブジェクト指向プログラミング：相互に作用するオブジェクトを定義するプログラミングの\n",
    "#パラダイム\n",
    "#クラス：同様のオブジェクトを分類してグループ化するためのプログラミングの仕組み\n",
    "#メソッド：クラスのスイート部分。関数に似ている。クラスの内部で定義して、\n",
    "#そのクラスから生成したオブジェクトを通してのみ呼び出せる\n",
    "#インスタンス：全オブジェクトはクラスのインスタンスである。\n",
    "#あるクラスの全インスタンスは、同クラスの他の全インスタンスと同じ型を持つ\n",
    "#インスタンス変数：そのオブジェクトに属する変数\n",
    "#特殊メソッド：Pythonが様々な状況で使用するメソッド。\n",
    "#オブジェクトの初期化(__init__)等がある\n",
    "#クラスのインスタンス化：クラスを使用して新オブジェクトを作成する事。\n",
    "\n",
    "# Programming paradigm: Programming style / methodology\n",
    "# State (state): the value of the variable when the program is udding\n",
    "# Global state: Value of global variable during program execution\n",
    "# Procedural programming: one of programming style and method.\n",
    "#Continuous procedures are performed, while changing the state of the program on the way,\n",
    "#gradually approaching the answer that you want.\n",
    "# Functional programming: Programming style and method to solve problems caused\n",
    "#by procedural programming by passing variables from function to function without relying\n",
    "#on global state\n",
    "# Side effects: Change the state of global variables\n",
    "# Object Oriented Programming: Programming paradigm to define interactive objects\n",
    "# Class: Programming mechanism for classifying and grouping similar objects\n",
    "# Method: the suite part of the class. It is similar to a function.\n",
    "#You can define it inside a class and call it only through objects created\n",
    "#from that class\n",
    "# Instance: All objects are instances of the class. \n",
    "#All instances of a class have the same type as all other instances of the same class\n",
    "# Instance variable: variable belonging to that object\n",
    "# Special methods: methods used by Python in various situations. \n",
    "#There is an object initialization (__init__) etc.\n",
    "# Instantiation of a class: Creating a new object using a class.\n"
   ]
  },
  {
   "cell_type": "code",
   "execution_count": 17,
   "metadata": {},
   "outputs": [],
   "source": [
    "class Apple():\n",
    "    def __init__(self, color, weight, stem_length, circumference):\n",
    "        self.color = color\n",
    "        self.weight = weight\n",
    "        self.stem_length = stem_length\n",
    "        self.circumference = circumference"
   ]
  },
  {
   "cell_type": "code",
   "execution_count": 18,
   "metadata": {},
   "outputs": [
    {
     "name": "stdout",
     "output_type": "stream",
     "text": [
      "50.26548245743669\n"
     ]
    }
   ],
   "source": [
    "import math\n",
    "\n",
    "\n",
    "class Circle():\n",
    "    def __init__(self, radius):\n",
    "        self.radius = radius\n",
    "\n",
    "    def calculate_area(self):\n",
    "        return self.radius ** 2 * math.pi\n",
    "\n",
    "a_circle = Circle(4)\n",
    "print(a_circle.calculate_area())"
   ]
  },
  {
   "cell_type": "code",
   "execution_count": 19,
   "metadata": {},
   "outputs": [
    {
     "name": "stdout",
     "output_type": "stream",
     "text": [
      "300.0\n"
     ]
    }
   ],
   "source": [
    "class Triangle():\n",
    "    def __init__(self, base, height):\n",
    "        self.base = base\n",
    "        self.height = height\n",
    "\n",
    "    def calculate_area(self):\n",
    "        return self.height * self.base / 2\n",
    "\n",
    "a_triangle = Triangle(20, 30)\n",
    "print(a_triangle.calculate_area())"
   ]
  },
  {
   "cell_type": "code",
   "execution_count": 20,
   "metadata": {},
   "outputs": [
    {
     "name": "stdout",
     "output_type": "stream",
     "text": [
      "21\n"
     ]
    }
   ],
   "source": [
    "class Hexagon():\n",
    "    def __init__(self, s1, s2, s3, s4, s5, s6):\n",
    "        self.s1 = s1\n",
    "        self.s2 = s2\n",
    "        self.s3 = s3\n",
    "        self.s4 = s4\n",
    "        self.s5 = s5\n",
    "        self.s6 = s6\n",
    "\n",
    "    def calculate_perimeter(self):\n",
    "        return self.s1 + self.s2 + self.s3 + self.s4 + self.s5 + self.s6\n",
    "\n",
    "a_hexagon = Hexagon(1, 2, 3, 4, 5, 6)\n",
    "print(a_hexagon.calculate_perimeter())"
   ]
  },
  {
   "cell_type": "code",
   "execution_count": 21,
   "metadata": {},
   "outputs": [],
   "source": [
    "#リンゴ。4つの特徴を思い浮かべて。インスタンス変数に持つ、Apple Classを定義する。\n",
    "\n",
    "#Apple. Imagine the four features. Define the Apple Class that you have\n",
    "#for instance variables.\n",
    "\n",
    "# circumference：円周の事。\n",
    "\n",
    "class Apple():\n",
    "    def __init__(self, color, weight, stem_length, circumference):\n",
    "        self.color = color\n",
    "        self.weight = weight\n",
    "        self.stem_length = stem_length\n",
    "        self.circumference = circumference"
   ]
  },
  {
   "cell_type": "code",
   "execution_count": 22,
   "metadata": {},
   "outputs": [
    {
     "name": "stdout",
     "output_type": "stream",
     "text": [
      "50.26548245743669\n"
     ]
    }
   ],
   "source": [
    "#円を表すCircleクラスを定義する。そのクラスに、面積を計算して返すメソッドareaを持たせよう。\n",
    "#面積の計算には、Pythonの組み込みモジュールmathのpi定数が使える。\n",
    "#次に、circleオブジェクトを作って、areaメソッドを呼び出し、結果を出力する。\n",
    "\n",
    "# Define a Circle class that represents yen. Let's have a method area that \n",
    "#calculates and returns the area to that class.\n",
    "#To calculate the area, you can use the pi constant of Python's built-in module math. \n",
    "#Next, create a circle object, call the area method, and output the result.\n",
    "\n",
    "import math\n",
    "\n",
    "\n",
    "class Circle():\n",
    "    def __init__(self, radius):\n",
    "        self.radius = radius\n",
    "\n",
    "    def calculate_area(self):\n",
    "        return self.radius ** 2 * math.pi\n",
    "\n",
    "a_circle = Circle(4)\n",
    "print(a_circle.calculate_area())"
   ]
  },
  {
   "cell_type": "code",
   "execution_count": 23,
   "metadata": {},
   "outputs": [
    {
     "name": "stdout",
     "output_type": "stream",
     "text": [
      "50.26548245743669\n"
     ]
    }
   ],
   "source": [
    "import math #mathを導入する、だね\n",
    "#math — 数学関数\n",
    "\n",
    "#このモジュールはいつでも利用できます。\n",
    "#標準 C で定義されている数学関数にアクセスすることができます。\n",
    "\n",
    "#これらの関数で複素数を使うことはできません。複素数に対応する必要があるならば、 \n",
    "#cmath モジュールにある同じ名前の関数を使ってください。\n",
    "#ほとんどのユーザーは複素数を理解するのに必要なだけの数学を勉強したくないので、\n",
    "#複素数に対応した関数と対応していない関数の区別がされています。\n",
    "#これらの関数では複素数が利用できないため、引数に複素数を渡されると、\n",
    "#複素数の結果が返るのではなく例外が発生します。\n",
    "#その結果、どういった理由で例外が送出されたかに早い段階で気づく事ができます。\n",
    "\n",
    "# This module is available at any time. \n",
    "#You can access mathematical functions defined in standard C.\n",
    "#You can not use complex numbers with these functions. \n",
    "#If you need to accommodate complex numbers, use the same name function \n",
    "#in the cmath module. Since most users do not want to study\n",
    "#as much mathematics as necessary to understand complex numbers, \n",
    "#distinction is made between functions corresponding to complex numbers \n",
    "#and functions not corresponding to complex numbers.\n",
    "#Because complex functions are not available in these functions, \n",
    "#if you pass a complex number as an argument, an exception occurs \n",
    "#instead of returning the result of a complex number.\n",
    "#As a result, you can notice at an early stage what exception was thrown for why.\n",
    "\n",
    "class Circle():\n",
    "    def __init__(self, radius):\n",
    "        self.radius = radius\n",
    "\n",
    "    def calculate_area(self):\n",
    "        return self.radius ** 2 * math.pi\n",
    "\n",
    "#math.pi\n",
    "#利用可能な精度の、数学定数π = 3.141592… (円周率)。\n",
    "#Π, π（パイ、ピ、ピー、希: πι / πῖ, 英: pi）はギリシア文字の一つで、\n",
    "#伝統的な配列では、その第16番目に置かれる。古典ギリシア語ではピー、\n",
    "#現代ギリシア語ではピと発音されるが、日本やアメリカなどでは英語式発音に倣ってパイ\n",
    "#と呼び習わされている。 ラテン文字の P 、キリル文字の П はこの文字に由来する。\n",
    "\n",
    "a_circle = Circle(4)\n",
    "print(a_circle.calculate_area())"
   ]
  },
  {
   "cell_type": "code",
   "execution_count": 24,
   "metadata": {},
   "outputs": [
    {
     "name": "stdout",
     "output_type": "stream",
     "text": [
      "300.0\n"
     ]
    }
   ],
   "source": [
    "class Triangle():\n",
    "\n",
    "#三角形を表すTriangleクラスを定義して、面積を返すareaメソッドを持たせよう。\n",
    "#そしてTriangeleオブジェクトをと作って、areaメソッドを呼び出して、結果を出力しよう。\n",
    "\n",
    "# Define a Triangle class that represents a triangle and have an area method that\n",
    "#returns the area. Then create a Triangele object, call the area method,\n",
    "#and output the result.\n",
    "\n",
    "    def __init__(self, base, height):\n",
    "        self.base = base\n",
    "        self.height = height\n",
    "\n",
    "    def calculate_area(self):\n",
    "        return self.height * self.base / 2\n",
    "\n",
    "a_triangle = Triangle(20, 30)\n",
    "print(a_triangle.calculate_area())"
   ]
  },
  {
   "cell_type": "code",
   "execution_count": 25,
   "metadata": {},
   "outputs": [
    {
     "name": "stdout",
     "output_type": "stream",
     "text": [
      "21\n"
     ]
    }
   ],
   "source": [
    "#六角形を表すHexagonクラスを定義する、そのクラスには外周の長さを計算して返すメソッド\n",
    "#calculate_perimeterを定義しよう。\n",
    "#そして、Hexagonオブジェクトを作ってcalculate_perimeterメソッドを呼び出し、\n",
    "#結果を出力しよう。\n",
    "\n",
    "# Define a Hexagon class that represents a hexagon, l\n",
    "#et's define a calculate_perimeter for that class that calculates \n",
    "#the length of the outer circumference and returns it.\n",
    "#Then, create a Hexagon object, call the calculate_perimeter method,\n",
    "#and output the result.\n",
    "\n",
    "class Hexagon():\n",
    "    def __init__(self, s1, s2, s3, s4, s5, s6):\n",
    "        self.s1 = s1\n",
    "        self.s2 = s2\n",
    "        self.s3 = s3\n",
    "        self.s4 = s4\n",
    "        self.s5 = s5\n",
    "        self.s6 = s6\n",
    "\n",
    "    def calculate_perimeter(self):\n",
    "        return self.s1 + self.s2 + self.s3 + self.s4 + self.s5 + self.s6\n",
    "\n",
    "a_hexagon = Hexagon(1, 2, 3, 4, 5, 6)\n",
    "print(a_hexagon.calculate_perimeter())"
   ]
  },
  {
   "cell_type": "code",
   "execution_count": null,
   "metadata": {},
   "outputs": [],
   "source": []
  }
 ],
 "metadata": {
  "kernelspec": {
   "display_name": "Python 3",
   "language": "python",
   "name": "python3"
  },
  "language_info": {
   "codemirror_mode": {
    "name": "ipython",
    "version": 3
   },
   "file_extension": ".py",
   "mimetype": "text/x-python",
   "name": "python",
   "nbconvert_exporter": "python",
   "pygments_lexer": "ipython3",
   "version": "3.7.0"
  }
 },
 "nbformat": 4,
 "nbformat_minor": 2
}
